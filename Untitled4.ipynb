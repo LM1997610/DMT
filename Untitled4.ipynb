{
  "nbformat": 4,
  "nbformat_minor": 0,
  "metadata": {
    "colab": {
      "provenance": [],
      "authorship_tag": "ABX9TyOsCsfnCb//uMyQ0UwEWuoF",
      "include_colab_link": true
    },
    "kernelspec": {
      "name": "python3",
      "display_name": "Python 3"
    },
    "language_info": {
      "name": "python"
    }
  },
  "cells": [
    {
      "cell_type": "markdown",
      "metadata": {
        "id": "view-in-github",
        "colab_type": "text"
      },
      "source": [
        "<a href=\"https://colab.research.google.com/github/LM1997610/Data-Mining/blob/main/Untitled4.ipynb\" target=\"_parent\"><img src=\"https://colab.research.google.com/assets/colab-badge.svg\" alt=\"Open In Colab\"/></a>"
      ]
    },
    {
      "cell_type": "code",
      "execution_count": 1,
      "metadata": {
        "id": "SYHRGuM1DBL9",
        "outputId": "1bc92c3a-f292-427a-cb5c-876ad57bdc31",
        "colab": {
          "base_uri": "https://localhost:8080/"
        }
      },
      "outputs": [
        {
          "output_type": "stream",
          "name": "stdout",
          "text": [
            "Downloading...\n",
            "From: https://drive.google.com/uc?id=1X6QnCcOgnNEBQ1xnilmPWqDIs7bRrQof\n",
            "To: /content/FS_reviews.jsonl\n",
            "100% 18.3M/18.3M [00:00<00:00, 170MB/s]\n"
          ]
        }
      ],
      "source": [
        "!gdown 1X6QnCcOgnNEBQ1xnilmPWqDIs7bRrQof"
      ]
    },
    {
      "cell_type": "code",
      "source": [],
      "metadata": {
        "id": "ric9L1GHDCs5"
      },
      "execution_count": null,
      "outputs": []
    }
  ]
}