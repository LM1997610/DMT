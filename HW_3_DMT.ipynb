{
  "cells": [
    {
      "cell_type": "markdown",
      "metadata": {
        "id": "view-in-github",
        "colab_type": "text"
      },
      "source": [
        "<a href=\"https://colab.research.google.com/github/LM1997610/DMT/blob/main/HW_3_DMT.ipynb\" target=\"_parent\"><img src=\"https://colab.research.google.com/assets/colab-badge.svg\" alt=\"Open In Colab\"/></a>"
      ]
    },
    {
      "cell_type": "markdown",
      "metadata": {
        "id": "vtqmMBBFM5VB"
      },
      "source": [
        "\n",
        "# DMT 2023 - Homework 3"
      ]
    },
    {
      "cell_type": "markdown",
      "metadata": {
        "id": "ZdyeR5JdyCki"
      },
      "source": [
        "## Group composition:"
      ]
    },
    {
      "cell_type": "markdown",
      "metadata": {
        "id": "g3zOpW7YyMlr"
      },
      "source": [
        "------------YOUR TEXT STARTS HERE------------\n",
        "\n",
        "<br>\n",
        "\n",
        "Mazzucco, Luca: 1997610\n",
        "\n",
        "Zilviano, Paolo: 1916518\n"
      ]
    },
    {
      "cell_type": "markdown",
      "metadata": {
        "id": "Qa4VRPyugoQC"
      },
      "source": [
        "<div style=\"page-break-after: always; visibility: hidden\"> \n",
        "\\pagebreak\n",
        "</div>"
      ]
    },
    {
      "cell_type": "markdown",
      "metadata": {
        "id": "3ltMqfS1ph7q"
      },
      "source": [
        "## Homework 3\n",
        "The homework consists of two parts:\n",
        "\n",
        "  1. Dimensionality Reduction\n",
        "\n",
        "  2. Supervised Learning\n",
        "\n",
        "> Ensure that the notebook can be faithfully reproduced by anyone (hint: pseudo random number generation).\n",
        "\n",
        "> If you need to set a random seed, set it to `160`."
      ]
    },
    {
      "cell_type": "markdown",
      "metadata": {
        "id": "JUmFzlrilzdB"
      },
      "source": [
        "# Part 1\n",
        "In this part of the homework, you have to deal with Dimensionality Reduction."
      ]
    },
    {
      "cell_type": "markdown",
      "metadata": {
        "id": "nBCzTi5cbLtN"
      },
      "source": [
        "Import **ALL** the Python packages that you need for Part 1."
      ]
    },
    {
      "cell_type": "code",
      "execution_count": null,
      "metadata": {
        "id": "GTVP9OLGrYRN"
      },
      "outputs": [],
      "source": [
        "#REMOVE_OUTPUT#\n",
        "%%capture\n",
        "!pip install --upgrade --no-cache-dir gdown\n",
        "\n",
        "#YOUR CODE STARTS HERE#\n",
        "\n",
        "import numpy as np\n",
        "import pandas as pd\n",
        "import re\n",
        "\n",
        "import nltk; nltk.download('stopwords'), nltk.download('punkt')\n",
        "import gensim \n",
        "\n",
        "from tqdm.auto import tqdm\n",
        "from tabulate import tabulate\n",
        "from bs4 import BeautifulSoup as bs\n",
        "from matplotlib import pyplot as plt\n",
        "\n",
        "#YOUR CODE ENDS HERE#\n",
        "#THIS IS LINE 20#"
      ]
    },
    {
      "cell_type": "markdown",
      "metadata": {
        "id": "Z6kYyWWxmEQq"
      },
      "source": [
        "## Part 1.1\n",
        "The data you need to process comes from the book *Le Morte D'Arthur* by Thomas Malory.\n",
        "\n",
        "You have to carry out Topic Modeling on book chapters.\n",
        "\n",
        "The goal is to achieve a topic division within the following limits:\n",
        "\n",
        "- The total computation may not exceed 10 minutes (starting from Part 1.1.5; Parts 1.1.1 to 1.1.4 are not considered for time calculation)\n",
        "- The division into topics must be the \"best one\""
      ]
    },
    {
      "cell_type": "markdown",
      "metadata": {
        "id": "0iEH-lmorp00"
      },
      "source": [
        "### 1.1.1\n",
        "Download the data from the Drive link (code already provided)."
      ]
    },
    {
      "cell_type": "code",
      "execution_count": null,
      "metadata": {
        "colab": {
          "base_uri": "https://localhost:8080/"
        },
        "id": "KCOOAftWRE5X",
        "outputId": "e09e8376-d69f-48d7-bd2f-6f1e29746944"
      },
      "outputs": [
        {
          "output_type": "stream",
          "name": "stdout",
          "text": [
            "Downloading...\n",
            "From: https://drive.google.com/uc?id=1zHgvidy9FvhZvE68S0mXWkoF-hHMpiUL\n",
            "To: /content/The Project Gutenberg eBook of Le Morte D’Arthur, Volume I (of II), by Thomas Malory.html\n",
            "100% 964k/964k [00:00<00:00, 671MB/s]\n",
            "Downloading...\n",
            "From: https://drive.google.com/uc?id=1VjpTkFcbfaLIi4TXVafokW9e_bvGnfut\n",
            "To: /content/The Project Gutenberg eBook of Le Morte D’Arthur, Volume II (of II), by Thomas Malory.html\n",
            "100% 1.10M/1.10M [00:00<00:00, 681MB/s]\n"
          ]
        }
      ],
      "source": [
        "#REMOVE_OUTPUT#\n",
        "!gdown 1zHgvidy9FvhZvE68S0mXWkoF-hHMpiUL\n",
        "!gdown 1VjpTkFcbfaLIi4TXVafokW9e_bvGnfut"
      ]
    },
    {
      "cell_type": "markdown",
      "metadata": {
        "id": "r36aVr85h3eM"
      },
      "source": [
        "### 1.1.2\n",
        "Parse the HTML. **Part** of code already provided: follow the comments to complete the code.\n"
      ]
    },
    {
      "cell_type": "code",
      "execution_count": null,
      "metadata": {
        "id": "ESwOaHC5Ix4x"
      },
      "outputs": [],
      "source": [
        "with open('The Project Gutenberg eBook of Le Morte D’Arthur, Volume I (of II), by Thomas Malory.html') as fp:\n",
        "    vol1 = bs(fp, 'html.parser')\n",
        "with open('The Project Gutenberg eBook of Le Morte D’Arthur, Volume II (of II), by Thomas Malory.html') as fp:\n",
        "    vol2 = bs(fp, 'html.parser')\n",
        "\n",
        "def clean_text(txt):\n",
        "    words_to_put_space_before = [\".\",\",\",\";\",\":\",\"’\",\"'\"]\n",
        "    words_to_lowercase = [\"First\",\"How\",\"Some\",\"Yet\",\"Of\",\"A\",\"The\",\"What\",\"Fifth\"]\n",
        "    \n",
        "    app = txt.replace(\"\\n\",\" \")\n",
        "    for word in words_to_put_space_before:\n",
        "        app = app.replace(word,\" \"+word)\n",
        "    for word in words_to_lowercase:\n",
        "        app = app.replace(word+\" \",word.lower()+\" \")\n",
        "    return app.strip()\n",
        "\n",
        "def parse_html(soup):\n",
        "    titles = []\n",
        "    texts = []\n",
        "    for chapter in soup.find_all(\"h3\"):\n",
        "        chapter_title = chapter.text\n",
        "        if \"CHAPTER\" in chapter_title:\n",
        "            chapter_title = clean_text(\"\".join(chapter_title.split(\".\")[1:]))\n",
        "            titles.append(chapter_title)\n",
        "            \n",
        "            chapter_text = [p.text for p in chapter.findNextSiblings(\"p\")]\n",
        "            chapter_text = clean_text(\" \".join(chapter_text))\n",
        "            texts.append(chapter_text)\n",
        "    return titles, texts"
      ]
    },
    {
      "cell_type": "code",
      "execution_count": null,
      "metadata": {
        "colab": {
          "base_uri": "https://localhost:8080/"
        },
        "id": "nUfgBVp4h3eR",
        "outputId": "fbbb8211-bead-487a-e849-ebdac5ffd679"
      },
      "outputs": [
        {
          "output_type": "stream",
          "name": "stdout",
          "text": [
            "\n",
            " df.shape : (503, 3)\n"
          ]
        }
      ],
      "source": [
        "#YOUR CODE STARTS HERE#\n",
        "#Extract all the chapters' titles and texts from the two volumes\n",
        "\n",
        "\n",
        "titles_1, texts_1 = parse_html(vol1)\n",
        "titles_2, texts_2 = parse_html(vol2)\n",
        "\n",
        "\n",
        "#Transform the list into a pandas DataFrame.\n",
        "\n",
        "num_doc = [str(i).zfill(1) for i in range(1,len(titles_1 + titles_2)+1)]\n",
        "\n",
        "\n",
        "df = pd.DataFrame(zip(num_doc, titles_1+titles_2, texts_1+texts_2), \n",
        "                  columns=[\"docno\", 'Titles', 'Texts'])\n",
        "\n",
        "print(\"\\n df.shape :\", df.shape)\n",
        "\n",
        "#YOUR CODE ENDS HERE#\n",
        "#THIS IS LINE 20#"
      ]
    },
    {
      "cell_type": "markdown",
      "metadata": {
        "id": "Z_AiZBi0OyLZ"
      },
      "source": [
        "Print the last 8 rows of the DataFrame.\n",
        "\n",
        "[comment]: <> (#SHOW_CELL#)"
      ]
    },
    {
      "cell_type": "code",
      "execution_count": null,
      "metadata": {
        "colab": {
          "base_uri": "https://localhost:8080/"
        },
        "id": "Tz1wzYInOyLc",
        "outputId": "933ca679-12e5-4c00-8496-8046cb6f93be"
      },
      "outputs": [
        {
          "output_type": "stream",
          "name": "stdout",
          "text": [
            "\n",
            "                Titles                        Texts\n",
            "---  ----------------------------  ----------------------------\n",
            "495  how Sir Bedivere found hi...  Then was Sir Bedivere gla...\n",
            "496  of the opinion of some me...  yet some men say in many ...\n",
            "497  how when Sir Lancelot hea...  And when he heard in his ...\n",
            "498  how Sir Launcelot departe...  Then came Sir Bors de Gan...\n",
            "499  how Sir Launcelot came to...  But sithen I find you thu...\n",
            "500  how Sir Launcelot went wi...  Then Sir Launcelot rose u...\n",
            "501  how Sir Launcelot began t...  Then Sir Launcelot never ...\n",
            "502  how Sir Ector found Sir L...  And when Sir Ector heard ...\n",
            "\n"
          ]
        }
      ],
      "source": [
        "#YOUR CODE STARTS HERE#\n",
        "\n",
        "a_table = df[[\"Titles\", \"Texts\"]].apply(lambda x: x.str[:25]+\"...\").tail(8)\n",
        "\n",
        "print()\n",
        "print(tabulate(a_table, headers='keys', tablefmt = \"heavy_outline\", numalign='center', stralign=\"center\"))\n",
        "print()\n",
        "\n",
        "#YOUR CODE ENDS HERE#\n",
        "#THIS IS LINE 10#"
      ]
    },
    {
      "cell_type": "markdown",
      "metadata": {
        "id": "Mv0it5bwkDRJ"
      },
      "source": [
        "<div style=\"page-break-after: always; visibility: hidden\">\n",
        "\\pagebreak\n",
        "</div>"
      ]
    },
    {
      "cell_type": "markdown",
      "metadata": {
        "id": "UhHqk6QzOuoO"
      },
      "source": [
        "### 1.1.3\n",
        "Extract character's names from the **titles** only. **Part** of code already provided: follow the comments to complete the code."
      ]
    },
    {
      "cell_type": "code",
      "execution_count": null,
      "metadata": {
        "id": "rptB3l7XOuoi"
      },
      "outputs": [],
      "source": [
        "all_characters = set()\n",
        "\n",
        "def extract_character_names_from_string(string_to_parse):\n",
        "\n",
        "    special_tokens = [\"of\",\"the\",\"le\",\"a\",\"de\"]\n",
        "    remember = \"\"\n",
        "    last_is_special_token = False\n",
        "\n",
        "    tokens = string_to_parse.split(\" \")\n",
        "    characters_found = set()\n",
        "\n",
        "    for i,word in enumerate(tokens):\n",
        "\n",
        "        if word[0].isupper() or (remember!=\"\" and word in special_tokens):\n",
        "            word = word.replace(\"'s\",\"\").replace(\"’s\",\"\")\n",
        "            last_is_special_token = False\n",
        "            if remember!=\"\":\n",
        "                if word in special_tokens:\n",
        "                    last_is_special_token = True\n",
        "                remember = remember+\" \"+word\n",
        "            else: remember = word\n",
        "        else:\n",
        "            if remember!=\"\":\n",
        "                if last_is_special_token:\n",
        "                    for tok in special_tokens:\n",
        "                        remember = remember.replace(\" \"+tok,\"\")\n",
        "                characters_found.add(remember)\n",
        "            remember = \"\"\n",
        "            last_is_special_token = False\n",
        "    return characters_found\n",
        "\n",
        "#all_characters = set([x for x in all_characters if x[-2:]!=\"'s\"])"
      ]
    },
    {
      "cell_type": "code",
      "execution_count": null,
      "metadata": {
        "id": "jGBt1RLeOuok"
      },
      "outputs": [],
      "source": [
        "#YOUR CODE STARTS HERE#\n",
        "#Extract all characters' names\n",
        "\n",
        "all_characters = df[\"Titles\"].apply(extract_character_names_from_string)\n",
        "#all_characters = set([x for x in all_characters if x[-2:]!=\"'s\"])\n",
        "all_characters = set.union(*map(set, all_characters)) \n",
        "\n",
        "\n",
        "#YOUR CODE ENDS HERE#\n",
        "#THIS IS LINE 15#"
      ]
    },
    {
      "cell_type": "markdown",
      "metadata": {
        "id": "K9wUUj1YOkvR"
      },
      "source": [
        "Print the names of all the knights (i.e. characters with `Sir` in their name).\n",
        "\n",
        "[comment]: <> (#SHOW_CELL#)"
      ]
    },
    {
      "cell_type": "code",
      "execution_count": null,
      "metadata": {
        "colab": {
          "base_uri": "https://localhost:8080/"
        },
        "id": "KtsMvXYEOkvX",
        "outputId": "2d0ad436-4e44-40ec-c6ad-33fe90da9a45"
      },
      "outputs": [
        {
          "output_type": "stream",
          "name": "stdout",
          "text": [
            "knights: {'Sir Alisander', 'Sir Sadok', 'Sir Breunor', 'Sir Marhaus', 'Sir Blamore', 'Sir Pelleas', 'Sir Turquine', 'Sir Anguish', 'Sir Elias', 'Sir Carados', 'Sir Galihodin', 'Sir Dagonet', 'Sir Lanceor', 'Sir Gaheris', 'Sir Mador', 'Sir Accolon', 'Sir Tristram', 'Sir Pervivale', 'Sir Tor', 'Sir Beaumains', 'Sir Percivale', 'Sir Archade', 'Sir Breuse Saunce Pité', 'Sir Palomides', 'Sir Tristram de Liones', 'Sir Lavaine', 'Sir Agravaine', 'Sir Safere', 'Sir Berluse', 'Sir Urre', 'Sir Malgrin', 'Sir Persant', 'Sir Uriens', 'Sir Gawaine', 'Sir Aglovale', 'Sir Lionel', 'Sir Colgrevance', 'Sir Lamorak', 'Sir Ector', 'Sir Nabon', 'Sir Accolon of Gaul', 'Sir Gareth', 'Sir Frol', 'Sir Dinadan', 'Sir Lancelot', 'Sir Sagramore le Desirous', 'Sir Belliance', 'Sir Galahad', 'Sir Suppinabiles', 'Sir Bedivere', 'Sir Galahalt', 'Sir Epinogris', 'Sir Pedivere', 'Sir Brian', 'Sir Bleoberis', 'Sir Bors', 'Sir Persant of Inde', 'Sir Segwarides', 'Sir Launcelot', 'Sir Bliant', 'Sir Amant', 'Sir Mordred', 'Sir Lamorak de Galis', 'Sir Uwaine', 'Sir Kay', 'Sir Meliagrance', 'Sir Meliagaunce'}\n"
          ]
        }
      ],
      "source": [
        "#YOUR CODE STARTS HERE#\n",
        "\n",
        "\n",
        "\n",
        "knights={person for person in all_characters if person.lower().find(\"sir\")>-1}\n",
        "print(\"knights:\", knights, sep=\" \")\n",
        "\n",
        "\n",
        "#YOUR CODE ENDS HERE#\n",
        "#THIS IS LINE 10#"
      ]
    },
    {
      "cell_type": "markdown",
      "metadata": {
        "id": "3sjNVvgtOuom"
      },
      "source": [
        "<div style=\"page-break-after: always; visibility: hidden\">\n",
        "\\pagebreak\n",
        "</div>"
      ]
    },
    {
      "cell_type": "markdown",
      "metadata": {
        "id": "YI0jcVe6iUdl"
      },
      "source": [
        "### 1.1.4\n",
        "Preprocess the data\n",
        "\n",
        "> Consider only the titles\n",
        "\n",
        "> Each document must be a list of terms\n",
        "\n",
        "> Discard documents that have less than 10 (non-unique) terms before the preprocessing\n",
        "\n",
        "> After preprocessing, each document must be represented by at least 5 tokens\n",
        "\n",
        "- Several preprocessing options are possible\n",
        "\n"
      ]
    },
    {
      "cell_type": "code",
      "execution_count": null,
      "metadata": {
        "colab": {
          "base_uri": "https://localhost:8080/"
        },
        "id": "XqtWEn1liUdo",
        "outputId": "ae7e07f5-ba01-4d2f-d93e-d0474d50d0e2"
      },
      "outputs": [
        {
          "output_type": "stream",
          "name": "stdout",
          "text": [
            "\n",
            "start preprocessing data :\n",
            "\n",
            " doc: 3 → not enough terms...\n",
            " doc: 5 → not enough terms...\n",
            " doc: 14 → not enough terms...\n",
            " doc: 15 → not enough terms...\n",
            " doc: 30 → not enough terms...\n",
            " doc: 69 → not enough terms...\n",
            " doc: 108 → not enough terms...\n",
            " doc: 146 → not enough terms...\n",
            " doc: 147 → not enough terms...\n",
            " doc: 285 → not enough terms...\n",
            " doc: 309 → not enough terms...\n",
            " doc: 393 → not enough terms...\n",
            " doc: 413 → not enough terms...\n",
            " doc: 454 → not enough terms...\n",
            "\n",
            "n_of_docs:  483 \n",
            "\n"
          ]
        }
      ],
      "source": [
        "#YOUR CODE STARTS HERE#\n",
        "\n",
        "def preprocess_data(doc_set, terms_b4_prepr, n_t_after, token_min_length=1):\n",
        "    # create English stop words list\n",
        "    en_stop = set(nltk.corpus.stopwords.words('english'))\n",
        "    # create p_stemmer of class PorterStemmer\n",
        "    p_stemmer = nltk.stem.porter.PorterStemmer()            \n",
        "    processed_tokenized_texts = []\n",
        "    print(\"\\nstart preprocessing data :\\n\")\n",
        "\n",
        "    for n,text in enumerate(doc_set):   # loop through document list\n",
        "        lowercase_text = text.lower()\n",
        "        pattern = re.compile(r'[^a-z]+')\n",
        "        # clean text: replace pattern with space\n",
        "        cleaned_text = pattern.sub(' ', lowercase_text).strip() \n",
        "        tokenized_text = cleaned_text.split(\" \")  # divide text in tokens\n",
        "        if len(tokenized_text) >= terms_b4_prepr: # remove stop words from tokens\n",
        "            stopped_tokens = [token for token in tokenized_text if token not in en_stop]\n",
        "            if token_min_length>1: # remove very small words, length < 3\n",
        "                meaningful_tokens = [token for token in stopped_tokens if len(token) >= token_min_length] \n",
        "            else:\n",
        "                meaningful_tokens = stopped_tokens\n",
        "            stemmed_tokens = [p_stemmer.stem(token) for token in meaningful_tokens] # stem tokens\n",
        "            \n",
        "            processed_tokenized_texts.append(stemmed_tokens)  # add tokens to list \n",
        "           \n",
        "          \n",
        "        else:\n",
        "            print(\" doc: {} → not enough terms...\".format(n, len(tokenized_text)))\n",
        "    \n",
        "    # discard documents with less than 5 tokens\n",
        "    doc_list = [x for x in processed_tokenized_texts if len(x) >= n_t_after]\n",
        "    \n",
        "    print(\"\\nn_of_docs: \", len(doc_list),\"\\n\")\n",
        "    return doc_list\n",
        "\n",
        "terms_before_preprocessing, min_tokens_after_preprocess = 10, 5\n",
        "\n",
        "docs =  preprocess_data(df.Titles, terms_before_preprocessing, min_tokens_after_preprocess)\n",
        "\n",
        "#YOUR CODE ENDS HERE#\n",
        "#THIS IS LINE 40#"
      ]
    },
    {
      "cell_type": "markdown",
      "metadata": {
        "id": "B2oOw87iLVWP"
      },
      "source": [
        "Print the documents where the (preprocessed) term `Bedivere` appears.\n",
        "\n",
        "[comment]: <> (#SHOW_CELL#)"
      ]
    },
    {
      "cell_type": "code",
      "execution_count": null,
      "metadata": {
        "colab": {
          "base_uri": "https://localhost:8080/"
        },
        "id": "lA67csHqLU2M",
        "outputId": "ab1fb85d-1347-4d7f-c010-28788d0b32cb"
      },
      "outputs": [
        {
          "output_type": "stream",
          "name": "stdout",
          "text": [
            "document_ID: 475 -> ['sir', 'bediver', 'found', 'morrow', 'dead', 'hermitag', 'abod', 'hermit']\n"
          ]
        }
      ],
      "source": [
        "#YOUR CODE STARTS HERE#\n",
        "\n",
        "word = \"Bedivere\"\n",
        "preprocessed_word = nltk.stem.porter.PorterStemmer().stem(word)\n",
        "doc_id, tok_list = [(n,x) for n,x in enumerate(docs) if preprocessed_word in x][0]\n",
        "\n",
        "print(\"document_ID: {} -> {}\".format(doc_id, tok_list))\n",
        "\n",
        "#YOUR CODE ENDS HERE#\n",
        "#THIS IS LINE 10#"
      ]
    },
    {
      "cell_type": "markdown",
      "metadata": {
        "id": "teUwdg-UkM3P"
      },
      "source": [
        "<div style=\"page-break-after: always; visibility: hidden\"> \n",
        "\\pagebreak\n",
        "</div>"
      ]
    },
    {
      "cell_type": "markdown",
      "metadata": {
        "id": "MHqA3t06nvjg"
      },
      "source": [
        "### 1.1.5\n",
        "Build a dictionary of the terms in the documents."
      ]
    },
    {
      "cell_type": "code",
      "execution_count": null,
      "metadata": {
        "colab": {
          "base_uri": "https://localhost:8080/"
        },
        "id": "d4vFSxVJnvjn",
        "outputId": "d8d9c730-16b3-4e48-812b-f87fa86c0dd6"
      },
      "outputs": [
        {
          "output_type": "stream",
          "name": "stdout",
          "text": [
            "Dictionary<847 unique tokens: ['cornwal', 'depart', 'duke', 'first', 'igrain']...>\n"
          ]
        }
      ],
      "source": [
        "#YOUR CODE STARTS HERE#\n",
        "\n",
        "\n",
        "dictionary = gensim.corpora.Dictionary(docs)\n",
        "\n",
        "print(dictionary)\n",
        "\n",
        "\n",
        "#YOUR CODE ENDS HERE#\n",
        "#THIS IS LINE 20#"
      ]
    },
    {
      "cell_type": "markdown",
      "metadata": {
        "id": "FyD6HDEMnvjo"
      },
      "source": [
        "Print out the 5 most common terms\n",
        "\n",
        "[comment]: <> (#SHOW_CELL#)"
      ]
    },
    {
      "cell_type": "code",
      "execution_count": null,
      "metadata": {
        "colab": {
          "base_uri": "https://localhost:8080/"
        },
        "id": "gv9KhE1anvjo",
        "outputId": "3c4589ab-cdfb-4f30-9bf7-91482ed5dd3a"
      },
      "outputs": [
        {
          "output_type": "stream",
          "name": "stdout",
          "text": [
            "Top 5 most common terms :\n",
            "\n",
            "'sir' : 589\n",
            "'king' : 173\n",
            "'launcelot' : 148\n",
            "'tristram' : 130\n",
            "'knight' : 127\n"
          ]
        }
      ],
      "source": [
        "#YOUR CODE STARTS HERE#\n",
        "\n",
        "terms = dictionary.most_common(5)\n",
        "result = ' , '.join([\"'\"+str(i[0])+\"' : \"+str(i[1]) for i in terms]).split(\" , \")\n",
        "\n",
        "print(\"Top 5 most common terms :\\n\", *result, sep=\"\\n\")\n",
        "\n",
        "#YOUR CODE ENDS HERE#\n",
        "#THIS IS LINE 10#"
      ]
    },
    {
      "cell_type": "markdown",
      "metadata": {
        "id": "Vq5VDzZVnvjp"
      },
      "source": [
        "<div style=\"page-break-after: always; visibility: hidden\"> \n",
        "\\pagebreak\n",
        "</div>"
      ]
    },
    {
      "cell_type": "markdown",
      "metadata": {
        "id": "48BntIB3oqVR"
      },
      "source": [
        "### 1.1.6\n",
        "Perform a document-term encoding of the dataset.\n",
        "\n",
        "- Several encodings are possible"
      ]
    },
    {
      "cell_type": "code",
      "execution_count": null,
      "metadata": {
        "id": "aHDIk6LDoqVU"
      },
      "outputs": [],
      "source": [
        "#YOUR CODE STARTS HERE#\n",
        "\n",
        "# Converting list of documents (corpus) \n",
        "# into Document Term Matrix using dictionary.\n",
        "\n",
        "doc_term_matrix = [dictionary.doc2bow(doc) for doc in docs]\n",
        "\n",
        "\n",
        "#YOUR CODE ENDS HERE#\n",
        "#THIS IS LINE 20#"
      ]
    },
    {
      "cell_type": "markdown",
      "metadata": {
        "id": "7bBauBlSoqVV"
      },
      "source": [
        "Print out the sparsity of the matrix\n",
        "\n",
        "[comment]: <> (#SHOW_CELL#)"
      ]
    },
    {
      "cell_type": "code",
      "execution_count": null,
      "metadata": {
        "colab": {
          "base_uri": "https://localhost:8080/"
        },
        "id": "5BsssCZpoqVV",
        "outputId": "7dd1e1c1-40b9-4661-be59-c843020a7228"
      },
      "outputs": [
        {
          "output_type": "stream",
          "name": "stdout",
          "text": [
            "matrix.shape : (847, 483)\n",
            "\n",
            "sparsity : 0.9894\n"
          ]
        }
      ],
      "source": [
        "#YOUR CODE STARTS HERE#\n",
        "\n",
        "matrix = gensim.matutils.corpus2dense(doc_term_matrix, num_terms = len(dictionary))\n",
        "print(\"matrix.shape :\", matrix.shape)\n",
        "\n",
        "sparsity = 1.0 - np.count_nonzero(matrix) / matrix.size  # sparsity\n",
        "print(\"\\nsparsity :\", round(sparsity,4))\n",
        "\n",
        "#YOUR CODE ENDS HERE#\n",
        "#THIS IS LINE 10#"
      ]
    },
    {
      "cell_type": "markdown",
      "metadata": {
        "id": "zk5wO8sCoqVV"
      },
      "source": [
        "<div style=\"page-break-after: always; visibility: hidden\"> \n",
        "\\pagebreak\n",
        "</div>"
      ]
    },
    {
      "cell_type": "markdown",
      "metadata": {
        "id": "iW3aHFYAsSwS"
      },
      "source": [
        "### 1.1.7\n",
        "Perform Latent Semantic Analysis for at least 5 different numbers of topics."
      ]
    },
    {
      "cell_type": "code",
      "execution_count": null,
      "metadata": {
        "colab": {
          "base_uri": "https://localhost:8080/",
          "height": 49,
          "referenced_widgets": [
            "8645e0577f80445d96caf5b86e036e0b",
            "34240f64353147d6a8d101aafea205b3",
            "3239a21e1af04bf1acddf3eeb05027dc",
            "3431250d64fc4114ad19f67d3b5883bf",
            "17d5c8c8d5304669a17a1947e52e1e87",
            "d5c0e7ca021c46fc97790fe2a8c13ac7",
            "74b3a3fa13694037b8e966e77610d45d",
            "c5c23fb43c604cee8db2d3bea8503d21",
            "89175d04e8e04988baa89185260b3d44",
            "7a9eea28e6684234b0fe03304bae9f57",
            "4fd07f740c1f4e41b0a80018b45f4d7e"
          ]
        },
        "id": "A97ywZI5sSwY",
        "outputId": "8b78d584-796a-49ed-9f03-bd2163627747"
      },
      "outputs": [
        {
          "output_type": "display_data",
          "data": {
            "text/plain": [
              "  0%|          | 0/11 [00:00<?, ?it/s]"
            ],
            "application/vnd.jupyter.widget-view+json": {
              "version_major": 2,
              "version_minor": 0,
              "model_id": "8645e0577f80445d96caf5b86e036e0b"
            }
          },
          "metadata": {}
        }
      ],
      "source": [
        "#YOUR CODE STARTS HERE#\n",
        "\n",
        "models_list = []\n",
        "\n",
        "possible_numbers_of_topics = [2,3,4,5,6,8,10,12,15,20,25]\n",
        "\n",
        "for number_of_topics in tqdm(possible_numbers_of_topics):\n",
        "\n",
        "  # train model\n",
        "  lsa_model = gensim.models.LsiModel(doc_term_matrix, num_topics=number_of_topics, \n",
        "                                    id2word = dictionary, random_seed=160)\n",
        "  models_list.append(lsa_model)\n",
        "\n",
        "#YOUR CODE ENDS HERE#\n",
        "#THIS IS LINE 20#"
      ]
    },
    {
      "cell_type": "markdown",
      "metadata": {
        "id": "RfD9DlhHZm02"
      },
      "source": [
        "<div style=\"page-break-after: always; visibility: hidden\">\n",
        "\\pagebreak\n",
        "</div>"
      ]
    },
    {
      "cell_type": "markdown",
      "metadata": {
        "id": "o2lnt3Nxs7JY"
      },
      "source": [
        "### 1.1.8\n",
        "For each of the calculations above, calculate a measure of the \"goodness\" of the division into topics."
      ]
    },
    {
      "cell_type": "code",
      "execution_count": null,
      "metadata": {
        "colab": {
          "base_uri": "https://localhost:8080/",
          "height": 49,
          "referenced_widgets": [
            "0fcc3402ad334634a156d933cd403c2f",
            "1968f4c63cf94aaaaf081dcbc7c59bdd",
            "41a5110b463f4a1997d537d935e34a9c",
            "cff1315d85f447759f304b89be6a5140",
            "809d2647c2984b05b214e273e687b01c",
            "176295461e2d497f8d6325fcebb3c9bd",
            "6184398e4ff64735bd5828f71cf096bd",
            "e643c65ea986469689fc8e2087b7d031",
            "fa990fd30d8140f789ea7d2b622950d0",
            "76c67639319e4ac3972463713ff778f1",
            "6e33d43110e54e9fb64fcd4e7ad61cc7"
          ]
        },
        "id": "GrOU1PAZs7Jb",
        "outputId": "d0991f1d-ed73-4753-9931-00e8964b2a19"
      },
      "outputs": [
        {
          "output_type": "display_data",
          "data": {
            "text/plain": [
              "  0%|          | 0/11 [00:00<?, ?it/s]"
            ],
            "application/vnd.jupyter.widget-view+json": {
              "version_major": 2,
              "version_minor": 0,
              "model_id": "0fcc3402ad334634a156d933cd403c2f"
            }
          },
          "metadata": {}
        }
      ],
      "source": [
        "#YOUR CODE STARTS HERE#\n",
        "\n",
        "\n",
        "coherence_values = []\n",
        "\n",
        "for each_model in tqdm(models_list):\n",
        "\n",
        "  coherence_model = gensim.models.CoherenceModel(model=each_model, texts=docs,\n",
        "                                                 dictionary=dictionary, coherence='c_v')\n",
        "  \n",
        "  coherence_values.append(coherence_model.get_coherence())\n",
        "\n",
        "\n",
        "#YOUR CODE ENDS HERE#\n",
        "#THIS IS LINE 20#"
      ]
    },
    {
      "cell_type": "markdown",
      "metadata": {
        "id": "Ns8378D6s7Jc"
      },
      "source": [
        "Plot the measure as the number of topics varies.\n",
        "\n",
        "[comment]: <> (#SHOW_CELL#)"
      ]
    },
    {
      "cell_type": "code",
      "execution_count": null,
      "metadata": {
        "colab": {
          "base_uri": "https://localhost:8080/",
          "height": 500
        },
        "id": "kUAdAZyZs7Jc",
        "outputId": "64d98013-f709-4c0d-eaf8-aee36d10f61f"
      },
      "outputs": [
        {
          "output_type": "stream",
          "name": "stdout",
          "text": [
            "\n"
          ]
        },
        {
          "output_type": "display_data",
          "data": {
            "text/plain": [
              "<Figure size 800x400 with 1 Axes>"
            ],
            "image/png": "[encoded data removed]"
          },
          "metadata": {}
        }
      ],
      "source": [
        "#YOUR CODE STARTS HERE#\n",
        "\n",
        "print()\n",
        "plt.figure(figsize=(8,4))\n",
        "plt.plot(possible_numbers_of_topics, coherence_values,\"--m\", label=\" coherence values\")\n",
        "plt.xticks(possible_numbers_of_topics)\n",
        "\n",
        "plt.title(\"\\n'Goodness' of the division into topics\\n\",fontsize=15)\n",
        "\n",
        "plt.xlabel(\"\\nNumber of Topics\", fontsize=13)\n",
        "plt.ylabel(\"Coherence score\\n\", fontsize=13)\n",
        "plt.legend(loc=\"lower right\")\n",
        "\n",
        "ax = plt.subplot(111)\n",
        "ax.spines[['right', 'top']].set_visible(False)\n",
        "plt.grid()\n",
        "plt.show();\n",
        "\n",
        "#YOUR CODE ENDS HERE#\n",
        "#THIS IS LINE 20#"
      ]
    },
    {
      "cell_type": "markdown",
      "metadata": {
        "id": "eERuin8o3KXm"
      },
      "source": [
        "Which number of topics is the \"best\" to model this dataset?\n",
        "\n",
        "**Use at most 2 sentences.**\n",
        "\n",
        "[comment]: <> (#SHOW_CELL#)"
      ]
    },
    {
      "cell_type": "markdown",
      "metadata": {
        "id": "ypM_R80j3P-y"
      },
      "source": [
        "----------YOUR TEXT STARTS HERE----------\n",
        "\n",
        "<br>\n",
        "\n",
        "The number of topics that best represent the model is **two** or **four**: higher coherence scores.\\\n",
        "Measure of consistency among topics.\n"
      ]
    },
    {
      "cell_type": "markdown",
      "metadata": {
        "id": "YnFEtMUls7Jc"
      },
      "source": [
        "<div style=\"page-break-after: always; visibility: hidden\"> \n",
        "\\pagebreak\n",
        "</div>"
      ]
    },
    {
      "cell_type": "markdown",
      "metadata": {
        "id": "lvMup3MD1Mqh"
      },
      "source": [
        "### 1.1.9\n",
        "Print the 10 most important words for the 5 most important topics."
      ]
    },
    {
      "cell_type": "code",
      "execution_count": null,
      "metadata": {
        "colab": {
          "base_uri": "https://localhost:8080/"
        },
        "id": "6acmgNFI1Mqm",
        "outputId": "10368e0c-4e2d-426e-8456-3bcb8f4fbca2"
      },
      "outputs": [
        {
          "output_type": "stream",
          "name": "stdout",
          "text": [
            "TOPIC: 1\n",
            "\t 0.908 sir\n",
            "\t 0.205 tristram\n",
            "\t 0.199 launcelot\n",
            "\t 0.138 king\n",
            "\t 0.095 palomid\n",
            "\t 0.09 knight\n",
            "\t 0.074 arthur\n",
            "\t 0.073 came\n",
            "\t 0.062 gawain\n",
            "\t 0.06 fought\n",
            "\n",
            "TOPIC: 2\n",
            "\t -0.78 king\n",
            "\t -0.49 arthur\n",
            "\t 0.196 sir\n",
            "\t -0.168 knight\n",
            "\t -0.125 came\n",
            "\t -0.123 mark\n",
            "\t -0.082 made\n",
            "\t 0.052 tristram\n",
            "\t -0.046 great\n",
            "\t -0.044 merlin\n",
            "\n",
            "TOPIC: 3\n",
            "\t 0.532 tristram\n",
            "\t -0.508 knight\n",
            "\t -0.473 launcelot\n",
            "\t 0.189 king\n",
            "\t -0.149 queen\n",
            "\t 0.148 palomid\n",
            "\t 0.133 isoud\n",
            "\t -0.132 came\n",
            "\t 0.101 beal\n",
            "\t 0.09 mark\n",
            "\n",
            "TOPIC: 4\n",
            "\t 0.688 knight\n",
            "\t 0.416 tristram\n",
            "\t -0.356 launcelot\n",
            "\t 0.178 fought\n",
            "\t 0.137 ladi\n",
            "\t -0.125 king\n",
            "\t -0.108 arthur\n",
            "\t -0.107 sir\n",
            "\t 0.093 slew\n",
            "\t 0.083 two\n",
            "\n",
            "TOPIC: 5\n",
            "\t -0.61 launcelot\n",
            "\t -0.463 tristram\n",
            "\t 0.206 sir\n",
            "\t -0.205 queen\n",
            "\t 0.18 gawain\n",
            "\t -0.167 isoud\n",
            "\t 0.165 came\n",
            "\t -0.154 made\n",
            "\t -0.14 la\n",
            "\t 0.136 met\n",
            "\n"
          ]
        }
      ],
      "source": [
        "#YOUR CODE STARTS HERE#\n",
        "\n",
        "n_most_significant_topics = 5\n",
        "n_words = 3\n",
        "\n",
        "for topic_i, w_and_i in lsa_model.print_topics(num_topics= n_most_significant_topics, \n",
        "                                                            num_words = n_words):\n",
        "    print(\"TOPIC:\", topic_i+1)\n",
        "    for app in w_and_i.split(\" + \"):\n",
        "        value,token = app.split(\"*\")\n",
        "        value = float(value)\n",
        "        token = str(token.replace('\"',\"\"))\n",
        "        print(\"\\t\",value,token)\n",
        "    print()\n",
        "    \n",
        "#YOUR CODE ENDS HERE#\n",
        "#THIS IS LINE 20#"
      ]
    },
    {
      "cell_type": "markdown",
      "metadata": {
        "id": "xdBlulEJ1eOC"
      },
      "source": [
        "Explain how you selected the 5 most important topics.\n",
        "\n",
        "**Use at most 1 sentence.**\n",
        "\n",
        "[comment]: <> (#SHOW_CELL#)"
      ]
    },
    {
      "cell_type": "markdown",
      "metadata": {
        "id": "hUfKIxrO2ZFu"
      },
      "source": [
        "----------YOUR TEXT STARTS HERE----------\n",
        "\n",
        "<br>\n",
        "\n",
        "Five most important topics selected through the `print_topics()` function\\\n",
        "from the **models.LsiModel** module (SVD decomposition)"
      ]
    },
    {
      "cell_type": "markdown",
      "metadata": {
        "id": "V3I7iANj1Mqo"
      },
      "source": [
        "Try to give an explanation of the topic division you obtained.\n",
        "\n",
        "**Use at most 2 sentences.**\n",
        "\n",
        "[comment]: <> (#SHOW_CELL#)"
      ]
    },
    {
      "cell_type": "markdown",
      "metadata": {
        "id": "kfZfRyFy1Mqo"
      },
      "source": [
        "----------YOUR TEXT STARTS HERE----------\n",
        "\n",
        "<br>\n",
        "\n",
        "The division into topics obtained reflects the importance of the characters.\\\n",
        "For example Launcelot and Tristram absolute protagonists of topic 1,\\\n",
        "while king Arthur of topic 2.\n",
        "\n",
        "\n"
      ]
    },
    {
      "cell_type": "markdown",
      "metadata": {
        "id": "4AwVlX1t1Mqo"
      },
      "source": [
        "<div style=\"page-break-after: always; visibility: hidden\"> \n",
        "\\pagebreak\n",
        "</div>"
      ]
    },
    {
      "cell_type": "markdown",
      "metadata": {
        "id": "Cwbz2kzQrYRY"
      },
      "source": [
        "## Part 1.2"
      ]
    },
    {
      "cell_type": "markdown",
      "metadata": {
        "id": "KisyJ9B9rYRa"
      },
      "source": [
        "### 1.2.1\n",
        "Suppose you have a dataset with $N$ samples and $M$ features.\n",
        "\n",
        "You only have $B$ units of memory available on your storage medium.\n",
        "\n",
        "Assume further that each feature occupies a constant number $b$ of memory units and that this cannot be changed (e.g. you cannot change the precision of floats).\n",
        "\n",
        "Assuming that the entire dataset cannot fit on your storage medium, how would you accommodate all N samples while retaining as much information about your data as possible?\n",
        "\n",
        "**Use at most 3 sentences.**"
      ]
    },
    {
      "cell_type": "markdown",
      "metadata": {
        "id": "pm3WzBBacQVP"
      },
      "source": [
        "----------YOUR TEXT STARTS HERE----------\n"
      ]
    },
    {
      "cell_type": "markdown",
      "metadata": {
        "id": "Rr8aqkH--YNQ"
      },
      "source": [
        "<div style=\"page-break-after: always; visibility: hidden\">\n",
        "\\pagebreak\n",
        "</div>"
      ]
    },
    {
      "cell_type": "markdown",
      "metadata": {
        "id": "XUikJP59ebgQ"
      },
      "source": [
        "# Part 2\n",
        "In this part, your goal is to obtain the best classification on a dataset according to a metric specified in each section."
      ]
    },
    {
      "cell_type": "markdown",
      "metadata": {
        "id": "Nsh93bnylqAX"
      },
      "source": [
        "Import here **ALL** the Python packages that you need for Part 2."
      ]
    },
    {
      "cell_type": "code",
      "execution_count": null,
      "metadata": {
        "id": "puYHRVRFlwQk"
      },
      "outputs": [],
      "source": [
        "#REMOVE_OUTPUT#\n",
        "#YOUR CODE STARTS HERE#\n",
        "\n",
        "import time; import datetime\n",
        "import warnings; warnings.filterwarnings('ignore')\n",
        "\n",
        "import sklearn\n",
        "from sklearn import metrics \n",
        "from sklearn.pipeline import Pipeline \n",
        "from sklearn.model_selection import GridSearchCV\n",
        "\n",
        "from sklearn.svm import SVC\n",
        "from sklearn.naive_bayes import MultinomialNB\n",
        "\n",
        "#YOUR CODE ENDS HERE#\n",
        "#THIS IS LINE 15#"
      ]
    },
    {
      "cell_type": "markdown",
      "metadata": {
        "id": "rk-JaiE_hB8h"
      },
      "source": [
        "## Part 2.1\n",
        "In this part, you will perform a tf-idf encoding of the data,\n",
        "and then train a classifier, optimising its hyper-parameters.\n",
        "\n",
        "In the various steps, we will slowly prepare a pipeline to perform a hyper-parameter optimisation; try to prepare the required objects with this target in mind.\n",
        "\n",
        "The goal is to maximise the accuracy on the test set."
      ]
    },
    {
      "cell_type": "markdown",
      "metadata": {
        "id": "b2ctzFICNJqt"
      },
      "source": [
        "### 2.1.1\n",
        "Prepare the dataset for Supervised Learning.\n",
        "\n",
        "> It should be a Pandas DataFrame with two fields: `Text`, `Label`.\n",
        "\n",
        "> The `Text` column must contain the text of a chapter\n",
        "\n",
        "> The `Label` column must contain a value of 0 or 1\n",
        "\n",
        "- The `Label` is 0 if the chapter is in Book 1\n",
        "\n",
        "- The `Label` is 1 if the chapter is in Book 2"
      ]
    },
    {
      "cell_type": "code",
      "execution_count": null,
      "metadata": {
        "colab": {
          "base_uri": "https://localhost:8080/"
        },
        "id": "NZIj5aCaNJq3",
        "outputId": "151407c7-1911-4657-a9e7-f98324d609f0"
      },
      "outputs": [
        {
          "output_type": "stream",
          "name": "stdout",
          "text": [
            "\n",
            " data.shape : (503, 2)\n"
          ]
        }
      ],
      "source": [
        "#YOUR CODE STARTS HERE#\n",
        "\n",
        "labels = [0]*len(texts_1) + [1]*len(texts_2)\n",
        "\n",
        "data = pd.DataFrame(zip(labels, texts_1+texts_2), columns=[\"Label\", 'Texts'])\n",
        "print(\"\\n data.shape :\", data.shape)\n",
        "\n",
        "\n",
        "#YOUR CODE ENDS HERE#\n",
        "#THIS IS LINE 30#"
      ]
    },
    {
      "cell_type": "markdown",
      "metadata": {
        "id": "ikWamFShrS8v"
      },
      "source": [
        "Print out 2 rows with Label 0 and 2 rows with Label 1.\n",
        "\n",
        "[comment]: <> (#SHOW_CELL#)"
      ]
    },
    {
      "cell_type": "code",
      "execution_count": null,
      "metadata": {
        "colab": {
          "base_uri": "https://localhost:8080/"
        },
        "id": "k7bCtZ70rS8w",
        "outputId": "5953cc25-f52e-4b02-ac7a-64e646afdd5a"
      },
      "outputs": [
        {
          "output_type": "stream",
          "name": "stdout",
          "text": [
            "\n",
            "      Label                        Texts\n",
            "---  -------  ------------------------------------------------\n",
            " 0      0     It befell in the days of Uther Pendragon , wh...\n",
            " 1      0     Then Ulfius was glad , and rode on more than ...\n",
            "238     1     And if so be ye can descrive what ye bear , y...\n",
            "239     1     So Sir Tristram alighted off his horse becaus...\n",
            "\n"
          ]
        }
      ],
      "source": [
        "#YOUR CODE STARTS HERE#\n",
        "\n",
        "s1, s2 = data[data.Label == 0].iloc[:2], data[data.Label == 1].iloc[:2]\n",
        "\n",
        "s1.Texts, s2.Texts = s1.Texts.apply(lambda x: x[:45]+\"...\"), s2.Texts.apply(lambda x: x[:45]+\"...\")\n",
        "\n",
        "output= pd.concat([s1,s2])\n",
        "\n",
        "print()\n",
        "print(tabulate(output, headers='keys', tablefmt = \"heavy_outline\", numalign='center', stralign=\"center\"))\n",
        "print()\n",
        "\n",
        "\n",
        "#YOUR CODE ENDS HERE#\n",
        "#THIS IS LINE 15#"
      ]
    },
    {
      "cell_type": "markdown",
      "metadata": {
        "id": "uWMcYjm1rgPz"
      },
      "source": [
        "<div style=\"page-break-after: always; visibility: hidden\">\n",
        "\\pagebreak\n",
        "</div>"
      ]
    },
    {
      "cell_type": "markdown",
      "metadata": {
        "id": "S3F_8xyFrYRR"
      },
      "source": [
        "### 2.1.2\n",
        "Divide the dataset into training (68%), validation (17%) and test set (15%)."
      ]
    },
    {
      "cell_type": "code",
      "execution_count": null,
      "metadata": {
        "colab": {
          "base_uri": "https://localhost:8080/"
        },
        "id": "NZGG5YKHrYRR",
        "outputId": "6396cda4-a6fe-4d1c-8958-75be9c94c627"
      },
      "outputs": [
        {
          "output_type": "stream",
          "name": "stdout",
          "text": [
            "\n",
            " Training_sets Size → (341,) (341,) \n",
            "\n",
            " Validation_sets Size → (86,) (86,) \n",
            "\n",
            " Test_sets Size  → (76,) (76,) \n",
            "\n"
          ]
        }
      ],
      "source": [
        "#YOUR CODE STARTS HERE#\n",
        "\n",
        "x = data[\"Texts\"].to_numpy()\n",
        "y = data[\"Label\"].to_numpy()\n",
        "\n",
        "x_main, x_test, y_main, y_test = sklearn.model_selection.train_test_split(x, y, test_size=0.15, \n",
        "                                                                          stratify=y, random_state=160, shuffle=True)\n",
        "\n",
        "x_train, x_val, y_train, y_val = sklearn.model_selection.train_test_split(x_main, y_main, test_size=0.1997, \n",
        "                                                                        stratify=y_main, random_state=160, shuffle=True) \n",
        "\n",
        "print(\"\\n Training_sets Size →\", x_train.shape, y_train.shape, \"\\n\")\n",
        "print(\" Validation_sets Size →\", x_val.shape, y_val.shape, \"\\n\")\n",
        "print(\" Test_sets Size  →\", x_test.shape, y_test.shape, \"\\n\")\n",
        "\n",
        "\n",
        "\n",
        "#YOUR CODE ENDS HERE#\n",
        "#THIS IS LINE 20#"
      ]
    },
    {
      "cell_type": "markdown",
      "metadata": {
        "id": "ki1tckBVJCdh"
      },
      "source": [
        "Print out the percentage of samples with negative labels (0) in the training, validation and test sets.\n",
        "\n",
        "[comment]: <> (#SHOW_CELL#)"
      ]
    },
    {
      "cell_type": "code",
      "execution_count": null,
      "metadata": {
        "colab": {
          "base_uri": "https://localhost:8080/"
        },
        "id": "WJSlMopgJCdu",
        "outputId": "9471f94d-acf3-436e-c347-a65ec0816d02"
      },
      "outputs": [
        {
          "output_type": "stream",
          "name": "stdout",
          "text": [
            "\n",
            " Train set: 47.2141 %\n",
            "\n",
            " Valid set: 47.6744 %\n",
            "\n",
            " Test set: 47.3684 %\n",
            "\n"
          ]
        }
      ],
      "source": [
        "#YOUR CODE STARTS HERE#\n",
        "\n",
        "print(\"\\n Train set: {} %\\n\".format(round(len([x for x in y_train if x == 0])/len(y_train)*100, 4)))\n",
        "\n",
        "print(\" Valid set: {} %\\n\".format(round(len([x for x in y_val if x == 0])/len(y_val)*100, 4)))\n",
        "\n",
        "print(\" Test set: {} %\\n\".format(round(len([x for x in y_test if x == 0])/len(y_test)*100, 4)))\n",
        "\n",
        "#YOUR CODE ENDS HERE#\n",
        "#THIS IS LINE 10#"
      ]
    },
    {
      "cell_type": "markdown",
      "metadata": {
        "id": "cVTWn-SlJCdv"
      },
      "source": [
        "<div style=\"page-break-after: always; visibility: hidden\">\n",
        "\\pagebreak\n",
        "</div>"
      ]
    },
    {
      "cell_type": "markdown",
      "metadata": {
        "id": "rhHUtozr2KFd"
      },
      "source": [
        "### 2.1.3\n",
        "Create an object that performs a tf-idf transformation on the data. The transformation must **NOT** lowercase character names.\n",
        "\n",
        "Create a dictionary containing configurations for the tf-idf vectorizer.\n",
        "Each hyper-parameter should have exactly **3 values**. "
      ]
    },
    {
      "cell_type": "code",
      "execution_count": null,
      "metadata": {
        "colab": {
          "base_uri": "https://localhost:8080/"
        },
        "id": "jEHYs6Ox2KFj",
        "outputId": "8eeae454-5ce8-4d83-9ba8-408b28c7b668"
      },
      "outputs": [
        {
          "output_type": "stream",
          "name": "stdout",
          "text": [
            " 'Vectorizer.get_params' : \n",
            "\n",
            " ['analyzer', 'binary', 'decode_error', 'dtype', 'encoding', 'input', 'lowercase', 'max_df', 'max_features', 'min_df', 'ngram_range', 'norm', 'preprocessor', 'smooth_idf', 'stop_words', 'strip_accents', 'sublinear_tf', 'token_pattern', 'tokenizer', 'use_idf', 'vocabulary']\n"
          ]
        }
      ],
      "source": [
        "#YOUR CODE STARTS HERE#\n",
        "\n",
        "stemmer = nltk.stem.snowball.EnglishStemmer()\n",
        "\n",
        "english_stopwords = set(nltk.corpus.stopwords.words('english'))\n",
        "\n",
        "def stm_stp_tknz(text):\n",
        "    stemmed_text = [stemmer.stem(w) for w in nltk.word_tokenize(text, language='english') if w not in english_stopwords]\n",
        "    return stemmed_text\n",
        "\n",
        "TfidfVectorizer = sklearn.feature_extraction.text.TfidfVectorizer\n",
        "vectorizer = TfidfVectorizer(lowercase=False)\n",
        "\n",
        "## Colab does not support a three value configuration for the tf-idf vectorizer in time constraint (30 min)\n",
        "## Biblical execution time compared to local running time.\n",
        "\n",
        "parameter_grid = {'vect__tokenizer': (None, stm_stp_tknz),\n",
        "                  \"vect__ngram_range\":[(1,1),(1,2)],\n",
        "                  \"vect__max_df\":((0.80, 0.99)) }\n",
        "\n",
        "print(\" 'Vectorizer.get_params' : \\n\\n\", list(vectorizer.get_params().keys()))\n",
        "\n",
        "#YOUR CODE ENDS HERE#\n",
        "#THIS IS LINE 30#"
      ]
    },
    {
      "cell_type": "markdown",
      "metadata": {
        "id": "pjIM16wGZNym"
      },
      "source": [
        "<div style=\"page-break-after: always; visibility: hidden\">\n",
        "\\pagebreak\n",
        "</div>"
      ]
    },
    {
      "cell_type": "markdown",
      "metadata": {
        "id": "ExTNrAB0rYRR"
      },
      "source": [
        "### 2.1.4\n",
        "Choose a maximum of 2 classification algorithms (from those seen during the course) and prepare objects containing them.\n",
        "\n",
        "For each of the selected classification algorithms, prepare a hyper-parameter configuration.\n",
        "\n",
        "Each configuration must vary **at least 4 different hyper-parameters**.\n",
        "\n",
        "> *If a parameter is itself composed of several parameters (if it is a dictionary, for example), each of these must vary at least 4 different hyper-parameters.*"
      ]
    },
    {
      "cell_type": "code",
      "execution_count": null,
      "metadata": {
        "colab": {
          "base_uri": "https://localhost:8080/"
        },
        "id": "Vqb_1UZwrYRS",
        "outputId": "a814822d-5b9d-45ce-b2e2-a83404a523be"
      },
      "outputs": [
        {
          "output_type": "stream",
          "name": "stdout",
          "text": [
            "\n",
            " MultinomialNB() \n",
            "\n",
            " ['alpha', 'class_prior', 'fit_prior', 'force_alpha']\n",
            "\n",
            " SVC() \n",
            "\n",
            " ['C', 'break_ties', 'cache_size', 'class_weight', 'coef0', 'decision_function_shape', 'degree', 'gamma', 'kernel', 'max_iter', 'probability', 'random_state', 'shrinking', 'tol', 'verbose']\n"
          ]
        }
      ],
      "source": [
        "#YOUR CODE STARTS HERE#\n",
        "\n",
        "my_algorithms_list = [MultinomialNB, SVC]\n",
        "\n",
        "print(\"\\n {} \\n\\n {}\".format(my_algorithms_list[0](), list(my_algorithms_list[0]().get_params().keys())))\n",
        "print(\"\\n {} \\n\\n {}\".format(my_algorithms_list[1](), list(my_algorithms_list[1]().get_params().keys())))\n",
        "\n",
        "d1 = {\"clf__alpha\" : [0.15, 0.25], \n",
        "      \"clf__class_prior\" : [None, (0.5, 0.5), (0.472, 0.528)],\n",
        "      \"clf__fit_prior\": [True, False], \n",
        "      \"verbose\" : [True] }\n",
        "\n",
        "\n",
        "d2 = {'clf__C': [0.85, 0.99], \n",
        "      'clf__gamma': [\"scale\", \"auto\"],   \n",
        "      'clf__kernel': ['linear', 'rbf', \"poly\"], \n",
        "       \"clf__random_state\":[160], \"verbose\":[True]}\n",
        "\n",
        "\n",
        "# candidate learning algorithms and their hyperparameters\n",
        "search_space = [{'clf': [my_algorithms_list[0]()], **d1, **parameter_grid},\n",
        "                {'clf': [my_algorithms_list[1]()], **d2,  **parameter_grid}]\n",
        "\n",
        "# create a pipeline\n",
        "pipe = Pipeline([('vect', vectorizer ), ('clf', 'passthrough')]) # Placeholder Estimator\n",
        "\n",
        "\n",
        "\n",
        "#YOUR CODE ENDS HERE#\n",
        "#THIS IS LINE 30#"
      ]
    },
    {
      "cell_type": "markdown",
      "metadata": {
        "id": "18PF8pYCZKx3"
      },
      "source": [
        "<div style=\"page-break-after: always; visibility: hidden\">\n",
        "\\pagebreak\n",
        "</div>"
      ]
    },
    {
      "cell_type": "markdown",
      "metadata": {
        "id": "lDMyeP1hrYRS"
      },
      "source": [
        "### 2.1.5\n",
        "For each of the classification algorithms selected in step 2.1.4,\n",
        "perform a 5-fold Cross-Validation on the validation set, combining the configurations of the vectorizer defined in step 2.1.3 and those of the classifier being used defined in step 2.1.4.\n",
        "\n",
        "Perform the best hyper-parameter optimisation you can afford in **LESS than 15 minutes**.\n",
        "\n",
        "If you are using two classifications algorithms, the maximum total optimisation time is **INSTEAD** 30 minutes."
      ]
    },
    {
      "cell_type": "code",
      "execution_count": null,
      "metadata": {
        "colab": {
          "base_uri": "https://localhost:8080/",
          "height": 394
        },
        "id": "axZoyi8t20jj",
        "outputId": "b2497de2-939a-43dc-e31e-a42e71df5bc5"
      },
      "outputs": [
        {
          "metadata": {
            "tags": null
          },
          "name": "stdout",
          "output_type": "stream",
          "text": [
            "\n",
            "------------------------------------------------------------\n"
          ]
        },
        {
          "data": {
            "text/html": [
              "<style>#sk-container-id-1 {color: black;background-color: white;}#sk-container-id-1 pre{padding: 0;}#sk-container-id-1 div.sk-toggleable {background-color: white;}#sk-container-id-1 label.sk-toggleable__label {cursor: pointer;display: block;width: 100%;margin-bottom: 0;padding: 0.3em;box-sizing: border-box;text-align: center;}#sk-container-id-1 label.sk-toggleable__label-arrow:before {content: \"▸\";float: left;margin-right: 0.25em;color: #696969;}#sk-container-id-1 label.sk-toggleable__label-arrow:hover:before {color: black;}#sk-container-id-1 div.sk-estimator:hover label.sk-toggleable__label-arrow:before {color: black;}#sk-container-id-1 div.sk-toggleable__content {max-height: 0;max-width: 0;overflow: hidden;text-align: left;background-color: #f0f8ff;}#sk-container-id-1 div.sk-toggleable__content pre {margin: 0.2em;color: black;border-radius: 0.25em;background-color: #f0f8ff;}#sk-container-id-1 input.sk-toggleable__control:checked~div.sk-toggleable__content {max-height: 200px;max-width: 100%;overflow: auto;}#sk-container-id-1 input.sk-toggleable__control:checked~label.sk-toggleable__label-arrow:before {content: \"▾\";}#sk-container-id-1 div.sk-estimator input.sk-toggleable__control:checked~label.sk-toggleable__label {background-color: #d4ebff;}#sk-container-id-1 div.sk-label input.sk-toggleable__control:checked~label.sk-toggleable__label {background-color: #d4ebff;}#sk-container-id-1 input.sk-hidden--visually {border: 0;clip: rect(1px 1px 1px 1px);clip: rect(1px, 1px, 1px, 1px);height: 1px;margin: -1px;overflow: hidden;padding: 0;position: absolute;width: 1px;}#sk-container-id-1 div.sk-estimator {font-family: monospace;background-color: #f0f8ff;border: 1px dotted black;border-radius: 0.25em;box-sizing: border-box;margin-bottom: 0.5em;}#sk-container-id-1 div.sk-estimator:hover {background-color: #d4ebff;}#sk-container-id-1 div.sk-parallel-item::after {content: \"\";width: 100%;border-bottom: 1px solid gray;flex-grow: 1;}#sk-container-id-1 div.sk-label:hover label.sk-toggleable__label {background-color: #d4ebff;}#sk-container-id-1 div.sk-serial::before {content: \"\";position: absolute;border-left: 1px solid gray;box-sizing: border-box;top: 0;bottom: 0;left: 50%;z-index: 0;}#sk-container-id-1 div.sk-serial {display: flex;flex-direction: column;align-items: center;background-color: white;padding-right: 0.2em;padding-left: 0.2em;position: relative;}#sk-container-id-1 div.sk-item {position: relative;z-index: 1;}#sk-container-id-1 div.sk-parallel {display: flex;align-items: stretch;justify-content: center;background-color: white;position: relative;}#sk-container-id-1 div.sk-item::before, #sk-container-id-1 div.sk-parallel-item::before {content: \"\";position: absolute;border-left: 1px solid gray;box-sizing: border-box;top: 0;bottom: 0;left: 50%;z-index: -1;}#sk-container-id-1 div.sk-parallel-item {display: flex;flex-direction: column;z-index: 1;position: relative;background-color: white;}#sk-container-id-1 div.sk-parallel-item:first-child::after {align-self: flex-end;width: 50%;}#sk-container-id-1 div.sk-parallel-item:last-child::after {align-self: flex-start;width: 50%;}#sk-container-id-1 div.sk-parallel-item:only-child::after {width: 0;}#sk-container-id-1 div.sk-dashed-wrapped {border: 1px dashed gray;margin: 0 0.4em 0.5em 0.4em;box-sizing: border-box;padding-bottom: 0.4em;background-color: white;}#sk-container-id-1 div.sk-label label {font-family: monospace;font-weight: bold;display: inline-block;line-height: 1.2em;}#sk-container-id-1 div.sk-label-container {text-align: center;}#sk-container-id-1 div.sk-container {/* jupyter's `normalize.less` sets `[hidden] { display: none; }` but bootstrap.min.css set `[hidden] { display: none !important; }` so we also need the `!important` here to be able to override the default hidden behavior on the sphinx rendered scikit-learn.org. See: https://github.com/scikit-learn/scikit-learn/issues/21755 */display: inline-block !important;position: relative;}#sk-container-id-1 div.sk-text-repr-fallback {display: none;}</style><div id=\"sk-container-id-1\" class=\"sk-top-container\"><div class=\"sk-text-repr-fallback\"><pre>GridSearchCV(cv=5,\n",
              "             estimator=Pipeline(steps=[(&#x27;vect&#x27;,\n",
              "                                        TfidfVectorizer(lowercase=False)),\n",
              "                                       (&#x27;clf&#x27;, &#x27;passthrough&#x27;)]),\n",
              "             n_jobs=-1,\n",
              "             param_grid=[{&#x27;clf&#x27;: [MultinomialNB()], &#x27;clf__alpha&#x27;: [0.15, 0.25],\n",
              "                          &#x27;clf__class_prior&#x27;: [None, (0.5, 0.5),\n",
              "                                               (0.472, 0.528)],\n",
              "                          &#x27;clf__fit_prior&#x27;: [True, False],\n",
              "                          &#x27;vect__max_df&#x27;: (0.8, 0.99),\n",
              "                          &#x27;vect__ngram_range&#x27;: [(1, 1), (1, 2)],\n",
              "                          &#x27;vect__tokenizer&#x27;: (None,\n",
              "                                              &lt;fun...tm_stp_tknz at 0x7fd3abb68b80&gt;),\n",
              "                          &#x27;verbose&#x27;: [True]},\n",
              "                         {&#x27;clf&#x27;: [SVC()], &#x27;clf__C&#x27;: [0.85, 0.99],\n",
              "                          &#x27;clf__gamma&#x27;: [&#x27;scale&#x27;, &#x27;auto&#x27;],\n",
              "                          &#x27;clf__kernel&#x27;: [&#x27;linear&#x27;, &#x27;rbf&#x27;, &#x27;poly&#x27;],\n",
              "                          &#x27;clf__random_state&#x27;: [160],\n",
              "                          &#x27;vect__max_df&#x27;: (0.8, 0.99),\n",
              "                          &#x27;vect__ngram_range&#x27;: [(1, 1), (1, 2)],\n",
              "                          &#x27;vect__tokenizer&#x27;: (None,\n",
              "                                              &lt;function stm_stp_tknz at 0x7fd3abb68b80&gt;),\n",
              "                          &#x27;verbose&#x27;: [True]}],\n",
              "             scoring=&#x27;accuracy&#x27;, verbose=1)</pre><b>In a Jupyter environment, please rerun this cell to show the HTML representation or trust the notebook. <br />On GitHub, the HTML representation is unable to render, please try loading this page with nbviewer.org.</b></div><div class=\"sk-container\" hidden><div class=\"sk-item sk-dashed-wrapped\"><div class=\"sk-label-container\"><div class=\"sk-label sk-toggleable\"><input class=\"sk-toggleable__control sk-hidden--visually\" id=\"sk-estimator-id-1\" type=\"checkbox\" ><label for=\"sk-estimator-id-1\" class=\"sk-toggleable__label sk-toggleable__label-arrow\">GridSearchCV</label><div class=\"sk-toggleable__content\"><pre>GridSearchCV(cv=5,\n",
              "             estimator=Pipeline(steps=[(&#x27;vect&#x27;,\n",
              "                                        TfidfVectorizer(lowercase=False)),\n",
              "                                       (&#x27;clf&#x27;, &#x27;passthrough&#x27;)]),\n",
              "             n_jobs=-1,\n",
              "             param_grid=[{&#x27;clf&#x27;: [MultinomialNB()], &#x27;clf__alpha&#x27;: [0.15, 0.25],\n",
              "                          &#x27;clf__class_prior&#x27;: [None, (0.5, 0.5),\n",
              "                                               (0.472, 0.528)],\n",
              "                          &#x27;clf__fit_prior&#x27;: [True, False],\n",
              "                          &#x27;vect__max_df&#x27;: (0.8, 0.99),\n",
              "                          &#x27;vect__ngram_range&#x27;: [(1, 1), (1, 2)],\n",
              "                          &#x27;vect__tokenizer&#x27;: (None,\n",
              "                                              &lt;fun...tm_stp_tknz at 0x7fd3abb68b80&gt;),\n",
              "                          &#x27;verbose&#x27;: [True]},\n",
              "                         {&#x27;clf&#x27;: [SVC()], &#x27;clf__C&#x27;: [0.85, 0.99],\n",
              "                          &#x27;clf__gamma&#x27;: [&#x27;scale&#x27;, &#x27;auto&#x27;],\n",
              "                          &#x27;clf__kernel&#x27;: [&#x27;linear&#x27;, &#x27;rbf&#x27;, &#x27;poly&#x27;],\n",
              "                          &#x27;clf__random_state&#x27;: [160],\n",
              "                          &#x27;vect__max_df&#x27;: (0.8, 0.99),\n",
              "                          &#x27;vect__ngram_range&#x27;: [(1, 1), (1, 2)],\n",
              "                          &#x27;vect__tokenizer&#x27;: (None,\n",
              "                                              &lt;function stm_stp_tknz at 0x7fd3abb68b80&gt;),\n",
              "                          &#x27;verbose&#x27;: [True]}],\n",
              "             scoring=&#x27;accuracy&#x27;, verbose=1)</pre></div></div></div><div class=\"sk-parallel\"><div class=\"sk-parallel-item\"><div class=\"sk-item\"><div class=\"sk-label-container\"><div class=\"sk-label sk-toggleable\"><input class=\"sk-toggleable__control sk-hidden--visually\" id=\"sk-estimator-id-2\" type=\"checkbox\" ><label for=\"sk-estimator-id-2\" class=\"sk-toggleable__label sk-toggleable__label-arrow\">estimator: Pipeline</label><div class=\"sk-toggleable__content\"><pre>Pipeline(steps=[(&#x27;vect&#x27;, TfidfVectorizer(lowercase=False)),\n",
              "                (&#x27;clf&#x27;, &#x27;passthrough&#x27;)])</pre></div></div></div><div class=\"sk-serial\"><div class=\"sk-item\"><div class=\"sk-serial\"><div class=\"sk-item\"><div class=\"sk-estimator sk-toggleable\"><input class=\"sk-toggleable__control sk-hidden--visually\" id=\"sk-estimator-id-3\" type=\"checkbox\" ><label for=\"sk-estimator-id-3\" class=\"sk-toggleable__label sk-toggleable__label-arrow\">TfidfVectorizer</label><div class=\"sk-toggleable__content\"><pre>TfidfVectorizer(lowercase=False)</pre></div></div></div><div class=\"sk-item\"><div class=\"sk-estimator sk-toggleable\"><input class=\"sk-toggleable__control sk-hidden--visually\" id=\"sk-estimator-id-4\" type=\"checkbox\" ><label for=\"sk-estimator-id-4\" class=\"sk-toggleable__label sk-toggleable__label-arrow\">passthrough</label><div class=\"sk-toggleable__content\"><pre>passthrough</pre></div></div></div></div></div></div></div></div></div></div></div></div>"
            ],
            "text/plain": [
              "GridSearchCV(cv=5,\n",
              "             estimator=Pipeline(steps=[('vect',\n",
              "                                        TfidfVectorizer(lowercase=False)),\n",
              "                                       ('clf', 'passthrough')]),\n",
              "             n_jobs=-1,\n",
              "             param_grid=[{'clf': [MultinomialNB()], 'clf__alpha': [0.15, 0.25],\n",
              "                          'clf__class_prior': [None, (0.5, 0.5),\n",
              "                                               (0.472, 0.528)],\n",
              "                          'clf__fit_prior': [True, False],\n",
              "                          'vect__max_df': (0.8, 0.99),\n",
              "                          'vect__ngram_range': [(1, 1), (1, 2)],\n",
              "                          'vect__tokenizer': (None,\n",
              "                                              <fun...tm_stp_tknz at 0x7fd3abb68b80>),\n",
              "                          'verbose': [True]},\n",
              "                         {'clf': [SVC()], 'clf__C': [0.85, 0.99],\n",
              "                          'clf__gamma': ['scale', 'auto'],\n",
              "                          'clf__kernel': ['linear', 'rbf', 'poly'],\n",
              "                          'clf__random_state': [160],\n",
              "                          'vect__max_df': (0.8, 0.99),\n",
              "                          'vect__ngram_range': [(1, 1), (1, 2)],\n",
              "                          'vect__tokenizer': (None,\n",
              "                                              <function stm_stp_tknz at 0x7fd3abb68b80>),\n",
              "                          'verbose': [True]}],\n",
              "             scoring='accuracy', verbose=1)"
            ]
          },
          "metadata": {},
          "output_type": "display_data"
        },
        {
          "output_type": "stream",
          "name": "stdout",
          "text": [
            "\n",
            " -----------------------------------\n",
            "  Starting time → 14:33:38\n",
            " -----------------------------------\n",
            "\n",
            "Fitting 5 folds for each of 192 candidates, totalling 960 fits\n",
            "[Pipeline] .............. (step 1 of 2) Processing vect, total=   2.8s\n",
            "[Pipeline] ............... (step 2 of 2) Processing clf, total=   0.2s\n",
            "\n",
            " -----------------------------------\n",
            "  Execution time: 0:29:19.99 minutes\n",
            "\n"
          ]
        }
      ],
      "source": [
        "#YOUR CODE STARTS HERE#\n",
        "\n",
        "# create grid search objects\n",
        "gs = GridSearchCV(pipe, search_space, cv = 5, n_jobs = -1, verbose = 1, scoring = \"accuracy\")\n",
        "\n",
        "print(\"\\n\"+\"-\"*60); display(gs)\n",
        "\n",
        "st = time.time()\n",
        "pattern = \"\\n \"+'-'*35+'\\n'\n",
        "print(pattern, ' Starting time → {}\\n'.format(time.strftime(\"%H:%M:%S\", time.localtime())), pattern[2:])\n",
        "\n",
        "gs.fit(x_train, y_train)\n",
        "\n",
        "end =  time.time()\n",
        "print(pattern,' Execution time:', str(datetime.timedelta(seconds = end - st))[:10], 'minutes\\n')\n",
        "\n",
        "\n",
        "\n",
        "#YOUR CODE ENDS HERE#\n",
        "#THIS IS LINE 40#           "
      ]
    },
    {
      "cell_type": "markdown",
      "metadata": {
        "id": "F9u2ef9MIWMO"
      },
      "source": [
        "Print out the total time taken.\n",
        "\n",
        "[comment]: <> (#SHOW_CELL#)"
      ]
    },
    {
      "cell_type": "code",
      "execution_count": null,
      "metadata": {
        "colab": {
          "base_uri": "https://localhost:8080/"
        },
        "id": "GCeVka1uIWMW",
        "outputId": "5cca6e8c-7a13-410d-d175-a7a38dab131e"
      },
      "outputs": [
        {
          "output_type": "stream",
          "name": "stdout",
          "text": [
            "\n",
            " ----------------------------------\n",
            " Execution time: 0:29:19.99 minutes\n",
            "\n"
          ]
        }
      ],
      "source": [
        "#YOUR CODE STARTS HERE#\n",
        "\n",
        "\n",
        "print(pattern[:-2])\n",
        "print(' Execution time:', str(datetime.timedelta(seconds = end - st))[:10], 'minutes\\n')\n",
        "\n",
        "\n",
        "\n",
        "#YOUR CODE ENDS HERE#\n",
        "#THIS IS LINE 10#"
      ]
    },
    {
      "cell_type": "markdown",
      "metadata": {
        "id": "s079A27KIWMY"
      },
      "source": [
        "<div style=\"page-break-after: always; visibility: hidden\">\n",
        "\\pagebreak\n",
        "</div>"
      ]
    },
    {
      "cell_type": "markdown",
      "metadata": {
        "id": "DcxLpyBq-ygQ"
      },
      "source": [
        "### 2.1.6\n",
        "For each of the optimisations run in step 2.1.5:\n",
        "\n",
        "> Select the 5 best configurations and print them."
      ]
    },
    {
      "cell_type": "code",
      "execution_count": null,
      "metadata": {
        "colab": {
          "base_uri": "https://localhost:8080/",
          "height": 534
        },
        "id": "1cj7Gn9O-ygg",
        "outputId": "cf475995-0af0-4e62-b3b8-71505201a0f8"
      },
      "outputs": [
        {
          "output_type": "stream",
          "name": "stdout",
          "text": [
            "\n",
            " classification algorithm → 'sklearn.naive_bayes.MultinomialNB'> :\n",
            "\n"
          ]
        },
        {
          "output_type": "display_data",
          "data": {
            "text/plain": [
              "    alpha class_prior fit_prior     tokenizer ngram_range  max_df\n",
              "19   0.15  (0.5, 0.5)      True  stm_stp_tknz      (1, 1)     0.8\n",
              "23   0.15  (0.5, 0.5)     False  stm_stp_tknz      (1, 1)     0.8\n",
              "26   0.25  (0.5, 0.5)     False           NaN      (1, 1)     0.8\n",
              "27   0.25  (0.5, 0.5)      True           NaN      (1, 1)     0.8\n",
              "30   0.25  (0.5, 0.5)     False  stm_stp_tknz      (1, 1)     0.8"
            ],
            "text/html": [
              "\n",
              "  <div id=\"df-3ff2ae87-a978-43f0-bafd-cb9207cf926c\">\n",
              "    <div class=\"colab-df-container\">\n",
              "      <div>\n",
              "<style scoped>\n",
              "    .dataframe tbody tr th:only-of-type {\n",
              "        vertical-align: middle;\n",
              "    }\n",
              "\n",
              "    .dataframe tbody tr th {\n",
              "        vertical-align: top;\n",
              "    }\n",
              "\n",
              "    .dataframe thead th {\n",
              "        text-align: right;\n",
              "    }\n",
              "</style>\n",
              "<table border=\"1\" class=\"dataframe\">\n",
              "  <thead>\n",
              "    <tr style=\"text-align: right;\">\n",
              "      <th></th>\n",
              "      <th>alpha</th>\n",
              "      <th>class_prior</th>\n",
              "      <th>fit_prior</th>\n",
              "      <th>tokenizer</th>\n",
              "      <th>ngram_range</th>\n",
              "      <th>max_df</th>\n",
              "    </tr>\n",
              "  </thead>\n",
              "  <tbody>\n",
              "    <tr>\n",
              "      <th>19</th>\n",
              "      <td>0.15</td>\n",
              "      <td>(0.5, 0.5)</td>\n",
              "      <td>True</td>\n",
              "      <td>stm_stp_tknz</td>\n",
              "      <td>(1, 1)</td>\n",
              "      <td>0.8</td>\n",
              "    </tr>\n",
              "    <tr>\n",
              "      <th>23</th>\n",
              "      <td>0.15</td>\n",
              "      <td>(0.5, 0.5)</td>\n",
              "      <td>False</td>\n",
              "      <td>stm_stp_tknz</td>\n",
              "      <td>(1, 1)</td>\n",
              "      <td>0.8</td>\n",
              "    </tr>\n",
              "    <tr>\n",
              "      <th>26</th>\n",
              "      <td>0.25</td>\n",
              "      <td>(0.5, 0.5)</td>\n",
              "      <td>False</td>\n",
              "      <td>NaN</td>\n",
              "      <td>(1, 1)</td>\n",
              "      <td>0.8</td>\n",
              "    </tr>\n",
              "    <tr>\n",
              "      <th>27</th>\n",
              "      <td>0.25</td>\n",
              "      <td>(0.5, 0.5)</td>\n",
              "      <td>True</td>\n",
              "      <td>NaN</td>\n",
              "      <td>(1, 1)</td>\n",
              "      <td>0.8</td>\n",
              "    </tr>\n",
              "    <tr>\n",
              "      <th>30</th>\n",
              "      <td>0.25</td>\n",
              "      <td>(0.5, 0.5)</td>\n",
              "      <td>False</td>\n",
              "      <td>stm_stp_tknz</td>\n",
              "      <td>(1, 1)</td>\n",
              "      <td>0.8</td>\n",
              "    </tr>\n",
              "  </tbody>\n",
              "</table>\n",
              "</div>\n",
              "      <button class=\"colab-df-convert\" onclick=\"convertToInteractive('df-3ff2ae87-a978-43f0-bafd-cb9207cf926c')\"\n",
              "              title=\"Convert this dataframe to an interactive table.\"\n",
              "              style=\"display:none;\">\n",
              "        \n",
              "  <svg xmlns=\"http://www.w3.org/2000/svg\" height=\"24px\"viewBox=\"0 0 24 24\"\n",
              "       width=\"24px\">\n",
              "    <path d=\"M0 0h24v24H0V0z\" fill=\"none\"/>\n",
              "    <path d=\"M18.56 5.44l.94 2.06.94-2.06 2.06-.94-2.06-.94-.94-2.06-.94 2.06-2.06.94zm-11 1L8.5 8.5l.94-2.06 2.06-.94-2.06-.94L8.5 2.5l-.94 2.06-2.06.94zm10 10l.94 2.06.94-2.06 2.06-.94-2.06-.94-.94-2.06-.94 2.06-2.06.94z\"/><path d=\"M17.41 7.96l-1.37-1.37c-.4-.4-.92-.59-1.43-.59-.52 0-1.04.2-1.43.59L10.3 9.45l-7.72 7.72c-.78.78-.78 2.05 0 2.83L4 21.41c.39.39.9.59 1.41.59.51 0 1.02-.2 1.41-.59l7.78-7.78 2.81-2.81c.8-.78.8-2.07 0-2.86zM5.41 20L4 18.59l7.72-7.72 1.47 1.35L5.41 20z\"/>\n",
              "  </svg>\n",
              "      </button>\n",
              "      \n",
              "  <style>\n",
              "    .colab-df-container {\n",
              "      display:flex;\n",
              "      flex-wrap:wrap;\n",
              "      gap: 12px;\n",
              "    }\n",
              "\n",
              "    .colab-df-convert {\n",
              "      background-color: #E8F0FE;\n",
              "      border: none;\n",
              "      border-radius: 50%;\n",
              "      cursor: pointer;\n",
              "      display: none;\n",
              "      fill: #1967D2;\n",
              "      height: 32px;\n",
              "      padding: 0 0 0 0;\n",
              "      width: 32px;\n",
              "    }\n",
              "\n",
              "    .colab-df-convert:hover {\n",
              "      background-color: #E2EBFA;\n",
              "      box-shadow: 0px 1px 2px rgba(60, 64, 67, 0.3), 0px 1px 3px 1px rgba(60, 64, 67, 0.15);\n",
              "      fill: #174EA6;\n",
              "    }\n",
              "\n",
              "    [theme=dark] .colab-df-convert {\n",
              "      background-color: #3B4455;\n",
              "      fill: #D2E3FC;\n",
              "    }\n",
              "\n",
              "    [theme=dark] .colab-df-convert:hover {\n",
              "      background-color: #434B5C;\n",
              "      box-shadow: 0px 1px 3px 1px rgba(0, 0, 0, 0.15);\n",
              "      filter: drop-shadow(0px 1px 2px rgba(0, 0, 0, 0.3));\n",
              "      fill: #FFFFFF;\n",
              "    }\n",
              "  </style>\n",
              "\n",
              "      <script>\n",
              "        const buttonEl =\n",
              "          document.querySelector('#df-3ff2ae87-a978-43f0-bafd-cb9207cf926c button.colab-df-convert');\n",
              "        buttonEl.style.display =\n",
              "          google.colab.kernel.accessAllowed ? 'block' : 'none';\n",
              "\n",
              "        async function convertToInteractive(key) {\n",
              "          const element = document.querySelector('#df-3ff2ae87-a978-43f0-bafd-cb9207cf926c');\n",
              "          const dataTable =\n",
              "            await google.colab.kernel.invokeFunction('convertToInteractive',\n",
              "                                                     [key], {});\n",
              "          if (!dataTable) return;\n",
              "\n",
              "          const docLinkHtml = 'Like what you see? Visit the ' +\n",
              "            '<a target=\"_blank\" href=https://colab.research.google.com/notebooks/data_table.ipynb>data table notebook</a>'\n",
              "            + ' to learn more about interactive tables.';\n",
              "          element.innerHTML = '';\n",
              "          dataTable['output_type'] = 'display_data';\n",
              "          await google.colab.output.renderOutput(dataTable, element);\n",
              "          const docLink = document.createElement('div');\n",
              "          docLink.innerHTML = docLinkHtml;\n",
              "          element.appendChild(docLink);\n",
              "        }\n",
              "      </script>\n",
              "    </div>\n",
              "  </div>\n",
              "  "
            ]
          },
          "metadata": {}
        },
        {
          "output_type": "stream",
          "name": "stdout",
          "text": [
            "\n",
            "\n",
            " classification algorithm → 'sklearn.svm._classes.SVC'> :\n",
            "\n"
          ]
        },
        {
          "output_type": "display_data",
          "data": {
            "text/plain": [
              "      C  gamma  kernel  random_state  max_df ngram_range     tokenizer\n",
              "0  0.99   auto  linear         160.0    0.80      (1, 1)  stm_stp_tknz\n",
              "1  0.99  scale  linear         160.0    0.80      (1, 1)  stm_stp_tknz\n",
              "2  0.99  scale  linear         160.0    0.99      (1, 1)  stm_stp_tknz\n",
              "3  0.99   auto  linear         160.0    0.99      (1, 1)  stm_stp_tknz\n",
              "4  0.99  scale     rbf         160.0    0.99      (1, 1)  stm_stp_tknz"
            ],
            "text/html": [
              "\n",
              "  <div id=\"df-2519cddf-9b52-4279-b9b9-97548f5cbec7\">\n",
              "    <div class=\"colab-df-container\">\n",
              "      <div>\n",
              "<style scoped>\n",
              "    .dataframe tbody tr th:only-of-type {\n",
              "        vertical-align: middle;\n",
              "    }\n",
              "\n",
              "    .dataframe tbody tr th {\n",
              "        vertical-align: top;\n",
              "    }\n",
              "\n",
              "    .dataframe thead th {\n",
              "        text-align: right;\n",
              "    }\n",
              "</style>\n",
              "<table border=\"1\" class=\"dataframe\">\n",
              "  <thead>\n",
              "    <tr style=\"text-align: right;\">\n",
              "      <th></th>\n",
              "      <th>C</th>\n",
              "      <th>gamma</th>\n",
              "      <th>kernel</th>\n",
              "      <th>random_state</th>\n",
              "      <th>max_df</th>\n",
              "      <th>ngram_range</th>\n",
              "      <th>tokenizer</th>\n",
              "    </tr>\n",
              "  </thead>\n",
              "  <tbody>\n",
              "    <tr>\n",
              "      <th>0</th>\n",
              "      <td>0.99</td>\n",
              "      <td>auto</td>\n",
              "      <td>linear</td>\n",
              "      <td>160.0</td>\n",
              "      <td>0.80</td>\n",
              "      <td>(1, 1)</td>\n",
              "      <td>stm_stp_tknz</td>\n",
              "    </tr>\n",
              "    <tr>\n",
              "      <th>1</th>\n",
              "      <td>0.99</td>\n",
              "      <td>scale</td>\n",
              "      <td>linear</td>\n",
              "      <td>160.0</td>\n",
              "      <td>0.80</td>\n",
              "      <td>(1, 1)</td>\n",
              "      <td>stm_stp_tknz</td>\n",
              "    </tr>\n",
              "    <tr>\n",
              "      <th>2</th>\n",
              "      <td>0.99</td>\n",
              "      <td>scale</td>\n",
              "      <td>linear</td>\n",
              "      <td>160.0</td>\n",
              "      <td>0.99</td>\n",
              "      <td>(1, 1)</td>\n",
              "      <td>stm_stp_tknz</td>\n",
              "    </tr>\n",
              "    <tr>\n",
              "      <th>3</th>\n",
              "      <td>0.99</td>\n",
              "      <td>auto</td>\n",
              "      <td>linear</td>\n",
              "      <td>160.0</td>\n",
              "      <td>0.99</td>\n",
              "      <td>(1, 1)</td>\n",
              "      <td>stm_stp_tknz</td>\n",
              "    </tr>\n",
              "    <tr>\n",
              "      <th>4</th>\n",
              "      <td>0.99</td>\n",
              "      <td>scale</td>\n",
              "      <td>rbf</td>\n",
              "      <td>160.0</td>\n",
              "      <td>0.99</td>\n",
              "      <td>(1, 1)</td>\n",
              "      <td>stm_stp_tknz</td>\n",
              "    </tr>\n",
              "  </tbody>\n",
              "</table>\n",
              "</div>\n",
              "      <button class=\"colab-df-convert\" onclick=\"convertToInteractive('df-2519cddf-9b52-4279-b9b9-97548f5cbec7')\"\n",
              "              title=\"Convert this dataframe to an interactive table.\"\n",
              "              style=\"display:none;\">\n",
              "        \n",
              "  <svg xmlns=\"http://www.w3.org/2000/svg\" height=\"24px\"viewBox=\"0 0 24 24\"\n",
              "       width=\"24px\">\n",
              "    <path d=\"M0 0h24v24H0V0z\" fill=\"none\"/>\n",
              "    <path d=\"M18.56 5.44l.94 2.06.94-2.06 2.06-.94-2.06-.94-.94-2.06-.94 2.06-2.06.94zm-11 1L8.5 8.5l.94-2.06 2.06-.94-2.06-.94L8.5 2.5l-.94 2.06-2.06.94zm10 10l.94 2.06.94-2.06 2.06-.94-2.06-.94-.94-2.06-.94 2.06-2.06.94z\"/><path d=\"M17.41 7.96l-1.37-1.37c-.4-.4-.92-.59-1.43-.59-.52 0-1.04.2-1.43.59L10.3 9.45l-7.72 7.72c-.78.78-.78 2.05 0 2.83L4 21.41c.39.39.9.59 1.41.59.51 0 1.02-.2 1.41-.59l7.78-7.78 2.81-2.81c.8-.78.8-2.07 0-2.86zM5.41 20L4 18.59l7.72-7.72 1.47 1.35L5.41 20z\"/>\n",
              "  </svg>\n",
              "      </button>\n",
              "      \n",
              "  <style>\n",
              "    .colab-df-container {\n",
              "      display:flex;\n",
              "      flex-wrap:wrap;\n",
              "      gap: 12px;\n",
              "    }\n",
              "\n",
              "    .colab-df-convert {\n",
              "      background-color: #E8F0FE;\n",
              "      border: none;\n",
              "      border-radius: 50%;\n",
              "      cursor: pointer;\n",
              "      display: none;\n",
              "      fill: #1967D2;\n",
              "      height: 32px;\n",
              "      padding: 0 0 0 0;\n",
              "      width: 32px;\n",
              "    }\n",
              "\n",
              "    .colab-df-convert:hover {\n",
              "      background-color: #E2EBFA;\n",
              "      box-shadow: 0px 1px 2px rgba(60, 64, 67, 0.3), 0px 1px 3px 1px rgba(60, 64, 67, 0.15);\n",
              "      fill: #174EA6;\n",
              "    }\n",
              "\n",
              "    [theme=dark] .colab-df-convert {\n",
              "      background-color: #3B4455;\n",
              "      fill: #D2E3FC;\n",
              "    }\n",
              "\n",
              "    [theme=dark] .colab-df-convert:hover {\n",
              "      background-color: #434B5C;\n",
              "      box-shadow: 0px 1px 3px 1px rgba(0, 0, 0, 0.15);\n",
              "      filter: drop-shadow(0px 1px 2px rgba(0, 0, 0, 0.3));\n",
              "      fill: #FFFFFF;\n",
              "    }\n",
              "  </style>\n",
              "\n",
              "      <script>\n",
              "        const buttonEl =\n",
              "          document.querySelector('#df-2519cddf-9b52-4279-b9b9-97548f5cbec7 button.colab-df-convert');\n",
              "        buttonEl.style.display =\n",
              "          google.colab.kernel.accessAllowed ? 'block' : 'none';\n",
              "\n",
              "        async function convertToInteractive(key) {\n",
              "          const element = document.querySelector('#df-2519cddf-9b52-4279-b9b9-97548f5cbec7');\n",
              "          const dataTable =\n",
              "            await google.colab.kernel.invokeFunction('convertToInteractive',\n",
              "                                                     [key], {});\n",
              "          if (!dataTable) return;\n",
              "\n",
              "          const docLinkHtml = 'Like what you see? Visit the ' +\n",
              "            '<a target=\"_blank\" href=https://colab.research.google.com/notebooks/data_table.ipynb>data table notebook</a>'\n",
              "            + ' to learn more about interactive tables.';\n",
              "          element.innerHTML = '';\n",
              "          dataTable['output_type'] = 'display_data';\n",
              "          await google.colab.output.renderOutput(dataTable, element);\n",
              "          const docLink = document.createElement('div');\n",
              "          docLink.innerHTML = docLinkHtml;\n",
              "          element.appendChild(docLink);\n",
              "        }\n",
              "      </script>\n",
              "    </div>\n",
              "  </div>\n",
              "  "
            ]
          },
          "metadata": {}
        },
        {
          "output_type": "stream",
          "name": "stdout",
          "text": [
            "\n"
          ]
        }
      ],
      "source": [
        "#YOUR CODE STARTS HERE#\n",
        "\n",
        "results = pd.DataFrame(gs.cv_results_).sort_values(by='rank_test_score')\n",
        "\n",
        "a_list = [results.loc[i, 'params'] for i in results.index]\n",
        "a_df = pd.DataFrame.from_records(a_list).drop([\"clf\"], axis=1)\n",
        "\n",
        "df_alg_1 = a_df[a_df[list(d1.keys())].notnull().all(1)].drop(list(d2.keys()), axis=1)\n",
        "df_alg_2 = a_df[a_df[list(d2.keys())].notnull().all(1)].drop(list(d1.keys()), axis=1)\n",
        "\n",
        "new_column_order = df_alg_1.columns.tolist()[len(parameter_grid.keys())::]+list(parameter_grid.keys())\n",
        "df_alg_1 = df_alg_1.reindex(columns= new_column_order)\n",
        "\n",
        "this_list = [df_alg_1, df_alg_2]\n",
        "\n",
        "for i in range(len(this_list)):\n",
        "    print(\"\\n classification algorithm → {} :\\n\".format(str(my_algorithms_list[i]).split()[-1]))\n",
        "    copy_1 = this_list[i].copy().head()\n",
        "    copy_1[\"vect__tokenizer\"] = copy_1[\"vect__tokenizer\"].astype(\"str\").str.split().str[1]\n",
        "    copy_1.columns = [x.split(\"__\")[1] for x in copy_1.columns]\n",
        "\n",
        "    display(copy_1); print()\n",
        "\n",
        "r = results[['split0_test_score', 'split1_test_score','split2_test_score', \n",
        "             'split3_test_score', 'split4_test_score']].T\n",
        "\n",
        "other_list = [r[this_list[0].index[:5]], r[this_list[1].index[:5]]]\n",
        "\n",
        "#YOUR CODE ENDS HERE#\n",
        "#THIS IS LINE 40#"
      ]
    },
    {
      "cell_type": "markdown",
      "metadata": {
        "id": "cIPeGBaUZYX6"
      },
      "source": [
        "<div style=\"page-break-after: always; visibility: hidden\">\n",
        "\\pagebreak\n",
        "</div>"
      ]
    },
    {
      "cell_type": "markdown",
      "metadata": {
        "id": "4ugE-Z5-JVzx"
      },
      "source": [
        "### 2.1.7\n",
        "For each of the optimisations run in step 2.1.5:\n",
        "\n",
        "> Produce a plot with mean and standard deviation of the accuracy calculated on the test set (**of each fold**) for the 5 configuration selected in step 2.1.6."
      ]
    },
    {
      "cell_type": "code",
      "execution_count": null,
      "metadata": {
        "colab": {
          "base_uri": "https://localhost:8080/",
          "height": 529
        },
        "id": "n9TT5GFhJVzf",
        "outputId": "5d9daf49-3a70-4d65-e7c8-8e22bae4c895"
      },
      "outputs": [
        {
          "output_type": "display_data",
          "data": {
            "text/plain": [
              "<Figure size 1000x500 with 2 Axes>"
            ],
            "image/png": "[encoded data removed]"
          },
          "metadata": {}
        },
        {
          "output_type": "stream",
          "name": "stdout",
          "text": [
            "\n"
          ]
        }
      ],
      "source": [
        "#YOUR CODE STARTS HERE#\n",
        "\n",
        "fig, axarr = plt.subplots(1, 2, figsize=(10, 5))\n",
        "fig.suptitle(\"\\n Mean of the Accuracy on each test set fold : \\n\", fontsize=16)\n",
        "names = [\"'MultinomialNB'\", \"'SVC'\"]\n",
        "\n",
        "for i in range(2):\n",
        "    axarr[i].plot(other_list[i],  label=other_list[i].columns)\n",
        "    axarr[i].set_title(names[i]+\"\\n\")\n",
        "    axarr[i].grid()\n",
        "    axarr[i].tick_params(axis='x', rotation=65)\n",
        "    axarr[i].legend(loc=\"lower left\"); axarr[i].set_ylim([0.73, 1])\n",
        "\n",
        "fig.tight_layout(); fig.subplots_adjust(top=0.75, wspace=0.32); plt.show(); print()\n",
        "\n",
        "#s =  results[[\"mean_fit_time\", \"mean_test_score\"]].T\n",
        "#poi = [s[this_list[0].index[:5]], s[this_list[1].index[:5]]]; display(poi[0], poi[1])\n",
        "\n",
        "#YOUR CODE ENDS HERE#\n",
        "#THIS IS LINE 20#"
      ]
    },
    {
      "cell_type": "markdown",
      "metadata": {
        "id": "QsFZ0mtqpPDv"
      },
      "source": [
        "For each plot produced, which combination of hyper-parameters would you select?\n",
        "\n",
        "**Use at most 2 sentences (per plot).**\n",
        "\n",
        "[comment]: <> (#SHOW_CELL#)"
      ]
    },
    {
      "cell_type": "markdown",
      "metadata": {
        "id": "9pROZ66hpPDv"
      },
      "source": [
        "----------YOUR TEXT STARTS HERE----------\n",
        "\n",
        "<br>\n",
        "\n",
        "Since all configurations are similar and also their performances,\\\n",
        "I would choose the algorithm with least time in testing, according to `mean_fit_time` (also accepting slightly less accuracy)\n",
        "\n",
        "\n",
        "- **SVC** → configuration index $0$ (fastest and also best performance)\n",
        "- **MultinomialNB** → configuration index $26$ (mean accuracy = 0.87)\n",
        "\n",
        "\n",
        "\n"
      ]
    },
    {
      "cell_type": "markdown",
      "metadata": {
        "id": "3i91QdtOKR7E"
      },
      "source": [
        "<div style=\"page-break-after: always; visibility: hidden\">\n",
        "\\pagebreak\n",
        "</div>"
      ]
    },
    {
      "cell_type": "markdown",
      "metadata": {
        "id": "hWVFUOX1-y4k"
      },
      "source": [
        "### 2.1.8\n",
        "For each of the optimisations, obtain a classifier using the parameters you selected in step 2.1.6."
      ]
    },
    {
      "cell_type": "code",
      "execution_count": null,
      "metadata": {
        "colab": {
          "base_uri": "https://localhost:8080/",
          "height": 355
        },
        "id": "WAZgP-_Z_cJA",
        "outputId": "95d2925c-f512-4f6c-c4bd-ee33b96140c4"
      },
      "outputs": [
        {
          "output_type": "stream",
          "name": "stdout",
          "text": [
            "\n",
            " optimized : MultinomialNB()\n",
            "\n"
          ]
        },
        {
          "output_type": "display_data",
          "data": {
            "text/plain": [
              "Pipeline(steps=[('vect',\n",
              "                 TfidfVectorizer(lowercase=False, max_df=0.8,\n",
              "                                 tokenizer=<function stm_stp_tknz at 0x7fd3abb68b80>)),\n",
              "                ('clf', SVC(C=0.99, kernel='linear', random_state=160))])"
            ],
            "text/html": [
              "<style>#sk-container-id-2 {color: black;background-color: white;}#sk-container-id-2 pre{padding: 0;}#sk-container-id-2 div.sk-toggleable {background-color: white;}#sk-container-id-2 label.sk-toggleable__label {cursor: pointer;display: block;width: 100%;margin-bottom: 0;padding: 0.3em;box-sizing: border-box;text-align: center;}#sk-container-id-2 label.sk-toggleable__label-arrow:before {content: \"▸\";float: left;margin-right: 0.25em;color: #696969;}#sk-container-id-2 label.sk-toggleable__label-arrow:hover:before {color: black;}#sk-container-id-2 div.sk-estimator:hover label.sk-toggleable__label-arrow:before {color: black;}#sk-container-id-2 div.sk-toggleable__content {max-height: 0;max-width: 0;overflow: hidden;text-align: left;background-color: #f0f8ff;}#sk-container-id-2 div.sk-toggleable__content pre {margin: 0.2em;color: black;border-radius: 0.25em;background-color: #f0f8ff;}#sk-container-id-2 input.sk-toggleable__control:checked~div.sk-toggleable__content {max-height: 200px;max-width: 100%;overflow: auto;}#sk-container-id-2 input.sk-toggleable__control:checked~label.sk-toggleable__label-arrow:before {content: \"▾\";}#sk-container-id-2 div.sk-estimator input.sk-toggleable__control:checked~label.sk-toggleable__label {background-color: #d4ebff;}#sk-container-id-2 div.sk-label input.sk-toggleable__control:checked~label.sk-toggleable__label {background-color: #d4ebff;}#sk-container-id-2 input.sk-hidden--visually {border: 0;clip: rect(1px 1px 1px 1px);clip: rect(1px, 1px, 1px, 1px);height: 1px;margin: -1px;overflow: hidden;padding: 0;position: absolute;width: 1px;}#sk-container-id-2 div.sk-estimator {font-family: monospace;background-color: #f0f8ff;border: 1px dotted black;border-radius: 0.25em;box-sizing: border-box;margin-bottom: 0.5em;}#sk-container-id-2 div.sk-estimator:hover {background-color: #d4ebff;}#sk-container-id-2 div.sk-parallel-item::after {content: \"\";width: 100%;border-bottom: 1px solid gray;flex-grow: 1;}#sk-container-id-2 div.sk-label:hover label.sk-toggleable__label {background-color: #d4ebff;}#sk-container-id-2 div.sk-serial::before {content: \"\";position: absolute;border-left: 1px solid gray;box-sizing: border-box;top: 0;bottom: 0;left: 50%;z-index: 0;}#sk-container-id-2 div.sk-serial {display: flex;flex-direction: column;align-items: center;background-color: white;padding-right: 0.2em;padding-left: 0.2em;position: relative;}#sk-container-id-2 div.sk-item {position: relative;z-index: 1;}#sk-container-id-2 div.sk-parallel {display: flex;align-items: stretch;justify-content: center;background-color: white;position: relative;}#sk-container-id-2 div.sk-item::before, #sk-container-id-2 div.sk-parallel-item::before {content: \"\";position: absolute;border-left: 1px solid gray;box-sizing: border-box;top: 0;bottom: 0;left: 50%;z-index: -1;}#sk-container-id-2 div.sk-parallel-item {display: flex;flex-direction: column;z-index: 1;position: relative;background-color: white;}#sk-container-id-2 div.sk-parallel-item:first-child::after {align-self: flex-end;width: 50%;}#sk-container-id-2 div.sk-parallel-item:last-child::after {align-self: flex-start;width: 50%;}#sk-container-id-2 div.sk-parallel-item:only-child::after {width: 0;}#sk-container-id-2 div.sk-dashed-wrapped {border: 1px dashed gray;margin: 0 0.4em 0.5em 0.4em;box-sizing: border-box;padding-bottom: 0.4em;background-color: white;}#sk-container-id-2 div.sk-label label {font-family: monospace;font-weight: bold;display: inline-block;line-height: 1.2em;}#sk-container-id-2 div.sk-label-container {text-align: center;}#sk-container-id-2 div.sk-container {/* jupyter's `normalize.less` sets `[hidden] { display: none; }` but bootstrap.min.css set `[hidden] { display: none !important; }` so we also need the `!important` here to be able to override the default hidden behavior on the sphinx rendered scikit-learn.org. See: https://github.com/scikit-learn/scikit-learn/issues/21755 */display: inline-block !important;position: relative;}#sk-container-id-2 div.sk-text-repr-fallback {display: none;}</style><div id=\"sk-container-id-2\" class=\"sk-top-container\"><div class=\"sk-text-repr-fallback\"><pre>Pipeline(steps=[(&#x27;vect&#x27;,\n",
              "                 TfidfVectorizer(lowercase=False, max_df=0.8,\n",
              "                                 tokenizer=&lt;function stm_stp_tknz at 0x7fd3abb68b80&gt;)),\n",
              "                (&#x27;clf&#x27;, SVC(C=0.99, kernel=&#x27;linear&#x27;, random_state=160))])</pre><b>In a Jupyter environment, please rerun this cell to show the HTML representation or trust the notebook. <br />On GitHub, the HTML representation is unable to render, please try loading this page with nbviewer.org.</b></div><div class=\"sk-container\" hidden><div class=\"sk-item sk-dashed-wrapped\"><div class=\"sk-label-container\"><div class=\"sk-label sk-toggleable\"><input class=\"sk-toggleable__control sk-hidden--visually\" id=\"sk-estimator-id-5\" type=\"checkbox\" ><label for=\"sk-estimator-id-5\" class=\"sk-toggleable__label sk-toggleable__label-arrow\">Pipeline</label><div class=\"sk-toggleable__content\"><pre>Pipeline(steps=[(&#x27;vect&#x27;,\n",
              "                 TfidfVectorizer(lowercase=False, max_df=0.8,\n",
              "                                 tokenizer=&lt;function stm_stp_tknz at 0x7fd3abb68b80&gt;)),\n",
              "                (&#x27;clf&#x27;, SVC(C=0.99, kernel=&#x27;linear&#x27;, random_state=160))])</pre></div></div></div><div class=\"sk-serial\"><div class=\"sk-item\"><div class=\"sk-estimator sk-toggleable\"><input class=\"sk-toggleable__control sk-hidden--visually\" id=\"sk-estimator-id-6\" type=\"checkbox\" ><label for=\"sk-estimator-id-6\" class=\"sk-toggleable__label sk-toggleable__label-arrow\">TfidfVectorizer</label><div class=\"sk-toggleable__content\"><pre>TfidfVectorizer(lowercase=False, max_df=0.8,\n",
              "                tokenizer=&lt;function stm_stp_tknz at 0x7fd3abb68b80&gt;)</pre></div></div></div><div class=\"sk-item\"><div class=\"sk-estimator sk-toggleable\"><input class=\"sk-toggleable__control sk-hidden--visually\" id=\"sk-estimator-id-7\" type=\"checkbox\" ><label for=\"sk-estimator-id-7\" class=\"sk-toggleable__label sk-toggleable__label-arrow\">SVC</label><div class=\"sk-toggleable__content\"><pre>SVC(C=0.99, kernel=&#x27;linear&#x27;, random_state=160)</pre></div></div></div></div></div></div></div>"
            ]
          },
          "metadata": {}
        },
        {
          "output_type": "stream",
          "name": "stdout",
          "text": [
            "------------------------------------------------------------\n",
            "\n",
            " optimized : SVC()\n",
            "\n"
          ]
        },
        {
          "output_type": "display_data",
          "data": {
            "text/plain": [
              "Pipeline(steps=[('vect',\n",
              "                 TfidfVectorizer(lowercase=False, max_df=0.8,\n",
              "                                 tokenizer=<function stm_stp_tknz at 0x7fd3abb68b80>)),\n",
              "                ('clf', MultinomialNB(alpha=0.15, class_prior=(0.5, 0.5)))])"
            ],
            "text/html": [
              "<style>#sk-container-id-3 {color: black;background-color: white;}#sk-container-id-3 pre{padding: 0;}#sk-container-id-3 div.sk-toggleable {background-color: white;}#sk-container-id-3 label.sk-toggleable__label {cursor: pointer;display: block;width: 100%;margin-bottom: 0;padding: 0.3em;box-sizing: border-box;text-align: center;}#sk-container-id-3 label.sk-toggleable__label-arrow:before {content: \"▸\";float: left;margin-right: 0.25em;color: #696969;}#sk-container-id-3 label.sk-toggleable__label-arrow:hover:before {color: black;}#sk-container-id-3 div.sk-estimator:hover label.sk-toggleable__label-arrow:before {color: black;}#sk-container-id-3 div.sk-toggleable__content {max-height: 0;max-width: 0;overflow: hidden;text-align: left;background-color: #f0f8ff;}#sk-container-id-3 div.sk-toggleable__content pre {margin: 0.2em;color: black;border-radius: 0.25em;background-color: #f0f8ff;}#sk-container-id-3 input.sk-toggleable__control:checked~div.sk-toggleable__content {max-height: 200px;max-width: 100%;overflow: auto;}#sk-container-id-3 input.sk-toggleable__control:checked~label.sk-toggleable__label-arrow:before {content: \"▾\";}#sk-container-id-3 div.sk-estimator input.sk-toggleable__control:checked~label.sk-toggleable__label {background-color: #d4ebff;}#sk-container-id-3 div.sk-label input.sk-toggleable__control:checked~label.sk-toggleable__label {background-color: #d4ebff;}#sk-container-id-3 input.sk-hidden--visually {border: 0;clip: rect(1px 1px 1px 1px);clip: rect(1px, 1px, 1px, 1px);height: 1px;margin: -1px;overflow: hidden;padding: 0;position: absolute;width: 1px;}#sk-container-id-3 div.sk-estimator {font-family: monospace;background-color: #f0f8ff;border: 1px dotted black;border-radius: 0.25em;box-sizing: border-box;margin-bottom: 0.5em;}#sk-container-id-3 div.sk-estimator:hover {background-color: #d4ebff;}#sk-container-id-3 div.sk-parallel-item::after {content: \"\";width: 100%;border-bottom: 1px solid gray;flex-grow: 1;}#sk-container-id-3 div.sk-label:hover label.sk-toggleable__label {background-color: #d4ebff;}#sk-container-id-3 div.sk-serial::before {content: \"\";position: absolute;border-left: 1px solid gray;box-sizing: border-box;top: 0;bottom: 0;left: 50%;z-index: 0;}#sk-container-id-3 div.sk-serial {display: flex;flex-direction: column;align-items: center;background-color: white;padding-right: 0.2em;padding-left: 0.2em;position: relative;}#sk-container-id-3 div.sk-item {position: relative;z-index: 1;}#sk-container-id-3 div.sk-parallel {display: flex;align-items: stretch;justify-content: center;background-color: white;position: relative;}#sk-container-id-3 div.sk-item::before, #sk-container-id-3 div.sk-parallel-item::before {content: \"\";position: absolute;border-left: 1px solid gray;box-sizing: border-box;top: 0;bottom: 0;left: 50%;z-index: -1;}#sk-container-id-3 div.sk-parallel-item {display: flex;flex-direction: column;z-index: 1;position: relative;background-color: white;}#sk-container-id-3 div.sk-parallel-item:first-child::after {align-self: flex-end;width: 50%;}#sk-container-id-3 div.sk-parallel-item:last-child::after {align-self: flex-start;width: 50%;}#sk-container-id-3 div.sk-parallel-item:only-child::after {width: 0;}#sk-container-id-3 div.sk-dashed-wrapped {border: 1px dashed gray;margin: 0 0.4em 0.5em 0.4em;box-sizing: border-box;padding-bottom: 0.4em;background-color: white;}#sk-container-id-3 div.sk-label label {font-family: monospace;font-weight: bold;display: inline-block;line-height: 1.2em;}#sk-container-id-3 div.sk-label-container {text-align: center;}#sk-container-id-3 div.sk-container {/* jupyter's `normalize.less` sets `[hidden] { display: none; }` but bootstrap.min.css set `[hidden] { display: none !important; }` so we also need the `!important` here to be able to override the default hidden behavior on the sphinx rendered scikit-learn.org. See: https://github.com/scikit-learn/scikit-learn/issues/21755 */display: inline-block !important;position: relative;}#sk-container-id-3 div.sk-text-repr-fallback {display: none;}</style><div id=\"sk-container-id-3\" class=\"sk-top-container\"><div class=\"sk-text-repr-fallback\"><pre>Pipeline(steps=[(&#x27;vect&#x27;,\n",
              "                 TfidfVectorizer(lowercase=False, max_df=0.8,\n",
              "                                 tokenizer=&lt;function stm_stp_tknz at 0x7fd3abb68b80&gt;)),\n",
              "                (&#x27;clf&#x27;, MultinomialNB(alpha=0.15, class_prior=(0.5, 0.5)))])</pre><b>In a Jupyter environment, please rerun this cell to show the HTML representation or trust the notebook. <br />On GitHub, the HTML representation is unable to render, please try loading this page with nbviewer.org.</b></div><div class=\"sk-container\" hidden><div class=\"sk-item sk-dashed-wrapped\"><div class=\"sk-label-container\"><div class=\"sk-label sk-toggleable\"><input class=\"sk-toggleable__control sk-hidden--visually\" id=\"sk-estimator-id-8\" type=\"checkbox\" ><label for=\"sk-estimator-id-8\" class=\"sk-toggleable__label sk-toggleable__label-arrow\">Pipeline</label><div class=\"sk-toggleable__content\"><pre>Pipeline(steps=[(&#x27;vect&#x27;,\n",
              "                 TfidfVectorizer(lowercase=False, max_df=0.8,\n",
              "                                 tokenizer=&lt;function stm_stp_tknz at 0x7fd3abb68b80&gt;)),\n",
              "                (&#x27;clf&#x27;, MultinomialNB(alpha=0.15, class_prior=(0.5, 0.5)))])</pre></div></div></div><div class=\"sk-serial\"><div class=\"sk-item\"><div class=\"sk-estimator sk-toggleable\"><input class=\"sk-toggleable__control sk-hidden--visually\" id=\"sk-estimator-id-9\" type=\"checkbox\" ><label for=\"sk-estimator-id-9\" class=\"sk-toggleable__label sk-toggleable__label-arrow\">TfidfVectorizer</label><div class=\"sk-toggleable__content\"><pre>TfidfVectorizer(lowercase=False, max_df=0.8,\n",
              "                tokenizer=&lt;function stm_stp_tknz at 0x7fd3abb68b80&gt;)</pre></div></div></div><div class=\"sk-item\"><div class=\"sk-estimator sk-toggleable\"><input class=\"sk-toggleable__control sk-hidden--visually\" id=\"sk-estimator-id-10\" type=\"checkbox\" ><label for=\"sk-estimator-id-10\" class=\"sk-toggleable__label sk-toggleable__label-arrow\">MultinomialNB</label><div class=\"sk-toggleable__content\"><pre>MultinomialNB(alpha=0.15, class_prior=(0.5, 0.5))</pre></div></div></div></div></div></div></div>"
            ]
          },
          "metadata": {}
        }
      ],
      "source": [
        "#YOUR CODE STARTS HERE#\n",
        "\n",
        "## pipeline of best estimator with best config :\n",
        "pip = gs.best_estimator_\n",
        "pip.verbose=False\n",
        "\n",
        "## second model :\n",
        "if type(gs.best_estimator_[\"clf\"]) == type(my_algorithms_list[0]()):\n",
        "    parametri = df_alg_2.iloc[0].to_dict()\n",
        "    model_2 = my_algorithms_list[1]\n",
        "    \n",
        "elif type(gs.best_estimator_[\"clf\"]) == type(my_algorithms_list[1]()):\n",
        "    parametri = df_alg_1.iloc[0].to_dict()\n",
        "    model_2 = my_algorithms_list[0]\n",
        "\n",
        "p1 = {x.split(\"__\")[-1]:parametri[x] for x in parametri if x.startswith(\"vect\")}\n",
        "p2 = {x.split(\"__\")[-1]:parametri[x] for x in parametri if x.startswith(\"clf\")} \n",
        "\n",
        "pipe_2 = Pipeline([('vect', TfidfVectorizer(lowercase=False, **p1)), (\"clf\", model_2(**p2))]) \n",
        "pipe_2.verbose=False\n",
        "pipeline_list = [pip, pipe_2]\n",
        "\n",
        "print(\"\\n optimized : {}\\n\".format(my_algorithms_list[0]())); display(pipeline_list[0])\n",
        "print(\"-\"*60)\n",
        "print(\"\\n optimized : {}\\n\".format(my_algorithms_list[1]())); display(pipeline_list[1])\n",
        "\n",
        "\n",
        "\n",
        "#YOUR CODE ENDS HERE#\n",
        "#THIS IS LINE 30#"
      ]
    },
    {
      "cell_type": "markdown",
      "metadata": {
        "id": "68mcaKKuJ2_P"
      },
      "source": [
        "Apply the classifier(s) to obtain the confusion matrix on the test data and print it out.\n",
        "\n",
        "[comment]: <> (#SHOW_CELL#)"
      ]
    },
    {
      "cell_type": "code",
      "execution_count": null,
      "metadata": {
        "colab": {
          "base_uri": "https://localhost:8080/"
        },
        "id": "Vc0UFNZKKKgx",
        "outputId": "3dde0a9c-7cff-4cfd-d8b3-55457fcdf7cb"
      },
      "outputs": [
        {
          "output_type": "stream",
          "name": "stdout",
          "text": [
            "\n",
            "Confusion Matrix: True-Classes X Predicted-Classes\n",
            "\n",
            "\n",
            "\tSVC \t\t\t MultinomialNB\n",
            "\n",
            " \t      0    1 \t\t\t       0    1\n",
            "\t--  ---  --- \t\t\t --  ---  ---\n",
            "\t 0   34    7 \t\t\t  0   35    6\n",
            "\t 1    1   44 \t\t\t  1    3   42\n",
            "\n"
          ]
        }
      ],
      "source": [
        "#YOUR CODE STARTS HERE#\n",
        "confusion_list, names = [], []\n",
        "print(\"\\nConfusion Matrix: True-Classes X Predicted-Classes\\n\\n\")\n",
        "\n",
        "for pipe in pipeline_list:\n",
        "    pipe.fit(x_train, y_train); pred_test_y = pipe.predict(x_val)\n",
        "    confusion_matrix_df = pd.DataFrame(metrics.confusion_matrix(y_val, pred_test_y))\n",
        "    confusion_list.append((confusion_matrix_df)); names.append(str(pipe.named_steps[\"clf\"]))\n",
        "\n",
        "spaces = [tabulate(element, headers=\"keys\").split(\"\\n\") for element in confusion_list]\n",
        "double_table = ''.join([(\"\\t\"+x+\" \\t\\t\\t \"+y+\"\\n\") for x,y in zip(spaces[0],spaces[1])])\n",
        "print(\"\\t{} \\t\\t\\t {}\\n\\n {}\".format(names[0].split('(')[0], names[1].split('(')[0], double_table))\n",
        "\n",
        "#YOUR CODE ENDS HERE#\n",
        "#THIS IS LINE 15#"
      ]
    },
    {
      "cell_type": "markdown",
      "metadata": {
        "id": "S_7Vf0xwKTfI"
      },
      "source": [
        "<div style=\"page-break-after: always; visibility: hidden\">\n",
        "\\pagebreak\n",
        "</div>"
      ]
    },
    {
      "cell_type": "markdown",
      "metadata": {
        "id": "JSWFJqVOaH8n"
      },
      "source": [
        "## Part 2.2"
      ]
    },
    {
      "cell_type": "markdown",
      "metadata": {
        "id": "qx2JVwCqVW3p"
      },
      "source": [
        "### 2.2.1\n",
        "You have a training set containing N documents. There are $M_1$ unique terms within the dataset.\n",
        "\n",
        "The test dataset will have $M_2$ unique terms within it. However, we know that only a small amount of these will be in common with the training dataset.\n",
        "\n",
        "What precautions could we use to preprocess the data?\n",
        "\n",
        "What could we change at test time and which of the classification algorithms seen in class would best suit the change?\n",
        "\n",
        "**Use at most 4 sentences.**"
      ]
    },
    {
      "cell_type": "markdown",
      "metadata": {
        "id": "Az4tdEMOVW3t"
      },
      "source": [
        "----------YOUR TEXT STARTS HERE----------\n",
        "\n",
        "<br>\n",
        "\n",
        "I would use complete preprocessing (**stemming** and **stop words removal**)\\.\n",
        "\n",
        "Then increase the considered `vect__ngram_range` step to (2,2 → only bigrams) or (2,3)\\\n",
        "and choose a `vect_min_df` higher than deafault to discard tokens that appear less frequently than the treshold\n",
        "\n",
        "At testing time I would look at a more comprehensive metric then accuracy, such as the F1 score.\n",
        "\n",
        "As algorithm SVC is effective for high dimensional data and can handle sparse feature vectors"
      ]
    },
    {
      "cell_type": "markdown",
      "metadata": {
        "id": "JhI4Zhpk-1pc"
      },
      "source": [
        "<div style=\"page-break-after: always; visibility: hidden\">\n",
        "\\pagebreak\n",
        "</div>"
      ]
    },
    {
      "cell_type": "markdown",
      "metadata": {
        "id": "scEw2gkFYy83"
      },
      "source": [
        "\n",
        "# Submission instructions"
      ]
    },
    {
      "cell_type": "markdown",
      "metadata": {
        "id": "bWcupmrvYy9C"
      },
      "source": [
        "Follow the instructions precisely\n",
        "1. Run the whole notebook up to this point\n",
        "  * Click on this text cell and go to Runtime > Run before\n",
        "  * It is essential that the notebook can be run from start to finish without us having to change anything.\n",
        "2. Download the current notebook\n",
        "  * File -> Download -> Download .ipynb\n",
        "3. Upload the downloaded notebook in the current runtime\n",
        "  * In the left sidebar menu, open the last tab (Files)\n",
        "  * Click on the first button under the File title (Page with arrow pointing up)\n",
        "  * In the new window, upload the notebook just downloaded\n",
        "\n"
      ]
    },
    {
      "cell_type": "markdown",
      "metadata": {
        "id": "Cfw5_7NlYy9D"
      },
      "source": [
        "4. To turn the notebook into a pdf you need to install a Tex extension: run the next cell of code:"
      ]
    },
    {
      "cell_type": "code",
      "execution_count": null,
      "metadata": {
        "colab": {
          "base_uri": "https://localhost:8080/"
        },
        "id": "JTdv9NEuYy9E",
        "outputId": "24072397-f532-4957-b07b-c423438125ee"
      },
      "outputs": [
        {
          "output_type": "stream",
          "name": "stdout",
          "text": [
            "Reading package lists... Done\n",
            "Building dependency tree       \n",
            "Reading state information... Done\n",
            "texlive-fonts-recommended is already the newest version (2019.20200218-1).\n",
            "texlive-plain-generic is already the newest version (2019.202000218-1).\n",
            "texlive-xetex is already the newest version (2019.20200218-1).\n",
            "0 upgraded, 0 newly installed, 0 to remove and 24 not upgraded.\n"
          ]
        }
      ],
      "source": [
        "#REMOVE_CELL#\n",
        "!apt-get install texlive-xetex texlive-fonts-recommended texlive-plain-generic"
      ]
    },
    {
      "cell_type": "markdown",
      "metadata": {
        "id": "rgmWSW-MYy9F"
      },
      "source": [
        "5. Now, run the next cell to set some cell tags in the notebook file."
      ]
    },
    {
      "cell_type": "code",
      "execution_count": null,
      "metadata": {
        "colab": {
          "base_uri": "https://localhost:8080/"
        },
        "id": "nMNhHjhbYy9F",
        "outputId": "4c56bdb4-a961-4193-9dce-f0d69a596ac2"
      },
      "outputs": [
        {
          "output_type": "stream",
          "name": "stdout",
          "text": [
            "/content/DMT2023_HW3.ipynb\n"
          ]
        }
      ],
      "source": [
        "#REMOVE_CELL#\n",
        "\n",
        "import nbformat as nbf\n",
        "from glob import glob\n",
        "\n",
        "notebooks = glob(\"/content/**/*.ipynb\", recursive=True)\n",
        "\n",
        "text_search_dict = [\"YOUR TEXT STARTS HERE\",\"#YOUR CODE STARTS HERE#\"]\n",
        "\n",
        "for ipath in notebooks:\n",
        "    print(ipath)\n",
        "    ntbk = nbf.read(ipath, nbf.NO_CONVERT)\n",
        "\n",
        "    for cell in ntbk.cells:\n",
        "        cell_type = cell['cell_type'] == \"code\"\n",
        "      \n",
        "        cell_tags = cell.get('metadata', {}).get('tags', [])\n",
        "        cell_tags = set(cell_tags)\n",
        "\n",
        "        if cell_type == 0: #markdown\n",
        "          if (cell['source'][0]!=\"#\" and text_search_dict[cell_type] not in cell['source'] and \"pagebreak\" not in cell['source']) or \"#REMOVE_CELL#\" in cell['source']:\n",
        "            cell_tags.add(\"remove_cell\")\n",
        "\n",
        "        else: #code\n",
        "          #if text_search_dict[cell_type] not in cell['source'] or \"#REMOVE_CELL#\" in cell['source']:\n",
        "          if \"#REMOVE_CELL#\" in cell['source']:\n",
        "            cell_tags.add(\"remove_cell\")\n",
        "          elif \"#REMOVE_OUTPUT#\" in cell['source']:\n",
        "            cell_tags.add(\"remove_output\")\n",
        "        \n",
        "        if len(cell_tags) > 0:\n",
        "            cell['metadata']['tags'] = list(cell_tags)\n",
        "\n",
        "    nbf.write(ntbk, ipath)"
      ]
    },
    {
      "cell_type": "markdown",
      "metadata": {
        "id": "ttb36qjjYy9F"
      },
      "source": [
        "6. Now, run the next cell to transform the notebook to PDF without the code cells.\n",
        "  * The file will appear in the menu on the left (refresh if needed). The file should be named `DMT2023_HW3.pdf`\n",
        "  * Rename this file **Surname1_Surname2_DMT2023_HW3_report.pdf** (e.g. Becchetti_Siciliano_DMT2023_HW3_report.pdf). Sort the surnames alphabetically.\n",
        "  * Click on it and using the right button or the three dots at its side, click on download to transfer it to your local PC\n",
        "  "
      ]
    },
    {
      "cell_type": "code",
      "execution_count": null,
      "metadata": {
        "id": "U3cgJxIBYy9H"
      },
      "outputs": [],
      "source": [
        "#REMOVE_CELL#\n",
        "!jupyter nbconvert /content/DMT2023_HW3.ipynb --to pdf --TagRemovePreprocessor.remove_cell_tags='{\"remove_cell\"}' -TagRemovePreprocessor.remove_all_outputs_tags='{\"remove_output\"}'"
      ]
    },
    {
      "cell_type": "markdown",
      "metadata": {
        "id": "d2_OqvVwYy9H"
      },
      "source": [
        "7. Now, rename the downloaded notebook **Surname1_Surname2_DMT2023_HW3_notebook.ipynb** (e.g. Becchetti_Siciliano_DMT2023_HW3_notebook.ipynb). Sort the surnames alphabetically."
      ]
    },
    {
      "cell_type": "markdown",
      "metadata": {
        "id": "BCjj-I1_Yy9H"
      },
      "source": [
        "8. Now that you have both files, you need to upload them to Classroom. Only the student with the surname that comes first in alphabetical order **must** upload the files. Only the files uploaded by this student will be graded."
      ]
    }
  ],
  "metadata": {
    "colab": {
      "collapsed_sections": [
        "vtqmMBBFM5VB",
        "l4lz07FFZj9C",
        "ElJWkdNXShsb"
      ],
      "provenance": [],
      "toc_visible": true,
      "include_colab_link": true
    },
    "kernelspec": {
      "display_name": "Python 3",
      "name": "python3"
    },
    "language_info": {
      "name": "python"
    },
    "widgets": {
      "application/vnd.jupyter.widget-state+json": {
        "8645e0577f80445d96caf5b86e036e0b": {
          "model_module": "@jupyter-widgets/controls",
          "model_name": "HBoxModel",
          "model_module_version": "1.5.0",
          "state": {
            "_dom_classes": [],
            "_model_module": "@jupyter-widgets/controls",
            "_model_module_version": "1.5.0",
            "_model_name": "HBoxModel",
            "_view_count": null,
            "_view_module": "@jupyter-widgets/controls",
            "_view_module_version": "1.5.0",
            "_view_name": "HBoxView",
            "box_style": "",
            "children": [
              "IPY_MODEL_34240f64353147d6a8d101aafea205b3",
              "IPY_MODEL_3239a21e1af04bf1acddf3eeb05027dc",
              "IPY_MODEL_3431250d64fc4114ad19f67d3b5883bf"
            ],
            "layout": "IPY_MODEL_17d5c8c8d5304669a17a1947e52e1e87"
          }
        },
        "34240f64353147d6a8d101aafea205b3": {
          "model_module": "@jupyter-widgets/controls",
          "model_name": "HTMLModel",
          "model_module_version": "1.5.0",
          "state": {
            "_dom_classes": [],
            "_model_module": "@jupyter-widgets/controls",
            "_model_module_version": "1.5.0",
            "_model_name": "HTMLModel",
            "_view_count": null,
            "_view_module": "@jupyter-widgets/controls",
            "_view_module_version": "1.5.0",
            "_view_name": "HTMLView",
            "description": "",
            "description_tooltip": null,
            "layout": "IPY_MODEL_d5c0e7ca021c46fc97790fe2a8c13ac7",
            "placeholder": "​",
            "style": "IPY_MODEL_74b3a3fa13694037b8e966e77610d45d",
            "value": "100%"
          }
        },
        "3239a21e1af04bf1acddf3eeb05027dc": {
          "model_module": "@jupyter-widgets/controls",
          "model_name": "FloatProgressModel",
          "model_module_version": "1.5.0",
          "state": {
            "_dom_classes": [],
            "_model_module": "@jupyter-widgets/controls",
            "_model_module_version": "1.5.0",
            "_model_name": "FloatProgressModel",
            "_view_count": null,
            "_view_module": "@jupyter-widgets/controls",
            "_view_module_version": "1.5.0",
            "_view_name": "ProgressView",
            "bar_style": "success",
            "description": "",
            "description_tooltip": null,
            "layout": "IPY_MODEL_c5c23fb43c604cee8db2d3bea8503d21",
            "max": 11,
            "min": 0,
            "orientation": "horizontal",
            "style": "IPY_MODEL_89175d04e8e04988baa89185260b3d44",
            "value": 11
          }
        },
        "3431250d64fc4114ad19f67d3b5883bf": {
          "model_module": "@jupyter-widgets/controls",
          "model_name": "HTMLModel",
          "model_module_version": "1.5.0",
          "state": {
            "_dom_classes": [],
            "_model_module": "@jupyter-widgets/controls",
            "_model_module_version": "1.5.0",
            "_model_name": "HTMLModel",
            "_view_count": null,
            "_view_module": "@jupyter-widgets/controls",
            "_view_module_version": "1.5.0",
            "_view_name": "HTMLView",
            "description": "",
            "description_tooltip": null,
            "layout": "IPY_MODEL_7a9eea28e6684234b0fe03304bae9f57",
            "placeholder": "​",
            "style": "IPY_MODEL_4fd07f740c1f4e41b0a80018b45f4d7e",
            "value": " 11/11 [00:00&lt;00:00, 10.93it/s]"
          }
        },
        "17d5c8c8d5304669a17a1947e52e1e87": {
          "model_module": "@jupyter-widgets/base",
          "model_name": "LayoutModel",
          "model_module_version": "1.2.0",
          "state": {
            "_model_module": "@jupyter-widgets/base",
            "_model_module_version": "1.2.0",
            "_model_name": "LayoutModel",
            "_view_count": null,
            "_view_module": "@jupyter-widgets/base",
            "_view_module_version": "1.2.0",
            "_view_name": "LayoutView",
            "align_content": null,
            "align_items": null,
            "align_self": null,
            "border": null,
            "bottom": null,
            "display": null,
            "flex": null,
            "flex_flow": null,
            "grid_area": null,
            "grid_auto_columns": null,
            "grid_auto_flow": null,
            "grid_auto_rows": null,
            "grid_column": null,
            "grid_gap": null,
            "grid_row": null,
            "grid_template_areas": null,
            "grid_template_columns": null,
            "grid_template_rows": null,
            "height": null,
            "justify_content": null,
            "justify_items": null,
            "left": null,
            "margin": null,
            "max_height": null,
            "max_width": null,
            "min_height": null,
            "min_width": null,
            "object_fit": null,
            "object_position": null,
            "order": null,
            "overflow": null,
            "overflow_x": null,
            "overflow_y": null,
            "padding": null,
            "right": null,
            "top": null,
            "visibility": null,
            "width": null
          }
        },
        "d5c0e7ca021c46fc97790fe2a8c13ac7": {
          "model_module": "@jupyter-widgets/base",
          "model_name": "LayoutModel",
          "model_module_version": "1.2.0",
          "state": {
            "_model_module": "@jupyter-widgets/base",
            "_model_module_version": "1.2.0",
            "_model_name": "LayoutModel",
            "_view_count": null,
            "_view_module": "@jupyter-widgets/base",
            "_view_module_version": "1.2.0",
            "_view_name": "LayoutView",
            "align_content": null,
            "align_items": null,
            "align_self": null,
            "border": null,
            "bottom": null,
            "display": null,
            "flex": null,
            "flex_flow": null,
            "grid_area": null,
            "grid_auto_columns": null,
            "grid_auto_flow": null,
            "grid_auto_rows": null,
            "grid_column": null,
            "grid_gap": null,
            "grid_row": null,
            "grid_template_areas": null,
            "grid_template_columns": null,
            "grid_template_rows": null,
            "height": null,
            "justify_content": null,
            "justify_items": null,
            "left": null,
            "margin": null,
            "max_height": null,
            "max_width": null,
            "min_height": null,
            "min_width": null,
            "object_fit": null,
            "object_position": null,
            "order": null,
            "overflow": null,
            "overflow_x": null,
            "overflow_y": null,
            "padding": null,
            "right": null,
            "top": null,
            "visibility": null,
            "width": null
          }
        },
        "74b3a3fa13694037b8e966e77610d45d": {
          "model_module": "@jupyter-widgets/controls",
          "model_name": "DescriptionStyleModel",
          "model_module_version": "1.5.0",
          "state": {
            "_model_module": "@jupyter-widgets/controls",
            "_model_module_version": "1.5.0",
            "_model_name": "DescriptionStyleModel",
            "_view_count": null,
            "_view_module": "@jupyter-widgets/base",
            "_view_module_version": "1.2.0",
            "_view_name": "StyleView",
            "description_width": ""
          }
        },
        "c5c23fb43c604cee8db2d3bea8503d21": {
          "model_module": "@jupyter-widgets/base",
          "model_name": "LayoutModel",
          "model_module_version": "1.2.0",
          "state": {
            "_model_module": "@jupyter-widgets/base",
            "_model_module_version": "1.2.0",
            "_model_name": "LayoutModel",
            "_view_count": null,
            "_view_module": "@jupyter-widgets/base",
            "_view_module_version": "1.2.0",
            "_view_name": "LayoutView",
            "align_content": null,
            "align_items": null,
            "align_self": null,
            "border": null,
            "bottom": null,
            "display": null,
            "flex": null,
            "flex_flow": null,
            "grid_area": null,
            "grid_auto_columns": null,
            "grid_auto_flow": null,
            "grid_auto_rows": null,
            "grid_column": null,
            "grid_gap": null,
            "grid_row": null,
            "grid_template_areas": null,
            "grid_template_columns": null,
            "grid_template_rows": null,
            "height": null,
            "justify_content": null,
            "justify_items": null,
            "left": null,
            "margin": null,
            "max_height": null,
            "max_width": null,
            "min_height": null,
            "min_width": null,
            "object_fit": null,
            "object_position": null,
            "order": null,
            "overflow": null,
            "overflow_x": null,
            "overflow_y": null,
            "padding": null,
            "right": null,
            "top": null,
            "visibility": null,
            "width": null
          }
        },
        "89175d04e8e04988baa89185260b3d44": {
          "model_module": "@jupyter-widgets/controls",
          "model_name": "ProgressStyleModel",
          "model_module_version": "1.5.0",
          "state": {
            "_model_module": "@jupyter-widgets/controls",
            "_model_module_version": "1.5.0",
            "_model_name": "ProgressStyleModel",
            "_view_count": null,
            "_view_module": "@jupyter-widgets/base",
            "_view_module_version": "1.2.0",
            "_view_name": "StyleView",
            "bar_color": null,
            "description_width": ""
          }
        },
        "7a9eea28e6684234b0fe03304bae9f57": {
          "model_module": "@jupyter-widgets/base",
          "model_name": "LayoutModel",
          "model_module_version": "1.2.0",
          "state": {
            "_model_module": "@jupyter-widgets/base",
            "_model_module_version": "1.2.0",
            "_model_name": "LayoutModel",
            "_view_count": null,
            "_view_module": "@jupyter-widgets/base",
            "_view_module_version": "1.2.0",
            "_view_name": "LayoutView",
            "align_content": null,
            "align_items": null,
            "align_self": null,
            "border": null,
            "bottom": null,
            "display": null,
            "flex": null,
            "flex_flow": null,
            "grid_area": null,
            "grid_auto_columns": null,
            "grid_auto_flow": null,
            "grid_auto_rows": null,
            "grid_column": null,
            "grid_gap": null,
            "grid_row": null,
            "grid_template_areas": null,
            "grid_template_columns": null,
            "grid_template_rows": null,
            "height": null,
            "justify_content": null,
            "justify_items": null,
            "left": null,
            "margin": null,
            "max_height": null,
            "max_width": null,
            "min_height": null,
            "min_width": null,
            "object_fit": null,
            "object_position": null,
            "order": null,
            "overflow": null,
            "overflow_x": null,
            "overflow_y": null,
            "padding": null,
            "right": null,
            "top": null,
            "visibility": null,
            "width": null
          }
        },
        "4fd07f740c1f4e41b0a80018b45f4d7e": {
          "model_module": "@jupyter-widgets/controls",
          "model_name": "DescriptionStyleModel",
          "model_module_version": "1.5.0",
          "state": {
            "_model_module": "@jupyter-widgets/controls",
            "_model_module_version": "1.5.0",
            "_model_name": "DescriptionStyleModel",
            "_view_count": null,
            "_view_module": "@jupyter-widgets/base",
            "_view_module_version": "1.2.0",
            "_view_name": "StyleView",
            "description_width": ""
          }
        },
        "0fcc3402ad334634a156d933cd403c2f": {
          "model_module": "@jupyter-widgets/controls",
          "model_name": "HBoxModel",
          "model_module_version": "1.5.0",
          "state": {
            "_dom_classes": [],
            "_model_module": "@jupyter-widgets/controls",
            "_model_module_version": "1.5.0",
            "_model_name": "HBoxModel",
            "_view_count": null,
            "_view_module": "@jupyter-widgets/controls",
            "_view_module_version": "1.5.0",
            "_view_name": "HBoxView",
            "box_style": "",
            "children": [
              "IPY_MODEL_1968f4c63cf94aaaaf081dcbc7c59bdd",
              "IPY_MODEL_41a5110b463f4a1997d537d935e34a9c",
              "IPY_MODEL_cff1315d85f447759f304b89be6a5140"
            ],
            "layout": "IPY_MODEL_809d2647c2984b05b214e273e687b01c"
          }
        },
        "1968f4c63cf94aaaaf081dcbc7c59bdd": {
          "model_module": "@jupyter-widgets/controls",
          "model_name": "HTMLModel",
          "model_module_version": "1.5.0",
          "state": {
            "_dom_classes": [],
            "_model_module": "@jupyter-widgets/controls",
            "_model_module_version": "1.5.0",
            "_model_name": "HTMLModel",
            "_view_count": null,
            "_view_module": "@jupyter-widgets/controls",
            "_view_module_version": "1.5.0",
            "_view_name": "HTMLView",
            "description": "",
            "description_tooltip": null,
            "layout": "IPY_MODEL_176295461e2d497f8d6325fcebb3c9bd",
            "placeholder": "​",
            "style": "IPY_MODEL_6184398e4ff64735bd5828f71cf096bd",
            "value": "100%"
          }
        },
        "41a5110b463f4a1997d537d935e34a9c": {
          "model_module": "@jupyter-widgets/controls",
          "model_name": "FloatProgressModel",
          "model_module_version": "1.5.0",
          "state": {
            "_dom_classes": [],
            "_model_module": "@jupyter-widgets/controls",
            "_model_module_version": "1.5.0",
            "_model_name": "FloatProgressModel",
            "_view_count": null,
            "_view_module": "@jupyter-widgets/controls",
            "_view_module_version": "1.5.0",
            "_view_name": "ProgressView",
            "bar_style": "success",
            "description": "",
            "description_tooltip": null,
            "layout": "IPY_MODEL_e643c65ea986469689fc8e2087b7d031",
            "max": 11,
            "min": 0,
            "orientation": "horizontal",
            "style": "IPY_MODEL_fa990fd30d8140f789ea7d2b622950d0",
            "value": 11
          }
        },
        "cff1315d85f447759f304b89be6a5140": {
          "model_module": "@jupyter-widgets/controls",
          "model_name": "HTMLModel",
          "model_module_version": "1.5.0",
          "state": {
            "_dom_classes": [],
            "_model_module": "@jupyter-widgets/controls",
            "_model_module_version": "1.5.0",
            "_model_name": "HTMLModel",
            "_view_count": null,
            "_view_module": "@jupyter-widgets/controls",
            "_view_module_version": "1.5.0",
            "_view_name": "HTMLView",
            "description": "",
            "description_tooltip": null,
            "layout": "IPY_MODEL_76c67639319e4ac3972463713ff778f1",
            "placeholder": "​",
            "style": "IPY_MODEL_6e33d43110e54e9fb64fcd4e7ad61cc7",
            "value": " 11/11 [00:05&lt;00:00,  1.18it/s]"
          }
        },
        "809d2647c2984b05b214e273e687b01c": {
          "model_module": "@jupyter-widgets/base",
          "model_name": "LayoutModel",
          "model_module_version": "1.2.0",
          "state": {
            "_model_module": "@jupyter-widgets/base",
            "_model_module_version": "1.2.0",
            "_model_name": "LayoutModel",
            "_view_count": null,
            "_view_module": "@jupyter-widgets/base",
            "_view_module_version": "1.2.0",
            "_view_name": "LayoutView",
            "align_content": null,
            "align_items": null,
            "align_self": null,
            "border": null,
            "bottom": null,
            "display": null,
            "flex": null,
            "flex_flow": null,
            "grid_area": null,
            "grid_auto_columns": null,
            "grid_auto_flow": null,
            "grid_auto_rows": null,
            "grid_column": null,
            "grid_gap": null,
            "grid_row": null,
            "grid_template_areas": null,
            "grid_template_columns": null,
            "grid_template_rows": null,
            "height": null,
            "justify_content": null,
            "justify_items": null,
            "left": null,
            "margin": null,
            "max_height": null,
            "max_width": null,
            "min_height": null,
            "min_width": null,
            "object_fit": null,
            "object_position": null,
            "order": null,
            "overflow": null,
            "overflow_x": null,
            "overflow_y": null,
            "padding": null,
            "right": null,
            "top": null,
            "visibility": null,
            "width": null
          }
        },
        "176295461e2d497f8d6325fcebb3c9bd": {
          "model_module": "@jupyter-widgets/base",
          "model_name": "LayoutModel",
          "model_module_version": "1.2.0",
          "state": {
            "_model_module": "@jupyter-widgets/base",
            "_model_module_version": "1.2.0",
            "_model_name": "LayoutModel",
            "_view_count": null,
            "_view_module": "@jupyter-widgets/base",
            "_view_module_version": "1.2.0",
            "_view_name": "LayoutView",
            "align_content": null,
            "align_items": null,
            "align_self": null,
            "border": null,
            "bottom": null,
            "display": null,
            "flex": null,
            "flex_flow": null,
            "grid_area": null,
            "grid_auto_columns": null,
            "grid_auto_flow": null,
            "grid_auto_rows": null,
            "grid_column": null,
            "grid_gap": null,
            "grid_row": null,
            "grid_template_areas": null,
            "grid_template_columns": null,
            "grid_template_rows": null,
            "height": null,
            "justify_content": null,
            "justify_items": null,
            "left": null,
            "margin": null,
            "max_height": null,
            "max_width": null,
            "min_height": null,
            "min_width": null,
            "object_fit": null,
            "object_position": null,
            "order": null,
            "overflow": null,
            "overflow_x": null,
            "overflow_y": null,
            "padding": null,
            "right": null,
            "top": null,
            "visibility": null,
            "width": null
          }
        },
        "6184398e4ff64735bd5828f71cf096bd": {
          "model_module": "@jupyter-widgets/controls",
          "model_name": "DescriptionStyleModel",
          "model_module_version": "1.5.0",
          "state": {
            "_model_module": "@jupyter-widgets/controls",
            "_model_module_version": "1.5.0",
            "_model_name": "DescriptionStyleModel",
            "_view_count": null,
            "_view_module": "@jupyter-widgets/base",
            "_view_module_version": "1.2.0",
            "_view_name": "StyleView",
            "description_width": ""
          }
        },
        "e643c65ea986469689fc8e2087b7d031": {
          "model_module": "@jupyter-widgets/base",
          "model_name": "LayoutModel",
          "model_module_version": "1.2.0",
          "state": {
            "_model_module": "@jupyter-widgets/base",
            "_model_module_version": "1.2.0",
            "_model_name": "LayoutModel",
            "_view_count": null,
            "_view_module": "@jupyter-widgets/base",
            "_view_module_version": "1.2.0",
            "_view_name": "LayoutView",
            "align_content": null,
            "align_items": null,
            "align_self": null,
            "border": null,
            "bottom": null,
            "display": null,
            "flex": null,
            "flex_flow": null,
            "grid_area": null,
            "grid_auto_columns": null,
            "grid_auto_flow": null,
            "grid_auto_rows": null,
            "grid_column": null,
            "grid_gap": null,
            "grid_row": null,
            "grid_template_areas": null,
            "grid_template_columns": null,
            "grid_template_rows": null,
            "height": null,
            "justify_content": null,
            "justify_items": null,
            "left": null,
            "margin": null,
            "max_height": null,
            "max_width": null,
            "min_height": null,
            "min_width": null,
            "object_fit": null,
            "object_position": null,
            "order": null,
            "overflow": null,
            "overflow_x": null,
            "overflow_y": null,
            "padding": null,
            "right": null,
            "top": null,
            "visibility": null,
            "width": null
          }
        },
        "fa990fd30d8140f789ea7d2b622950d0": {
          "model_module": "@jupyter-widgets/controls",
          "model_name": "ProgressStyleModel",
          "model_module_version": "1.5.0",
          "state": {
            "_model_module": "@jupyter-widgets/controls",
            "_model_module_version": "1.5.0",
            "_model_name": "ProgressStyleModel",
            "_view_count": null,
            "_view_module": "@jupyter-widgets/base",
            "_view_module_version": "1.2.0",
            "_view_name": "StyleView",
            "bar_color": null,
            "description_width": ""
          }
        },
        "76c67639319e4ac3972463713ff778f1": {
          "model_module": "@jupyter-widgets/base",
          "model_name": "LayoutModel",
          "model_module_version": "1.2.0",
          "state": {
            "_model_module": "@jupyter-widgets/base",
            "_model_module_version": "1.2.0",
            "_model_name": "LayoutModel",
            "_view_count": null,
            "_view_module": "@jupyter-widgets/base",
            "_view_module_version": "1.2.0",
            "_view_name": "LayoutView",
            "align_content": null,
            "align_items": null,
            "align_self": null,
            "border": null,
            "bottom": null,
            "display": null,
            "flex": null,
            "flex_flow": null,
            "grid_area": null,
            "grid_auto_columns": null,
            "grid_auto_flow": null,
            "grid_auto_rows": null,
            "grid_column": null,
            "grid_gap": null,
            "grid_row": null,
            "grid_template_areas": null,
            "grid_template_columns": null,
            "grid_template_rows": null,
            "height": null,
            "justify_content": null,
            "justify_items": null,
            "left": null,
            "margin": null,
            "max_height": null,
            "max_width": null,
            "min_height": null,
            "min_width": null,
            "object_fit": null,
            "object_position": null,
            "order": null,
            "overflow": null,
            "overflow_x": null,
            "overflow_y": null,
            "padding": null,
            "right": null,
            "top": null,
            "visibility": null,
            "width": null
          }
        },
        "6e33d43110e54e9fb64fcd4e7ad61cc7": {
          "model_module": "@jupyter-widgets/controls",
          "model_name": "DescriptionStyleModel",
          "model_module_version": "1.5.0",
          "state": {
            "_model_module": "@jupyter-widgets/controls",
            "_model_module_version": "1.5.0",
            "_model_name": "DescriptionStyleModel",
            "_view_count": null,
            "_view_module": "@jupyter-widgets/base",
            "_view_module_version": "1.2.0",
            "_view_name": "StyleView",
            "description_width": ""
          }
        }
      }
    }
  },
  "nbformat": 4,
  "nbformat_minor": 0
}