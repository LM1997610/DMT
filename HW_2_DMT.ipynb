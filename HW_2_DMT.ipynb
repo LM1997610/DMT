{
  "cells": [
    {
      "cell_type": "markdown",
      "metadata": {
        "id": "view-in-github",
        "colab_type": "text"
      },
      "source": [
        "<a href=\"https://colab.research.google.com/github/LM1997610/Data-Mining/blob/main/HW_2_DMT.ipynb\" target=\"_parent\"><img src=\"https://colab.research.google.com/assets/colab-badge.svg\" alt=\"Open In Colab\"/></a>"
      ]
    },
    {
      "cell_type": "markdown",
      "metadata": {
        "id": "vtqmMBBFM5VB",
        "tags": [
          "remove_cell"
        ]
      },
      "source": [
        "\n",
        "# DMT 2023 - Homework 2"
      ]
    },
    {
      "cell_type": "markdown",
      "metadata": {
        "id": "ZdyeR5JdyCki"
      },
      "source": [
        "## Group composition:\n",
        "\n",
        "<br>\n",
        "\n",
        "------------YOUR TEXT STARTS HERE------------\n",
        "\n",
        "<br>\n",
        "\n",
        "- Mazzucco, Luca, 1997610 \\\n",
        "- Zilviano, Paolo, 1916518"
      ]
    },
    {
      "cell_type": "markdown",
      "metadata": {
        "id": "Qa4VRPyugoQC"
      },
      "source": [
        "<div style=\"page-break-after: always; visibility: hidden\"> \n",
        "\\pagebreak\n",
        "</div>"
      ]
    },
    {
      "cell_type": "markdown",
      "metadata": {
        "id": "3ltMqfS1ph7q"
      },
      "source": [
        "## Homework 2\n",
        "The homework consists of two parts:\n",
        "\n",
        "  1. PageRank\n",
        "  \n",
        "  2. Recommendation System\n",
        "\n",
        "> Ensure that the notebook can be faithfully reproduced by anyone (hint: pseudo random number generation).\n",
        "\n",
        "> If you need to set a random seed, set it to `24`."
      ]
    },
    {
      "cell_type": "markdown",
      "metadata": {
        "id": "KCoIbBZcrYRH"
      },
      "source": [
        "# Part 1\n",
        "In this part of the homework, you have to deal with the PageRank algorithm."
      ]
    },
    {
      "cell_type": "markdown",
      "metadata": {
        "id": "nBCzTi5cbLtN",
        "tags": [
          "remove_cell"
        ]
      },
      "source": [
        "Import **ALL** the Python packages that you need for Part 1."
      ]
    },
    {
      "cell_type": "code",
      "execution_count": null,
      "metadata": {
        "id": "GTVP9OLGrYRN",
        "tags": [
          "remove_output"
        ]
      },
      "outputs": [],
      "source": [
        "#REMOVE_OUTPUT#\n",
        "%%capture\n",
        "!pip install --upgrade --no-cache-dir gdown\n",
        "!pip install scikit-network\n",
        "\n",
        "#YOUR CODE STARTS HERE#\n",
        "\n",
        "import numpy as np; import pandas as pd\n",
        "from bs4 import BeautifulSoup\n",
        "from sknetwork.utils import get_neighbors\n",
        "from sknetwork.ranking import PageRank\n",
        "from tqdm import tqdm; from tabulate import tabulate\n",
        "\n",
        "#YOUR CODE ENDS HERE#\n",
        "#THIS IS LINE 15#"
      ]
    },
    {
      "cell_type": "markdown",
      "metadata": {
        "id": "qyULCTYnrYRO"
      },
      "source": [
        "## Part 1.1\n",
        "The data you need to process comes from the book *Le Morte D'Arthur* by Thomas Malory.\n",
        "The dataset you need to build should be an unweighted and undirected graph, where nodes represent characters from the book and an edge connects two characters in the graph if their names appeared at least one time in the same chapter.\n",
        "\n",
        "Using this dataset, you must then run various PageRank algorithms."
      ]
    },
    {
      "cell_type": "markdown",
      "metadata": {
        "id": "0iEH-lmorp00"
      },
      "source": [
        "### 1.1.1\n",
        "Download the data from the Drive link"
      ]
    },
    {
      "cell_type": "code",
      "execution_count": null,
      "metadata": {
        "colab": {
          "base_uri": "https://localhost:8080/"
        },
        "id": "KCOOAftWRE5X",
        "outputId": "ea6afa3b-3f19-4596-ab81-9dd3fd64c950",
        "tags": [
          "remove_output"
        ]
      },
      "outputs": [
        {
          "output_type": "stream",
          "name": "stdout",
          "text": [
            "Downloading...\n",
            "From: https://drive.google.com/uc?id=1zHgvidy9FvhZvE68S0mXWkoF-hHMpiUL\n",
            "To: /content/The Project Gutenberg eBook of Le Morte D’Arthur, Volume I (of II), by Thomas Malory.html\n",
            "100% 964k/964k [00:00<00:00, 537MB/s]\n",
            "Downloading...\n",
            "From: https://drive.google.com/uc?id=1VjpTkFcbfaLIi4TXVafokW9e_bvGnfut\n",
            "To: /content/The Project Gutenberg eBook of Le Morte D’Arthur, Volume II (of II), by Thomas Malory.html\n",
            "100% 1.10M/1.10M [00:00<00:00, 530MB/s]\n"
          ]
        }
      ],
      "source": [
        "#REMOVE_OUTPUT#\n",
        "!gdown 1zHgvidy9FvhZvE68S0mXWkoF-hHMpiUL\n",
        "!gdown 1VjpTkFcbfaLIi4TXVafokW9e_bvGnfut"
      ]
    },
    {
      "cell_type": "markdown",
      "metadata": {
        "id": "r36aVr85h3eM"
      },
      "source": [
        "### 1.1.2\n",
        "Parse the HTML. **Part** of code already provided: follow the comments to complete the code.\n"
      ]
    },
    {
      "cell_type": "code",
      "execution_count": null,
      "metadata": {
        "id": "ESwOaHC5Ix4x"
      },
      "outputs": [],
      "source": [
        "with open('The Project Gutenberg eBook of Le Morte D’Arthur, Volume I (of II), by Thomas Malory.html') as fp:\n",
        "    vol1 = BeautifulSoup(fp, 'html.parser')\n",
        "with open('The Project Gutenberg eBook of Le Morte D’Arthur, Volume II (of II), by Thomas Malory.html') as fp:\n",
        "    vol2 = BeautifulSoup(fp, 'html.parser')\n",
        "\n",
        "def clean_text(txt):\n",
        "    words_to_put_space_before = [\".\",\",\",\";\",\":\",\"’\",\"'\"]\n",
        "    words_to_lowercase = [\"First\",\"How\",\"Some\",\"Yet\",\"Of\",\"A\",\"The\",\"What\",\"Fifth\"]\n",
        "    \n",
        "    app = txt.replace(\"\\n\",\" \")\n",
        "    for word in words_to_put_space_before:\n",
        "        app = app.replace(word,\" \"+word)\n",
        "    for word in words_to_lowercase:\n",
        "        app = app.replace(word+\" \",word.lower()+\" \")\n",
        "    return app.strip()\n",
        "\n",
        "def parse_html(soup):\n",
        "    titles = []\n",
        "    texts = []\n",
        "    for chapter in soup.find_all(\"h3\"):\n",
        "        chapter_title = chapter.text\n",
        "        if \"CHAPTER\" in chapter_title:\n",
        "            chapter_title = clean_text(\"\".join(chapter_title.split(\".\")[1:]))\n",
        "            titles.append(chapter_title)\n",
        "            \n",
        "            chapter_text = [p.text for p in chapter.findNextSiblings(\"p\")]\n",
        "            chapter_text = clean_text(\" \".join(chapter_text))\n",
        "            texts.append(chapter_text)\n",
        "    return titles, texts"
      ]
    },
    {
      "cell_type": "code",
      "execution_count": null,
      "metadata": {
        "colab": {
          "base_uri": "https://localhost:8080/"
        },
        "id": "nUfgBVp4h3eR",
        "outputId": "6643981a-5a0c-4814-d9ae-e81ab1750aaa"
      },
      "outputs": [
        {
          "output_type": "stream",
          "name": "stdout",
          "text": [
            "\n",
            "df.shape: (503, 3)\n"
          ]
        }
      ],
      "source": [
        "#YOUR CODE STARTS HERE#\n",
        "#Extract all the chapters' titles and texts from the two volumes\n",
        "\n",
        "titles_1, texts_1 = parse_html(vol1)\n",
        "titles_2, texts_2 = parse_html(vol2)\n",
        "\n",
        "\n",
        "num_doc = [str(i).zfill(1) for i in range(1,len(titles_1 + titles_2)+1)]\n",
        "\n",
        "\n",
        "\n",
        "#Transform the list into a pandas DataFrame.\n",
        "\n",
        "df = pd.DataFrame(zip(num_doc, titles_1+titles_2, texts_1+texts_2), \n",
        "                  columns=[\"docno\", 'Titles', 'Texts'])\n",
        "\n",
        "print(\"\\ndf.shape:\", df.shape)\n",
        "\n",
        "#YOUR CODE ENDS HERE#\n",
        "#THIS IS LINE 20#"
      ]
    },
    {
      "cell_type": "markdown",
      "metadata": {
        "id": "Z_AiZBi0OyLZ",
        "tags": [
          "remove_cell"
        ]
      },
      "source": [
        "Print the first 8 rows of the DataFrame.\n",
        "\n",
        "[comment]: <> (#SHOW_CELL#)"
      ]
    },
    {
      "cell_type": "code",
      "execution_count": null,
      "metadata": {
        "colab": {
          "base_uri": "https://localhost:8080/"
        },
        "id": "Tz1wzYInOyLc",
        "outputId": "77ffd848-5a9d-424c-d306-2617fd29bc47"
      },
      "outputs": [
        {
          "output_type": "stream",
          "name": "stdout",
          "text": [
            "\n",
            "               Titles                        Texts\n",
            "--  ----------------------------  ----------------------------\n",
            "0   first , how Uther Pendrag...  It befell in the days of ...\n",
            "1   how Uther Pendragon made ...  Then Ulfius was glad , an...\n",
            "2   of the birth of King Arth...  Then Queen Igraine waxed ...\n",
            "3   of the death of King Uthe...  Then within two years Kin...\n",
            "4   how Arthur was chosen kin...  Then stood the realm in g...\n",
            "5   how King Arthur pulled ou...  Now assay , said Sir Ecto...\n",
            "6   how King Arthur was crown...  And at the feast of Pente...\n",
            "7   how King Arthur held in W...  Then the king removed int...\n",
            "\n"
          ]
        }
      ],
      "source": [
        "#YOUR CODE STARTS HERE#\n",
        "\n",
        "\n",
        "\n",
        "a_table = df[[\"Titles\", \"Texts\"]].apply(lambda x: x.str[:25]+\"...\").head(8)\n",
        "\n",
        "print()\n",
        "print(tabulate(a_table, headers='keys', tablefmt = \"heavy_outline\", numalign='center', stralign=\"center\"))\n",
        "print()\n",
        "\n",
        "\n",
        "\n",
        "#YOUR CODE ENDS HERE#\n",
        "#THIS IS LINE 10#"
      ]
    },
    {
      "cell_type": "markdown",
      "metadata": {
        "id": "Mv0it5bwkDRJ"
      },
      "source": [
        "<div style=\"page-break-after: always; visibility: hidden\">\n",
        "\\pagebreak\n",
        "</div>"
      ]
    },
    {
      "cell_type": "markdown",
      "metadata": {
        "id": "UhHqk6QzOuoO"
      },
      "source": [
        "### 1.1.3\n",
        "Extract character's names from the **titles** only. **Part** of code already provided: follow the comments to complete the code."
      ]
    },
    {
      "cell_type": "code",
      "execution_count": null,
      "metadata": {
        "id": "rptB3l7XOuoi"
      },
      "outputs": [],
      "source": [
        "all_characters = set()\n",
        "def extract_character_names_from_string(string_to_parse):\n",
        "    special_tokens = [\"of\",\"the\",\"le\",\"a\",\"de\"]\n",
        "\n",
        "    remember = \"\"\n",
        "    last_is_special_token = False\n",
        "\n",
        "    tokens = string_to_parse.split(\" \")\n",
        "    characters_found = set()\n",
        "    for i,word in enumerate(tokens):\n",
        "        if word[0].isupper() or (remember!=\"\" and word in special_tokens):\n",
        "            #word = word.replace(\"'s\",\"\").replace(\"’s\",\"\")\n",
        "            last_is_special_token = False\n",
        "            if remember!=\"\":\n",
        "                if word in special_tokens:\n",
        "                    last_is_special_token = True\n",
        "                remember = remember+\" \"+word\n",
        "            else: remember = word\n",
        "        else:\n",
        "            if remember!=\"\":\n",
        "                if last_is_special_token:\n",
        "                    for tok in special_tokens:\n",
        "                        remember = remember.replace(\" \"+tok,\"\")\n",
        "                characters_found.add(remember)\n",
        "            remember = \"\"\n",
        "            last_is_special_token = False\n",
        "\n",
        "    return characters_found"
      ]
    },
    {
      "cell_type": "code",
      "execution_count": null,
      "metadata": {
        "colab": {
          "base_uri": "https://localhost:8080/"
        },
        "id": "jGBt1RLeOuok",
        "outputId": "af3c1984-17dd-4988-e772-d840204d8340"
      },
      "outputs": [
        {
          "output_type": "stream",
          "name": "stdout",
          "text": [
            " All_characters:  {'Lanceor', 'Bagdemagus', 'Romans', 'Anglides', 'Castle of Maidens', 'Sir Anguish', 'Sir Sagramore le Desirous', 'Alisander', 'Our Lord', 'Sir Galahad', 'Ireland', 'Sir Tristram', 'Sir Meliagaunce', 'King Anguish of Ireland', 'Archbishop of Canterbury', 'Saracens', 'Bragwaine', 'Sir Pedivere', 'King Arthur', 'Melias', 'Fair Maid of Astolat', 'King Pelleas', 'Uther Pendragon', 'Palamides', 'Dame Brisen', 'Almesbury', 'Elias', 'King Solomon', 'Sir Pelleas', 'Sir Bleoberis', 'Leodegrance', 'Ettard', 'Sir Galihodin', 'Sir Colgrevance', 'Sir Lamorak de Galis', 'Sir Lionel', 'Sir Nabon', 'Sir Gaheris', 'La Beale Isoud', 'Holy Sangreal', 'Sir Urre', 'Castle Lonazep', 'Lucius', 'Sir Beaumains', 'King Pellam', 'Balan', 'Sir Turquine', 'Chapel Perilous', 'Guenever', 'Beale Pilgrim', 'Breuse Saunce Pité', 'Sir Galahalt', 'Sir Lancelot', 'Morgan', 'Sir Palomides', 'Constantine', 'Pentecost', 'Sir Persant of Inde', 'Elaine', 'Sir Launcelot', 'Sir Epinogris', 'France', 'Queen', 'Sir Breuse Saunce Pité', 'Epinogris', 'Sir Accolon', 'King', 'Gawaine', 'Alisander le Orphelin', 'Lionel', 'Castle of Pendragon', 'Sir Amant', 'Kehydius', 'Boudwin', 'May-day', 'Siege Perilous', 'King Pelles', 'Launcelot', 'Ban', 'Queen Morgan le Fay', 'Sir Gareth', 'Sir Mordred', 'King Mark of Cornwall', 'Questing Beast', 'Garlon', 'La Cote Male Taile', 'Sir Agravaine', 'Morgan le Fay', 'Gard', 'Sir Bors', 'Balin', 'King Bagdemagus', 'Sir Aglovale', 'Bors', 'Excalibur', 'Logris', 'Mordred', 'Joyous Gard', 'Sir Belliance', 'Sir Malgrin', 'Lambegus', 'Sir Lanceor', 'Alice', 'Queen Guenever', 'Joseph', 'Helin le Blank', 'Winchester', 'Knight of the Black Launds', 'Ulfius', 'Sir Kay', 'Lady Ettard', 'Surluse', 'Andred', 'Maledisant', 'Sir Meliagrance', 'King Leodegrance', 'Sir Dagonet', 'Lonazep', 'Astolat', 'Court', 'King Mark', 'King Ban', 'Knight of the Red Launds', 'Sir Suppinabiles', 'Cornwall', 'Sir Persant', 'Igraine', 'Tristram', 'Palomides', 'Lady Lionesse', 'Nero', 'Carlion', 'Gaheris', 'Isoud', 'Forest Perilous', 'Sir Mador', 'Sir Percivale', 'York', 'King of England', 'Sangreal', 'Maid of Astolat', 'Rome', 'Dagonet', 'Sir Frol', 'Sir Uwaine', 'Merlin', 'Wales', 'Tintagil', 'Dover', 'Sir Carados', 'Beaumains', 'King Howel of Brittany', 'Sir Marhaus', 'King Rience', 'Sir Tor', 'Sir Uriens', 'Feast of Pentecost', 'Sir Gawaine', 'Sir Lamorak', 'Sir Alisander', 'King Lot of Orkney', 'Queen Igraine', 'Pelles', 'Sir Accolon of Gaul', 'Percivale', 'God', 'Queen of Orkney', 'Sir Segwarides', 'Dinadan', 'Sir Tristram de Liones', 'Sir Dinadan', 'King of the Land of Cameliard', 'King Pellinore', 'Great Royalty', 'Joyous Isle', 'Dame Elaine', 'King Bors', 'Sir Blamore', 'Sir Berluse', 'David', 'Sir Sadok', 'Red Knight', 'King Mordrains', 'Maimed King', 'Sir Ector', 'Avoutres', 'Camelot', 'Lady of the Lake', 'Sir Elias', 'Sir Safere', 'King Brandegore', 'Beale Isoud', 'Maiden of the Lake', 'Corsabrin', 'Abbot', 'Humber', 'Almaine', 'Sir Archade', 'Sir Lavaine', 'Pope', 'Sir Breunor', 'Sir Bedivere', 'Galahad', 'Saracen', 'King Uriens', 'King Lot', 'England', 'Sir Brian', 'Sir Pervivale', 'Sir Bliant', 'Isle', 'Gouvernail', 'Accolon', 'Damosel of the Lake', 'Christmas', 'Queen Isoud', 'King Evelake', 'Carbonek', 'Solomon', 'Griflet', 'Knights of the Round Table', 'Round Table', 'Island', 'Arthur', 'Benwick'}\n"
          ]
        }
      ],
      "source": [
        "#YOUR CODE STARTS HERE#\n",
        "#Extract all characters' names\n",
        "\n",
        "all_characters = df[\"Titles\"].apply(extract_character_names_from_string)\n",
        "#all_characters = set([x for x in all_characters if x[-2:]!=\"'s\"])\n",
        "all_characters = set.union(*map(set, all_characters)) \n",
        "\n",
        "print(\" All_characters: \", all_characters, sep=\" \")\n",
        "\n",
        "#YOUR CODE ENDS HERE#\n",
        "#THIS IS LINE 15#"
      ]
    },
    {
      "cell_type": "markdown",
      "metadata": {
        "id": "K9wUUj1YOkvR",
        "tags": [
          "remove_cell"
        ]
      },
      "source": [
        "Print the names of all the kings (i.e. characters with `King` in their name).\n",
        "\n",
        "[comment]: <> (#SHOW_CELL#)"
      ]
    },
    {
      "cell_type": "code",
      "execution_count": null,
      "metadata": {
        "colab": {
          "base_uri": "https://localhost:8080/"
        },
        "id": "KtsMvXYEOkvX",
        "outputId": "f4cd5da5-034d-463d-c43b-0a3dd987fa07"
      },
      "outputs": [
        {
          "output_type": "stream",
          "name": "stdout",
          "text": [
            " Kings: {'King Leodegrance', 'King Mark', 'King Ban', 'King of the Land of Cameliard', 'King Pellinore', 'King Anguish of Ireland', 'King Bors', 'King', 'King Arthur', 'King Mordrains', 'Maimed King', 'King Pelleas', 'King Brandegore', 'King Solomon', 'King Pelles', 'King of England', 'King Mark of Cornwall', 'King Uriens', 'King Lot', 'King Bagdemagus', 'King Pellam', 'King Howel of Brittany', 'King Rience', 'King Evelake', 'King Lot of Orkney'}\n"
          ]
        }
      ],
      "source": [
        "#YOUR CODE STARTS HERE#\n",
        "\n",
        "kings = { person for person in  all_characters  if person.lower().find(\"king\") > -1  } \n",
        "\n",
        "print(\" Kings:\", kings, sep=\" \")\n",
        "\n",
        "\n",
        "\n",
        "#YOUR CODE ENDS HERE#\n",
        "#THIS IS LINE 10#"
      ]
    },
    {
      "cell_type": "markdown",
      "metadata": {
        "id": "3sjNVvgtOuom"
      },
      "source": [
        "<div style=\"page-break-after: always; visibility: hidden\">\n",
        "\\pagebreak\n",
        "</div>"
      ]
    },
    {
      "cell_type": "markdown",
      "metadata": {
        "id": "ONAtvco6RpKR"
      },
      "source": [
        "### 1.1.4\n",
        "Some names refer to the same characters (e.g. `'Arthur' = 'King Arthur'`). A function is provided to extract the disambiguation dictionary: each key represents a name and the value represents the true character name (e.g. `{'Arthur': 'King-Arthur', 'King': 'King-Arthur', 'Bedivere':'Sir Bedivere'}`). Disambiguation sets, i.e. a list with sets representing the multiple names of a single character, are also provided.\n",
        "\n",
        "> There may be some mistakes, but it does not matter (e.g. `'Cornwall' = 'King of Cornwall'`)"
      ]
    },
    {
      "cell_type": "code",
      "execution_count": null,
      "metadata": {
        "id": "9i6zrrZ1RpKS"
      },
      "outputs": [],
      "source": [
        "disambiguate_to = {}\n",
        "for x in all_characters:\n",
        "    for y in all_characters:\n",
        "        if x in y and x!=y:\n",
        "            if x in disambiguate_to:\n",
        "                previous_y = disambiguate_to[x]\n",
        "                if len(y)>len(previous_y): disambiguate_to[x] = y\n",
        "            else:\n",
        "                disambiguate_to[x] = y\n",
        "disambiguate_to.update({\"King\": \"King Arthur\",\n",
        "                        \"King of England\": \"King Arthur\",\n",
        "                        \"Queen\": \"Queen Guenever\",\n",
        "                        \"Sir Lancelot\": \"Sir Launcelot\"})\n",
        "\n",
        "disambiguate_sets = []\n",
        "for x,y in disambiguate_to.items():\n",
        "    inserted = False\n",
        "    for z in disambiguate_sets:\n",
        "        if x in z or y in z:\n",
        "            z.add(x); z.add(y)\n",
        "            inserted = True\n",
        "    if not inserted:\n",
        "        disambiguate_sets.append(set([x,y]))\n",
        "\n",
        "while True:\n",
        "    to_remove,to_add = [],[]\n",
        "    for i1,s1 in enumerate(disambiguate_sets[:-1]):\n",
        "        for s2 in disambiguate_sets[i1+1:]:\n",
        "            if len(s1.intersection(s2))>0:\n",
        "                to_remove.append(s1)\n",
        "                to_remove.append(s2)\n",
        "                to_add.append(s1.union(s2))\n",
        "    if len(to_add)>0:\n",
        "        for rm in to_remove:\n",
        "            disambiguate_sets.remove(rm)\n",
        "        for ad in to_add:\n",
        "            disambiguate_sets.append(ad)\n",
        "    else: break"
      ]
    },
    {
      "cell_type": "markdown",
      "metadata": {
        "id": "YI0jcVe6iUdl"
      },
      "source": [
        "### 1.1.5\n",
        "Prepare the dataset for the PageRank algorithm.\n",
        "\n",
        "> It should be a Pandas DataFrame with two fields: `character_1`, `character_2`.\n",
        "\n",
        "> Each row must contain two characters' names if they appear together in at least one chapter **text**.\n",
        "\n",
        "> The relevant characters are only those extracted in Part 1.1.3.\n",
        "\n",
        "> Keep in mind that some characters have alternative names, but they refer to the same character.\n",
        "\n",
        "> The dataset must not contain repetitions."
      ]
    },
    {
      "cell_type": "code",
      "execution_count": null,
      "metadata": {
        "colab": {
          "base_uri": "https://localhost:8080/"
        },
        "id": "XqtWEn1liUdo",
        "outputId": "dfd9e47a-8f79-4d3b-b4ca-e563925c6403"
      },
      "outputs": [
        {
          "output_type": "stream",
          "name": "stderr",
          "text": [
            "100%|██████████| 170/170 [01:05<00:00,  2.60it/s]\n"
          ]
        }
      ],
      "source": [
        "#YOUR CODE STARTS HERE#\n",
        "\n",
        "lista_p = list(all_characters)\n",
        "\n",
        "for i in range(len(lista_p)):\n",
        "  for j in disambiguate_to.keys():\n",
        "    if lista_p[i] == j:\n",
        "      lista_p[i] = disambiguate_to[j]\n",
        "\n",
        "all_characters = set(lista_p)\n",
        "alll, c1 , c2 = [] , [] , [] \n",
        "\n",
        "for i in tqdm(all_characters):\n",
        "  for j in all_characters:\n",
        "    if i != j:\n",
        "      ll = [i,j]\n",
        "      ll.sort()\n",
        "      for txt in texts_1 + texts_2:\n",
        "        if i in txt and j in txt and ll not in alll:\n",
        "          c1.append(i) , c2.append(j), alll.append(ll)\n",
        "\n",
        "couples_together_df = pd.DataFrame({ 'character_1': c1, 'character_2': c2}).drop_duplicates() \n",
        "\n",
        "#YOUR CODE ENDS HERE#\n",
        "#THIS IS LINE 30#"
      ]
    },
    {
      "cell_type": "markdown",
      "metadata": {
        "id": "B2oOw87iLVWP",
        "tags": [
          "remove_cell"
        ]
      },
      "source": [
        "Print the rows of the dataset where `Sir Lamorak` appears.\n",
        "\n",
        "[comment]: <> (#SHOW_CELL#)"
      ]
    },
    {
      "cell_type": "code",
      "execution_count": null,
      "metadata": {
        "colab": {
          "base_uri": "https://localhost:8080/"
        },
        "id": "lA67csHqLU2M",
        "outputId": "f6d49b3e-6b0a-4431-983a-29ab156bb9a1"
      },
      "outputs": [
        {
          "output_type": "stream",
          "name": "stdout",
          "text": [
            "\n",
            "shape: (76, 2)\n",
            "\n",
            "         character_1        character_2\n",
            "---  --------------------  --------------\n",
            "913  Sir Lamorak de Galis    Sir Lionel\n",
            "914  Sir Lamorak de Galis    Sir Nabon\n",
            "915  Sir Lamorak de Galis   Sir Gaheris\n",
            "916  Sir Lamorak de Galis  La Beale Isoud\n",
            "917  Sir Lamorak de Galis  Castle Lonazep\n",
            "\n"
          ]
        }
      ],
      "source": [
        "#YOUR CODE STARTS HERE#\n",
        "\n",
        "cdf1 = couples_together_df.loc[couples_together_df['character_1'] == 'Sir Lamorak de Galis']\n",
        "cdf2 = couples_together_df.loc[couples_together_df['character_2'] == 'Sir Lamorak de Galis']\n",
        "print(); print(\"shape:\", pd.concat([cdf1,cdf2]).shape); print()\n",
        "print(tabulate(pd.concat([cdf1,cdf2]).head(), headers='keys', tablefmt = \"heavy_outline\", \n",
        "               numalign='center', stralign=\"center\")); print()\n",
        "\n",
        "#YOUR CODE ENDS HERE#\n",
        "#THIS IS LINE 10#"
      ]
    },
    {
      "cell_type": "markdown",
      "metadata": {
        "id": "teUwdg-UkM3P"
      },
      "source": [
        "<div style=\"page-break-after: always; visibility: hidden\"> \n",
        "\\pagebreak\n",
        "</div>"
      ]
    },
    {
      "cell_type": "markdown",
      "metadata": {
        "id": "S3F_8xyFrYRR"
      },
      "source": [
        "### 1.1.6\n",
        "Print the sorted list of all character names (without duplicates) in ascending alphabetical order.\n",
        "\n",
        "Print also the length of this list."
      ]
    },
    {
      "cell_type": "code",
      "execution_count": null,
      "metadata": {
        "colab": {
          "base_uri": "https://localhost:8080/"
        },
        "id": "NZGG5YKHrYRR",
        "outputId": "87bc870b-4138-46a6-e021-374e39763948"
      },
      "outputs": [
        {
          "output_type": "stream",
          "name": "stdout",
          "text": [
            "Total number of characters: 170 \n",
            "\n",
            " All_characters:  ['Abbot', 'Alice', 'Alisander le Orphelin', 'Almaine', 'Almesbury', 'Andred', 'Anglides', 'Archbishop of Canterbury', 'Avoutres', 'Balan', 'Balin', 'Beale Pilgrim', 'Benwick', 'Boudwin', 'Bragwaine', 'Camelot', 'Carbonek', 'Carlion', 'Castle Lonazep', 'Castle of Maidens', 'Castle of Pendragon', 'Chapel Perilous', 'Christmas', 'Constantine', 'Corsabrin', 'Court', 'Dame Brisen', 'Dame Elaine', 'Damosel of the Lake', 'David', 'Dover', 'Excalibur', 'Fair Maid of Astolat', 'Feast of Pentecost', 'Forest Perilous', 'France', 'Garlon', 'God', 'Gouvernail', 'Great Royalty', 'Griflet', 'Helin le Blank', 'Holy Sangreal', 'Humber', 'Island', 'Joseph', 'Joyous Gard', 'Joyous Isle', 'Kehydius', 'King Anguish of Ireland', 'King Arthur', 'King Bagdemagus', 'King Ban', 'King Bors', 'King Brandegore', 'King Evelake', 'King Howel of Brittany', 'King Leodegrance', 'King Lot of Orkney', 'King Mark of Cornwall', 'King Mordrains', 'King Pellam', 'King Pelleas', 'King Pelles', 'King Pellinore', 'King Rience', 'King Solomon', 'King Uriens', 'King of the Land of Cameliard', 'Knight of the Black Launds', 'Knight of the Red Launds', 'Knights of the Round Table', 'La Beale Isoud', 'La Cote Male Taile', 'Lady Ettard', 'Lady Lionesse', 'Lady of the Lake', 'Lambegus', 'Logris', 'Lucius', 'Maiden of the Lake', 'Maimed King', 'Maledisant', 'May-day', 'Melias', 'Merlin', 'Nero', 'Our Lord', 'Palamides', 'Pope', 'Queen Guenever', 'Queen Igraine', 'Queen Isoud', 'Queen Morgan le Fay', 'Queen of Orkney', 'Questing Beast', 'Red Knight', 'Romans', 'Rome', 'Saracens', 'Siege Perilous', 'Sir Accolon of Gaul', 'Sir Aglovale', 'Sir Agravaine', 'Sir Alisander', 'Sir Amant', 'Sir Anguish', 'Sir Archade', 'Sir Beaumains', 'Sir Bedivere', 'Sir Belliance', 'Sir Berluse', 'Sir Blamore', 'Sir Bleoberis', 'Sir Bliant', 'Sir Bors', 'Sir Breunor', 'Sir Breuse Saunce Pité', 'Sir Brian', 'Sir Carados', 'Sir Colgrevance', 'Sir Dagonet', 'Sir Dinadan', 'Sir Ector', 'Sir Elias', 'Sir Epinogris', 'Sir Frol', 'Sir Gaheris', 'Sir Galahad', 'Sir Galahalt', 'Sir Galihodin', 'Sir Gareth', 'Sir Gawaine', 'Sir Kay', 'Sir Lamorak de Galis', 'Sir Lanceor', 'Sir Launcelot', 'Sir Lavaine', 'Sir Lionel', 'Sir Mador', 'Sir Malgrin', 'Sir Marhaus', 'Sir Meliagaunce', 'Sir Meliagrance', 'Sir Mordred', 'Sir Nabon', 'Sir Palomides', 'Sir Pedivere', 'Sir Pelleas', 'Sir Percivale', 'Sir Persant of Inde', 'Sir Pervivale', 'Sir Sadok', 'Sir Safere', 'Sir Sagramore le Desirous', 'Sir Segwarides', 'Sir Suppinabiles', 'Sir Tor', 'Sir Tristram de Liones', 'Sir Turquine', 'Sir Uriens', 'Sir Urre', 'Sir Uwaine', 'Surluse', 'Tintagil', 'Ulfius', 'Uther Pendragon', 'Wales', 'Winchester', 'York']\n"
          ]
        }
      ],
      "source": [
        "#YOUR CODE STARTS HERE#\n",
        "\n",
        "print('Total number of characters:', len(all_characters), \"\\n\")\n",
        "\n",
        "all_characters = list(all_characters)\n",
        "\n",
        "all_characters.sort()\n",
        "\n",
        "print(\" All_characters: \", all_characters, sep=\" \")\n",
        "\n",
        "\n",
        "\n",
        "#YOUR CODE ENDS HERE#\n",
        "#THIS IS LINE 20#"
      ]
    },
    {
      "cell_type": "markdown",
      "metadata": {
        "id": "g0atX8rvJ7kW"
      },
      "source": [
        "<div style=\"page-break-after: always; visibility: hidden\">\n",
        "\\pagebreak\n",
        "</div>"
      ]
    },
    {
      "cell_type": "markdown",
      "metadata": {
        "id": "ExTNrAB0rYRR"
      },
      "source": [
        "### 1.1.7\n",
        "Create the adjacency matrix for the graph, assigning to each character a node identifier equal to the index that the character name has in ascending alphabetical order (remember that the first element of a list in Python has index 0)."
      ]
    },
    {
      "cell_type": "code",
      "execution_count": null,
      "metadata": {
        "id": "Vqb_1UZwrYRS"
      },
      "outputs": [],
      "source": [
        "#YOUR CODE STARTS HERE#\n",
        "\n",
        "\n",
        "nodes = {}\n",
        "\n",
        "\n",
        "for i in range(len(all_characters)):\n",
        "\n",
        "  nodes[i] = all_characters[i]\n",
        "\n",
        "adj_matrix = np.zeros((len(all_characters), len(all_characters)))\n",
        "\n",
        "for i in range(len(c1)):\n",
        "\n",
        "    adj_matrix[all_characters.index(c1[i]), all_characters.index(c2[i])] += 1\n",
        "    adj_matrix[all_characters.index(c2[i]), all_characters.index(c1[i])] += 1\n",
        "\n",
        "\n",
        "#YOUR CODE ENDS HERE#\n",
        "#THIS IS LINE 20#"
      ]
    },
    {
      "cell_type": "markdown",
      "metadata": {
        "id": "lDMyeP1hrYRS"
      },
      "source": [
        "### 1.1.8\n",
        "Compute the PageRank vector for the obtained graph using a damping factor of 0.85."
      ]
    },
    {
      "cell_type": "code",
      "execution_count": null,
      "metadata": {
        "id": "FF4p5lEHrYRT"
      },
      "outputs": [],
      "source": [
        "#YOUR CODE STARTS HERE#\n",
        "\n",
        "\n",
        "pagerank = PageRank(damping_factor=0.85, solver=\"piteration\", n_iter=1000, tol=10**-6)\n",
        "pagerank_vector = pagerank.fit_transform(adj_matrix)\n",
        "\n",
        "\n",
        "\n",
        "#YOUR CODE ENDS HERE#\n",
        "#THIS IS LINE 20#"
      ]
    },
    {
      "cell_type": "markdown",
      "metadata": {
        "id": "_1ad6G92-mzf",
        "tags": [
          "remove_cell"
        ]
      },
      "source": [
        "Print the name and the PageRank score of the top-15 characters according to the PageRank score of their associated nodes.\n",
        "\n",
        "[comment]: <> (#SHOW_CELL#)"
      ]
    },
    {
      "cell_type": "code",
      "execution_count": null,
      "metadata": {
        "colab": {
          "base_uri": "https://localhost:8080/"
        },
        "id": "Uyg1PRkl-mzx",
        "outputId": "c3840043-3466-43ab-d65f-ba1883346e64"
      },
      "outputs": [
        {
          "output_type": "stream",
          "name": "stdout",
          "text": [
            "\n",
            "      character      PageRank score\n",
            "--  --------------  ----------------\n",
            "0    King Arthur       0.0208746\n",
            "1        God           0.0204287\n",
            "2   Sir Launcelot      0.0199087\n",
            "3    Sir Gawaine       0.0157327\n",
            "4   Queen Guenever     0.0143519\n",
            "5     Sir Ector        0.0133868\n",
            "6      Sir Bors        0.0131417\n",
            "7      Sir Kay         0.0130416\n",
            "8   Sir Palomides      0.0119588\n",
            "9       Wales          0.0119072\n",
            "10  La Beale Isoud      0.01182\n",
            "11  Sir Percivale      0.0112442\n",
            "12   Sir Gaheris       0.0107368\n",
            "13     Camelot         0.0106813\n",
            "14  Sir Bleoberis       0.010677\n",
            "\n"
          ]
        }
      ],
      "source": [
        "#YOUR CODE STARTS HERE#\n",
        "top_15_char, pagerank_scores = [] , []\n",
        "top_15 = sorted(enumerate(pagerank_vector), key=lambda x:x[1], reverse=True)[:15]\n",
        "for i, rank in top_15:\n",
        "  top_15_char.append(nodes[i])\n",
        "  pagerank_scores.append(rank)\n",
        "top_15_characters_df = pd.DataFrame({ 'character': top_15_char, 'PageRank score': pagerank_scores});print()\n",
        "print(tabulate(top_15_characters_df, headers='keys', tablefmt = \"heavy_outline\", numalign='center', stralign=\"center\")); print()\n",
        "#YOUR CODE ENDS HERE#\n",
        "#THIS IS LINE 10#"
      ]
    },
    {
      "cell_type": "markdown",
      "metadata": {
        "id": "VH8rT6dALR39"
      },
      "source": [
        "<div style=\"page-break-after: always; visibility: hidden\">\n",
        "\\pagebreak\n",
        "</div>"
      ]
    },
    {
      "cell_type": "markdown",
      "metadata": {
        "id": "DcxLpyBq-ygQ"
      },
      "source": [
        "### 1.1.9\n",
        "Compute the Topic-specific PageRank vector for the obtained graph using a damping factor of 0.75, by considering as topic the *Queens*: a character belongs to the topic if its name starts with the string `Queen`."
      ]
    },
    {
      "cell_type": "code",
      "execution_count": null,
      "metadata": {
        "id": "1cj7Gn9O-ygg"
      },
      "outputs": [],
      "source": [
        "#YOUR CODE STARTS HERE#\n",
        "top_related, queen_related = {} , set()\n",
        "for i in range(len(adj_matrix)):\n",
        "    top_related[nodes[i]] = set()\n",
        "    for j in range(len(adj_matrix[i])):\n",
        "        if adj_matrix[i][j] == 1:\n",
        "            top_related[nodes[i]].add(j)    \n",
        "for i in top_related:\n",
        "  if 'Queen' in i:\n",
        "    queen_related.update(top_related[i])\n",
        "pagerank_2 = PageRank(damping_factor=0.75, solver=\"piteration\", n_iter=1000, tol=10**-6)\n",
        "topic_as_map__page_id__landing_probability = {}\n",
        "set_of_page_ids_belonging_to_the_selected_topic = queen_related\n",
        "n = len(set_of_page_ids_belonging_to_the_selected_topic)\n",
        "for c_page_id_belonging_to_the_topic in set_of_page_ids_belonging_to_the_selected_topic:\n",
        "    topic_as_map__page_id__landing_probability[c_page_id_belonging_to_the_topic] = 1. / n\n",
        "pagerank_vector_2 = pagerank.fit_transform(adj_matrix, weights=topic_as_map__page_id__landing_probability)\n",
        "\n",
        "#YOUR CODE ENDS HERE#\n",
        "#THIS IS LINE 20#"
      ]
    },
    {
      "cell_type": "markdown",
      "metadata": {
        "id": "rW5fzpmE-ygj",
        "tags": [
          "remove_cell"
        ]
      },
      "source": [
        "Print the name and the PageRank score of the top-16 characters according to the Topic-specific PageRank score of their associated nodes.\n",
        "\n",
        "[comment]: <> (#SHOW_CELL#)"
      ]
    },
    {
      "cell_type": "code",
      "execution_count": null,
      "metadata": {
        "colab": {
          "base_uri": "https://localhost:8080/"
        },
        "id": "7oU4bVdNgjwB",
        "outputId": "79c11609-6885-4b26-a990-e3d35316c539"
      },
      "outputs": [
        {
          "output_type": "stream",
          "name": "stdout",
          "text": [
            "\n",
            "      character      PageRank score\n",
            "--  --------------  ----------------\n",
            "0    King Arthur       0.0211749\n",
            "1   Sir Launcelot      0.0210497\n",
            "2        God           0.0206672\n",
            "3   Queen Guenever     0.0168513\n",
            "4    Sir Gawaine       0.0167249\n",
            "5     Sir Ector        0.0149551\n",
            "6      Sir Bors        0.0146892\n",
            "7      Sir Kay         0.0143129\n",
            "8   Sir Palomides      0.0134301\n",
            "9   La Beale Isoud     0.0131346\n",
            "10      Wales          0.0130464\n",
            "11  Sir Percivale      0.0122893\n",
            "12  Sir Bleoberis      0.0122103\n",
            "13    Sir Lionel       0.0119693\n",
            "14   Sir Dinadan       0.0119031\n",
            "15   Sir Mordred        0.011883\n",
            "\n"
          ]
        }
      ],
      "source": [
        "#YOUR CODE STARTS HERE#\n",
        "top_16_char, pagerank_scores_2 = [] , []\n",
        "top_16 = sorted(enumerate(pagerank_vector_2), key=lambda x:x[1], reverse=True)[:16]\n",
        "for i, rank in top_16:\n",
        "  top_16_char.append(nodes[i])\n",
        "  pagerank_scores_2.append(rank)\n",
        "top_16_characters_df = pd.DataFrame({ 'character': top_16_char, 'PageRank score': pagerank_scores_2});print()\n",
        "print(tabulate(top_16_characters_df, headers='keys', tablefmt = \"heavy_outline\", numalign='center', stralign=\"center\")); print()\n",
        "#YOUR CODE ENDS HERE#\n",
        "#THIS IS LINE 10#"
      ]
    },
    {
      "cell_type": "markdown",
      "metadata": {
        "id": "mvLdBGfhgjwL"
      },
      "source": [
        "<div style=\"page-break-after: always; visibility: hidden\">\n",
        "\\pagebreak\n",
        "</div>"
      ]
    },
    {
      "cell_type": "markdown",
      "metadata": {
        "id": "hWVFUOX1-y4k"
      },
      "source": [
        "### 1.1.10\n",
        "Compute the Personalized PageRank vector for the obtained graph using a damping factor of 0.2 for each of the *Knights*: a character belongs to the topic if its name starts with the string `Sir`."
      ]
    },
    {
      "cell_type": "code",
      "execution_count": null,
      "metadata": {
        "id": "BTMKagGW-y4l"
      },
      "outputs": [],
      "source": [
        "#YOUR CODE STARTS HERE#\n",
        "\n",
        "def compute_personalized_pagerank_Knights(page_id):\n",
        "\n",
        "  pagerank = PageRank(damping_factor=0.2, solver=\"piteration\", n_iter=1000, tol=10 ** -6)\n",
        "  map__page_id__landing_probability = {}\n",
        "  map__page_id__landing_probability[page_id] = 1.\n",
        "  pagerank_vector = pagerank.fit_transform(adj_matrix, weights=map__page_id__landing_probability)\n",
        "\n",
        "  return pagerank_vector\n",
        "\n",
        "id_dict = {}\n",
        "for i in nodes.items():\n",
        "    for j in range(len(i)):\n",
        "        if j == 0:\n",
        "            id_dict[i[1]] = i[0] \n",
        "\n",
        "map__page_id__landing_probability = {}    \n",
        "sirs = {}\n",
        "for i in id_dict.keys():\n",
        "\n",
        "    if 'Sir' in i or 'Knight' in i:\n",
        "        sirs[i] = id_dict[i]\n",
        "\n",
        "knights_pprks = []\n",
        "for page_id in sirs.values():\n",
        "  knights_pprks.append(compute_personalized_pagerank_Knights(page_id))\n",
        "\n",
        "#YOUR CODE ENDS HERE#\n",
        "#THIS IS LINE 30#"
      ]
    },
    {
      "cell_type": "markdown",
      "metadata": {
        "id": "yh1B87tu-y4m",
        "tags": [
          "remove_cell"
        ]
      },
      "source": [
        "For each of the *Knights*, print the name and the PageRank score of the top-2 characters according to the Personalized PageRank score of their associated nodes.\n",
        "\n",
        "[comment]: <> (#SHOW_CELL#)"
      ]
    },
    {
      "cell_type": "code",
      "execution_count": null,
      "metadata": {
        "id": "A6tPqQ2F-y4m"
      },
      "outputs": [],
      "source": [
        "#YOUR CODE STARTS HERE#\n",
        "\n",
        "top_2_df = []\n",
        "for j in knights_pprks:\n",
        "\n",
        "  top_2_char, pagerank_scores_3 = [] , []\n",
        "  top_2 = sorted(enumerate(j), key=lambda x:x[1], reverse=True)[:2]\n",
        "\n",
        "  for i, rank in top_2:\n",
        "    top_2_char.append(nodes[i])\n",
        "    pagerank_scores_3.append(rank)\n",
        "\n",
        "  top_2_characters_df = pd.DataFrame({ 'character': top_2_char, 'PageRank score': pagerank_scores_3})\n",
        "  top_2_df.append(top_2_characters_df)\n",
        "\n",
        "#for i in top_2_df:\n",
        "#  display(i)\n",
        "\n",
        "#YOUR CODE ENDS HERE#\n",
        "#THIS IS LINE 20#"
      ]
    },
    {
      "cell_type": "markdown",
      "metadata": {
        "id": "THF-_RqVgluk"
      },
      "source": [
        "<div style=\"page-break-after: always; visibility: hidden\">\n",
        "\\pagebreak\n",
        "</div>"
      ]
    },
    {
      "cell_type": "markdown",
      "metadata": {
        "id": "ZTo5DrCICbkA"
      },
      "source": [
        "### 1.1.11\n",
        "Compute Topic-specific PageRank for the graph using a damping factor of 0.2. Imagine you are in an **online** context.\n",
        "\n",
        "The Topic is *Knights* (list of characters defined in step 1.1.7)"
      ]
    },
    {
      "cell_type": "code",
      "execution_count": null,
      "metadata": {
        "id": "7d4q8tO-CbkG"
      },
      "outputs": [],
      "source": [
        "#YOUR CODE STARTS HERE#\n",
        "list__map__page_id__PersonalizedPageRank_score = []\n",
        "for j in knights_pprks:\n",
        "  oc_dict = {}\n",
        "  for i in range(len(j)):\n",
        "    oc_dict[i] = j[i]\n",
        "  list__map__page_id__PersonalizedPageRank_score.append(oc_dict)\n",
        "\n",
        "aggregated_map__page_id__PersonalizedPageRank_score = {}\n",
        "length = len(list__map__page_id__PersonalizedPageRank_score)\n",
        "for map__page_id__PersonalizedPageRank_score in list__map__page_id__PersonalizedPageRank_score:\n",
        "    for page_id, PersonalizedPageRank_score in map__page_id__PersonalizedPageRank_score.items():\n",
        "        if page_id not in aggregated_map__page_id__PersonalizedPageRank_score:\n",
        "            aggregated_map__page_id__PersonalizedPageRank_score[page_id] = 0.\n",
        "        aggregated_map__page_id__PersonalizedPageRank_score[page_id] += PersonalizedPageRank_score / length\n",
        "\n",
        "lll = list(aggregated_map__page_id__PersonalizedPageRank_score.items())\n",
        "\n",
        "#YOUR CODE ENDS HERE#\n",
        "#THIS IS LINE 20#"
      ]
    },
    {
      "cell_type": "markdown",
      "metadata": {
        "id": "7O_C-Ig4CbkH",
        "tags": [
          "remove_cell"
        ]
      },
      "source": [
        "Print the name and the PageRank score of the top-8 characters according to the Topic-specific PageRank score of their associated nodes.\n",
        "\n",
        "[comment]: <> (#SHOW_CELL#)"
      ]
    },
    {
      "cell_type": "code",
      "execution_count": null,
      "metadata": {
        "colab": {
          "base_uri": "https://localhost:8080/"
        },
        "id": "IcLEsR48gmya",
        "outputId": "f0711595-97f2-41d4-83bf-1de418c75d7d"
      },
      "outputs": [
        {
          "output_type": "stream",
          "name": "stdout",
          "text": [
            "\n",
            "             character            PageRank score\n",
            "---  --------------------------  ----------------\n",
            "136        Sir Launcelot            0.0185228\n",
            "132         Sir Gawaine             0.0159042\n",
            "134     Sir Lamorak de Galis        0.0154105\n",
            "146        Sir Palomides            0.0154006\n",
            "160          Sir Uriens             0.0151515\n",
            "106         Sir Anguish             0.0151515\n",
            "140         Sir Malgrin             0.0151515\n",
            "69   Knight of the Black Launds     0.0151515\n",
            "\n"
          ]
        }
      ],
      "source": [
        "#YOUR CODE STARTS HERE#\n",
        "\n",
        "top_8_char, online_pagerank_scores = [nodes[lll[i][0]] for i in range(len(lll))] , [lll[j][1]for j in range(len(lll))]\n",
        "opr_df = pd.DataFrame({ 'character': top_8_char, 'PageRank score': online_pagerank_scores})\n",
        "top_8_characters_df = opr_df.sort_values('PageRank score', ascending = False).head(8)\n",
        "\n",
        "print()\n",
        "print(tabulate(top_8_characters_df, headers='keys', tablefmt = \"heavy_outline\", numalign='center', stralign=\"center\"))\n",
        "print()\n",
        "\n",
        "\n",
        "\n",
        "#YOUR CODE ENDS HERE#\n",
        "#THIS IS LINE 10#"
      ]
    },
    {
      "cell_type": "markdown",
      "metadata": {
        "id": "ld_qGbHtgmyf"
      },
      "source": [
        "<div style=\"page-break-after: always; visibility: hidden\">\n",
        "\\pagebreak\n",
        "</div>"
      ]
    },
    {
      "cell_type": "markdown",
      "metadata": {
        "id": "Cwbz2kzQrYRY"
      },
      "source": [
        "## Part 1.2"
      ]
    },
    {
      "cell_type": "markdown",
      "metadata": {
        "id": "KisyJ9B9rYRa"
      },
      "source": [
        "### 1.2.1\n",
        "Given a graph with $n$ nodes:\n",
        "* Node $A$ is connected to all the other nodes.\n",
        "* There are no other edges.\n",
        "\n",
        "What will be the PageRank of node $A$?\n",
        "\n",
        "Does the result depend on the damping factor or number of nodes $n$? If yes, please describe the value of PageRank as both vary.\n",
        "\n",
        "**Use at most 3 sentences.**"
      ]
    },
    {
      "cell_type": "markdown",
      "metadata": {
        "id": "pm3WzBBacQVP"
      },
      "source": [
        "----------YOUR TEXT STARTS HERE----------\n",
        "\n",
        "In this case node A will have a PageRank of 1.\n",
        "The PageRank value of node A does not depend on the damping factor or number of nodes n because it is connected to all other nodes in the graph.\n"
      ]
    },
    {
      "cell_type": "markdown",
      "metadata": {
        "id": "Rr8aqkH--YNQ"
      },
      "source": [
        "<div style=\"page-break-after: always; visibility: hidden\">\n",
        "\\pagebreak\n",
        "</div>"
      ]
    },
    {
      "cell_type": "markdown",
      "metadata": {
        "id": "XUikJP59ebgQ"
      },
      "source": [
        "# Part 2\n",
        "In this part of the homework, you have to improve the performance of various recommendation-systems by using non-trivial algorithms and also by performing the tuning of the hyper-parameters."
      ]
    },
    {
      "cell_type": "markdown",
      "metadata": {
        "id": "Nsh93bnylqAX",
        "tags": [
          "remove_cell"
        ]
      },
      "source": [
        "Import here **ALL** the Python packages that you need for Part 2."
      ]
    },
    {
      "cell_type": "code",
      "execution_count": null,
      "metadata": {
        "id": "puYHRVRFlwQk",
        "tags": [
          "remove_output"
        ]
      },
      "outputs": [],
      "source": [
        "#REMOVE_OUTPUT#\n",
        "#YOUR CODE STARTS HERE#\n",
        "%%capture\n",
        "!pip install scikit-surprise\n",
        "\n",
        "import multiprocessing\n",
        "\n",
        "import pandas as pd\n",
        "from tqdm import tqdm\n",
        "from tabulate import tabulate\n",
        "\n",
        "from surprise import *\n",
        "\n",
        "#YOUR CODE ENDS HERE#\n",
        "#THIS IS LINE 15#"
      ]
    },
    {
      "cell_type": "markdown",
      "metadata": {
        "id": "rk-JaiE_hB8h"
      },
      "source": [
        "## Part 2.1\n",
        "Apply **all** algorithms for recommendation made available by “Surprise” libraries on the provided dataset:\n",
        "* **with their default configuration**\n",
        "* using **ALL** CPU-cores available on the remote machine by specifying the value in an **explicit** way with an integer number.\n",
        "\n",
        "You also need to:\n",
        "* use Alternating Least Squares as baselines estimation method\n",
        "* use cosine similarity as similarity measure\n",
        "* use item-item similarity\n",
        "* if a number of iterations is to be set, it must be 25\n",
        "\n",
        "> Not all options may be applicable to all algorithms"
      ]
    },
    {
      "cell_type": "markdown",
      "metadata": {
        "id": "b2ctzFICNJqt"
      },
      "source": [
        "### 2.1.1\n",
        "Prepare the dataset for the Recommendation algorithms.\n",
        "\n",
        "> It should be a Pandas DataFrame with three fields: `Ruler`, `Knight`, `Rating`.\n",
        "\n",
        "> Each row must contain two characters' names if they appear together in at least one chapter **text**.\n",
        "\n",
        "> The relevant characters are only those extracted in Part 1.1.3.\n",
        "\n",
        "> Keep in mind that some characters have alternative names, but they refer to the same character.\n",
        "\n",
        "> The dataset must not contain repetitions.\n",
        "\n",
        "Also:\n",
        "\n",
        "> A `Ruler` is a character whose name starts with `King` or `Queen`.\n",
        "\n",
        "> A `Knight` is a character whose ame starts with `Knight` or `Sir`.\n",
        "\n",
        "> The `Rating` represents the number of chapters in which two characters appear together."
      ]
    },
    {
      "cell_type": "code",
      "execution_count": null,
      "metadata": {
        "colab": {
          "base_uri": "https://localhost:8080/"
        },
        "id": "NZIj5aCaNJq3",
        "outputId": "7a6d253f-569b-44f7-b9d2-34785607ac90"
      },
      "outputs": [
        {
          "output_type": "stream",
          "name": "stderr",
          "text": [
            "100%|██████████| 1716/1716 [00:12<00:00, 132.83it/s]"
          ]
        },
        {
          "output_type": "stream",
          "name": "stdout",
          "text": [
            "\n",
            "\n",
            " rating_df.shape : (685, 3)\n",
            "\n",
            "     rulers    knights    ratings\n",
            "--  --------  ---------  ---------\n",
            "0    Pelles    Bliant        2\n",
            "1     Bors    Aglovale       4\n",
            "2     Bors      Ector       32\n",
            "3   Pelleas    Dinadan       2\n",
            "\n"
          ]
        },
        {
          "output_type": "stream",
          "name": "stderr",
          "text": [
            "\n"
          ]
        }
      ],
      "source": [
        "#YOUR CODE STARTS HERE#\n",
        "\n",
        "rulers, knights = set(), set()\n",
        "\n",
        "for character in all_characters:\n",
        "    if (character.startswith('King') or character.startswith('Queen')) and character != \"King\" and character != \"Queen\":\n",
        "        monarch_name = character.split()[1] if character.split()[1] != \"of\" else character\n",
        "        rulers.add(monarch_name)\n",
        "    elif character.startswith('Knight') or character.startswith('Sir'):\n",
        "        name = character.split()[1] if character.split()[1] != \"of\" else character\n",
        "        knights.add(name)\n",
        "\n",
        "insieme_2 = {tuple([i, j]) for i in rulers for j in knights}\n",
        "\n",
        "my_list = []\n",
        "\n",
        "for tupla in tqdm(insieme_2):\n",
        "    rating = len(df[df[\"Texts\"].str.contains(tupla[0]) & df[\"Texts\"].str.contains(tupla[1])].index)\n",
        "    if rating != 0:\n",
        "        my_list.append((tupla[0],  tupla[1], rating))\n",
        "\n",
        "rating_df = pd.DataFrame(my_list)\n",
        "rating_df.columns = ['rulers', 'knights', \"ratings\"]; print()\n",
        "\n",
        "print(\"\\n rating_df.shape :\", rating_df.shape); print()\n",
        "print(tabulate(rating_df.head(4), headers='keys', tablefmt = \"heavy_outline\", numalign='center', stralign=\"center\"))\n",
        "print()\n",
        "\n",
        "#YOUR CODE ENDS HERE#\n",
        "#THIS IS LINE 30#"
      ]
    },
    {
      "cell_type": "markdown",
      "metadata": {
        "id": "MeJlxd5BZjRI"
      },
      "source": [
        "### 2.1.2\n",
        "Inspect the dataset:\n",
        "\n",
        "1. For each field, print the minimum and maximum values.\n",
        "\n",
        "2. Print also the rows of the dataset where `Sir Accolon` appears.\n"
      ]
    },
    {
      "cell_type": "code",
      "execution_count": null,
      "metadata": {
        "colab": {
          "base_uri": "https://localhost:8080/"
        },
        "id": "WTSwJXbkZqp5",
        "outputId": "f76e84d8-cf21-44df-e96b-401677dbe506"
      },
      "outputs": [
        {
          "output_type": "stream",
          "name": "stdout",
          "text": [
            "\n",
            "      rulers    knights    ratings\n",
            "---  --------  ---------  ---------\n",
            " 7    Morgan     Mador        1\n",
            "233   Arthur   Launcelot     204\n",
            "\n",
            "\n",
            "      rulers     knights    ratings\n",
            "---  ---------  ---------  ---------\n",
            "62      Lot      Accolon       1\n",
            "174   Uriens     Accolon       5\n",
            "322  Guenever    Accolon       1\n",
            "399   Arthur     Accolon      10\n",
            "461   Morgan     Accolon       9\n",
            "591  Pellinore   Accolon       1\n",
            "\n"
          ]
        }
      ],
      "source": [
        "#YOUR CODE STARTS HERE#\n",
        "\n",
        "\n",
        "s1 = rating_df.loc[rating_df['ratings'].idxmin()].to_frame().T\n",
        "s2 = rating_df.loc[rating_df['ratings'].idxmax()].to_frame().T; print(\"\")\n",
        "\n",
        "print(tabulate(pd.concat([s1, s2], axis=0), headers='keys', tablefmt = \"heavy_outline\", numalign='center', stralign=\"center\"))\n",
        "\n",
        "print(); print()\n",
        "print(tabulate(rating_df[rating_df[\"knights\"] == \"Accolon\"], headers='keys', \n",
        "               tablefmt = \"heavy_outline\", numalign='center', stralign=\"center\")); print()\n",
        "\n",
        "\n",
        "#YOUR CODE ENDS HERE#\n",
        "#THIS IS LINE 15#"
      ]
    },
    {
      "cell_type": "markdown",
      "metadata": {
        "id": "2VXJRpYC-cJZ"
      },
      "source": [
        "<div style=\"page-break-after: always; visibility: hidden\">\n",
        "\\pagebreak\n",
        "</div>"
      ]
    },
    {
      "cell_type": "markdown",
      "metadata": {
        "id": "kt6pXlGxZq1g"
      },
      "source": [
        "### 2.1.3\n",
        "Load the dataset into the appropriate scikit-surprise structure."
      ]
    },
    {
      "cell_type": "code",
      "execution_count": null,
      "metadata": {
        "id": "3c8vPdgwZr77"
      },
      "outputs": [],
      "source": [
        "#YOUR CODE STARTS HERE#\n",
        "\n",
        "\n",
        "reader = Reader(rating_scale=([0.5, 5]))\n",
        "data =  Dataset.load_from_df(rating_df, reader=reader)\n",
        "\n",
        "\n",
        "\n",
        "#YOUR CODE ENDS HERE#\n",
        "#THIS IS LINE 10#"
      ]
    },
    {
      "cell_type": "markdown",
      "metadata": {
        "id": "9rqpaEKvZupX"
      },
      "source": [
        "### 2.1.4\n",
        "Initialize a `scikit-surprise` `KFold` object with 3-folds."
      ]
    },
    {
      "cell_type": "code",
      "execution_count": null,
      "metadata": {
        "id": "A05Rgv64Zvde"
      },
      "outputs": [],
      "source": [
        "#YOUR CODE STARTS HERE#\n",
        "\n",
        "kf = model_selection.KFold(n_splits = 3)\n",
        "\n",
        "\n",
        "\n",
        "\n",
        "\n",
        "#YOUR CODE ENDS HERE#\n",
        "#THIS IS LINE 10#"
      ]
    },
    {
      "cell_type": "markdown",
      "metadata": {
        "id": "72kpxJnjZv40"
      },
      "source": [
        "### 2.1.5\n",
        "Define **all** the algorithms you are going to use"
      ]
    },
    {
      "cell_type": "code",
      "execution_count": null,
      "metadata": {
        "id": "VUTQOaEYZ0LY"
      },
      "outputs": [],
      "source": [
        "#YOUR CODE STARTS HERE#\n",
        "\n",
        "\n",
        "all_algorithms = {\"normal_predictor\" : NormalPredictor, # no parameter configurations\n",
        "          \"baseline_only\" :  BaselineOnly,\n",
        "          \"knnbasic\" : KNNBasic,\n",
        "          \"knnwmeans\" : KNNWithMeans,\n",
        "          \"knnwz\" : KNNWithZScore,\n",
        "          \"knnbaseline\" : KNNBaseline,\n",
        "          \"svd\" : SVD,\n",
        "          \"svdpp\" : SVDpp,\n",
        "          \"nmf\" : NMF,\n",
        "          \"slope_One\" : SlopeOne,     # # no parameter configurations\n",
        "          \"co_Clustering\": CoClustering }\n",
        "\n",
        "\n",
        "\n",
        "\n",
        "#YOUR CODE ENDS HERE#\n",
        "#THIS IS LINE 20#"
      ]
    },
    {
      "cell_type": "markdown",
      "metadata": {
        "id": "qBoF_e5reRQR"
      },
      "source": [
        "### 2.1.6\n",
        "Define the parameter configurations for each selected algorithm.\n",
        "\n",
        "Each configuration must be a python `dict`.\n",
        "\n",
        "Ensure that the definition meets the requirements of Part 2, but is also as minimal as possible (the fewer parameters you define, the better).\n",
        "\n",
        "> Tip: dictionaries can be passed to methods using `**`. Example:\n",
        "\n",
        "```\n",
        "def method_name(param1, param2):\n",
        "    return param1+param2\n",
        "py_dict = {param1: 4, param2:2}\n",
        "method_name(**py_dict) #gives 6\n",
        "```\n",
        "\n"
      ]
    },
    {
      "cell_type": "code",
      "execution_count": null,
      "metadata": {
        "id": "lyxdQmr6e-sZ"
      },
      "outputs": [],
      "source": [
        "#YOUR CODE STARTS HERE#\n",
        "\n",
        "iterazioni = 25\n",
        "baselines_estimation_method = \"als\"\n",
        "similarity_measure = \"cosine\"\n",
        "item_item_similarity = False\n",
        "\n",
        "baseline = {'method': baselines_estimation_method,  'n_epochs': iterazioni}\n",
        "knn_fam = {\"sim_options\" : {'name': similarity_measure, 'user_based': item_item_similarity, 'min_support': 3}}    ## KNN \n",
        "gen_options = {\"n_epochs\" : iterazioni}  # SVD, SVDPP, NMF, coClustering\n",
        "\n",
        "\n",
        "\n",
        "list_of_dict = [baseline, knn_fam, knn_fam , knn_fam, knn_fam, gen_options, gen_options, gen_options, gen_options]\n",
        "\n",
        "\n",
        "\n",
        "\n",
        "#YOUR CODE ENDS HERE#\n",
        "#THIS IS LINE 30#"
      ]
    },
    {
      "cell_type": "markdown",
      "metadata": {
        "id": "9PF4-s-VZ0pD"
      },
      "source": [
        "### 2.1.7\n",
        "Print the number of CPU cores belonging to the machine on which Colab is running."
      ]
    },
    {
      "cell_type": "code",
      "execution_count": null,
      "metadata": {
        "colab": {
          "base_uri": "https://localhost:8080/"
        },
        "id": "g4TbBIC_fDfE",
        "outputId": "4e38a578-ef03-4daa-959d-ef12d46e5a8a"
      },
      "outputs": [
        {
          "output_type": "stream",
          "name": "stdout",
          "text": [
            "number of CPU cores : 2\n"
          ]
        }
      ],
      "source": [
        "#YOUR CODE STARTS HERE#\n",
        "\n",
        "\n",
        "cores = multiprocessing.cpu_count()    # count the number of cores in a computer\n",
        "print(\"number of CPU cores :\", cores)\n",
        "\n",
        "\n",
        "\n",
        "#YOUR CODE ENDS HERE#\n",
        "#THIS IS LINE 10#"
      ]
    },
    {
      "cell_type": "markdown",
      "metadata": {
        "id": "l_nMGmT3u_WD",
        "tags": [
          "remove_cell"
        ]
      },
      "source": [
        "Run a **3-Folds**-cross-validation for all the selected algorithms, using the parameters configuration that you selected for each algorithm.\n",
        "Make sure that the cross-validation gives in output the metric measures for each split, as well as fit and test times.\n",
        "\n",
        "[comment]: <> (#SHOW_CELL#)"
      ]
    },
    {
      "cell_type": "code",
      "execution_count": null,
      "metadata": {
        "colab": {
          "base_uri": "https://localhost:8080/"
        },
        "id": "83ZbCXhmu_yC",
        "outputId": "740199f0-7529-4399-e911-2fa85d7e2ed4"
      },
      "outputs": [
        {
          "output_type": "stream",
          "name": "stdout",
          "text": [
            "Evaluating MSE of algorithm NormalPredictor on 3 split(s).\n",
            "\n",
            "                  Fold 1  Fold 2  Fold 3  Mean    Std     \n",
            "MSE (testset)     249.5811316.993365.5858 210.7201106.2515\n",
            "Fit time          0.00    0.00    0.00    0.00    0.00    \n",
            "Test time         0.01    0.00    0.00    0.00    0.00    \n",
            "\n",
            "**************************************************\n",
            "\n",
            "Evaluating MSE of algorithm BaselineOnly on 3 split(s).\n",
            "\n",
            "                  Fold 1  Fold 2  Fold 3  Mean    Std     \n",
            "MSE (testset)     271.9643154.9045157.2492194.706054.6383 \n",
            "Fit time          0.00    0.00    0.00    0.00    0.00    \n",
            "Test time         0.00    0.00    0.00    0.00    0.00    \n",
            "\n",
            "**************************************************\n",
            "\n",
            "Evaluating MSE of algorithm KNNBasic on 3 split(s).\n",
            "\n",
            "                  Fold 1  Fold 2  Fold 3  Mean    Std     \n",
            "MSE (testset)     274.8665224.572884.8098 194.749780.4050 \n",
            "Fit time          0.00    0.00    0.00    0.00    0.00    \n",
            "Test time         0.03    0.02    0.01    0.02    0.01    \n",
            "\n",
            "**************************************************\n",
            "\n",
            "Evaluating MSE of algorithm KNNWithMeans on 3 split(s).\n",
            "\n",
            "                  Fold 1  Fold 2  Fold 3  Mean    Std     \n",
            "MSE (testset)     327.418763.1733 191.5025194.0315107.8925\n",
            "Fit time          0.00    0.00    0.00    0.00    0.00    \n",
            "Test time         0.03    0.03    0.02    0.03    0.01    \n",
            "\n",
            "**************************************************\n",
            "\n",
            "Evaluating MSE of algorithm KNNWithZScore on 3 split(s).\n",
            "\n",
            "                  Fold 1  Fold 2  Fold 3  Mean    Std     \n",
            "MSE (testset)     132.876179.5242 369.5455193.9819126.0384\n",
            "Fit time          0.00    0.00    0.00    0.00    0.00    \n",
            "Test time         0.03    0.04    0.02    0.03    0.01    \n",
            "\n",
            "**************************************************\n",
            "\n",
            "Evaluating MSE of algorithm KNNBaseline on 3 split(s).\n",
            "\n",
            "                  Fold 1  Fold 2  Fold 3  Mean    Std     \n",
            "MSE (testset)     290.6932116.8836173.8837193.820272.3443 \n",
            "Fit time          0.00    0.01    0.00    0.00    0.00    \n",
            "Test time         0.04    0.04    0.03    0.03    0.01    \n",
            "\n",
            "**************************************************\n",
            "\n",
            "Evaluating MSE of algorithm SVD on 3 split(s).\n",
            "\n",
            "                  Fold 1  Fold 2  Fold 3  Mean    Std     \n",
            "MSE (testset)     153.8954339.598488.9434 194.1457106.2138\n",
            "Fit time          0.01    0.01    0.01    0.01    0.00    \n",
            "Test time         0.00    0.01    0.00    0.00    0.00    \n",
            "\n",
            "**************************************************\n",
            "\n",
            "Evaluating MSE of algorithm SVDpp on 3 split(s).\n",
            "\n",
            "                  Fold 1  Fold 2  Fold 3  Mean    Std     \n",
            "MSE (testset)     201.6943226.1006158.7520195.515627.8399 \n",
            "Fit time          0.12    0.05    0.09    0.09    0.03    \n",
            "Test time         0.03    0.01    0.02    0.02    0.01    \n",
            "\n",
            "**************************************************\n",
            "\n",
            "Evaluating MSE of algorithm NMF on 3 split(s).\n",
            "\n",
            "                  Fold 1  Fold 2  Fold 3  Mean    Std     \n",
            "MSE (testset)     117.2738291.9962171.0170193.429073.0694 \n",
            "Fit time          0.02    0.01    0.01    0.01    0.00    \n",
            "Test time         0.00    0.00    0.00    0.00    0.00    \n",
            "\n",
            "**************************************************\n",
            "\n",
            "Evaluating MSE of algorithm SlopeOne on 3 split(s).\n",
            "\n",
            "                  Fold 1  Fold 2  Fold 3  Mean    Std     \n",
            "MSE (testset)     244.4151218.2775120.5895194.427453.2905 \n",
            "Fit time          0.00    0.00    0.00    0.00    0.00    \n",
            "Test time         0.02    0.02    0.01    0.02    0.01    \n",
            "\n",
            "**************************************************\n",
            "\n",
            "Evaluating MSE of algorithm CoClustering on 3 split(s).\n",
            "\n",
            "                  Fold 1  Fold 2  Fold 3  Mean    Std     \n",
            "MSE (testset)     221.5953100.5788265.3787195.850969.6985 \n",
            "Fit time          0.05    0.04    0.02    0.04    0.01    \n",
            "Test time         0.00    0.00    0.00    0.00    0.00    \n",
            "\n",
            "**************************************************\n",
            "\n"
          ]
        }
      ],
      "source": [
        "#YOUR CODE STARTS HERE#\n",
        "c, my_list = 0, []\n",
        "\n",
        "for k,v in all_algorithms.items():\n",
        "\n",
        "  if k == \"normal_predictor\" or k == \"slope_One\":\n",
        "    current_algo = v()\n",
        "    x = model_selection.cross_validate(current_algo, data, measures=['mse'], cv=kf, n_jobs = -1, verbose=True)\n",
        "    my_list.append((k,x)); print(\"\\n**************************************************\\n\")\n",
        "  elif k == \"baseline_only\": \n",
        "    current_algo = v(list_of_dict[c])\n",
        "    x = model_selection.cross_validate(current_algo, data, measures=['mse'], cv=kf, n_jobs = -1, verbose=True)\n",
        "    my_list.append((k,x)); c+=1; print(\"\\n**************************************************\\n\")\n",
        "  else:\n",
        "    current_algo = v(**list_of_dict[c])\n",
        "    x = model_selection.cross_validate(current_algo, data, measures=['mse'], cv=kf, n_jobs = -1, verbose=True)\n",
        "    my_list.append((k,x)); c+=1; print(\"\\n**************************************************\\n\")\n",
        "\n",
        "#YOUR CODE ENDS HERE#\n",
        "#THIS IS LINE 20#"
      ]
    },
    {
      "cell_type": "markdown",
      "metadata": {
        "id": "CFEy1Rnx-w-X"
      },
      "source": [
        "<div style=\"page-break-after: always; visibility: hidden\">\n",
        "\\pagebreak\n",
        "</div>"
      ]
    },
    {
      "cell_type": "markdown",
      "metadata": {
        "id": "lBnOS1InfF4T"
      },
      "source": [
        "### 2.1.8\n",
        "Rank all recommendation algorithms you tested according to the mean of the Mean Squared Error metric value: from the worst to the best algorithm.\n",
        "\n",
        "Print out the ranking: algorithm name and MSE value."
      ]
    },
    {
      "cell_type": "code",
      "execution_count": null,
      "metadata": {
        "colab": {
          "base_uri": "https://localhost:8080/"
        },
        "id": "tz3cg5gVZ-C2",
        "outputId": "e05bc749-5832-4dd2-96e8-d6a841eb1b58"
      },
      "outputs": [
        {
          "output_type": "stream",
          "name": "stdout",
          "text": [
            "\n",
            "Algorithm           MSE_mean\n",
            "----------------  ----------\n",
            "normal_predictor     211.738\n",
            "co_Clustering        196.634\n",
            "svdpp                196.275\n",
            "knnbasic             195.093\n",
            "baseline_only        194.767\n",
            "knnwmeans            194.707\n",
            "slope_One            194.639\n",
            "knnwz                194.467\n",
            "svd                  194.292\n",
            "knnbaseline          194.035\n",
            "nmf                  193.672\n",
            "\n"
          ]
        }
      ],
      "source": [
        "#YOUR CODE STARTS HERE#\n",
        "\n",
        "\n",
        "lista = [(i[0], round(i[1][\"test_mse\"].mean(),5)) for i in my_list]\n",
        "lista = sorted(lista, key=lambda x: x[1], reverse=True)\n",
        "\n",
        "print()\n",
        "print(tabulate(lista, headers = [\"Algorithm\",\"MSE_mean\"]))\n",
        "print()\n",
        "\n",
        "\n",
        "\n",
        "\n",
        "#YOUR CODE ENDS HERE#\n",
        "#THIS IS LINE 30#"
      ]
    },
    {
      "cell_type": "markdown",
      "metadata": {
        "id": "9syldB1p-yUf"
      },
      "source": [
        "<div style=\"page-break-after: always; visibility: hidden\">\n",
        "\\pagebreak\n",
        "</div>"
      ]
    },
    {
      "cell_type": "markdown",
      "metadata": {
        "id": "2hvSY1wOUSul"
      },
      "source": [
        "### 2.1.9\n",
        "Select the algorithm with the best result in the previous test.\n",
        "\n",
        "You must test a maximum of **31** possible configurations for the selected recommendation algorithm. The number of parameters specified for the various configurations must be at least 2* and no more than 5*. Also, disregard configuration limitations described at the start of Part 2.\n",
        "\n",
        "You must obtain the best configuration among all configurations, considering the Root Mean Squared Error metric calculated on a cross-validation of **5** folds.\n",
        "\n",
        "1. Define the configuration dictionary that will be used for parameter optimisation.\n",
        "2. Find a model configuration that offers the best possible performance within the given constraints. Print this configuration.\n",
        "\n",
        "The resulting solution must exceed the default configuration according to the Mean Absolute Error metric.\n",
        "\n",
        "> **If a parameter is itself composed of several parameters (e.g. if it is a dictionary), each will be counted separately when calculating the total number of attributes to be optimised."
      ]
    },
    {
      "cell_type": "code",
      "execution_count": null,
      "metadata": {
        "id": "giP7mo8zUSus"
      },
      "outputs": [],
      "source": [
        "#YOUR CODE STARTS HERE#\n",
        "\n",
        "\n",
        "\n",
        "\n",
        "\n",
        "#YOUR CODE ENDS HERE#\n",
        "#THIS IS LINE 30#"
      ]
    },
    {
      "cell_type": "markdown",
      "metadata": {
        "id": "N0714T6u-z9K"
      },
      "source": [
        "<div style=\"page-break-after: always; visibility: hidden\">\n",
        "\\pagebreak\n",
        "</div>"
      ]
    },
    {
      "cell_type": "markdown",
      "metadata": {
        "id": "JSWFJqVOaH8n"
      },
      "source": [
        "## Part 2.2"
      ]
    },
    {
      "cell_type": "markdown",
      "metadata": {
        "id": "qx2JVwCqVW3p"
      },
      "source": [
        "### 2.2.1\n",
        "Consider this scenario:\n",
        "\n",
        "* There are $n$ users and $m$ items.\n",
        "* The items are divided into two groups $I_A$ and $I_B$.\n",
        "* Users can like (rating $1$) all items in group $I_A$ and dislike (rating $0$) those in group $I_B$, or vice versa, but no intermediate case; thus users can also be divided into users in group $U_A$ and users in group $U_B$.\n",
        "* Suppose we have all $n$ x $m$ ratings.\n",
        "\n",
        "Now, consider this:\n",
        "\n",
        "* A new user $u$ is added and we record his preference of an item $i$ from group $I_A$ (rating $1$).\n",
        "\n",
        "> What will be the estimated rating of an item $a \\in I_A, a \\neq i$ for user $u$ if we use user-based collaborative filtering? What will be the rating of item $b \\in I_B$ instead?\n",
        "\n",
        "> If the user adds that they do not like an item $j$ belonging to group $B$, how would the above ratings change ($b \\neq j$)?\n",
        "\n",
        "**Use at most 3 sentences.**"
      ]
    },
    {
      "cell_type": "markdown",
      "metadata": {
        "id": "Az4tdEMOVW3t"
      },
      "source": [
        "----------YOUR TEXT STARTS HERE----------\n"
      ]
    },
    {
      "cell_type": "markdown",
      "metadata": {
        "id": "JhI4Zhpk-1pc"
      },
      "source": [
        "<div style=\"page-break-after: always; visibility: hidden\">\n",
        "\\pagebreak\n",
        "</div>"
      ]
    },
    {
      "cell_type": "markdown",
      "metadata": {
        "id": "scEw2gkFYy83",
        "tags": [
          "remove_cell"
        ]
      },
      "source": [
        "\n",
        "# Submission instructions"
      ]
    },
    {
      "cell_type": "markdown",
      "metadata": {
        "id": "bWcupmrvYy9C",
        "tags": [
          "remove_cell"
        ]
      },
      "source": [
        "Follow the instructions precisely\n",
        "1. Run the whole notebook up to this point\n",
        "  * Click on this text cell and go to Runtime > Run before\n",
        "  * It is essential that the notebook can be run from start to finish without us having to change anything.\n",
        "2. Download the current notebook\n",
        "  * File -> Download -> Download .ipynb\n",
        "3. Upload the downloaded notebook in the current runtime\n",
        "  * In the left sidebar menu, open the last tab (Files)\n",
        "  * Click on the first button under the File title (Page with arrow pointing up)\n",
        "  * In the new window, upload the notebook just downloaded\n",
        "\n"
      ]
    },
    {
      "cell_type": "markdown",
      "metadata": {
        "id": "Cfw5_7NlYy9D",
        "tags": [
          "remove_cell"
        ]
      },
      "source": [
        "4. To turn the notebook into a pdf you need to install a Tex extension. Simply run the next cell of code:"
      ]
    },
    {
      "cell_type": "code",
      "execution_count": null,
      "metadata": {
        "colab": {
          "base_uri": "https://localhost:8080/"
        },
        "id": "JTdv9NEuYy9E",
        "outputId": "43f54c1e-3f9b-4a5f-f289-006dd16858ab",
        "tags": [
          "remove_cell"
        ]
      },
      "outputs": [
        {
          "name": "stdout",
          "output_type": "stream",
          "text": [
            "Reading package lists... Done\n",
            "Building dependency tree       \n",
            "Reading state information... Done\n",
            "texlive-fonts-recommended is already the newest version (2019.20200218-1).\n",
            "texlive-plain-generic is already the newest version (2019.202000218-1).\n",
            "texlive-xetex is already the newest version (2019.20200218-1).\n",
            "0 upgraded, 0 newly installed, 0 to remove and 24 not upgraded.\n"
          ]
        }
      ],
      "source": [
        "#REMOVE_CELL#\n",
        "!apt-get install texlive-xetex texlive-fonts-recommended texlive-plain-generic"
      ]
    },
    {
      "cell_type": "markdown",
      "metadata": {
        "id": "rgmWSW-MYy9F",
        "tags": [
          "remove_cell"
        ]
      },
      "source": [
        "5. Now, run the next cell to set some cell tags in the notebook file."
      ]
    },
    {
      "cell_type": "code",
      "execution_count": null,
      "metadata": {
        "id": "nMNhHjhbYy9F",
        "tags": [
          "remove_cell"
        ]
      },
      "outputs": [],
      "source": [
        "#REMOVE_CELL#\n",
        "import nbformat as nbf\n",
        "from glob import glob\n",
        "notebooks = glob(\"/content/**/*.ipynb\", recursive=True)\n",
        "\n",
        "text_search_dict = [\"YOUR TEXT STARTS HERE\",\"#YOUR CODE STARTS HERE#\"]\n",
        "\n",
        "for ipath in notebooks:\n",
        "    print(ipath)\n",
        "    ntbk = nbf.read(ipath, nbf.NO_CONVERT)\n",
        "\n",
        "    for cell in ntbk.cells:\n",
        "        cell_type = cell['cell_type'] == \"code\"\n",
        "      \n",
        "        cell_tags = cell.get('metadata', {}).get('tags', [])\n",
        "        cell_tags = set(cell_tags)\n",
        "\n",
        "        if cell_type == 0: #markdown\n",
        "          if (cell['source'][0]!=\"#\" and text_search_dict[cell_type] not in cell['source'] and \"pagebreak\" not in cell['source']) or \"#REMOVE_CELL#\" in cell['source']:\n",
        "            cell_tags.add(\"remove_cell\")\n",
        "\n",
        "        else: #code\n",
        "          #if text_search_dict[cell_type] not in cell['source'] or \"#REMOVE_CELL#\" in cell['source']:\n",
        "          if \"#REMOVE_CELL#\" in cell['source']:\n",
        "            cell_tags.add(\"remove_cell\")\n",
        "          elif \"#REMOVE_OUTPUT#\" in cell['source']:\n",
        "            cell_tags.add(\"remove_output\")\n",
        "        \n",
        "        if len(cell_tags) > 0:\n",
        "            cell['metadata']['tags'] = list(cell_tags)\n",
        "\n",
        "    nbf.write(ntbk, ipath)"
      ]
    },
    {
      "cell_type": "markdown",
      "metadata": {
        "id": "ttb36qjjYy9F",
        "tags": [
          "remove_cell"
        ]
      },
      "source": [
        "6. Now, run the next cell to transform the notebook to PDF without the code cells.\n",
        "  * The file will appear in the menu on the left (refresh if needed). The file should be named `DMT2023_HW2.pdf`\n",
        "  * Rename this file **Surname1_Surname2_DMT2023HW2_report.pdf** (e.g. Becchetti_Siciliano_DMT2023HW2_report.pdf). Sort the surnames alphabetically.\n",
        "  * Click on it and using the right button or the three dots at its side, click on download to transfer it to your local PC\n",
        "  "
      ]
    },
    {
      "cell_type": "code",
      "execution_count": null,
      "metadata": {
        "colab": {
          "base_uri": "https://localhost:8080/"
        },
        "id": "U3cgJxIBYy9H",
        "outputId": "94c16e7c-d74a-45f5-d707-db8edd547f72",
        "tags": [
          "remove_cell"
        ]
      },
      "outputs": [
        {
          "name": "stdout",
          "output_type": "stream",
          "text": [
            "[NbConvertApp] Converting notebook /content/DMT2023_HW2.ipynb to pdf\n",
            "[NbConvertApp] Writing 121667 bytes to notebook.tex\n",
            "[NbConvertApp] Building PDF\n",
            "[NbConvertApp] Running xelatex 3 times: ['xelatex', 'notebook.tex', '-quiet']\n",
            "[NbConvertApp] Running bibtex 1 time: ['bibtex', 'notebook']\n",
            "[NbConvertApp] WARNING | bibtex had problems, most likely because there were no citations\n",
            "[NbConvertApp] PDF successfully created\n",
            "[NbConvertApp] Writing 130198 bytes to /content/DMT2023_HW2.pdf\n"
          ]
        }
      ],
      "source": [
        "#REMOVE_CELL#\n",
        "!jupyter nbconvert /content/DMT2023_HW2.ipynb --to pdf --TagRemovePreprocessor.remove_cell_tags='{\"remove_cell\"}' -TagRemovePreprocessor.remove_all_outputs_tags='{\"remove_output\"}'"
      ]
    },
    {
      "cell_type": "markdown",
      "metadata": {
        "id": "d2_OqvVwYy9H",
        "tags": [
          "remove_cell"
        ]
      },
      "source": [
        "7. Now, rename the downloaded notebook **Surname1_Surname2_DMT2023_HW2_notebook.ipynb** (e.g. Becchetti_Siciliano_DMT2023_HW2_notebook.ipynb). Sort the surnames alphabetically."
      ]
    },
    {
      "cell_type": "markdown",
      "metadata": {
        "id": "BCjj-I1_Yy9H",
        "tags": [
          "remove_cell"
        ]
      },
      "source": [
        "8. Now that you have both files, you need to upload them to Classroom. Only the student with the surname that comes first in alphabetical order **must** upload the files. Only the files uploaded by this student will be graded."
      ]
    }
  ],
  "metadata": {
    "colab": {
      "collapsed_sections": [
        "vtqmMBBFM5VB",
        "OL_C32zaSqds",
        "l4lz07FFZj9C",
        "UDqenDoaZEuy",
        "ElJWkdNXShsb"
      ],
      "provenance": [],
      "toc_visible": true,
      "include_colab_link": true
    },
    "kernelspec": {
      "display_name": "Python 3",
      "name": "python3"
    },
    "language_info": {
      "name": "python"
    }
  },
  "nbformat": 4,
  "nbformat_minor": 0
}