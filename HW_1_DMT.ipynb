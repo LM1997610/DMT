{
  "cells": [
    {
      "cell_type": "markdown",
      "metadata": {
        "id": "view-in-github",
        "colab_type": "text"
      },
      "source": [
        "<a href=\"https://colab.research.google.com/github/LM1997610/DMT/blob/main/HW_1_DMT.ipynb\" target=\"_parent\"><img src=\"https://colab.research.google.com/assets/colab-badge.svg\" alt=\"Open In Colab\"/></a>"
      ]
    },
    {
      "cell_type": "markdown",
      "metadata": {
        "id": "vtqmMBBFM5VB",
        "tags": [
          "remove_cell"
        ]
      },
      "source": [
        "\n",
        "# DMT 2023 - Homework 1"
      ]
    },
    {
      "cell_type": "markdown",
      "metadata": {
        "id": "ZdyeR5JdyCki"
      },
      "source": [
        "## Group composition:"
      ]
    },
    {
      "cell_type": "markdown",
      "metadata": {
        "id": "g3zOpW7YyMlr"
      },
      "source": [
        "\n",
        "<br>\n",
        "\n",
        "------------YOUR TEXT STARTS HERE------------\n",
        "\n",
        "<br>\n",
        "\n",
        "*   Mazzucco, Luca, 1997610\n",
        "*   Zilviano, Paolo, 1916518\n",
        "\n",
        "\n",
        "\n"
      ]
    },
    {
      "cell_type": "markdown",
      "metadata": {
        "id": "Qa4VRPyugoQC"
      },
      "source": [
        "<div style=\"page-break-after: always; visibility: hidden\"> \n",
        "\\pagebreak\n",
        "</div>"
      ]
    },
    {
      "cell_type": "markdown",
      "metadata": {
        "id": "3ltMqfS1ph7q"
      },
      "source": [
        "## Homework 1\n",
        "The homework consists of two parts:\n",
        "\n",
        "  1. Search-Engine Evaluation\n",
        "\n",
        "  2. Near-Duplicate-Detection\n"
      ]
    },
    {
      "cell_type": "markdown",
      "metadata": {
        "id": "M4YGWzJEg1rq"
      },
      "source": [
        "# Part 1\n",
        "In this part of the homework, you have to index collections of documents to build search-engines using the PyTerrier library.\n",
        "\n",
        "Import **ALL** the Python packages that you need for Part 1."
      ]
    },
    {
      "cell_type": "code",
      "execution_count": 1,
      "metadata": {
        "id": "puYHRVRFlwQk",
        "tags": [
          "remove_output"
        ]
      },
      "outputs": [],
      "source": [
        "#REMOVE_OUTPUT#\n",
        "%%capture\n",
        "!pip install --upgrade --no-cache-dir gdown\n",
        "!pip install python-terrier\n",
        "#YOUR CODE STARTS HERE#\n",
        "\n",
        "import numpy as np\n",
        "import pandas as pd\n",
        "from tabulate import tabulate\n",
        "import matplotlib.pyplot as plt\n",
        "from bs4 import BeautifulSoup as bs\n",
        "import pyterrier as pt\n",
        "\n",
        "#YOUR CODE ENDS HERE#\n",
        "#THIS IS LINE 15#"
      ]
    },
    {
      "cell_type": "markdown",
      "metadata": {
        "id": "rk-JaiE_hB8h"
      },
      "source": [
        "## Part 1.1\n",
        "You have to build a search engine for the book *Le Morte D’Arthur* by Thomas Malory and **improve the search-engines performance** (the higher the better). The book is divided into two volumes. Each chapter is a document with two fields: title of the chapter and corpus of the chapter. You only want to index the corpus of each chapter."
      ]
    },
    {
      "cell_type": "markdown",
      "metadata": {
        "id": "0iEH-lmorp00"
      },
      "source": [
        "### 1.1.1\n",
        "Download the data from the Drive link (code already provided)."
      ]
    },
    {
      "cell_type": "code",
      "execution_count": 2,
      "metadata": {
        "colab": {
          "base_uri": "https://localhost:8080/"
        },
        "id": "KCOOAftWRE5X",
        "outputId": "fcc32778-c997-4580-8238-0ea809fca9d1",
        "tags": [
          "remove_output"
        ]
      },
      "outputs": [
        {
          "output_type": "stream",
          "name": "stdout",
          "text": [
            "Downloading...\n",
            "From: https://drive.google.com/uc?id=1zHgvidy9FvhZvE68S0mXWkoF-hHMpiUL\n",
            "To: /content/The Project Gutenberg eBook of Le Morte D’Arthur, Volume I (of II), by Thomas Malory.html\n",
            "100% 964k/964k [00:00<00:00, 663MB/s]\n",
            "Downloading...\n",
            "From: https://drive.google.com/uc?id=1VjpTkFcbfaLIi4TXVafokW9e_bvGnfut\n",
            "To: /content/The Project Gutenberg eBook of Le Morte D’Arthur, Volume II (of II), by Thomas Malory.html\n",
            "100% 1.10M/1.10M [00:00<00:00, 407MB/s]\n"
          ]
        }
      ],
      "source": [
        "#REMOVE_OUTPUT#\n",
        "!gdown 1zHgvidy9FvhZvE68S0mXWkoF-hHMpiUL\n",
        "!gdown 1VjpTkFcbfaLIi4TXVafokW9e_bvGnfut"
      ]
    },
    {
      "cell_type": "markdown",
      "metadata": {
        "id": "r36aVr85h3eM"
      },
      "source": [
        "### 1.1.2\n",
        "Parse the HTML. **Part** of code already provided: follow the comments to complete the code.\n"
      ]
    },
    {
      "cell_type": "code",
      "execution_count": 3,
      "metadata": {
        "id": "ESwOaHC5Ix4x"
      },
      "outputs": [],
      "source": [
        "with open('The Project Gutenberg eBook of Le Morte D’Arthur, Volume I (of II), by Thomas Malory.html') as fp:\n",
        "    vol1 = bs(fp, 'html.parser')\n",
        "with open('The Project Gutenberg eBook of Le Morte D’Arthur, Volume II (of II), by Thomas Malory.html') as fp:\n",
        "    vol2 = bs(fp, 'html.parser')\n",
        "\n",
        "def clean_text(txt):\n",
        "    words_to_put_space_before = [\".\",\",\",\";\",\":\",\"’\",\"'\"]\n",
        "    words_to_lowercase = [\"First\",\"How\",\"Some\",\"Yet\",\"Of\",\"A\",\"The\",\"What\",\"Fifth\"]\n",
        "    \n",
        "    app = txt.replace(\"\\n\",\" \")\n",
        "    for word in words_to_put_space_before:\n",
        "        app = app.replace(word,\" \"+word)\n",
        "    for word in words_to_lowercase:\n",
        "        app = app.replace(word+\" \",word.lower()+\" \")\n",
        "    return app.strip()\n",
        "\n",
        "def parse_html(soup):\n",
        "    titles = []\n",
        "    texts = []\n",
        "    for chapter in soup.find_all(\"h3\"):\n",
        "        chapter_title = chapter.text\n",
        "        if \"CHAPTER\" in chapter_title:\n",
        "            chapter_title = clean_text(\"\".join(chapter_title.split(\".\")[1:]))\n",
        "            titles.append(chapter_title)\n",
        "            \n",
        "            chapter_text = [p.text for p in chapter.findNextSiblings(\"p\")]\n",
        "            chapter_text = clean_text(\" \".join(chapter_text))\n",
        "            texts.append(chapter_text)\n",
        "    return titles, texts"
      ]
    },
    {
      "cell_type": "code",
      "execution_count": 4,
      "metadata": {
        "colab": {
          "base_uri": "https://localhost:8080/"
        },
        "id": "nUfgBVp4h3eR",
        "outputId": "96153120-132a-495d-bdaa-93e8a544f69d"
      },
      "outputs": [
        {
          "output_type": "stream",
          "name": "stdout",
          "text": [
            "\n",
            "df.shape: (503, 3)\n"
          ]
        }
      ],
      "source": [
        "#YOUR CODE STARTS HERE#\n",
        "#Extract all the chapters' titles and texts from the two volumes\n",
        "\n",
        "titles_1, texts_1 = parse_html(vol1)\n",
        "titles_2, texts_2 = parse_html(vol2)\n",
        "\n",
        "\n",
        "num_doc = [str(i).zfill(1) for i in range(1,len(titles_1 + titles_2)+1)]\n",
        "\n",
        "\n",
        "df = pd.DataFrame(zip(num_doc, titles_1+titles_2, texts_1+texts_2), \n",
        "                  columns=[\"docno\", 'Titles', 'Texts'])\n",
        "\n",
        "print(\"\\ndf.shape:\", df.shape)\n",
        "\n",
        "\n",
        "\n",
        "\n",
        "#YOUR CODE ENDS HERE#\n",
        "#THIS IS LINE 20#"
      ]
    },
    {
      "cell_type": "markdown",
      "metadata": {
        "id": "Z_AiZBi0OyLZ",
        "tags": [
          "remove_cell"
        ]
      },
      "source": [
        "Print the first 8 rows of the DataFrame.\n",
        "\n",
        "[comment]: <> (#SHOW_CELL#)"
      ]
    },
    {
      "cell_type": "code",
      "source": [
        "from tabulate import tabulate"
      ],
      "metadata": {
        "id": "Cp-Yknl2WulI"
      },
      "execution_count": 6,
      "outputs": []
    },
    {
      "cell_type": "code",
      "execution_count": 7,
      "metadata": {
        "colab": {
          "base_uri": "https://localhost:8080/"
        },
        "id": "Tz1wzYInOyLc",
        "outputId": "825d9ee5-0945-43de-8655-a39e000d3cb5"
      },
      "outputs": [
        {
          "output_type": "stream",
          "name": "stdout",
          "text": [
            "\n",
            "               Titles                        Texts\n",
            "--  ----------------------------  ----------------------------\n",
            "0   first , how Uther Pendrag...  It befell in the days of ...\n",
            "1   how Uther Pendragon made ...  Then Ulfius was glad , an...\n",
            "2   of the birth of King Arth...  Then Queen Igraine waxed ...\n",
            "3   of the death of King Uthe...  Then within two years Kin...\n",
            "4   how Arthur was chosen kin...  Then stood the realm in g...\n",
            "5   how King Arthur pulled ou...  Now assay , said Sir Ecto...\n",
            "6   how King Arthur was crown...  And at the feast of Pente...\n",
            "7   how King Arthur held in W...  Then the king removed int...\n",
            "\n"
          ]
        }
      ],
      "source": [
        "#YOUR CODE STARTS HERE#\n",
        "\n",
        "a_table = df[[\"Titles\", \"Texts\"]].apply(lambda x: x.str[:25]+\"...\").head(8)\n",
        "\n",
        "print()\n",
        "print(tabulate(a_table, headers='keys', tablefmt = \"heavy_outline\", numalign='center', stralign=\"center\"))\n",
        "print()\n",
        "\n",
        "#YOUR CODE ENDS HERE#\n",
        "#THIS IS LINE 10#"
      ]
    },
    {
      "cell_type": "markdown",
      "metadata": {
        "id": "UhHqk6QzOuoO"
      },
      "source": [
        "### 1.1.3\n",
        "Extract character's names from the **titles** only. **Part** of code already provided: follow the comments to complete the code."
      ]
    },
    {
      "cell_type": "code",
      "execution_count": 9,
      "metadata": {
        "id": "rptB3l7XOuoi"
      },
      "outputs": [],
      "source": [
        "all_characters = set()\n",
        "def extract_character_names_from_string(string_to_parse):\n",
        "    special_tokens = [\"of\",\"the\",\"le\",\"a\",\"de\"]\n",
        "\n",
        "    remember = \"\"\n",
        "    last_is_special_token = False\n",
        "\n",
        "    tokens = string_to_parse.split(\" \")\n",
        "    characters_found = set()\n",
        "    for i,word in enumerate(tokens):\n",
        "        if word[0].isupper() or (remember!=\"\" and word in special_tokens):\n",
        "            word = word.replace(\"'s\",\"\").replace(\"’s\",\"\")\n",
        "            last_is_special_token = False\n",
        "            if remember!=\"\":\n",
        "                if word in special_tokens:\n",
        "                    last_is_special_token = True\n",
        "                remember = remember+\" \"+word\n",
        "            else: remember = word\n",
        "        else:\n",
        "            if remember!=\"\":\n",
        "                if last_is_special_token:\n",
        "                    for tok in special_tokens:\n",
        "                        remember = remember.replace(\" \"+tok,\"\")\n",
        "                characters_found.add(remember)\n",
        "            remember = \"\"\n",
        "            last_is_special_token = False\n",
        "    return characters_found\n",
        "\n",
        "#all_characters = set([x for x in characters_found if x[-2:]!=\"'s\"])"
      ]
    },
    {
      "cell_type": "code",
      "execution_count": 13,
      "metadata": {
        "colab": {
          "base_uri": "https://localhost:8080/"
        },
        "id": "jGBt1RLeOuok",
        "outputId": "0972cf08-ce07-42ab-860e-8e21c78f14d4"
      },
      "outputs": [
        {
          "output_type": "stream",
          "name": "stdout",
          "text": [
            " All_characters:  {'King of the Land of Cameliard', 'Sir Accolon', 'King Solomon', 'Nero', 'Archbishop of Canterbury', 'Damosel of the Lake', 'Gaheris', 'Maiden of the Lake', 'Pope', 'Alisander', 'Breuse Saunce Pité', 'Fair Maid of Astolat', 'Garlon', 'Beale Isoud', 'Carlion', 'Sir Galahalt', 'Sir Epinogris', 'King Mark', 'Gard', 'Sir Brian', 'Sir Mordred', 'Astolat', 'Galahad', 'Joyous Gard', 'Maimed King', 'Anglides', 'Sir Gareth', 'Sir Galihodin', 'Dame Brisen', 'Round Table', 'Sir Berluse', 'Castle of Pendragon', 'Mordred', 'Winchester', 'Sir Colgrevance', 'Sir Segwarides', 'Excalibur', 'Lanceor', 'King Leodegrance', 'Sir Carados', 'Merlin', 'Sir Tor', 'Alisander le Orphelin', 'Sir Lanceor', 'Queen Morgan le Fay', 'Elias', 'Sir Malgrin', 'Elaine', 'Gawaine', 'Great Royalty', 'Tintagil', 'Knights of the Round Table', 'Sir Frol', 'King Bagdemagus', 'Beaumains', 'Dagonet', 'Epinogris', 'King Rience', 'Corsabrin', 'King Pelles', 'Sir Pedivere', 'Siege Perilous', 'Red Knight', 'Constantine', 'King', 'Palamides', 'Sir Elias', 'Guenever', 'La Cote Male Taile', 'Sir Blamore', 'Uther Pendragon', 'Sir Dinadan', 'Beale Pilgrim', 'Sir Bors', 'Helin le Blank', 'Sir Pelleas', 'Lady Lionesse', 'Sir Breunor', 'Andred', 'Leodegrance', 'Sir Pervivale', 'God', 'Sir Galahad', 'Christmas', 'Camelot', 'Lady of the Lake', 'Sir Tristram de Liones', 'Sir Bliant', 'Balan', 'Sangreal', 'Sir Archade', 'Benwick', 'Lambegus', 'Sir Amant', 'Our Lord', 'Sir Urre', 'Ettard', 'Sir Accolon of Gaul', 'Palomides', 'King Lot of Orkney', 'Lonazep', 'Arthur', 'Sir Uriens', 'Ban', 'King Pelleas', 'Sir Sagramore le Desirous', 'Queen Igraine', 'Griflet', 'Igraine', 'Humber', 'Queen of Orkney', 'Lionel', 'Knight of the Red Launds', 'Sir Gawaine', 'King Evelake', 'Sir Belliance', 'Saracens', 'Court', 'Sir Percivale', 'Carbonek', 'Tristram', 'Knight of the Black Launds', 'Almaine', 'Sir Lionel', 'King Pellam', 'Sir Dagonet', 'Dame Elaine', 'King Lot', 'Sir Lancelot', 'Joyous Isle', 'Bragwaine', 'Sir Bleoberis', 'King Ban', 'Dover', 'Saracen', 'Almesbury', 'Ulfius', 'Holy Sangreal', 'Accolon', 'Sir Marhaus', 'Sir Gaheris', 'Castle of Maidens', 'Sir Tristram', 'King Bors', 'Sir Nabon', 'May-day', 'Solomon', 'Sir Lamorak de Galis', 'Bors', 'Sir Suppinabiles', 'Sir Breuse Saunce Pité', 'King Mark of Cornwall', 'Launcelot', 'Sir Turquine', 'King Howel of Brittany', 'Sir Sadok', 'Sir Persant of Inde', 'Sir Ector', 'Romans', 'Wales', 'King Arthur', 'Gouvernail', 'La Beale Isoud', 'King Anguish of Ireland', 'Sir Palomides', 'Alice', 'Forest Perilous', 'Castle Lonazep', 'Sir Launcelot', 'Melias', 'King Uriens', 'Sir Safere', 'King Pellinore', 'Sir Meliagrance', 'Kehydius', 'England', 'Maid of Astolat', 'Sir Aglovale', 'Balin', 'Sir Kay', 'Questing Beast', 'York', 'Pelles', 'Sir Meliagaunce', 'Sir Mador', 'Sir Agravaine', 'Queen', 'Chapel Perilous', 'Boudwin', 'Bagdemagus', 'King of England', 'Avoutres', 'Sir Lavaine', 'Isle', 'Sir Beaumains', 'Maledisant', 'Morgan', 'David', 'Sir Bedivere', 'Lucius', 'Sir Anguish', 'Queen Isoud', 'Cornwall', 'Sir Persant', 'Abbot', 'Percivale', 'Ireland', 'Surluse', 'France', 'Dinadan', 'Pentecost', 'Joseph', 'Rome', 'Morgan le Fay', 'Sir Alisander', 'King Mordrains', 'Sir Uwaine', 'Queen Guenever', 'King Brandegore', 'Logris', 'Sir Lamorak', 'Feast of Pentecost', 'Island', 'Isoud', 'Lady Ettard'}\n"
          ]
        }
      ],
      "source": [
        "#YOUR CODE STARTS HERE#\n",
        "#Extract all characters' names\n",
        "\n",
        "all_characters = df[\"Titles\"].apply(extract_character_names_from_string)\n",
        "all_characters = set.union(*map(set, all_characters)) \n",
        "\n",
        "\n",
        "print(\" All_characters: \", all_characters, sep=\" \")\n",
        "\n",
        "\n",
        "\n",
        "\n",
        "\n",
        "#YOUR CODE ENDS HERE#\n",
        "#THIS IS LINE 15#"
      ]
    },
    {
      "cell_type": "markdown",
      "metadata": {
        "id": "K9wUUj1YOkvR",
        "tags": [
          "remove_cell"
        ]
      },
      "source": [
        "Print the names of all the kings (i.e. characters with `King` in their name).\n",
        "\n",
        "[comment]: <> (#SHOW_CELL#)"
      ]
    },
    {
      "cell_type": "code",
      "execution_count": 12,
      "metadata": {
        "colab": {
          "base_uri": "https://localhost:8080/"
        },
        "id": "KtsMvXYEOkvX",
        "outputId": "12602997-bda9-4734-b8d3-569c7de861bc"
      },
      "outputs": [
        {
          "output_type": "stream",
          "name": "stdout",
          "text": [
            " Kings: {'King Pelles', 'King of the Land of Cameliard', 'King Pelleas', 'King Solomon', 'King', 'King Evelake', 'King Pellam', 'King Lot', 'King of England', 'King Mark', 'King Ban', 'Maimed King', 'King Bors', 'King Howel of Brittany', 'King Mark of Cornwall', 'King Leodegrance', 'King Arthur', 'King Anguish of Ireland', 'King Mordrains', 'King Brandegore', 'King Uriens', 'King Lot of Orkney', 'King Bagdemagus', 'King Pellinore', 'King Rience'}\n"
          ]
        }
      ],
      "source": [
        "#YOUR CODE STARTS HERE#\n",
        "\n",
        "kings = { person for person in  all_characters  if person.lower().find(\"king\") > -1  } \n",
        "\n",
        "print(\" Kings:\", kings, sep=\" \")\n",
        "\n",
        "\n",
        "\n",
        "#YOUR CODE ENDS HERE#\n",
        "#THIS IS LINE 10#"
      ]
    },
    {
      "cell_type": "markdown",
      "metadata": {
        "id": "3sjNVvgtOuom"
      },
      "source": [
        "<div style=\"page-break-after: always; visibility: hidden\">\n",
        "\\pagebreak\n",
        "</div>"
      ]
    },
    {
      "cell_type": "markdown",
      "metadata": {
        "id": "ONAtvco6RpKR"
      },
      "source": [
        "### 1.1.4\n",
        "Some names refer to the same characters (e.g. `'Arthur' = 'King Arthur'`). A function is provided to extract the disambiguation dictionary: each key represents a name and the value represents the true character name (e.g. `{'Arthur': 'King-Arthur', 'King': 'King-Arthur', 'Bedivere':'Sir Bedivere'}`). Disambiguation sets, i.e. a list with sets representing the multiple names of a single character, are also provided.\n",
        "\n",
        "> There may be some mistakes, but it does not matter (e.g. `'Cornwall' = 'King of Cornwall'`)"
      ]
    },
    {
      "cell_type": "code",
      "execution_count": 14,
      "metadata": {
        "id": "9i6zrrZ1RpKS"
      },
      "outputs": [],
      "source": [
        "disambiguate_to = {}\n",
        "for x in all_characters:\n",
        "    for y in all_characters:\n",
        "        if x in y and x!=y:\n",
        "            if x in disambiguate_to:\n",
        "                previous_y = disambiguate_to[x]\n",
        "                if len(y)>len(previous_y): disambiguate_to[x] = y\n",
        "            else:\n",
        "                disambiguate_to[x] = y\n",
        "disambiguate_to.update({\"King\": \"King Arthur\",\n",
        "                        \"King of England\": \"King Arthur\",\n",
        "                        \"Queen\": \"Queen Guenever\",\n",
        "                        \"Sir Lancelot\": \"Sir Launcelot\"})\n",
        "\n",
        "disambiguate_sets = []\n",
        "for x,y in disambiguate_to.items():\n",
        "    inserted = False\n",
        "    for z in disambiguate_sets:\n",
        "        if x in z or y in z:\n",
        "            z.add(x); z.add(y)\n",
        "            inserted = True\n",
        "    if not inserted:\n",
        "        disambiguate_sets.append(set([x,y]))\n",
        "\n",
        "while True:\n",
        "    to_remove,to_add = [],[]\n",
        "    for i1,s1 in enumerate(disambiguate_sets[:-1]):\n",
        "        for s2 in disambiguate_sets[i1+1:]:\n",
        "            if len(s1.intersection(s2))>0:\n",
        "                to_remove.append(s1)\n",
        "                to_remove.append(s2)\n",
        "                to_add.append(s1.union(s2))\n",
        "    if len(to_add)>0:\n",
        "        for rm in to_remove:\n",
        "            disambiguate_sets.remove(rm)\n",
        "        for ad in to_add:\n",
        "            disambiguate_sets.append(ad)\n",
        "    else: break"
      ]
    },
    {
      "cell_type": "markdown",
      "metadata": {
        "id": "YI0jcVe6iUdl"
      },
      "source": [
        "### 1.1.5\n",
        "Prepare the topics for the queries.\n",
        "\n",
        "> Each character name (including alternative names) represents a topic."
      ]
    },
    {
      "cell_type": "code",
      "execution_count": 15,
      "metadata": {
        "id": "XqtWEn1liUdo",
        "colab": {
          "base_uri": "https://localhost:8080/"
        },
        "outputId": "c430f0f7-b133-49b6-efa2-470ace7dd907"
      },
      "outputs": [
        {
          "output_type": "stream",
          "name": "stdout",
          "text": [
            "terrier-assemblies 5.7 jar-with-dependencies not found, downloading to /root/.pyterrier...\n",
            "Done\n",
            "terrier-python-helper 0.0.7 jar not found, downloading to /root/.pyterrier...\n",
            "Done\n"
          ]
        },
        {
          "output_type": "stream",
          "name": "stderr",
          "text": [
            "PyTerrier 0.9.2 has loaded Terrier 5.7 (built by craigm on 2022-11-10 18:30) and terrier-helper 0.0.7\n",
            "\n"
          ]
        }
      ],
      "source": [
        "#YOUR CODE STARTS HERE#\n",
        "\n",
        "\n",
        "top = [(j,i[0]) for i in enumerate(disambiguate_sets,1) for j in list(i[1])]\n",
        "mistakes= [\"King\", \"England\", \"Queen\"]\n",
        "top = [x for x in top if x[0] not in mistakes]\n",
        "\n",
        "topics = pd.DataFrame({'query': [x[0] for x in top], \"qid\": [str(i[1]) for i in top]})\n",
        "\n",
        "\n",
        "\n",
        "if not pt.started(): pt.init()\n",
        "\n",
        "#YOUR CODE ENDS HERE#\n",
        "#THIS IS LINE 30#"
      ]
    },
    {
      "cell_type": "markdown",
      "metadata": {
        "id": "rW5fzpmE-ygj",
        "tags": [
          "remove_cell"
        ]
      },
      "source": [
        "Print the first 5 rows.\n",
        "\n",
        "[comment]: <> (#SHOW_CELL#)"
      ]
    },
    {
      "cell_type": "code",
      "execution_count": 19,
      "metadata": {
        "colab": {
          "base_uri": "https://localhost:8080/"
        },
        "id": "xcH9NXMY-ygj",
        "outputId": "e70203d2-178a-45f3-8938-5584840369f6"
      },
      "outputs": [
        {
          "output_type": "stream",
          "name": "stdout",
          "text": [
            "\n",
            "           query          qid\n",
            "--  -------------------  -----\n",
            "0         Accolon          1\n",
            "1   Sir Accolon of Gaul    1\n",
            "2       Sir Accolon        1\n",
            "3         Gaheris          2\n",
            "4       Sir Gaheris        2\n",
            "\n"
          ]
        }
      ],
      "source": [
        "#YOUR CODE STARTS HERE#\n",
        "\n",
        "\n",
        "print()\n",
        "print(tabulate(topics.head(5), headers='keys', tablefmt = \"heavy_outline\", numalign='center', stralign=\"center\"))\n",
        "print()\n",
        "\n",
        "\n",
        "#YOUR CODE ENDS HERE#\n",
        "#THIS IS LINE 10#"
      ]
    },
    {
      "cell_type": "markdown",
      "metadata": {
        "id": "hg_hRTAoidRf"
      },
      "source": [
        "### 1.1.6\n",
        "Prepare the relevance scores for the queries.\n",
        "\n",
        "> A document is considered relevant (1) if its **corpus** contains the character's name or one of its alternative names, otherwise is not relevant (0)."
      ]
    },
    {
      "cell_type": "code",
      "execution_count": 20,
      "metadata": {
        "id": "j4TR5vabidRi"
      },
      "outputs": [],
      "source": [
        "#YOUR CODE STARTS HERE#\n",
        "\n",
        "topid, top_r  = list(), list()\n",
        "\n",
        "for i in range(len(top)):\n",
        "    for j in range(len(texts_1+texts_2)):\n",
        "          top_r.append(str(top[i][0]))\n",
        "          topid.append(str(top[i][1]))\n",
        "rs = []\n",
        "for i in top:\n",
        "  for j in texts_1+texts_2:\n",
        "    if i[0] in j:\n",
        "      rs.append(1)\n",
        "    else:\n",
        "      rs.append(0)\n",
        "\n",
        "df_scores =  pd.DataFrame({'qid': topid, 'label':rs, 'docno':num_doc*len(top)})\n",
        "\n",
        "#YOUR CODE ENDS HERE#\n",
        "#THIS IS LINE 30#"
      ]
    },
    {
      "cell_type": "markdown",
      "metadata": {
        "id": "e3C5EkbzWJzt",
        "tags": [
          "remove_cell"
        ]
      },
      "source": [
        "Print the first and last row, and the shape of the DataFrame.\n",
        "\n",
        "[comment]: <> (#SHOW_CELL#)"
      ]
    },
    {
      "cell_type": "code",
      "execution_count": 25,
      "metadata": {
        "colab": {
          "base_uri": "https://localhost:8080/"
        },
        "id": "kp2OF05aWJzu",
        "outputId": "dcb0f3e8-5a70-46e8-8069-0ff9b8f779c6"
      },
      "outputs": [
        {
          "output_type": "stream",
          "name": "stdout",
          "text": [
            "\n",
            "df_scores.shape: (48288, 3)\n",
            "\n",
            "\n",
            "        qid    label    docno\n",
            "-----  -----  -------  -------\n",
            "  0      1       0        1\n",
            "48287   44       1       503\n",
            "\n"
          ]
        }
      ],
      "source": [
        "#YOUR CODE STARTS HERE#\n",
        "\n",
        "print(\"\\ndf_scores.shape: {}\\n\".format(df_scores.shape))\n",
        "print()\n",
        "print(tabulate(df_scores.iloc[[0, -1]], headers='keys', tablefmt = \"heavy_outline\", numalign='center', stralign=\"center\"))\n",
        "print()\n",
        "\n",
        "\n",
        "#YOUR CODE ENDS HERE#\n",
        "#THIS IS LINE 10#"
      ]
    },
    {
      "cell_type": "markdown",
      "metadata": {
        "id": "MeJlxd5BZjRI"
      },
      "source": [
        "### 1.1.7\n",
        "Choose several preprocessing configurations (at least 2, no more than 4).\n",
        "\n",
        "For each of them, construct an index on the `title` field.\n",
        "\n",
        "For the last of them, report the number of indexed documents and terms."
      ]
    },
    {
      "cell_type": "code",
      "source": [
        "import warnings \n",
        "warnings.filterwarnings('ignore')"
      ],
      "metadata": {
        "id": "Q_Ut4awBX9GJ"
      },
      "execution_count": 26,
      "outputs": []
    },
    {
      "cell_type": "code",
      "execution_count": 27,
      "metadata": {
        "colab": {
          "base_uri": "https://localhost:8080/"
        },
        "id": "WTSwJXbkZqp5",
        "outputId": "ed992fca-4279-4d25-cbd7-ff7bbe4b5ecd"
      },
      "outputs": [
        {
          "output_type": "stream",
          "name": "stdout",
          "text": [
            "\n",
            "Number of indexed documents: 503 \n",
            "Number of indexed terms: 4542\n"
          ]
        }
      ],
      "source": [
        "#YOUR CODE STARTS HERE#\n",
        "prepr_conf = [\"\", \"Stopwords\", \"EnglishSnowballStemmer\", \"Stopwords, EnglishSnowballStemmer\"]\n",
        "\n",
        "def create_index(preprocessing_configuration, field, numero):\n",
        "  pd_indexer = pt.DFIndexer(\"./Inverted_Index_\"+str(numero), overwrite=True)\n",
        "  pd_indexer.setProperty(\"termpipelines\", preprocessing_configuration)\n",
        "  indexref = pd_indexer.index(df[field], df[\"docno\"]); return indexref\n",
        "\n",
        "indexes, c = list(), 0\n",
        "\n",
        "for configuration in prepr_conf:\n",
        "  indexref = create_index(configuration, \"Texts\", c)\n",
        "  indexes.append(indexref)\n",
        "  c+=1\n",
        "\n",
        "index_factory = pt.IndexFactory.of(indexes[-1])\n",
        "print(\"\\nNumber of indexed documents: {} \\nNumber of indexed terms: {}\".format(index_factory.getCollectionStatistics().getNumberOfDocuments(),\n",
        "                                                                      index_factory.getCollectionStatistics().getNumberOfUniqueTerms()))\n",
        "#YOUR CODE ENDS HERE#\n",
        "#THIS IS LINE 20#"
      ]
    },
    {
      "cell_type": "markdown",
      "metadata": {
        "id": "kt6pXlGxZq1g"
      },
      "source": [
        "### 1.1.8\n",
        "Choose several weighting models (at least 2, no more than 5).\n",
        "\n",
        "For each of them, for each of the indices created in last step, build a retrieval model."
      ]
    },
    {
      "cell_type": "code",
      "execution_count": 28,
      "metadata": {
        "id": "3c8vPdgwZr77"
      },
      "outputs": [],
      "source": [
        "#YOUR CODE STARTS HERE#\n",
        "\n",
        "def create_retrieval_model(indexref, scoring_function):\n",
        "  return pt.BatchRetrieve(indexref, wmodel = scoring_function)\n",
        "\n",
        "weight_models = [\"CoordinateMatch\", \"TF_IDF\", \"BM25\", \"DPH\", \"Hiemstra_LM\"]\n",
        "models = {}\n",
        "\n",
        "for i in range(len(indexes)):\n",
        "  idx_ref = indexes[i]\n",
        "  w = []\n",
        "\n",
        "  for wmodel in weight_models:\n",
        "    retrieval_model = create_retrieval_model(idx_ref, wmodel)\n",
        "    w.append(retrieval_model)\n",
        "  models[i] = w\n",
        "\n",
        "\n",
        "#YOUR CODE ENDS HERE#\n",
        "#THIS IS LINE 20#"
      ]
    },
    {
      "cell_type": "markdown",
      "metadata": {
        "id": "9rqpaEKvZupX"
      },
      "source": [
        "### 1.1.9\n",
        "Choose several evaluation metrics (at least 3, no more than 6) and put them in a list.\n",
        "\n",
        "Add the following metrics to the list: Recall at 5, Normalized Discounted Cumulative Gain at 20, Mean Average Precision.\n",
        "\n",
        "Obviously, the metrics you choose cannot be **completely identical** to these 3 we specified."
      ]
    },
    {
      "cell_type": "code",
      "execution_count": 29,
      "metadata": {
        "id": "A05Rgv64Zvde"
      },
      "outputs": [],
      "source": [
        "#YOUR CODE STARTS HERE#\n",
        "\n",
        "\n",
        "ours = [ \"P_3\", \"P_5\", \"recip_rank\", \"mrt\", \"recall_10\", \"ndcg_cut_10\"]\n",
        "\n",
        "requested = ['recall_5', 'ndcg_cut_20', 'map']\n",
        "\n",
        "metrics = sorted(ours + requested)\n",
        "\n",
        "\n",
        "\n",
        "\n",
        "\n",
        "#YOUR CODE ENDS HERE#\n",
        "#THIS IS LINE 20#"
      ]
    },
    {
      "cell_type": "markdown",
      "metadata": {
        "id": "72kpxJnjZv40"
      },
      "source": [
        "### 1.1.10\n",
        "For each index built in step 1.1.7, run an experiment to obtain the values associated to each evaluation metrics specified in 1.1.8 for each of the weighting models chosen in 1.1.9."
      ]
    },
    {
      "cell_type": "code",
      "execution_count": 30,
      "metadata": {
        "colab": {
          "base_uri": "https://localhost:8080/",
          "height": 145,
          "referenced_widgets": [
            "df3e071f3ace447d9c310823b00d5ee7",
            "02e39254dc874f6c8851f9abb51c23de",
            "1f20906775fb456281c0f468ea3422b5",
            "f05dd0a3b8f142548420b7564beb6a17",
            "f8b7e053910a4a7fa5e3dce7481844e0",
            "4cb85565db7f49118869a0da5124110e",
            "1cf01226e7174318b58374614858ffab",
            "a939484008284f02a52d852d8cb1d07f",
            "617a0429d6aa40f5957d6607d8fc9b74",
            "68a7152285bd464c8bd2bcde7f582c7e",
            "9647c44088f047ca9f7088cd131b06cb",
            "3ec5206eb2d54de1900c8a6964178c42",
            "7ea0f231a9714d669bf8da064ab9028f",
            "fa7cb0a294c8402db5e0f5ede24e66b3",
            "ca319c760593404baef3d57250cb4382",
            "c1e205424cdd4c5e94f2e42f3b51754f",
            "af0139ae46244734a632322dd034a759",
            "46f38103efc7424f99133d44be1964f6",
            "1c87c1540169465e925f976338b98647",
            "c45f906c02a14ea18353393db8f08956",
            "6b0e44ad414a42a6bc5f73e16dd72c7d",
            "7f63238d1af54d98a62f90242d467208",
            "5de2b1b301ee40c1960bcb411e9e14d8",
            "cede170637bd4018b88c6720bc307949",
            "a678be4691d04f33a93da989e8e54f19",
            "62291280cdc94985bcfe86d3a85e6377",
            "3ae8fc9646ce4d65a9839122a624c07e",
            "6ff74e36619744bab985f668e4e79b40",
            "164c4f7705d447e4ae3dc9b9801a0fbb",
            "74dbf2c1030b4187b94729be237f5ada",
            "2279a9764da74927bff94ee0220b4fe5",
            "6320d08de1ba491db16139f646f7d7e8",
            "4b58a61720a245f39322722a15eda811",
            "0e5bb6f923c54ebd93fd851b3315a192",
            "ca25785859674a97827daa2fd04e1d30",
            "23daf696109c437c81950cba137a14d0",
            "b8f2fe2b8f29432e81a14f30cf47199b",
            "0fdde03e68dc492bab360a5081b518ff",
            "a5bf2135bcba40a3850442061a2de76f",
            "da8fc716421a4685ad5dba742f70e712",
            "aea85065d9704bd7b379d2466bc410d4",
            "a6ae0996e6444298a9f7c41305d4adb8",
            "89840ac438f541f8bb0b4fe0a2e1c538",
            "a1b4248f1b0d4652b98fc58b306706b3"
          ]
        },
        "id": "VUTQOaEYZ0LY",
        "outputId": "b0f4a031-da6f-411c-d694-8ca3c5cd7f7a"
      },
      "outputs": [
        {
          "output_type": "display_data",
          "data": {
            "text/plain": [
              "pt.Experiment:   0%|          | 0/5 [00:00<?, ?system/s]"
            ],
            "application/vnd.jupyter.widget-view+json": {
              "version_major": 2,
              "version_minor": 0,
              "model_id": "df3e071f3ace447d9c310823b00d5ee7"
            }
          },
          "metadata": {}
        },
        {
          "output_type": "display_data",
          "data": {
            "text/plain": [
              "pt.Experiment:   0%|          | 0/5 [00:00<?, ?system/s]"
            ],
            "application/vnd.jupyter.widget-view+json": {
              "version_major": 2,
              "version_minor": 0,
              "model_id": "3ec5206eb2d54de1900c8a6964178c42"
            }
          },
          "metadata": {}
        },
        {
          "output_type": "display_data",
          "data": {
            "text/plain": [
              "pt.Experiment:   0%|          | 0/5 [00:00<?, ?system/s]"
            ],
            "application/vnd.jupyter.widget-view+json": {
              "version_major": 2,
              "version_minor": 0,
              "model_id": "5de2b1b301ee40c1960bcb411e9e14d8"
            }
          },
          "metadata": {}
        },
        {
          "output_type": "display_data",
          "data": {
            "text/plain": [
              "pt.Experiment:   0%|          | 0/5 [00:00<?, ?system/s]"
            ],
            "application/vnd.jupyter.widget-view+json": {
              "version_major": 2,
              "version_minor": 0,
              "model_id": "0e5bb6f923c54ebd93fd851b3315a192"
            }
          },
          "metadata": {}
        }
      ],
      "source": [
        "#YOUR CODE STARTS HERE#\n",
        "\n",
        "experiments = []\n",
        "\n",
        "for i in models:\n",
        "\n",
        "  res_exp = pt.Experiment(\n",
        "      models[i],\n",
        "      topics = topics, qrels = df_scores,\n",
        "      eval_metrics = metrics,\n",
        "      names = weight_models ,\n",
        "      highlight = \"bold\", verbose=True)\n",
        "\n",
        "  experiments.append(res_exp)\n",
        "\n",
        "\n",
        "\n",
        "\n",
        "#YOUR CODE ENDS HERE#\n",
        "#THIS IS LINE 30#"
      ]
    },
    {
      "cell_type": "markdown",
      "metadata": {
        "id": "qBoF_e5reRQR"
      },
      "source": [
        "### 1.1.11\n",
        "For the last index constructed (i.e. corresponding to the last preprocessing chosen), print out the PyTerrier table with the weighting models chosen by you on the rows and the evaluation metrics chosen by you + those specified by us on the columns. \n",
        "\n",
        "Highlight the best results in the result table."
      ]
    },
    {
      "cell_type": "code",
      "execution_count": 40,
      "metadata": {
        "colab": {
          "base_uri": "https://localhost:8080/"
        },
        "id": "lyxdQmr6e-sZ",
        "outputId": "1de25271-8cd3-4ac3-a0d3-32577536e3e2"
      },
      "outputs": [
        {
          "output_type": "stream",
          "name": "stdout",
          "text": [
            "\n",
            "last index constructed → preprocessing : (Stopwords, EnglishSnowballStemmer)\n",
            "\n",
            "         name          P_3       P_5       map      ndcg_cut_10    ndcg_cut_20    recall_10    recall_5    recip_rank     mrt\n",
            "--  ---------------  --------  --------  --------  -------------  -------------  -----------  ----------  ------------  -------\n",
            "0   CoordinateMatch  0.537879  0.531818  0.605045    0.587579       0.608691      0.366897     0.26369      0.592917    12.4274\n",
            "1       TF_IDF       0.856061  0.813636  0.863961     0.89647       0.906999      0.481869     0.360898     0.937121    8.86033\n",
            "2        BM25        0.727273  0.704545  0.759902    0.753596        0.78376      0.453841     0.32012      0.755341    6.96239\n",
            "3         DPH        0.825758    0.8     0.830613    0.880981       0.892253      0.475681     0.336285     0.912338    8.4505\n",
            "4     Hiemstra_LM    0.833333  0.804545  0.816116    0.871692       0.883947      0.478766     0.331369     0.883333    7.14589\n",
            "\n"
          ]
        }
      ],
      "source": [
        "#YOUR CODE STARTS HERE#\n",
        "\n",
        "last = -1\n",
        "\n",
        "print(\"\\nlast index constructed → preprocessing : ({})\\n\".format(prepr_conf[last]))\n",
        "print(tabulate(experiments[last].data, headers='keys', tablefmt = \"heavy_outline\", numalign='center', stralign=\"center\"))\n",
        "print()\n",
        "\n",
        "#YOUR CODE ENDS HERE#\n",
        "#THIS IS LINE 10#"
      ]
    },
    {
      "cell_type": "markdown",
      "metadata": {
        "id": "9PF4-s-VZ0pD"
      },
      "source": [
        "### 1.1.12\n",
        "Select the Top-4 configurations (preprocessing, weighting model) according to the Mean Average Precision (MAP), taking into account the results obtained in section 1.1.10.\n",
        "\n",
        "For these 4 configurations, provide the following plot (re-run the evaluations just for this configurations, to get the required evaluation metrics):\n",
        "\n",
        "* Recall@k plot\n",
        "    * the x axis represents the considered values for k: you must consider k 𝜖 {1, 3, 5, 10, 20, 50}\n",
        "    * the y axis represents the average Recall@k over all provided queries\n",
        "    * each curve represents one of the 4 search engine configurations"
      ]
    },
    {
      "cell_type": "code",
      "execution_count": 43,
      "metadata": {
        "colab": {
          "base_uri": "https://localhost:8080/",
          "height": 808,
          "referenced_widgets": [
            "241426f944ac45c2ac227a6534b2be5b",
            "dd28b1c8bbcc4a40869ebca76f9f15a4",
            "b70740e9b1e945d5b79cc077a4f5ebca",
            "db921958b0274e0cb7fa66794b3b062b",
            "a125933aeb484c36a6a7c4c8aae55b8d",
            "2c7d218354c04dbd96bdd80823a96dc4",
            "aa4e50b9ed7b4b8f9ae8bf95b3fb74b6",
            "54f69cab3b9e4b3aa306aaeb439c35c5",
            "c67de28935584c6bb77dfbc7354118fb",
            "69c4ab122123437b9dc4e4ad5bd8761a",
            "27dbf1ffed6149d598a521af60daf24b"
          ]
        },
        "id": "tz3cg5gVZ-C2",
        "outputId": "45a6c2d7-9264-4400-b93c-2a44c0341ddc"
      },
      "outputs": [
        {
          "output_type": "display_data",
          "data": {
            "text/plain": [
              "pt.Experiment:   0%|          | 0/4 [00:00<?, ?system/s]"
            ],
            "application/vnd.jupyter.widget-view+json": {
              "version_major": 2,
              "version_minor": 0,
              "model_id": "241426f944ac45c2ac227a6534b2be5b"
            }
          },
          "metadata": {}
        },
        {
          "output_type": "stream",
          "name": "stdout",
          "text": [
            "\n",
            "     name    recall_1    recall_3    recall_5    recall_10    recall_20    recall_50\n",
            "--  ------  ----------  ----------  ----------  -----------  -----------  -----------\n",
            "0   TF_IDF   0.12036     0.252841    0.330545    0.472699     0.639612     0.819962\n",
            "1   TF_IDF   0.12036     0.252841    0.33153     0.474593     0.638964     0.819314\n",
            "2   TF_IDF   0.121269    0.253846    0.360898    0.481869     0.642367     0.832777\n",
            "3   TF_IDF   0.121269    0.253846    0.359004    0.479975     0.640884     0.831581\n",
            "\n"
          ]
        },
        {
          "output_type": "display_data",
          "data": {
            "text/plain": [
              "<Figure size 1000x600 with 1 Axes>"
            ],
            "image/png": "[encoded data removed]"
          },
          "metadata": {}
        }
      ],
      "source": [
        "#YOUR CODE STARTS HERE#\n",
        "\n",
        "k = [1, 3, 5, 10, 20, 50]\n",
        "metrics_2 = ['recall_'+str(x) for x in k]\n",
        "\n",
        "frame = pd.concat([x.data for x in experiments])\n",
        "frame[\"prepr_conf\"] = prepr_conf*5\n",
        "frame = frame.sort_values(by=['map'], ascending=False).head(4)\n",
        "indici = [prepr_conf.index(i) for i in frame[\"prepr_conf\"]]\n",
        "\n",
        "\n",
        "lista = [models[x][j] for x,j in zip(indici,frame.index)]\n",
        "\n",
        "res_exp = pt.Experiment( lista, topics = topics, qrels = df_scores, verbose=True,\n",
        "                                  eval_metrics = metrics_2, names = frame.name, highlight = \"bold\")\n",
        "print(\"\")                       \n",
        "print(tabulate(res_exp.data, headers='keys', tablefmt = \"heavy_outline\", numalign='center', stralign=\"center\"))\n",
        "print(\"\")\n",
        "\n",
        "plt.figure(figsize=(10,6))\n",
        "\n",
        "for i in range(4):\n",
        "  row = res_exp.data.iloc[i][1:]\n",
        "  plt.plot(k, row)\n",
        "\n",
        "frame.loc[frame[\"prepr_conf\"] == \"\", \"prepr_conf\"] = \"Nan\"\n",
        "lgn = [\"prepr_conf : \"+ i + \", w_model : \"+ j for i,j in zip(frame.name, frame.prepr_conf)]\n",
        "\n",
        "plt.legend(lgn)\n",
        "plt.title(\"\\nRecall at K:\\n\", fontsize= 15)\n",
        "plt.xlabel(\"\\nK\", fontsize=13)\n",
        "plt.ylabel(\"\\nRecall\", fontsize=13)\n",
        "plt.grid()\n",
        "plt.show()\n",
        "\n",
        "\n",
        "\n",
        "#YOUR CODE ENDS HERE#\n",
        "#THIS IS LINE 50#"
      ]
    },
    {
      "cell_type": "markdown",
      "metadata": {
        "id": "cjPAwZTmaE-n"
      },
      "source": [
        "### 1.1.13\n",
        "According only to the Recall@k plot, which is the best search engine configuration? Explain your answer in **at most 3 sentences**.\n",
        "\n",
        "<br>\n",
        "\n",
        "------------YOUR TEXT STARTS HERE------------\n",
        "\n",
        "<br>\n",
        "\n",
        "According only to the Recall_k plot, all search engine configurations are very similar to each other.\\\n",
        "Best search engine is the one implemented with stemming and stopwords removal and TF-IDF as weighting model, since this has a higher Recall."
      ]
    },
    {
      "cell_type": "markdown",
      "metadata": {
        "id": "e2GUFxbPz0zb"
      },
      "source": [
        "<div style=\"page-break-after: always; visibility: hidden\">\n",
        "\\pagebreak\n",
        "</div>"
      ]
    },
    {
      "cell_type": "markdown",
      "metadata": {
        "id": "0tNC1ZjoCyZx"
      },
      "source": [
        "### 1.1.14\n",
        "For the configuration you selected in Part 1.1.13, provide an **example of the functioning** of your search enginge.\n",
        "\n",
        "The query should be `King Mark of Cornwall`."
      ]
    },
    {
      "cell_type": "code",
      "execution_count": 66,
      "metadata": {
        "colab": {
          "base_uri": "https://localhost:8080/"
        },
        "id": "CcQyEtaMCyZ0",
        "outputId": "3ed2cc15-401b-4c46-cb02-99349b948ae1"
      },
      "outputs": [
        {
          "output_type": "stream",
          "name": "stdout",
          "text": [
            "q.shape : (428, 6) \n",
            "\n",
            "      qid    docid    docno    rank    score            query\n",
            "---  -----  -------  -------  ------  --------  ---------------------\n",
            " 0     1      157      158      0     7.52123   King Mark of Cornwall\n",
            " 1     1      158      159      1     7.15052   King Mark of Cornwall\n",
            " 2     1      245      246      2     6.90861   King Mark of Cornwall\n",
            "425    1      448      449     425    0.494038  King Mark of Cornwall\n",
            "426    1      82       83      426    0.450573  King Mark of Cornwall\n",
            "427    1      313      314     427    0.439929  King Mark of Cornwall\n"
          ]
        }
      ],
      "source": [
        "#YOUR CODE STARTS HERE#\n",
        "\n",
        "\n",
        "query = \"King Mark of Cornwall\"\n",
        "\n",
        "q = models[3][1].search(query,)\n",
        "\n",
        "print(\"q.shape :\", q.shape, \"\\n\")\n",
        "\n",
        "print(tabulate(pd.concat([q.iloc[:3], q.iloc[-3:]]) , headers='keys', \n",
        "               tablefmt = \"heavy_outline\", numalign='center', stralign=\"center\"))\n",
        "\n",
        "\n",
        "#YOUR CODE ENDS HERE#\n",
        "#THIS IS LINE 20#"
      ]
    },
    {
      "cell_type": "markdown",
      "metadata": {
        "id": "JSWFJqVOaH8n"
      },
      "source": [
        "## Part 1.2"
      ]
    },
    {
      "cell_type": "markdown",
      "metadata": {
        "id": "iPPOwfZxh71A",
        "tags": [
          "remove_cell"
        ]
      },
      "source": [
        "You will be given a scenario and some requirements to fulfill. By respecting the requirements, you will have to choose the proper **configuration**, represented in terms of:\n",
        "1. A suitable preprocessing (if any)\n",
        "2. A suitable weighting model (if any)\n",
        "3. A suitable evaluation metric (if any)\n",
        "\n",
        "You must then provide an explanation of your choice in **at most 3 sentences**.\n",
        "\n",
        "N.B. There is not necessarily only one correct answer."
      ]
    },
    {
      "cell_type": "markdown",
      "metadata": {
        "id": "BuqKNXJyZ-W2"
      },
      "source": [
        "**Scenario:** The company ExcaliburDMT needs a search engine for the book *Le Morte D’Arthur* by Thomas Malory. The book is divided into two volumes.\n",
        "\n",
        "> They want to consider each chapter as a document with two fields: title of the chapter and corpus of the chapter. For now, they only want to index the title of each chapter.\n",
        "\n",
        "> They only want their users to be able to query character namesᴬ and match them exactly (also, order is importantᴮ).\n",
        "\n",
        "> They would like to show 10 results on the screen in a random order, in a sword-like shape.\n",
        "\n",
        "> The company wants to evaluate the performance of the search engine: each chapter's title containing a character's name is considered relevant for a query containing that character's name.\n",
        "\n",
        "ᴬ Character names are extracted from the collection of documents. See Part 1.2.4.\n",
        "\n",
        "ᴮ Order is important: if the query is \"King Arthur\", \"Arthur, King of Britain\" should have less scoring than \"King Arthur of Camelot\".\n",
        "\n",
        "Implement one search engine with this configuration and obtain and print out the evaluation metrics you specified."
      ]
    },
    {
      "cell_type": "markdown",
      "metadata": {
        "id": "sP4FiomrcPOh"
      },
      "source": [
        "What is the configuration (as defined in part 1.2) that would best meet the needs of the ExcaliburDMT company? **Use at most 3 sentences (1 per section).**\n",
        "\n",
        "<br>\n",
        "\n",
        "------------YOUR TEXT STARTS HERE------------\n",
        "\n",
        "<br>\n",
        "\n",
        "**Preprocessing**: transforming text to lowercase, removing unwanted characters (non-alphanumeric characters and punctuation) and tokenization\n",
        "\n",
        "**Weighting model**: CoordinateMatch\n",
        "\n",
        "**Evaluation metric**: Number of relevant documents retrieved\n",
        "\n"
      ]
    },
    {
      "cell_type": "markdown",
      "metadata": {
        "id": "1xY2RTwtYClD"
      },
      "source": [
        "Provide an explanation of your choice in **at most 3 sentences**.\n",
        "\n",
        "<br>\n",
        "\n",
        "------------YOUR TEXT STARTS HERE------------\n",
        "\n",
        "<br>\n",
        "\n",
        "**No preprocessing** with stemming and stopword removal because we wouldn't find the exact match with character name in queries.\n",
        "\n",
        "**CoordinateMatch** because a document is considered relevant if it's title contains the character name in the query, so the appropriate weighting model should be a binary model. \n",
        "\n",
        "**Number of relevant documents retrieved** because this way we can check how the order in query's words matters. \n",
        "\n",
        "\n",
        "<br>\n"
      ]
    },
    {
      "cell_type": "markdown",
      "metadata": {
        "id": "wQ6qvKTmiUc5"
      },
      "source": [
        "---------------------------------------\n",
        "\n",
        "# Part 2"
      ]
    },
    {
      "cell_type": "markdown",
      "metadata": {
        "id": "dMpwHp6TiUc7",
        "tags": [
          "remove_cell"
        ]
      },
      "source": [
        "In this part of the homework, you have to find, in an approximated way, all near-duplicate documents inside a collection of documents.\n",
        "\n",
        "These constraints **must** be satisfied while carrying out this part of the homework:\n",
        "\n",
        "  * We will consider Near-duplicates all those pair of documents that have a Jaccard similarity greater than or equal to 0.93\n",
        "  * Each set of shingles, that represents an original document, must be sketched in a Min-Hashing sketch with a length of at most 332\n",
        "  * The probability to have as a near-duplicate candidate a pair of documents with Jaccard=0.93 must be > 0.96\n",
        "  * The generation process of near-duplicate pairs you implement must generate the smallest amount of both **False-Negatives** and **False-Positives**\n",
        "  * The running time of all the LSH process (LSH + approximate Jaccard) must be less than 2 minutes."
      ]
    },
    {
      "cell_type": "code",
      "source": [
        "!git clone https://github.com/LM1997610/DMT"
      ],
      "metadata": {
        "colab": {
          "base_uri": "https://localhost:8080/"
        },
        "id": "C87c8c8Dc5Vw",
        "outputId": "35770d84-09d7-46af-957a-cbae8ea430a6"
      },
      "execution_count": 70,
      "outputs": [
        {
          "output_type": "stream",
          "name": "stdout",
          "text": [
            "Cloning into 'DMT'...\n",
            "remote: Enumerating objects: 25, done.\u001b[K\n",
            "remote: Counting objects: 100% (25/25), done.\u001b[K\n",
            "remote: Compressing objects: 100% (23/23), done.\u001b[K\n",
            "remote: Total 25 (delta 10), reused 0 (delta 0), pack-reused 0\u001b[K\n",
            "Unpacking objects: 100% (25/25), 2.70 MiB | 2.38 MiB/s, done.\n"
          ]
        }
      ]
    },
    {
      "cell_type": "markdown",
      "metadata": {
        "id": "zhtA8EUvl_74",
        "tags": [
          "remove_cell"
        ]
      },
      "source": [
        "Import **ALL** the Python packages that you need for Part 2."
      ]
    },
    {
      "cell_type": "code",
      "execution_count": 71,
      "metadata": {
        "id": "V9OlKqQ_l_78",
        "tags": [
          "remove_output"
        ]
      },
      "outputs": [],
      "source": [
        "#REMOVE_OUTPUT#\n",
        "#YOUR CODE STARTS HERE#\n",
        "\n",
        "import csv\n",
        "import time\n",
        "import datetime\n",
        "import numpy as np\n",
        "import pandas as pd\n",
        "import matplotlib.pyplot as plt\n",
        "\n",
        "\n",
        "\n",
        "\n",
        "#YOUR CODE ENDS HERE#\n",
        "#THIS IS LINE 15#"
      ]
    },
    {
      "cell_type": "markdown",
      "metadata": {
        "id": "cCuflg5zkRbI",
        "tags": [
          "remove_cell"
        ]
      },
      "source": [
        "\n",
        "#### NDD functions\n",
        "A range of functions to perform the Near-Duplicates pipeline is provided by us. You must use them, but **you may not modify or overwrite** them under any circumstances. If you have any doubts about how they work, have a look at them to get an idea of what they do."
      ]
    },
    {
      "cell_type": "code",
      "source": [
        "set__characters_interest = set(\n",
        "    ['0', '1', '2', '3', '4', '5', '6', '7', '8', '9', 'a', 'b', 'c', 'd', 'e', 'f', 'g', 'h',\n",
        "     'i', 'j', 'k', 'l', 'm', 'n', 'o', 'p', 'q', 'r', 's', 't', 'u', 'v', 'w', 'x', 'y', 'z', ' '])"
      ],
      "metadata": {
        "id": "eVH5zo4ZgTU0"
      },
      "execution_count": null,
      "outputs": []
    },
    {
      "cell_type": "markdown",
      "metadata": {
        "id": "t9s4e_vRiUc8"
      },
      "source": [
        "## Part 2.1"
      ]
    },
    {
      "cell_type": "markdown",
      "metadata": {
        "id": "3acS73sLiUc-"
      },
      "source": [
        "### 2.1.1\n",
        "Download the dataset from the Drive link "
      ]
    },
    {
      "cell_type": "code",
      "execution_count": 72,
      "metadata": {
        "colab": {
          "base_uri": "https://localhost:8080/"
        },
        "id": "32gvfqlniUc_",
        "outputId": "09debcbb-723e-47e3-a08d-09bf53330b8f",
        "tags": [
          "remove_output"
        ]
      },
      "outputs": [
        {
          "output_type": "stream",
          "name": "stdout",
          "text": [
            "Downloading...\n",
            "From (uriginal): https://drive.google.com/uc?id=16LQDmla82XFK1B0lr8H9ycm01pxjURXN\n",
            "From (redirected): https://drive.google.com/uc?id=16LQDmla82XFK1B0lr8H9ycm01pxjURXN&confirm=t&uuid=dca41627-e2fa-46cf-a0da-a3cfe4b047b2\n",
            "To: /content/150K_lyrics_from_MetroLyrics.csv\n",
            "100% 186M/186M [00:03<00:00, 48.8MB/s]\n"
          ]
        }
      ],
      "source": [
        "#REMOVE_OUTPUT#\n",
        "!gdown 16LQDmla82XFK1B0lr8H9ycm01pxjURXN"
      ]
    },
    {
      "cell_type": "markdown",
      "metadata": {
        "id": "5ayMSVnIkw7U"
      },
      "source": [
        "### 2.1.2\n",
        "Inspect the dataset: print the list of fields names. Print the value of the `song` field for the last 3 documents."
      ]
    },
    {
      "cell_type": "code",
      "execution_count": 73,
      "metadata": {
        "colab": {
          "base_uri": "https://localhost:8080/"
        },
        "id": "FPnts4j8kw7e",
        "outputId": "e061a2a4-221f-4216-b143-85b63fdcba09"
      },
      "outputs": [
        {
          "output_type": "stream",
          "name": "stdout",
          "text": [
            " dataframe.shape: (150000, 6)\n",
            "\n",
            " fields names: ['ID', 'song', 'year', 'artist', 'genre', 'lyrics']\n",
            "\n",
            "'song' for last 3 documents: ['oh-what-a-fool-i-have-been', 'lonely-boy', 'sidewalk-sinner']\n"
          ]
        }
      ],
      "source": [
        "#YOUR CODE STARTS HERE#\n",
        "\n",
        "data = pd.read_csv('150K_lyrics_from_MetroLyrics.csv')\n",
        "\n",
        "print(\" dataframe.shape: {}\\n\".format(data.shape))\n",
        "print(\" fields names:\", list(data.columns))\n",
        "print(\"\\n'song' for last 3 documents:\", list(data.song)[-3:])\n",
        "\n",
        "#YOUR CODE ENDS HERE#\n",
        "#THIS IS LINE 20#"
      ]
    },
    {
      "cell_type": "markdown",
      "metadata": {
        "id": "xnZrDCOnjTsn"
      },
      "source": [
        "### 2.1.3\n",
        "Turn the lyrics field of each document into a sets of shingles of length 4 and save the result to a file named `hw1_set_id_set_of_integers.tsv`"
      ]
    },
    {
      "cell_type": "code",
      "execution_count": 94,
      "metadata": {
        "colab": {
          "base_uri": "https://localhost:8080/"
        },
        "id": "_pkaOulsjTs1",
        "outputId": "11e03809-faac-42f5-bd53-6b677efc7e4b",
        "tags": [
          "remove_output"
        ]
      },
      "outputs": [
        {
          "output_type": "stream",
          "name": "stderr",
          "text": [
            "100%|██████████| 150000/150000 [02:18<00:00, 1082.64it/s]\n"
          ]
        },
        {
          "output_type": "stream",
          "name": "stdout",
          "text": [
            "Last processed doc_id: 209050\n",
            "\n",
            " max_shingle_id = 18766140\n",
            "\n",
            "\n"
          ]
        }
      ],
      "source": [
        "#REMOVE_OUTPUT#\n",
        "#YOUR CODE STARTS HERE#\n",
        "\n",
        "from DMT.minHash import Shingling\n",
        "s = Shingling()\n",
        "\n",
        "max_shingle_id = -1\n",
        "map__shingle__shingle_id = {}\n",
        "\n",
        "shingles_length = 4\n",
        "doc_id_idx = 0\n",
        "lyrics_field_idx  = -1\n",
        "\n",
        "max_shingle_id  = s.create_sets_of_shingle_ids(input_file_name = \"150K_lyrics_from_MetroLyrics.csv\",\n",
        "                                            output_file_name = \"hw1_set_id_set_of_integers.tsv\",\n",
        "                                            input_file_delimiter = ',', input_file_quotechar= '\"',\n",
        "                               set__characters_of_interest = set__characters_interest, shingle_width = shingles_length,\n",
        "                               doc_id_column_idx = doc_id_idx, field_column_idx = lyrics_field_idx)\n",
        "#YOUR CODE ENDS HERE#\n",
        "#THIS IS LINE 20#"
      ]
    },
    {
      "cell_type": "markdown",
      "metadata": {
        "id": "epPcNrZneMMH"
      },
      "source": [
        "### 2.1.4\n",
        "Load the file containing the sets of shingles and apply MinWiseHashing, saving the result into a file named `hw1_set_id_MinWiseHashing_sketch.tsv`. Choose the number of hash functions (n) in relation to the constraints highlighted at the beginning of part 2. Provide an explanation for your choice in **exactly one sentence**."
      ]
    },
    {
      "cell_type": "markdown",
      "metadata": {
        "id": "cDBWcU0sW4cy"
      },
      "source": [
        "------------YOUR TEXT STARTS HERE------------\n",
        "\n",
        "Number of hash functions (n) chosen in order to optimize the running time, furthermore $72$ is obtainable with many combinations of $r$ and $b$, this allows to adjust the treshold."
      ]
    },
    {
      "cell_type": "markdown",
      "metadata": {
        "id": "IHkKXWn-W4c4"
      },
      "source": [
        "<div style=\"page-break-after: always; visibility: hidden\">\n",
        "\\pagebreak\n",
        "</div>"
      ]
    },
    {
      "cell_type": "code",
      "execution_count": 95,
      "metadata": {
        "colab": {
          "base_uri": "https://localhost:8080/"
        },
        "id": "QaRV1E49eMMN",
        "outputId": "453dffcb-5a22-4d17-a62d-017420c0ea91",
        "tags": [
          "remove_output"
        ]
      },
      "outputs": [
        {
          "output_type": "stream",
          "name": "stderr",
          "text": [
            "100%|██████████| 150000/150000 [02:03<00:00, 1210.42it/s]\n"
          ]
        }
      ],
      "source": [
        "#REMOVE_OUTPUT#\n",
        "#YOUR CODE STARTS HERE#\n",
        "\n",
        "from DMT.minHash import MinWiseHashing\n",
        "m = MinWiseHashing()\n",
        "\n",
        "n_hashes = 72\n",
        "\n",
        "input_f = 'hw1_set_id_set_of_integers.tsv'\n",
        "output_f = 'hw1_set_id_MinWiseHashing_sketch.tsv'\n",
        "\n",
        "m.create_MinWiseHashing_sketches(input_file_name = input_f, \n",
        "                                 upper_bound_on_number_of_distinct_elements = max_shingle_id,\n",
        "        number_of_hash_functions_that_is_also_the_sketch_lenght_and_also_the_number_of_simulated_permutations = n_hashes,\n",
        "                        output_file_name = output_f, use_numpy_version=True)\n",
        "\n",
        "\n",
        "\n",
        "\n",
        "\n",
        "\n",
        "\n",
        "\n",
        "#YOUR CODE ENDS HERE#\n",
        "#THIS IS LINE 20#"
      ]
    },
    {
      "cell_type": "markdown",
      "metadata": {
        "id": "338Hp84Wff4h"
      },
      "source": [
        "### 2.1.5\n",
        "To perform Locality Sensivity Hashing, you have to choose the number of rows (r) and the number bands (b). List all the possible choices of r and b that satisfy the constraints highlighted at the beginning of part 2, according to the number of hash functions you chose.\n",
        "\n",
        "For all of these configurations, plot all the associated S-curves. The S-curve is defined as the probability (y-axis) that a pair of documents with Jaccard similarity j (x-axis) is selected as a near-duplicate candidate given r and b. Plot all S-curves in the same plot."
      ]
    },
    {
      "cell_type": "code",
      "execution_count": 96,
      "metadata": {
        "colab": {
          "base_uri": "https://localhost:8080/",
          "height": 679
        },
        "id": "YbKkdFpUff4j",
        "outputId": "6a6cb1fb-36cd-4147-bdd1-30a158f35338"
      },
      "outputs": [
        {
          "output_type": "stream",
          "name": "stdout",
          "text": [
            "\n",
            "n_hashes: 72  → (1, 72) (2, 36) (3, 24) (4, 18) (6, 12) (8, 9) (9, 8) (12, 6) \n",
            "\n"
          ]
        },
        {
          "output_type": "display_data",
          "data": {
            "text/plain": [
              "<Figure size 1000x600 with 1 Axes>"
            ],
            "image/png": "[encoded data removed]"
          },
          "metadata": {}
        }
      ],
      "source": [
        "#YOUR CODE STARTS HERE#\n",
        "\n",
        "j_sim, tresh =  0.93, 0.96\n",
        "\n",
        "def formula(a,b):\n",
        "    f = 1-((1-j_sim**a)**b); return f\n",
        "\n",
        "n_list = [x for x in range(1,n_hashes+1) if n_hashes % x == 0]\n",
        "x_r = list(zip(n_list, n_list[::-1]))\n",
        "list_okconstr = [(x[0],x[1],formula(x[0],x[1])) for x in x_r if formula(x[0],x[1]) > tresh]\n",
        "\n",
        "print(\"\\nn_hashes:\", n_hashes, \" →\", *[(x[0],x[1]) for x in list_okconstr],\"\\n\")\n",
        "\n",
        "plt.figure(figsize=(10,6))\n",
        "for i in list_okconstr:\n",
        "    f_array = [1 - (1 -(x)**i[0])**i[1] for x in np.linspace(0.0, 1, 500)]\n",
        "    plt.plot(np.linspace(0.0, 1, 500), f_array)\n",
        "        \n",
        "plt.legend([\"r: \"+str(i[0])+\",  b: \"+str(i[1])+\" → t =\"+str(round((1/i[1])**(1/i[0]),4)) for i in list_okconstr], \n",
        "           fontsize=11.5, bbox_to_anchor=(1.01, 1.05))\n",
        "plt.xticks(np.linspace(0.0, 1, 11))\n",
        "plt.title(\"\\nS-curves :\\n\", fontsize= 15)\n",
        "plt.xlabel(\"\\nJaccard similarity\", fontsize=13)\n",
        "plt.ylabel(\"\\nProbability to be pair of near-duplicate\", fontsize=13)\n",
        "\n",
        "plt.grid(), plt.show();\n",
        "\n",
        "\n",
        "#YOUR CODE ENDS HERE#\n",
        "#THIS IS LINE 30#"
      ]
    },
    {
      "cell_type": "markdown",
      "metadata": {
        "id": "xiT7X_6tzxKB"
      },
      "source": [
        "### 2.1.6\n",
        "Among all the configurations you plotted in the previous step, choose the one that gives the smallest amount of False-Positives and False-Negatives near-duplicates candidates, satisfying the provided constraints. You **must** take into account, that after the LSH procedure, the approximate Jaccard similarity between near-duplicate candidates is computed and used to reduce their number.\n",
        "\n",
        "Provide an explanation for your choice in **at most 3 sentences**."
      ]
    },
    {
      "cell_type": "code",
      "execution_count": 97,
      "metadata": {
        "id": "B29wNwF-3cs3"
      },
      "outputs": [],
      "source": [
        "#YOUR CODE STARTS HERE#\n",
        "\n",
        "erre, bi = 12, 6\n",
        "\n",
        "#YOUR CODE ENDS HERE#\n",
        "#THIS IS LINE 5#"
      ]
    },
    {
      "cell_type": "markdown",
      "metadata": {
        "id": "bIpGPSVKXAFm"
      },
      "source": [
        "------------YOUR TEXT STARTS HERE------------\n",
        "\n",
        "**$\\text{r}$** = $12$,\n",
        "**$\\text{b}$** = $6$\n",
        "\n",
        "This combination reduces **false negatives**  → probability to be near-duplicate candidate = $0.9613$ for items with **Jaccard similarity** = $0.93$\\\n",
        "While **false positives** (already minimized by choosing the rightmost curve) will be discarded by the approximate **Jaccard similarity** between near-duplicate candidates"
      ]
    },
    {
      "cell_type": "markdown",
      "metadata": {
        "id": "5QQbV277XAFp"
      },
      "source": [
        "<div style=\"page-break-after: always; visibility: hidden\">\n",
        "\\pagebreak\n",
        "</div>"
      ]
    },
    {
      "cell_type": "markdown",
      "metadata": {
        "id": "DSB4fmyuziPY"
      },
      "source": [
        "### 2.1.7\n",
        "Load the file containing the MinWiseHashing sketches and perform Locality Sensivity Hashing, using the parameters you chose in last step, considering also the computation of approximate Jaccard to reduce the number of candidates. Save the Near-Duplicates candidates obtained to a file named `hw1_NearDuplicates_set_a_id_set_b_id_approximate_jaccard.tsv`.\n",
        "\n",
        "Print the execution time."
      ]
    },
    {
      "cell_type": "code",
      "execution_count": 98,
      "metadata": {
        "colab": {
          "base_uri": "https://localhost:8080/"
        },
        "id": "ldSDHOACziPc",
        "outputId": "5e1fe635-9990-4e57-bd5f-b9a6a117c208"
      },
      "outputs": [
        {
          "output_type": "stream",
          "name": "stdout",
          "text": [
            "Starting the loading of the MinWiseHashing sketches from the input file.\n"
          ]
        },
        {
          "output_type": "stream",
          "name": "stderr",
          "text": [
            " 50%|████▉     | 150000/300001 [00:20<00:20, 7238.60it/s]\n"
          ]
        },
        {
          "output_type": "stream",
          "name": "stdout",
          "text": [
            "\n",
            "Number of sets = 150000\n",
            "\n",
            "Starting the mining of the CANDIDATES couples to be near duplicates.\n"
          ]
        },
        {
          "output_type": "stream",
          "name": "stderr",
          "text": [
            "100%|██████████| 6/6 [00:04<00:00,  1.42it/s]\n"
          ]
        },
        {
          "output_type": "stream",
          "name": "stdout",
          "text": [
            "\n",
            "Number of pairs of sets to be near-duplicate CANDIDATES = 20625\n",
            "\n",
            "\n",
            "Number of REFINED pairs of sets to be near-duplicate CANDIDATES = 17604\n",
            "\n",
            "\n",
            "FALSI POSITIVI =  3021\n",
            "\n",
            "Execution time: 0:00:25.49 seconds\n"
          ]
        }
      ],
      "source": [
        "#YOUR CODE STARTS HERE#\n",
        "\n",
        "from minHash import LSH\n",
        "l = LSH()\n",
        "\n",
        "input_f_name = \"hw1_set_id_MinWiseHashing_sketch.tsv\" \n",
        "output_f_name = \"hw1_NearDuplicates_set_a_id_set_b_id_approximate_jaccard.tsv\"\n",
        "\n",
        "st = time.time()\n",
        "l.mine_couples_of_Near_Duplicates(input_file_name = input_f_name , output_file_name = output_f_name, \n",
        "                                  r = erre, b = bi, jaccard_threshold = j_sim)\n",
        "et = time.time()\n",
        "\n",
        "print('Execution time:', str(datetime.timedelta(seconds = et - st))[:10] , 'seconds')\n",
        "\n",
        "#YOUR CODE ENDS HERE#\n",
        "#THIS IS LINE 30#"
      ]
    },
    {
      "cell_type": "markdown",
      "metadata": {
        "id": "jYELuuPT5GVA"
      },
      "source": [
        "### 2.1.8\n",
        "Load the file containing the number of near-duplicates candidates. Print the number of near-duplicates candidates you found."
      ]
    },
    {
      "cell_type": "code",
      "execution_count": 111,
      "metadata": {
        "colab": {
          "base_uri": "https://localhost:8080/"
        },
        "id": "axXzdylh5GVC",
        "outputId": "dbe8b635-5363-4b16-ebcb-abc97b02db40"
      },
      "outputs": [
        {
          "output_type": "stream",
          "name": "stdout",
          "text": [
            "\n",
            "Total number of near-duplicates candidates:  17604\n",
            "\n",
            " First 5 Near-Duplicates candidates found :\n",
            "\n",
            "1) ID_1: 93123 \n",
            "   ID_2: 93130  →  j_sim: 1.0\n",
            "\n",
            "2) ID_1: 118894 \n",
            "   ID_2: 118976  →  j_sim: 1.0\n",
            "\n",
            "3) ID_1: 183011 \n",
            "   ID_2: 183054  →  j_sim: 1.0\n",
            "\n",
            "4) ID_1: 47496 \n",
            "   ID_2: 180420  →  j_sim: 1.0\n",
            "\n",
            "5) ID_1: 90741 \n",
            "   ID_2: 90891  →  j_sim: 1.0\n",
            "\n",
            "\n",
            "Showing similarity between Near Duplicates found :\n",
            "\n",
            "        ID         song         year        artist        genre         lyrics\n",
            "-----  -----  ---------------  ------  ----------------  -------  ------------------\n",
            "65816  93123       fado         2007   charles-aznavour   jazz    du bist so komi...\n",
            "65823  93130  sans-importance   2007   charles-aznavour   jazz    du bist so komi...\n",
            "\n",
            "         ID       song       year           artist              genre            lyrics\n",
            "-----  ------  -----------  ------  ----------------------  -------------  ------------------\n",
            "84014  118894  rebelimao-n   2012   dancing-with-the-stars  not available  [** feat. phili...\n",
            "84096  118976   moondance    2012   dancing-with-the-stars  not available  [** feat. phili...\n",
            "\n",
            "          ID                    song                   year      artist         genre            lyrics\n",
            "------  ------  ------------------------------------  ------  ------------  -------------  ------------------\n",
            "131112  183011           domingo-no-parque             2016   gilberto-gil  not available  o rei da brinca...\n",
            "131143  183054  domingo-no-parque-sunday-at-the-park   2014   gilberto-gil  not available  o rei da brinca...\n",
            "\n",
            "          ID        song       year       artist        genre         lyrics\n",
            "------  ------  ------------  ------  ---------------  -------  ------------------\n",
            "33491   47496   freedom-song   2006     big-country     rock    subalashii asag...\n",
            "129284  180420  la-japonaise   2006   freddie-mercury   rock    subalashii asag...\n",
            "\n"
          ]
        }
      ],
      "source": [
        "#YOUR CODE STARTS HERE#\n",
        "\n",
        "first_n = 5\n",
        "\n",
        "output_file_name = \"hw1_NearDuplicates_set_a_id_set_b_id_approximate_jaccard.tsv\"\n",
        "\n",
        "output_file = open(output_file_name, 'r', encoding=\"utf-8\")\n",
        "output_file_csv_reader = csv.reader(output_file, delimiter='\\t', quotechar='\"', quoting=csv.QUOTE_NONE)\n",
        "header = next(output_file_csv_reader)\n",
        "\n",
        "this_list = [x for x in output_file_csv_reader if len(x)!=0 and float(x[2])> j_sim]\n",
        "\n",
        "print(\"\\nTotal number of near-duplicates candidates: \", len(this_list))\n",
        "print(\"\\n First {} Near-Duplicates candidates found :\\n\".format(first_n))\n",
        "\n",
        "for i,record in enumerate(this_list[:first_n], 1):\n",
        "    print(str(i)+')', \"ID_1: {} \\n   ID_2: {}  →  j_sim: {}\".format(record[0], record[1], round(float(record[2]),3)))\n",
        "    print()\n",
        "    \n",
        "output_file.close()\n",
        "\n",
        "print(\"\\nShowing similarity between Near Duplicates found :\\n\")\n",
        "\n",
        "for i in range(len(this_list[:4])):\n",
        "  ind_list = [int(this_list[i][0]), int(this_list[i][1])]\n",
        " \n",
        "  t = data[data['ID'].isin(ind_list)]\n",
        "  t[\"lyrics\"] =  t[\"lyrics\"].str[:15]+\"...\"\n",
        "  print(tabulate(t, headers='keys', \n",
        "               tablefmt = \"heavy_outline\", numalign='center', stralign=\"center\"))\n",
        "  print(\"\")\n",
        "\n",
        "#YOUR CODE ENDS HERE#\n",
        "#THIS IS LINE 30#"
      ]
    },
    {
      "cell_type": "markdown",
      "metadata": {
        "id": "YKl8F5SM84CD"
      },
      "source": [
        "## Part 2.2\n",
        "You will be given a scenario and you will have to provide the best solution."
      ]
    },
    {
      "cell_type": "markdown",
      "metadata": {
        "id": "EzR188Vg5XI9"
      },
      "source": [
        "### 2.2.1\n",
        "\n",
        "Let us consider the same scenario as in Part 2.1, with the only addition of not wanting more than 100 False Negatives. How would the choice of the LSH configuration change? Would you need any more information to satisfy the new constraint?"
      ]
    },
    {
      "cell_type": "markdown",
      "source": [
        "<br>\n",
        "\n",
        "------------YOUR TEXT STARTS HERE------------\n",
        "\n",
        "<br>\n",
        "\n",
        "In this scenario perform a smaller number of hash functions should be the way.\\\n",
        "With only 6 minhash (r=3, b=2) we find Number of REFINED pairs of sets to be near-duplicate CANDIDATES = 19756\\\n",
        "However it would result in a significant increase of **false positives**.\n",
        "\n",
        "The way this dataset is made, choosing a curve further to the left (lowering the treshold) does not change the number of false negatives, but it does affect false positives."
      ],
      "metadata": {
        "id": "AuckMm6VhZyB"
      }
    },
    {
      "cell_type": "markdown",
      "metadata": {
        "id": "VsxU3QQoXGN7"
      },
      "source": [
        "<div style=\"page-break-after: always; visibility: hidden\">\n",
        "\\pagebreak\n",
        "</div>"
      ]
    },
    {
      "cell_type": "markdown",
      "metadata": {
        "id": "hUMQy6fnJ_Wc",
        "tags": [
          "remove_cell"
        ]
      },
      "source": [
        "\n",
        "# Submission instructions"
      ]
    },
    {
      "cell_type": "markdown",
      "metadata": {
        "id": "6CBmMlPwKFap",
        "tags": [
          "remove_cell"
        ]
      },
      "source": [
        "Follow the instructions precisely\n",
        "1. Run the whole notebook up to this point\n",
        "  * Click on this text cell and go to Runtime > Run before\n",
        "  * It is essential that the notebook can be run from start to finish without us having to change anything.\n",
        "2. Download the current notebook\n",
        "  * File -> Download -> Download .ipynb\n",
        "3. Upload the downloaded notebook in the current runtime\n",
        "  * In the left sidebar menu, open the last tab (Files)\n",
        "  * Click on the first button under the File title (Page with arrow pointing up)\n",
        "  * In the new window, upload the notebook just downloaded\n",
        "\n"
      ]
    },
    {
      "cell_type": "markdown",
      "metadata": {
        "id": "IlVjzr46r4LI",
        "tags": [
          "remove_cell"
        ]
      },
      "source": [
        "4. To turn the notebook into a pdf you need to install a Tex extension. Simply run the next cell of code:"
      ]
    },
    {
      "cell_type": "code",
      "execution_count": null,
      "metadata": {
        "colab": {
          "base_uri": "https://localhost:8080/"
        },
        "id": "odN9jkorr3Lz",
        "outputId": "f3e5d06e-84ec-40bc-8f37-1d243bcfa200",
        "tags": [
          "remove_cell"
        ]
      },
      "outputs": [
        {
          "name": "stdout",
          "output_type": "stream",
          "text": [
            "Reading package lists... Done\n",
            "Building dependency tree       \n",
            "Reading state information... Done\n",
            "texlive-fonts-recommended is already the newest version (2019.20200218-1).\n",
            "texlive-plain-generic is already the newest version (2019.202000218-1).\n",
            "texlive-xetex is already the newest version (2019.20200218-1).\n",
            "0 upgraded, 0 newly installed, 0 to remove and 23 not upgraded.\n"
          ]
        }
      ],
      "source": [
        "#REMOVE_CELL#\n",
        "!apt-get install texlive-xetex texlive-fonts-recommended texlive-plain-generic"
      ]
    },
    {
      "cell_type": "markdown",
      "metadata": {
        "id": "ssveLCBosR4_",
        "tags": [
          "remove_cell"
        ]
      },
      "source": [
        "5. Now, run the next cell to set some cell tags in the notebook file."
      ]
    },
    {
      "cell_type": "code",
      "execution_count": null,
      "metadata": {
        "colab": {
          "base_uri": "https://localhost:8080/"
        },
        "id": "2mqk8wfbsYwL",
        "outputId": "f5f9c6a2-6038-434a-fa5e-e6e76b4e1df5",
        "tags": [
          "remove_cell"
        ]
      },
      "outputs": [
        {
          "name": "stdout",
          "output_type": "stream",
          "text": [
            "/content/DMT2023_HW1.ipynb\n"
          ]
        }
      ],
      "source": [
        "#REMOVE_CELL#\n",
        "import nbformat as nbf\n",
        "from glob import glob\n",
        "notebooks = glob(\"/content/**/*.ipynb\", recursive=True)\n",
        "\n",
        "text_search_dict = [\"YOUR TEXT STARTS HERE\",\"#YOUR CODE STARTS HERE#\"]\n",
        "\n",
        "for ipath in notebooks:\n",
        "    print(ipath)\n",
        "    ntbk = nbf.read(ipath, nbf.NO_CONVERT)\n",
        "\n",
        "    for cell in ntbk.cells:\n",
        "        cell_type = cell['cell_type'] == \"code\"\n",
        "      \n",
        "        cell_tags = cell.get('metadata', {}).get('tags', [])\n",
        "        cell_tags = set(cell_tags)\n",
        "\n",
        "        if cell_type == 0: #markdown\n",
        "          if (cell['source'][0]!=\"#\" and text_search_dict[cell_type] not in cell['source'] and \"pagebreak\" not in cell['source']) or \"#REMOVE_CELL#\" in cell['source']:\n",
        "            cell_tags.add(\"remove_cell\")\n",
        "\n",
        "        else: #code\n",
        "          #if text_search_dict[cell_type] not in cell['source'] or \"#REMOVE_CELL#\" in cell['source']:\n",
        "          if \"#REMOVE_CELL#\" in cell['source']:\n",
        "            cell_tags.add(\"remove_cell\")\n",
        "          elif \"#REMOVE_OUTPUT#\" in cell['source']:\n",
        "            cell_tags.add(\"remove_output\")\n",
        "        \n",
        "        if len(cell_tags) > 0:\n",
        "            cell['metadata']['tags'] = list(cell_tags)\n",
        "\n",
        "    nbf.write(ntbk, ipath)"
      ]
    },
    {
      "cell_type": "markdown",
      "metadata": {
        "id": "9FSow08zLMcF",
        "tags": [
          "remove_cell"
        ]
      },
      "source": [
        "6. Now, run the next cell to transform the notebook to PDF without the code cells.\n",
        "  * The file will appear in the menu on the left (refresh if needed). The file should be named `DMT2023-HW1.pdf`\n",
        "  * Rename this file **Surname1_Surname2_DMT2023HW1_report.pdf** (e.g. Becchetti_Siciliano_DMT2023HW1_report.pdf). Sort the surnames alphabetically.\n",
        "  * Click on it and using the right button or the three dots at its side, click on download to transfer it to your local PC\n",
        "  "
      ]
    },
    {
      "cell_type": "code",
      "execution_count": null,
      "metadata": {
        "colab": {
          "base_uri": "https://localhost:8080/"
        },
        "id": "kBVA-RSCLdR5",
        "outputId": "b4031126-7d9f-415c-d0af-2783462ed5a8",
        "tags": [
          "remove_cell"
        ]
      },
      "outputs": [
        {
          "name": "stdout",
          "output_type": "stream",
          "text": [
            "[NbConvertApp] Converting notebook /content/DMT2023_HW1.ipynb to pdf\n",
            "[NbConvertApp] Support files will be in DMT2023_HW1_files/\n",
            "[NbConvertApp] Making directory ./DMT2023_HW1_files\n",
            "[NbConvertApp] Making directory ./DMT2023_HW1_files\n",
            "[NbConvertApp] Writing 142919 bytes to notebook.tex\n",
            "[NbConvertApp] Building PDF\n",
            "[NbConvertApp] Running xelatex 3 times: ['xelatex', 'notebook.tex', '-quiet']\n",
            "[NbConvertApp] Running bibtex 1 time: ['bibtex', 'notebook']\n",
            "[NbConvertApp] WARNING | bibtex had problems, most likely because there were no citations\n",
            "[NbConvertApp] PDF successfully created\n",
            "[NbConvertApp] Writing 283912 bytes to /content/DMT2023_HW1.pdf\n"
          ]
        }
      ],
      "source": [
        "#REMOVE_CELL#\n",
        "!jupyter nbconvert /content/DMT2023_HW1.ipynb --to pdf --TagRemovePreprocessor.remove_cell_tags='{\"remove_cell\"}' -TagRemovePreprocessor.remove_all_outputs_tags='{\"remove_output\"}'"
      ]
    },
    {
      "cell_type": "markdown",
      "metadata": {
        "id": "dPBEw61nLkbc",
        "tags": [
          "remove_cell"
        ]
      },
      "source": [
        "7. Now, rename the downloaded notebook **Surname1_Surname2_DMT2023_HW1_notebook.ipynb** (e.g. Becchetti_Siciliano_DMT2023_HW1_notebook.ipynb). Sort the surnames alphabetically."
      ]
    },
    {
      "cell_type": "markdown",
      "metadata": {
        "id": "nSfuoivTy2eg",
        "tags": [
          "remove_cell"
        ]
      },
      "source": [
        "8. Now that you have both files, you need to upload them to Classroom. Only the student with the surname that comes first in alphabetical order **must** upload the files. Only the files uploaded by this student will be graded."
      ]
    },
    {
      "cell_type": "code",
      "execution_count": null,
      "metadata": {
        "id": "0PqAfzoFfoEJ"
      },
      "outputs": [],
      "source": []
    },
    {
      "cell_type": "code",
      "execution_count": null,
      "metadata": {
        "id": "tZgDATykfoGS"
      },
      "outputs": [],
      "source": []
    },
    {
      "cell_type": "code",
      "execution_count": null,
      "metadata": {
        "id": "H3sLUJ1XhksF"
      },
      "outputs": [],
      "source": []
    }
  ],
  "metadata": {
    "colab": {
      "collapsed_sections": [
        "vtqmMBBFM5VB",
        "OL_C32zaSqds",
        "mdy_DVRP_iuM",
        "eJv9DuQx__lO",
        "DUUB4ycZA_yG",
        "hUMQy6fnJ_Wc"
      ],
      "provenance": [],
      "include_colab_link": true
    },
    "kernelspec": {
      "display_name": "Python 3",
      "name": "python3"
    },
    "language_info": {
      "name": "python"
    },
    "widgets": {
      "application/vnd.jupyter.widget-state+json": {
        "df3e071f3ace447d9c310823b00d5ee7": {
          "model_module": "@jupyter-widgets/controls",
          "model_name": "HBoxModel",
          "model_module_version": "1.5.0",
          "state": {
            "_dom_classes": [],
            "_model_module": "@jupyter-widgets/controls",
            "_model_module_version": "1.5.0",
            "_model_name": "HBoxModel",
            "_view_count": null,
            "_view_module": "@jupyter-widgets/controls",
            "_view_module_version": "1.5.0",
            "_view_name": "HBoxView",
            "box_style": "",
            "children": [
              "IPY_MODEL_02e39254dc874f6c8851f9abb51c23de",
              "IPY_MODEL_1f20906775fb456281c0f468ea3422b5",
              "IPY_MODEL_f05dd0a3b8f142548420b7564beb6a17"
            ],
            "layout": "IPY_MODEL_f8b7e053910a4a7fa5e3dce7481844e0"
          }
        },
        "02e39254dc874f6c8851f9abb51c23de": {
          "model_module": "@jupyter-widgets/controls",
          "model_name": "HTMLModel",
          "model_module_version": "1.5.0",
          "state": {
            "_dom_classes": [],
            "_model_module": "@jupyter-widgets/controls",
            "_model_module_version": "1.5.0",
            "_model_name": "HTMLModel",
            "_view_count": null,
            "_view_module": "@jupyter-widgets/controls",
            "_view_module_version": "1.5.0",
            "_view_name": "HTMLView",
            "description": "",
            "description_tooltip": null,
            "layout": "IPY_MODEL_4cb85565db7f49118869a0da5124110e",
            "placeholder": "​",
            "style": "IPY_MODEL_1cf01226e7174318b58374614858ffab",
            "value": "pt.Experiment: 100%"
          }
        },
        "1f20906775fb456281c0f468ea3422b5": {
          "model_module": "@jupyter-widgets/controls",
          "model_name": "FloatProgressModel",
          "model_module_version": "1.5.0",
          "state": {
            "_dom_classes": [],
            "_model_module": "@jupyter-widgets/controls",
            "_model_module_version": "1.5.0",
            "_model_name": "FloatProgressModel",
            "_view_count": null,
            "_view_module": "@jupyter-widgets/controls",
            "_view_module_version": "1.5.0",
            "_view_name": "ProgressView",
            "bar_style": "success",
            "description": "",
            "description_tooltip": null,
            "layout": "IPY_MODEL_a939484008284f02a52d852d8cb1d07f",
            "max": 5,
            "min": 0,
            "orientation": "horizontal",
            "style": "IPY_MODEL_617a0429d6aa40f5957d6607d8fc9b74",
            "value": 5
          }
        },
        "f05dd0a3b8f142548420b7564beb6a17": {
          "model_module": "@jupyter-widgets/controls",
          "model_name": "HTMLModel",
          "model_module_version": "1.5.0",
          "state": {
            "_dom_classes": [],
            "_model_module": "@jupyter-widgets/controls",
            "_model_module_version": "1.5.0",
            "_model_name": "HTMLModel",
            "_view_count": null,
            "_view_module": "@jupyter-widgets/controls",
            "_view_module_version": "1.5.0",
            "_view_name": "HTMLView",
            "description": "",
            "description_tooltip": null,
            "layout": "IPY_MODEL_68a7152285bd464c8bd2bcde7f582c7e",
            "placeholder": "​",
            "style": "IPY_MODEL_9647c44088f047ca9f7088cd131b06cb",
            "value": " 5/5 [00:09&lt;00:00,  1.81s/system]"
          }
        },
        "f8b7e053910a4a7fa5e3dce7481844e0": {
          "model_module": "@jupyter-widgets/base",
          "model_name": "LayoutModel",
          "model_module_version": "1.2.0",
          "state": {
            "_model_module": "@jupyter-widgets/base",
            "_model_module_version": "1.2.0",
            "_model_name": "LayoutModel",
            "_view_count": null,
            "_view_module": "@jupyter-widgets/base",
            "_view_module_version": "1.2.0",
            "_view_name": "LayoutView",
            "align_content": null,
            "align_items": null,
            "align_self": null,
            "border": null,
            "bottom": null,
            "display": null,
            "flex": null,
            "flex_flow": null,
            "grid_area": null,
            "grid_auto_columns": null,
            "grid_auto_flow": null,
            "grid_auto_rows": null,
            "grid_column": null,
            "grid_gap": null,
            "grid_row": null,
            "grid_template_areas": null,
            "grid_template_columns": null,
            "grid_template_rows": null,
            "height": null,
            "justify_content": null,
            "justify_items": null,
            "left": null,
            "margin": null,
            "max_height": null,
            "max_width": null,
            "min_height": null,
            "min_width": null,
            "object_fit": null,
            "object_position": null,
            "order": null,
            "overflow": null,
            "overflow_x": null,
            "overflow_y": null,
            "padding": null,
            "right": null,
            "top": null,
            "visibility": null,
            "width": null
          }
        },
        "4cb85565db7f49118869a0da5124110e": {
          "model_module": "@jupyter-widgets/base",
          "model_name": "LayoutModel",
          "model_module_version": "1.2.0",
          "state": {
            "_model_module": "@jupyter-widgets/base",
            "_model_module_version": "1.2.0",
            "_model_name": "LayoutModel",
            "_view_count": null,
            "_view_module": "@jupyter-widgets/base",
            "_view_module_version": "1.2.0",
            "_view_name": "LayoutView",
            "align_content": null,
            "align_items": null,
            "align_self": null,
            "border": null,
            "bottom": null,
            "display": null,
            "flex": null,
            "flex_flow": null,
            "grid_area": null,
            "grid_auto_columns": null,
            "grid_auto_flow": null,
            "grid_auto_rows": null,
            "grid_column": null,
            "grid_gap": null,
            "grid_row": null,
            "grid_template_areas": null,
            "grid_template_columns": null,
            "grid_template_rows": null,
            "height": null,
            "justify_content": null,
            "justify_items": null,
            "left": null,
            "margin": null,
            "max_height": null,
            "max_width": null,
            "min_height": null,
            "min_width": null,
            "object_fit": null,
            "object_position": null,
            "order": null,
            "overflow": null,
            "overflow_x": null,
            "overflow_y": null,
            "padding": null,
            "right": null,
            "top": null,
            "visibility": null,
            "width": null
          }
        },
        "1cf01226e7174318b58374614858ffab": {
          "model_module": "@jupyter-widgets/controls",
          "model_name": "DescriptionStyleModel",
          "model_module_version": "1.5.0",
          "state": {
            "_model_module": "@jupyter-widgets/controls",
            "_model_module_version": "1.5.0",
            "_model_name": "DescriptionStyleModel",
            "_view_count": null,
            "_view_module": "@jupyter-widgets/base",
            "_view_module_version": "1.2.0",
            "_view_name": "StyleView",
            "description_width": ""
          }
        },
        "a939484008284f02a52d852d8cb1d07f": {
          "model_module": "@jupyter-widgets/base",
          "model_name": "LayoutModel",
          "model_module_version": "1.2.0",
          "state": {
            "_model_module": "@jupyter-widgets/base",
            "_model_module_version": "1.2.0",
            "_model_name": "LayoutModel",
            "_view_count": null,
            "_view_module": "@jupyter-widgets/base",
            "_view_module_version": "1.2.0",
            "_view_name": "LayoutView",
            "align_content": null,
            "align_items": null,
            "align_self": null,
            "border": null,
            "bottom": null,
            "display": null,
            "flex": null,
            "flex_flow": null,
            "grid_area": null,
            "grid_auto_columns": null,
            "grid_auto_flow": null,
            "grid_auto_rows": null,
            "grid_column": null,
            "grid_gap": null,
            "grid_row": null,
            "grid_template_areas": null,
            "grid_template_columns": null,
            "grid_template_rows": null,
            "height": null,
            "justify_content": null,
            "justify_items": null,
            "left": null,
            "margin": null,
            "max_height": null,
            "max_width": null,
            "min_height": null,
            "min_width": null,
            "object_fit": null,
            "object_position": null,
            "order": null,
            "overflow": null,
            "overflow_x": null,
            "overflow_y": null,
            "padding": null,
            "right": null,
            "top": null,
            "visibility": null,
            "width": null
          }
        },
        "617a0429d6aa40f5957d6607d8fc9b74": {
          "model_module": "@jupyter-widgets/controls",
          "model_name": "ProgressStyleModel",
          "model_module_version": "1.5.0",
          "state": {
            "_model_module": "@jupyter-widgets/controls",
            "_model_module_version": "1.5.0",
            "_model_name": "ProgressStyleModel",
            "_view_count": null,
            "_view_module": "@jupyter-widgets/base",
            "_view_module_version": "1.2.0",
            "_view_name": "StyleView",
            "bar_color": null,
            "description_width": ""
          }
        },
        "68a7152285bd464c8bd2bcde7f582c7e": {
          "model_module": "@jupyter-widgets/base",
          "model_name": "LayoutModel",
          "model_module_version": "1.2.0",
          "state": {
            "_model_module": "@jupyter-widgets/base",
            "_model_module_version": "1.2.0",
            "_model_name": "LayoutModel",
            "_view_count": null,
            "_view_module": "@jupyter-widgets/base",
            "_view_module_version": "1.2.0",
            "_view_name": "LayoutView",
            "align_content": null,
            "align_items": null,
            "align_self": null,
            "border": null,
            "bottom": null,
            "display": null,
            "flex": null,
            "flex_flow": null,
            "grid_area": null,
            "grid_auto_columns": null,
            "grid_auto_flow": null,
            "grid_auto_rows": null,
            "grid_column": null,
            "grid_gap": null,
            "grid_row": null,
            "grid_template_areas": null,
            "grid_template_columns": null,
            "grid_template_rows": null,
            "height": null,
            "justify_content": null,
            "justify_items": null,
            "left": null,
            "margin": null,
            "max_height": null,
            "max_width": null,
            "min_height": null,
            "min_width": null,
            "object_fit": null,
            "object_position": null,
            "order": null,
            "overflow": null,
            "overflow_x": null,
            "overflow_y": null,
            "padding": null,
            "right": null,
            "top": null,
            "visibility": null,
            "width": null
          }
        },
        "9647c44088f047ca9f7088cd131b06cb": {
          "model_module": "@jupyter-widgets/controls",
          "model_name": "DescriptionStyleModel",
          "model_module_version": "1.5.0",
          "state": {
            "_model_module": "@jupyter-widgets/controls",
            "_model_module_version": "1.5.0",
            "_model_name": "DescriptionStyleModel",
            "_view_count": null,
            "_view_module": "@jupyter-widgets/base",
            "_view_module_version": "1.2.0",
            "_view_name": "StyleView",
            "description_width": ""
          }
        },
        "3ec5206eb2d54de1900c8a6964178c42": {
          "model_module": "@jupyter-widgets/controls",
          "model_name": "HBoxModel",
          "model_module_version": "1.5.0",
          "state": {
            "_dom_classes": [],
            "_model_module": "@jupyter-widgets/controls",
            "_model_module_version": "1.5.0",
            "_model_name": "HBoxModel",
            "_view_count": null,
            "_view_module": "@jupyter-widgets/controls",
            "_view_module_version": "1.5.0",
            "_view_name": "HBoxView",
            "box_style": "",
            "children": [
              "IPY_MODEL_7ea0f231a9714d669bf8da064ab9028f",
              "IPY_MODEL_fa7cb0a294c8402db5e0f5ede24e66b3",
              "IPY_MODEL_ca319c760593404baef3d57250cb4382"
            ],
            "layout": "IPY_MODEL_c1e205424cdd4c5e94f2e42f3b51754f"
          }
        },
        "7ea0f231a9714d669bf8da064ab9028f": {
          "model_module": "@jupyter-widgets/controls",
          "model_name": "HTMLModel",
          "model_module_version": "1.5.0",
          "state": {
            "_dom_classes": [],
            "_model_module": "@jupyter-widgets/controls",
            "_model_module_version": "1.5.0",
            "_model_name": "HTMLModel",
            "_view_count": null,
            "_view_module": "@jupyter-widgets/controls",
            "_view_module_version": "1.5.0",
            "_view_name": "HTMLView",
            "description": "",
            "description_tooltip": null,
            "layout": "IPY_MODEL_af0139ae46244734a632322dd034a759",
            "placeholder": "​",
            "style": "IPY_MODEL_46f38103efc7424f99133d44be1964f6",
            "value": "pt.Experiment: 100%"
          }
        },
        "fa7cb0a294c8402db5e0f5ede24e66b3": {
          "model_module": "@jupyter-widgets/controls",
          "model_name": "FloatProgressModel",
          "model_module_version": "1.5.0",
          "state": {
            "_dom_classes": [],
            "_model_module": "@jupyter-widgets/controls",
            "_model_module_version": "1.5.0",
            "_model_name": "FloatProgressModel",
            "_view_count": null,
            "_view_module": "@jupyter-widgets/controls",
            "_view_module_version": "1.5.0",
            "_view_name": "ProgressView",
            "bar_style": "success",
            "description": "",
            "description_tooltip": null,
            "layout": "IPY_MODEL_1c87c1540169465e925f976338b98647",
            "max": 5,
            "min": 0,
            "orientation": "horizontal",
            "style": "IPY_MODEL_c45f906c02a14ea18353393db8f08956",
            "value": 5
          }
        },
        "ca319c760593404baef3d57250cb4382": {
          "model_module": "@jupyter-widgets/controls",
          "model_name": "HTMLModel",
          "model_module_version": "1.5.0",
          "state": {
            "_dom_classes": [],
            "_model_module": "@jupyter-widgets/controls",
            "_model_module_version": "1.5.0",
            "_model_name": "HTMLModel",
            "_view_count": null,
            "_view_module": "@jupyter-widgets/controls",
            "_view_module_version": "1.5.0",
            "_view_name": "HTMLView",
            "description": "",
            "description_tooltip": null,
            "layout": "IPY_MODEL_6b0e44ad414a42a6bc5f73e16dd72c7d",
            "placeholder": "​",
            "style": "IPY_MODEL_7f63238d1af54d98a62f90242d467208",
            "value": " 5/5 [00:04&lt;00:00,  1.02system/s]"
          }
        },
        "c1e205424cdd4c5e94f2e42f3b51754f": {
          "model_module": "@jupyter-widgets/base",
          "model_name": "LayoutModel",
          "model_module_version": "1.2.0",
          "state": {
            "_model_module": "@jupyter-widgets/base",
            "_model_module_version": "1.2.0",
            "_model_name": "LayoutModel",
            "_view_count": null,
            "_view_module": "@jupyter-widgets/base",
            "_view_module_version": "1.2.0",
            "_view_name": "LayoutView",
            "align_content": null,
            "align_items": null,
            "align_self": null,
            "border": null,
            "bottom": null,
            "display": null,
            "flex": null,
            "flex_flow": null,
            "grid_area": null,
            "grid_auto_columns": null,
            "grid_auto_flow": null,
            "grid_auto_rows": null,
            "grid_column": null,
            "grid_gap": null,
            "grid_row": null,
            "grid_template_areas": null,
            "grid_template_columns": null,
            "grid_template_rows": null,
            "height": null,
            "justify_content": null,
            "justify_items": null,
            "left": null,
            "margin": null,
            "max_height": null,
            "max_width": null,
            "min_height": null,
            "min_width": null,
            "object_fit": null,
            "object_position": null,
            "order": null,
            "overflow": null,
            "overflow_x": null,
            "overflow_y": null,
            "padding": null,
            "right": null,
            "top": null,
            "visibility": null,
            "width": null
          }
        },
        "af0139ae46244734a632322dd034a759": {
          "model_module": "@jupyter-widgets/base",
          "model_name": "LayoutModel",
          "model_module_version": "1.2.0",
          "state": {
            "_model_module": "@jupyter-widgets/base",
            "_model_module_version": "1.2.0",
            "_model_name": "LayoutModel",
            "_view_count": null,
            "_view_module": "@jupyter-widgets/base",
            "_view_module_version": "1.2.0",
            "_view_name": "LayoutView",
            "align_content": null,
            "align_items": null,
            "align_self": null,
            "border": null,
            "bottom": null,
            "display": null,
            "flex": null,
            "flex_flow": null,
            "grid_area": null,
            "grid_auto_columns": null,
            "grid_auto_flow": null,
            "grid_auto_rows": null,
            "grid_column": null,
            "grid_gap": null,
            "grid_row": null,
            "grid_template_areas": null,
            "grid_template_columns": null,
            "grid_template_rows": null,
            "height": null,
            "justify_content": null,
            "justify_items": null,
            "left": null,
            "margin": null,
            "max_height": null,
            "max_width": null,
            "min_height": null,
            "min_width": null,
            "object_fit": null,
            "object_position": null,
            "order": null,
            "overflow": null,
            "overflow_x": null,
            "overflow_y": null,
            "padding": null,
            "right": null,
            "top": null,
            "visibility": null,
            "width": null
          }
        },
        "46f38103efc7424f99133d44be1964f6": {
          "model_module": "@jupyter-widgets/controls",
          "model_name": "DescriptionStyleModel",
          "model_module_version": "1.5.0",
          "state": {
            "_model_module": "@jupyter-widgets/controls",
            "_model_module_version": "1.5.0",
            "_model_name": "DescriptionStyleModel",
            "_view_count": null,
            "_view_module": "@jupyter-widgets/base",
            "_view_module_version": "1.2.0",
            "_view_name": "StyleView",
            "description_width": ""
          }
        },
        "1c87c1540169465e925f976338b98647": {
          "model_module": "@jupyter-widgets/base",
          "model_name": "LayoutModel",
          "model_module_version": "1.2.0",
          "state": {
            "_model_module": "@jupyter-widgets/base",
            "_model_module_version": "1.2.0",
            "_model_name": "LayoutModel",
            "_view_count": null,
            "_view_module": "@jupyter-widgets/base",
            "_view_module_version": "1.2.0",
            "_view_name": "LayoutView",
            "align_content": null,
            "align_items": null,
            "align_self": null,
            "border": null,
            "bottom": null,
            "display": null,
            "flex": null,
            "flex_flow": null,
            "grid_area": null,
            "grid_auto_columns": null,
            "grid_auto_flow": null,
            "grid_auto_rows": null,
            "grid_column": null,
            "grid_gap": null,
            "grid_row": null,
            "grid_template_areas": null,
            "grid_template_columns": null,
            "grid_template_rows": null,
            "height": null,
            "justify_content": null,
            "justify_items": null,
            "left": null,
            "margin": null,
            "max_height": null,
            "max_width": null,
            "min_height": null,
            "min_width": null,
            "object_fit": null,
            "object_position": null,
            "order": null,
            "overflow": null,
            "overflow_x": null,
            "overflow_y": null,
            "padding": null,
            "right": null,
            "top": null,
            "visibility": null,
            "width": null
          }
        },
        "c45f906c02a14ea18353393db8f08956": {
          "model_module": "@jupyter-widgets/controls",
          "model_name": "ProgressStyleModel",
          "model_module_version": "1.5.0",
          "state": {
            "_model_module": "@jupyter-widgets/controls",
            "_model_module_version": "1.5.0",
            "_model_name": "ProgressStyleModel",
            "_view_count": null,
            "_view_module": "@jupyter-widgets/base",
            "_view_module_version": "1.2.0",
            "_view_name": "StyleView",
            "bar_color": null,
            "description_width": ""
          }
        },
        "6b0e44ad414a42a6bc5f73e16dd72c7d": {
          "model_module": "@jupyter-widgets/base",
          "model_name": "LayoutModel",
          "model_module_version": "1.2.0",
          "state": {
            "_model_module": "@jupyter-widgets/base",
            "_model_module_version": "1.2.0",
            "_model_name": "LayoutModel",
            "_view_count": null,
            "_view_module": "@jupyter-widgets/base",
            "_view_module_version": "1.2.0",
            "_view_name": "LayoutView",
            "align_content": null,
            "align_items": null,
            "align_self": null,
            "border": null,
            "bottom": null,
            "display": null,
            "flex": null,
            "flex_flow": null,
            "grid_area": null,
            "grid_auto_columns": null,
            "grid_auto_flow": null,
            "grid_auto_rows": null,
            "grid_column": null,
            "grid_gap": null,
            "grid_row": null,
            "grid_template_areas": null,
            "grid_template_columns": null,
            "grid_template_rows": null,
            "height": null,
            "justify_content": null,
            "justify_items": null,
            "left": null,
            "margin": null,
            "max_height": null,
            "max_width": null,
            "min_height": null,
            "min_width": null,
            "object_fit": null,
            "object_position": null,
            "order": null,
            "overflow": null,
            "overflow_x": null,
            "overflow_y": null,
            "padding": null,
            "right": null,
            "top": null,
            "visibility": null,
            "width": null
          }
        },
        "7f63238d1af54d98a62f90242d467208": {
          "model_module": "@jupyter-widgets/controls",
          "model_name": "DescriptionStyleModel",
          "model_module_version": "1.5.0",
          "state": {
            "_model_module": "@jupyter-widgets/controls",
            "_model_module_version": "1.5.0",
            "_model_name": "DescriptionStyleModel",
            "_view_count": null,
            "_view_module": "@jupyter-widgets/base",
            "_view_module_version": "1.2.0",
            "_view_name": "StyleView",
            "description_width": ""
          }
        },
        "5de2b1b301ee40c1960bcb411e9e14d8": {
          "model_module": "@jupyter-widgets/controls",
          "model_name": "HBoxModel",
          "model_module_version": "1.5.0",
          "state": {
            "_dom_classes": [],
            "_model_module": "@jupyter-widgets/controls",
            "_model_module_version": "1.5.0",
            "_model_name": "HBoxModel",
            "_view_count": null,
            "_view_module": "@jupyter-widgets/controls",
            "_view_module_version": "1.5.0",
            "_view_name": "HBoxView",
            "box_style": "",
            "children": [
              "IPY_MODEL_cede170637bd4018b88c6720bc307949",
              "IPY_MODEL_a678be4691d04f33a93da989e8e54f19",
              "IPY_MODEL_62291280cdc94985bcfe86d3a85e6377"
            ],
            "layout": "IPY_MODEL_3ae8fc9646ce4d65a9839122a624c07e"
          }
        },
        "cede170637bd4018b88c6720bc307949": {
          "model_module": "@jupyter-widgets/controls",
          "model_name": "HTMLModel",
          "model_module_version": "1.5.0",
          "state": {
            "_dom_classes": [],
            "_model_module": "@jupyter-widgets/controls",
            "_model_module_version": "1.5.0",
            "_model_name": "HTMLModel",
            "_view_count": null,
            "_view_module": "@jupyter-widgets/controls",
            "_view_module_version": "1.5.0",
            "_view_name": "HTMLView",
            "description": "",
            "description_tooltip": null,
            "layout": "IPY_MODEL_6ff74e36619744bab985f668e4e79b40",
            "placeholder": "​",
            "style": "IPY_MODEL_164c4f7705d447e4ae3dc9b9801a0fbb",
            "value": "pt.Experiment: 100%"
          }
        },
        "a678be4691d04f33a93da989e8e54f19": {
          "model_module": "@jupyter-widgets/controls",
          "model_name": "FloatProgressModel",
          "model_module_version": "1.5.0",
          "state": {
            "_dom_classes": [],
            "_model_module": "@jupyter-widgets/controls",
            "_model_module_version": "1.5.0",
            "_model_name": "FloatProgressModel",
            "_view_count": null,
            "_view_module": "@jupyter-widgets/controls",
            "_view_module_version": "1.5.0",
            "_view_name": "ProgressView",
            "bar_style": "success",
            "description": "",
            "description_tooltip": null,
            "layout": "IPY_MODEL_74dbf2c1030b4187b94729be237f5ada",
            "max": 5,
            "min": 0,
            "orientation": "horizontal",
            "style": "IPY_MODEL_2279a9764da74927bff94ee0220b4fe5",
            "value": 5
          }
        },
        "62291280cdc94985bcfe86d3a85e6377": {
          "model_module": "@jupyter-widgets/controls",
          "model_name": "HTMLModel",
          "model_module_version": "1.5.0",
          "state": {
            "_dom_classes": [],
            "_model_module": "@jupyter-widgets/controls",
            "_model_module_version": "1.5.0",
            "_model_name": "HTMLModel",
            "_view_count": null,
            "_view_module": "@jupyter-widgets/controls",
            "_view_module_version": "1.5.0",
            "_view_name": "HTMLView",
            "description": "",
            "description_tooltip": null,
            "layout": "IPY_MODEL_6320d08de1ba491db16139f646f7d7e8",
            "placeholder": "​",
            "style": "IPY_MODEL_4b58a61720a245f39322722a15eda811",
            "value": " 5/5 [00:05&lt;00:00,  1.18s/system]"
          }
        },
        "3ae8fc9646ce4d65a9839122a624c07e": {
          "model_module": "@jupyter-widgets/base",
          "model_name": "LayoutModel",
          "model_module_version": "1.2.0",
          "state": {
            "_model_module": "@jupyter-widgets/base",
            "_model_module_version": "1.2.0",
            "_model_name": "LayoutModel",
            "_view_count": null,
            "_view_module": "@jupyter-widgets/base",
            "_view_module_version": "1.2.0",
            "_view_name": "LayoutView",
            "align_content": null,
            "align_items": null,
            "align_self": null,
            "border": null,
            "bottom": null,
            "display": null,
            "flex": null,
            "flex_flow": null,
            "grid_area": null,
            "grid_auto_columns": null,
            "grid_auto_flow": null,
            "grid_auto_rows": null,
            "grid_column": null,
            "grid_gap": null,
            "grid_row": null,
            "grid_template_areas": null,
            "grid_template_columns": null,
            "grid_template_rows": null,
            "height": null,
            "justify_content": null,
            "justify_items": null,
            "left": null,
            "margin": null,
            "max_height": null,
            "max_width": null,
            "min_height": null,
            "min_width": null,
            "object_fit": null,
            "object_position": null,
            "order": null,
            "overflow": null,
            "overflow_x": null,
            "overflow_y": null,
            "padding": null,
            "right": null,
            "top": null,
            "visibility": null,
            "width": null
          }
        },
        "6ff74e36619744bab985f668e4e79b40": {
          "model_module": "@jupyter-widgets/base",
          "model_name": "LayoutModel",
          "model_module_version": "1.2.0",
          "state": {
            "_model_module": "@jupyter-widgets/base",
            "_model_module_version": "1.2.0",
            "_model_name": "LayoutModel",
            "_view_count": null,
            "_view_module": "@jupyter-widgets/base",
            "_view_module_version": "1.2.0",
            "_view_name": "LayoutView",
            "align_content": null,
            "align_items": null,
            "align_self": null,
            "border": null,
            "bottom": null,
            "display": null,
            "flex": null,
            "flex_flow": null,
            "grid_area": null,
            "grid_auto_columns": null,
            "grid_auto_flow": null,
            "grid_auto_rows": null,
            "grid_column": null,
            "grid_gap": null,
            "grid_row": null,
            "grid_template_areas": null,
            "grid_template_columns": null,
            "grid_template_rows": null,
            "height": null,
            "justify_content": null,
            "justify_items": null,
            "left": null,
            "margin": null,
            "max_height": null,
            "max_width": null,
            "min_height": null,
            "min_width": null,
            "object_fit": null,
            "object_position": null,
            "order": null,
            "overflow": null,
            "overflow_x": null,
            "overflow_y": null,
            "padding": null,
            "right": null,
            "top": null,
            "visibility": null,
            "width": null
          }
        },
        "164c4f7705d447e4ae3dc9b9801a0fbb": {
          "model_module": "@jupyter-widgets/controls",
          "model_name": "DescriptionStyleModel",
          "model_module_version": "1.5.0",
          "state": {
            "_model_module": "@jupyter-widgets/controls",
            "_model_module_version": "1.5.0",
            "_model_name": "DescriptionStyleModel",
            "_view_count": null,
            "_view_module": "@jupyter-widgets/base",
            "_view_module_version": "1.2.0",
            "_view_name": "StyleView",
            "description_width": ""
          }
        },
        "74dbf2c1030b4187b94729be237f5ada": {
          "model_module": "@jupyter-widgets/base",
          "model_name": "LayoutModel",
          "model_module_version": "1.2.0",
          "state": {
            "_model_module": "@jupyter-widgets/base",
            "_model_module_version": "1.2.0",
            "_model_name": "LayoutModel",
            "_view_count": null,
            "_view_module": "@jupyter-widgets/base",
            "_view_module_version": "1.2.0",
            "_view_name": "LayoutView",
            "align_content": null,
            "align_items": null,
            "align_self": null,
            "border": null,
            "bottom": null,
            "display": null,
            "flex": null,
            "flex_flow": null,
            "grid_area": null,
            "grid_auto_columns": null,
            "grid_auto_flow": null,
            "grid_auto_rows": null,
            "grid_column": null,
            "grid_gap": null,
            "grid_row": null,
            "grid_template_areas": null,
            "grid_template_columns": null,
            "grid_template_rows": null,
            "height": null,
            "justify_content": null,
            "justify_items": null,
            "left": null,
            "margin": null,
            "max_height": null,
            "max_width": null,
            "min_height": null,
            "min_width": null,
            "object_fit": null,
            "object_position": null,
            "order": null,
            "overflow": null,
            "overflow_x": null,
            "overflow_y": null,
            "padding": null,
            "right": null,
            "top": null,
            "visibility": null,
            "width": null
          }
        },
        "2279a9764da74927bff94ee0220b4fe5": {
          "model_module": "@jupyter-widgets/controls",
          "model_name": "ProgressStyleModel",
          "model_module_version": "1.5.0",
          "state": {
            "_model_module": "@jupyter-widgets/controls",
            "_model_module_version": "1.5.0",
            "_model_name": "ProgressStyleModel",
            "_view_count": null,
            "_view_module": "@jupyter-widgets/base",
            "_view_module_version": "1.2.0",
            "_view_name": "StyleView",
            "bar_color": null,
            "description_width": ""
          }
        },
        "6320d08de1ba491db16139f646f7d7e8": {
          "model_module": "@jupyter-widgets/base",
          "model_name": "LayoutModel",
          "model_module_version": "1.2.0",
          "state": {
            "_model_module": "@jupyter-widgets/base",
            "_model_module_version": "1.2.0",
            "_model_name": "LayoutModel",
            "_view_count": null,
            "_view_module": "@jupyter-widgets/base",
            "_view_module_version": "1.2.0",
            "_view_name": "LayoutView",
            "align_content": null,
            "align_items": null,
            "align_self": null,
            "border": null,
            "bottom": null,
            "display": null,
            "flex": null,
            "flex_flow": null,
            "grid_area": null,
            "grid_auto_columns": null,
            "grid_auto_flow": null,
            "grid_auto_rows": null,
            "grid_column": null,
            "grid_gap": null,
            "grid_row": null,
            "grid_template_areas": null,
            "grid_template_columns": null,
            "grid_template_rows": null,
            "height": null,
            "justify_content": null,
            "justify_items": null,
            "left": null,
            "margin": null,
            "max_height": null,
            "max_width": null,
            "min_height": null,
            "min_width": null,
            "object_fit": null,
            "object_position": null,
            "order": null,
            "overflow": null,
            "overflow_x": null,
            "overflow_y": null,
            "padding": null,
            "right": null,
            "top": null,
            "visibility": null,
            "width": null
          }
        },
        "4b58a61720a245f39322722a15eda811": {
          "model_module": "@jupyter-widgets/controls",
          "model_name": "DescriptionStyleModel",
          "model_module_version": "1.5.0",
          "state": {
            "_model_module": "@jupyter-widgets/controls",
            "_model_module_version": "1.5.0",
            "_model_name": "DescriptionStyleModel",
            "_view_count": null,
            "_view_module": "@jupyter-widgets/base",
            "_view_module_version": "1.2.0",
            "_view_name": "StyleView",
            "description_width": ""
          }
        },
        "0e5bb6f923c54ebd93fd851b3315a192": {
          "model_module": "@jupyter-widgets/controls",
          "model_name": "HBoxModel",
          "model_module_version": "1.5.0",
          "state": {
            "_dom_classes": [],
            "_model_module": "@jupyter-widgets/controls",
            "_model_module_version": "1.5.0",
            "_model_name": "HBoxModel",
            "_view_count": null,
            "_view_module": "@jupyter-widgets/controls",
            "_view_module_version": "1.5.0",
            "_view_name": "HBoxView",
            "box_style": "",
            "children": [
              "IPY_MODEL_ca25785859674a97827daa2fd04e1d30",
              "IPY_MODEL_23daf696109c437c81950cba137a14d0",
              "IPY_MODEL_b8f2fe2b8f29432e81a14f30cf47199b"
            ],
            "layout": "IPY_MODEL_0fdde03e68dc492bab360a5081b518ff"
          }
        },
        "ca25785859674a97827daa2fd04e1d30": {
          "model_module": "@jupyter-widgets/controls",
          "model_name": "HTMLModel",
          "model_module_version": "1.5.0",
          "state": {
            "_dom_classes": [],
            "_model_module": "@jupyter-widgets/controls",
            "_model_module_version": "1.5.0",
            "_model_name": "HTMLModel",
            "_view_count": null,
            "_view_module": "@jupyter-widgets/controls",
            "_view_module_version": "1.5.0",
            "_view_name": "HTMLView",
            "description": "",
            "description_tooltip": null,
            "layout": "IPY_MODEL_a5bf2135bcba40a3850442061a2de76f",
            "placeholder": "​",
            "style": "IPY_MODEL_da8fc716421a4685ad5dba742f70e712",
            "value": "pt.Experiment: 100%"
          }
        },
        "23daf696109c437c81950cba137a14d0": {
          "model_module": "@jupyter-widgets/controls",
          "model_name": "FloatProgressModel",
          "model_module_version": "1.5.0",
          "state": {
            "_dom_classes": [],
            "_model_module": "@jupyter-widgets/controls",
            "_model_module_version": "1.5.0",
            "_model_name": "FloatProgressModel",
            "_view_count": null,
            "_view_module": "@jupyter-widgets/controls",
            "_view_module_version": "1.5.0",
            "_view_name": "ProgressView",
            "bar_style": "success",
            "description": "",
            "description_tooltip": null,
            "layout": "IPY_MODEL_aea85065d9704bd7b379d2466bc410d4",
            "max": 5,
            "min": 0,
            "orientation": "horizontal",
            "style": "IPY_MODEL_a6ae0996e6444298a9f7c41305d4adb8",
            "value": 5
          }
        },
        "b8f2fe2b8f29432e81a14f30cf47199b": {
          "model_module": "@jupyter-widgets/controls",
          "model_name": "HTMLModel",
          "model_module_version": "1.5.0",
          "state": {
            "_dom_classes": [],
            "_model_module": "@jupyter-widgets/controls",
            "_model_module_version": "1.5.0",
            "_model_name": "HTMLModel",
            "_view_count": null,
            "_view_module": "@jupyter-widgets/controls",
            "_view_module_version": "1.5.0",
            "_view_name": "HTMLView",
            "description": "",
            "description_tooltip": null,
            "layout": "IPY_MODEL_89840ac438f541f8bb0b4fe0a2e1c538",
            "placeholder": "​",
            "style": "IPY_MODEL_a1b4248f1b0d4652b98fc58b306706b3",
            "value": " 5/5 [00:05&lt;00:00,  1.01system/s]"
          }
        },
        "0fdde03e68dc492bab360a5081b518ff": {
          "model_module": "@jupyter-widgets/base",
          "model_name": "LayoutModel",
          "model_module_version": "1.2.0",
          "state": {
            "_model_module": "@jupyter-widgets/base",
            "_model_module_version": "1.2.0",
            "_model_name": "LayoutModel",
            "_view_count": null,
            "_view_module": "@jupyter-widgets/base",
            "_view_module_version": "1.2.0",
            "_view_name": "LayoutView",
            "align_content": null,
            "align_items": null,
            "align_self": null,
            "border": null,
            "bottom": null,
            "display": null,
            "flex": null,
            "flex_flow": null,
            "grid_area": null,
            "grid_auto_columns": null,
            "grid_auto_flow": null,
            "grid_auto_rows": null,
            "grid_column": null,
            "grid_gap": null,
            "grid_row": null,
            "grid_template_areas": null,
            "grid_template_columns": null,
            "grid_template_rows": null,
            "height": null,
            "justify_content": null,
            "justify_items": null,
            "left": null,
            "margin": null,
            "max_height": null,
            "max_width": null,
            "min_height": null,
            "min_width": null,
            "object_fit": null,
            "object_position": null,
            "order": null,
            "overflow": null,
            "overflow_x": null,
            "overflow_y": null,
            "padding": null,
            "right": null,
            "top": null,
            "visibility": null,
            "width": null
          }
        },
        "a5bf2135bcba40a3850442061a2de76f": {
          "model_module": "@jupyter-widgets/base",
          "model_name": "LayoutModel",
          "model_module_version": "1.2.0",
          "state": {
            "_model_module": "@jupyter-widgets/base",
            "_model_module_version": "1.2.0",
            "_model_name": "LayoutModel",
            "_view_count": null,
            "_view_module": "@jupyter-widgets/base",
            "_view_module_version": "1.2.0",
            "_view_name": "LayoutView",
            "align_content": null,
            "align_items": null,
            "align_self": null,
            "border": null,
            "bottom": null,
            "display": null,
            "flex": null,
            "flex_flow": null,
            "grid_area": null,
            "grid_auto_columns": null,
            "grid_auto_flow": null,
            "grid_auto_rows": null,
            "grid_column": null,
            "grid_gap": null,
            "grid_row": null,
            "grid_template_areas": null,
            "grid_template_columns": null,
            "grid_template_rows": null,
            "height": null,
            "justify_content": null,
            "justify_items": null,
            "left": null,
            "margin": null,
            "max_height": null,
            "max_width": null,
            "min_height": null,
            "min_width": null,
            "object_fit": null,
            "object_position": null,
            "order": null,
            "overflow": null,
            "overflow_x": null,
            "overflow_y": null,
            "padding": null,
            "right": null,
            "top": null,
            "visibility": null,
            "width": null
          }
        },
        "da8fc716421a4685ad5dba742f70e712": {
          "model_module": "@jupyter-widgets/controls",
          "model_name": "DescriptionStyleModel",
          "model_module_version": "1.5.0",
          "state": {
            "_model_module": "@jupyter-widgets/controls",
            "_model_module_version": "1.5.0",
            "_model_name": "DescriptionStyleModel",
            "_view_count": null,
            "_view_module": "@jupyter-widgets/base",
            "_view_module_version": "1.2.0",
            "_view_name": "StyleView",
            "description_width": ""
          }
        },
        "aea85065d9704bd7b379d2466bc410d4": {
          "model_module": "@jupyter-widgets/base",
          "model_name": "LayoutModel",
          "model_module_version": "1.2.0",
          "state": {
            "_model_module": "@jupyter-widgets/base",
            "_model_module_version": "1.2.0",
            "_model_name": "LayoutModel",
            "_view_count": null,
            "_view_module": "@jupyter-widgets/base",
            "_view_module_version": "1.2.0",
            "_view_name": "LayoutView",
            "align_content": null,
            "align_items": null,
            "align_self": null,
            "border": null,
            "bottom": null,
            "display": null,
            "flex": null,
            "flex_flow": null,
            "grid_area": null,
            "grid_auto_columns": null,
            "grid_auto_flow": null,
            "grid_auto_rows": null,
            "grid_column": null,
            "grid_gap": null,
            "grid_row": null,
            "grid_template_areas": null,
            "grid_template_columns": null,
            "grid_template_rows": null,
            "height": null,
            "justify_content": null,
            "justify_items": null,
            "left": null,
            "margin": null,
            "max_height": null,
            "max_width": null,
            "min_height": null,
            "min_width": null,
            "object_fit": null,
            "object_position": null,
            "order": null,
            "overflow": null,
            "overflow_x": null,
            "overflow_y": null,
            "padding": null,
            "right": null,
            "top": null,
            "visibility": null,
            "width": null
          }
        },
        "a6ae0996e6444298a9f7c41305d4adb8": {
          "model_module": "@jupyter-widgets/controls",
          "model_name": "ProgressStyleModel",
          "model_module_version": "1.5.0",
          "state": {
            "_model_module": "@jupyter-widgets/controls",
            "_model_module_version": "1.5.0",
            "_model_name": "ProgressStyleModel",
            "_view_count": null,
            "_view_module": "@jupyter-widgets/base",
            "_view_module_version": "1.2.0",
            "_view_name": "StyleView",
            "bar_color": null,
            "description_width": ""
          }
        },
        "89840ac438f541f8bb0b4fe0a2e1c538": {
          "model_module": "@jupyter-widgets/base",
          "model_name": "LayoutModel",
          "model_module_version": "1.2.0",
          "state": {
            "_model_module": "@jupyter-widgets/base",
            "_model_module_version": "1.2.0",
            "_model_name": "LayoutModel",
            "_view_count": null,
            "_view_module": "@jupyter-widgets/base",
            "_view_module_version": "1.2.0",
            "_view_name": "LayoutView",
            "align_content": null,
            "align_items": null,
            "align_self": null,
            "border": null,
            "bottom": null,
            "display": null,
            "flex": null,
            "flex_flow": null,
            "grid_area": null,
            "grid_auto_columns": null,
            "grid_auto_flow": null,
            "grid_auto_rows": null,
            "grid_column": null,
            "grid_gap": null,
            "grid_row": null,
            "grid_template_areas": null,
            "grid_template_columns": null,
            "grid_template_rows": null,
            "height": null,
            "justify_content": null,
            "justify_items": null,
            "left": null,
            "margin": null,
            "max_height": null,
            "max_width": null,
            "min_height": null,
            "min_width": null,
            "object_fit": null,
            "object_position": null,
            "order": null,
            "overflow": null,
            "overflow_x": null,
            "overflow_y": null,
            "padding": null,
            "right": null,
            "top": null,
            "visibility": null,
            "width": null
          }
        },
        "a1b4248f1b0d4652b98fc58b306706b3": {
          "model_module": "@jupyter-widgets/controls",
          "model_name": "DescriptionStyleModel",
          "model_module_version": "1.5.0",
          "state": {
            "_model_module": "@jupyter-widgets/controls",
            "_model_module_version": "1.5.0",
            "_model_name": "DescriptionStyleModel",
            "_view_count": null,
            "_view_module": "@jupyter-widgets/base",
            "_view_module_version": "1.2.0",
            "_view_name": "StyleView",
            "description_width": ""
          }
        },
        "241426f944ac45c2ac227a6534b2be5b": {
          "model_module": "@jupyter-widgets/controls",
          "model_name": "HBoxModel",
          "model_module_version": "1.5.0",
          "state": {
            "_dom_classes": [],
            "_model_module": "@jupyter-widgets/controls",
            "_model_module_version": "1.5.0",
            "_model_name": "HBoxModel",
            "_view_count": null,
            "_view_module": "@jupyter-widgets/controls",
            "_view_module_version": "1.5.0",
            "_view_name": "HBoxView",
            "box_style": "",
            "children": [
              "IPY_MODEL_dd28b1c8bbcc4a40869ebca76f9f15a4",
              "IPY_MODEL_b70740e9b1e945d5b79cc077a4f5ebca",
              "IPY_MODEL_db921958b0274e0cb7fa66794b3b062b"
            ],
            "layout": "IPY_MODEL_a125933aeb484c36a6a7c4c8aae55b8d"
          }
        },
        "dd28b1c8bbcc4a40869ebca76f9f15a4": {
          "model_module": "@jupyter-widgets/controls",
          "model_name": "HTMLModel",
          "model_module_version": "1.5.0",
          "state": {
            "_dom_classes": [],
            "_model_module": "@jupyter-widgets/controls",
            "_model_module_version": "1.5.0",
            "_model_name": "HTMLModel",
            "_view_count": null,
            "_view_module": "@jupyter-widgets/controls",
            "_view_module_version": "1.5.0",
            "_view_name": "HTMLView",
            "description": "",
            "description_tooltip": null,
            "layout": "IPY_MODEL_2c7d218354c04dbd96bdd80823a96dc4",
            "placeholder": "​",
            "style": "IPY_MODEL_aa4e50b9ed7b4b8f9ae8bf95b3fb74b6",
            "value": "pt.Experiment: 100%"
          }
        },
        "b70740e9b1e945d5b79cc077a4f5ebca": {
          "model_module": "@jupyter-widgets/controls",
          "model_name": "FloatProgressModel",
          "model_module_version": "1.5.0",
          "state": {
            "_dom_classes": [],
            "_model_module": "@jupyter-widgets/controls",
            "_model_module_version": "1.5.0",
            "_model_name": "FloatProgressModel",
            "_view_count": null,
            "_view_module": "@jupyter-widgets/controls",
            "_view_module_version": "1.5.0",
            "_view_name": "ProgressView",
            "bar_style": "success",
            "description": "",
            "description_tooltip": null,
            "layout": "IPY_MODEL_54f69cab3b9e4b3aa306aaeb439c35c5",
            "max": 4,
            "min": 0,
            "orientation": "horizontal",
            "style": "IPY_MODEL_c67de28935584c6bb77dfbc7354118fb",
            "value": 4
          }
        },
        "db921958b0274e0cb7fa66794b3b062b": {
          "model_module": "@jupyter-widgets/controls",
          "model_name": "HTMLModel",
          "model_module_version": "1.5.0",
          "state": {
            "_dom_classes": [],
            "_model_module": "@jupyter-widgets/controls",
            "_model_module_version": "1.5.0",
            "_model_name": "HTMLModel",
            "_view_count": null,
            "_view_module": "@jupyter-widgets/controls",
            "_view_module_version": "1.5.0",
            "_view_name": "HTMLView",
            "description": "",
            "description_tooltip": null,
            "layout": "IPY_MODEL_69c4ab122123437b9dc4e4ad5bd8761a",
            "placeholder": "​",
            "style": "IPY_MODEL_27dbf1ffed6149d598a521af60daf24b",
            "value": " 4/4 [00:07&lt;00:00,  1.77s/system]"
          }
        },
        "a125933aeb484c36a6a7c4c8aae55b8d": {
          "model_module": "@jupyter-widgets/base",
          "model_name": "LayoutModel",
          "model_module_version": "1.2.0",
          "state": {
            "_model_module": "@jupyter-widgets/base",
            "_model_module_version": "1.2.0",
            "_model_name": "LayoutModel",
            "_view_count": null,
            "_view_module": "@jupyter-widgets/base",
            "_view_module_version": "1.2.0",
            "_view_name": "LayoutView",
            "align_content": null,
            "align_items": null,
            "align_self": null,
            "border": null,
            "bottom": null,
            "display": null,
            "flex": null,
            "flex_flow": null,
            "grid_area": null,
            "grid_auto_columns": null,
            "grid_auto_flow": null,
            "grid_auto_rows": null,
            "grid_column": null,
            "grid_gap": null,
            "grid_row": null,
            "grid_template_areas": null,
            "grid_template_columns": null,
            "grid_template_rows": null,
            "height": null,
            "justify_content": null,
            "justify_items": null,
            "left": null,
            "margin": null,
            "max_height": null,
            "max_width": null,
            "min_height": null,
            "min_width": null,
            "object_fit": null,
            "object_position": null,
            "order": null,
            "overflow": null,
            "overflow_x": null,
            "overflow_y": null,
            "padding": null,
            "right": null,
            "top": null,
            "visibility": null,
            "width": null
          }
        },
        "2c7d218354c04dbd96bdd80823a96dc4": {
          "model_module": "@jupyter-widgets/base",
          "model_name": "LayoutModel",
          "model_module_version": "1.2.0",
          "state": {
            "_model_module": "@jupyter-widgets/base",
            "_model_module_version": "1.2.0",
            "_model_name": "LayoutModel",
            "_view_count": null,
            "_view_module": "@jupyter-widgets/base",
            "_view_module_version": "1.2.0",
            "_view_name": "LayoutView",
            "align_content": null,
            "align_items": null,
            "align_self": null,
            "border": null,
            "bottom": null,
            "display": null,
            "flex": null,
            "flex_flow": null,
            "grid_area": null,
            "grid_auto_columns": null,
            "grid_auto_flow": null,
            "grid_auto_rows": null,
            "grid_column": null,
            "grid_gap": null,
            "grid_row": null,
            "grid_template_areas": null,
            "grid_template_columns": null,
            "grid_template_rows": null,
            "height": null,
            "justify_content": null,
            "justify_items": null,
            "left": null,
            "margin": null,
            "max_height": null,
            "max_width": null,
            "min_height": null,
            "min_width": null,
            "object_fit": null,
            "object_position": null,
            "order": null,
            "overflow": null,
            "overflow_x": null,
            "overflow_y": null,
            "padding": null,
            "right": null,
            "top": null,
            "visibility": null,
            "width": null
          }
        },
        "aa4e50b9ed7b4b8f9ae8bf95b3fb74b6": {
          "model_module": "@jupyter-widgets/controls",
          "model_name": "DescriptionStyleModel",
          "model_module_version": "1.5.0",
          "state": {
            "_model_module": "@jupyter-widgets/controls",
            "_model_module_version": "1.5.0",
            "_model_name": "DescriptionStyleModel",
            "_view_count": null,
            "_view_module": "@jupyter-widgets/base",
            "_view_module_version": "1.2.0",
            "_view_name": "StyleView",
            "description_width": ""
          }
        },
        "54f69cab3b9e4b3aa306aaeb439c35c5": {
          "model_module": "@jupyter-widgets/base",
          "model_name": "LayoutModel",
          "model_module_version": "1.2.0",
          "state": {
            "_model_module": "@jupyter-widgets/base",
            "_model_module_version": "1.2.0",
            "_model_name": "LayoutModel",
            "_view_count": null,
            "_view_module": "@jupyter-widgets/base",
            "_view_module_version": "1.2.0",
            "_view_name": "LayoutView",
            "align_content": null,
            "align_items": null,
            "align_self": null,
            "border": null,
            "bottom": null,
            "display": null,
            "flex": null,
            "flex_flow": null,
            "grid_area": null,
            "grid_auto_columns": null,
            "grid_auto_flow": null,
            "grid_auto_rows": null,
            "grid_column": null,
            "grid_gap": null,
            "grid_row": null,
            "grid_template_areas": null,
            "grid_template_columns": null,
            "grid_template_rows": null,
            "height": null,
            "justify_content": null,
            "justify_items": null,
            "left": null,
            "margin": null,
            "max_height": null,
            "max_width": null,
            "min_height": null,
            "min_width": null,
            "object_fit": null,
            "object_position": null,
            "order": null,
            "overflow": null,
            "overflow_x": null,
            "overflow_y": null,
            "padding": null,
            "right": null,
            "top": null,
            "visibility": null,
            "width": null
          }
        },
        "c67de28935584c6bb77dfbc7354118fb": {
          "model_module": "@jupyter-widgets/controls",
          "model_name": "ProgressStyleModel",
          "model_module_version": "1.5.0",
          "state": {
            "_model_module": "@jupyter-widgets/controls",
            "_model_module_version": "1.5.0",
            "_model_name": "ProgressStyleModel",
            "_view_count": null,
            "_view_module": "@jupyter-widgets/base",
            "_view_module_version": "1.2.0",
            "_view_name": "StyleView",
            "bar_color": null,
            "description_width": ""
          }
        },
        "69c4ab122123437b9dc4e4ad5bd8761a": {
          "model_module": "@jupyter-widgets/base",
          "model_name": "LayoutModel",
          "model_module_version": "1.2.0",
          "state": {
            "_model_module": "@jupyter-widgets/base",
            "_model_module_version": "1.2.0",
            "_model_name": "LayoutModel",
            "_view_count": null,
            "_view_module": "@jupyter-widgets/base",
            "_view_module_version": "1.2.0",
            "_view_name": "LayoutView",
            "align_content": null,
            "align_items": null,
            "align_self": null,
            "border": null,
            "bottom": null,
            "display": null,
            "flex": null,
            "flex_flow": null,
            "grid_area": null,
            "grid_auto_columns": null,
            "grid_auto_flow": null,
            "grid_auto_rows": null,
            "grid_column": null,
            "grid_gap": null,
            "grid_row": null,
            "grid_template_areas": null,
            "grid_template_columns": null,
            "grid_template_rows": null,
            "height": null,
            "justify_content": null,
            "justify_items": null,
            "left": null,
            "margin": null,
            "max_height": null,
            "max_width": null,
            "min_height": null,
            "min_width": null,
            "object_fit": null,
            "object_position": null,
            "order": null,
            "overflow": null,
            "overflow_x": null,
            "overflow_y": null,
            "padding": null,
            "right": null,
            "top": null,
            "visibility": null,
            "width": null
          }
        },
        "27dbf1ffed6149d598a521af60daf24b": {
          "model_module": "@jupyter-widgets/controls",
          "model_name": "DescriptionStyleModel",
          "model_module_version": "1.5.0",
          "state": {
            "_model_module": "@jupyter-widgets/controls",
            "_model_module_version": "1.5.0",
            "_model_name": "DescriptionStyleModel",
            "_view_count": null,
            "_view_module": "@jupyter-widgets/base",
            "_view_module_version": "1.2.0",
            "_view_name": "StyleView",
            "description_width": ""
          }
        }
      }
    }
  },
  "nbformat": 4,
  "nbformat_minor": 0
}