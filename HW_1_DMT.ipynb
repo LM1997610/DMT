{
  "cells": [
    {
      "cell_type": "markdown",
      "metadata": {
        "id": "view-in-github",
        "colab_type": "text"
      },
      "source": [
        "<a href=\"https://colab.research.google.com/github/LM1997610/DMT/blob/main/HW_1_DMT.ipynb\" target=\"_parent\"><img src=\"https://colab.research.google.com/assets/colab-badge.svg\" alt=\"Open In Colab\"/></a>"
      ]
    },
    {
      "cell_type": "markdown",
      "metadata": {
        "id": "vtqmMBBFM5VB",
        "tags": [
          "remove_cell"
        ]
      },
      "source": [
        "\n",
        "# DMT 2023 - Homework 1"
      ]
    },
    {
      "cell_type": "markdown",
      "metadata": {
        "id": "ZdyeR5JdyCki"
      },
      "source": [
        "## Group composition:"
      ]
    },
    {
      "cell_type": "markdown",
      "metadata": {
        "id": "g3zOpW7YyMlr"
      },
      "source": [
        "\n",
        "<br>\n",
        "\n",
        "------------YOUR TEXT STARTS HERE------------\n",
        "\n",
        "<br>\n",
        "\n",
        "*   Mazzucco, Luca, 1997610\n",
        "*   Zilviano, Paolo, 1916518\n",
        "\n",
        "\n",
        "\n"
      ]
    },
    {
      "cell_type": "markdown",
      "metadata": {
        "id": "Qa4VRPyugoQC"
      },
      "source": [
        "<div style=\"page-break-after: always; visibility: hidden\"> \n",
        "\\pagebreak\n",
        "</div>"
      ]
    },
    {
      "cell_type": "markdown",
      "metadata": {
        "id": "3ltMqfS1ph7q"
      },
      "source": [
        "## Homework 1\n",
        "The homework consists of two parts:\n",
        "\n",
        "  1. Search-Engine Evaluation\n",
        "\n",
        "  2. Near-Duplicate-Detection\n"
      ]
    },
    {
      "cell_type": "markdown",
      "metadata": {
        "id": "M4YGWzJEg1rq"
      },
      "source": [
        "# Part 1\n",
        "In this part of the homework, you have to index collections of documents to build search-engines using the PyTerrier library.\n",
        "\n",
        "Import **ALL** the Python packages that you need for Part 1."
      ]
    },
    {
      "cell_type": "code",
      "execution_count": 1,
      "metadata": {
        "id": "puYHRVRFlwQk",
        "tags": [
          "remove_output"
        ]
      },
      "outputs": [],
      "source": [
        "#REMOVE_OUTPUT#\n",
        "%%capture\n",
        "!pip install --upgrade --no-cache-dir gdown\n",
        "!pip install python-terrier\n",
        "#YOUR CODE STARTS HERE#\n",
        "\n",
        "import numpy as np\n",
        "import pandas as pd\n",
        "from tabulate import tabulate\n",
        "import matplotlib.pyplot as plt\n",
        "from bs4 import BeautifulSoup as bs\n",
        "import pyterrier as pt\n",
        "\n",
        "#YOUR CODE ENDS HERE#\n",
        "#THIS IS LINE 15#"
      ]
    },
    {
      "cell_type": "markdown",
      "metadata": {
        "id": "rk-JaiE_hB8h"
      },
      "source": [
        "## Part 1.1\n",
        "You have to build a search engine for the book *Le Morte D’Arthur* by Thomas Malory and **improve the search-engines performance** (the higher the better). The book is divided into two volumes. Each chapter is a document with two fields: title of the chapter and corpus of the chapter. You only want to index the corpus of each chapter."
      ]
    },
    {
      "cell_type": "markdown",
      "metadata": {
        "id": "0iEH-lmorp00"
      },
      "source": [
        "### 1.1.1\n",
        "Download the data from the Drive link (code already provided)."
      ]
    },
    {
      "cell_type": "code",
      "execution_count": 2,
      "metadata": {
        "colab": {
          "base_uri": "https://localhost:8080/"
        },
        "id": "KCOOAftWRE5X",
        "outputId": "739c288e-2597-42df-dddf-1877f0c359d4",
        "tags": [
          "remove_output"
        ]
      },
      "outputs": [
        {
          "output_type": "stream",
          "name": "stdout",
          "text": [
            "Downloading...\n",
            "From: https://drive.google.com/uc?id=1zHgvidy9FvhZvE68S0mXWkoF-hHMpiUL\n",
            "To: /content/The Project Gutenberg eBook of Le Morte D’Arthur, Volume I (of II), by Thomas Malory.html\n",
            "100% 964k/964k [00:00<00:00, 502MB/s]\n",
            "Downloading...\n",
            "From: https://drive.google.com/uc?id=1VjpTkFcbfaLIi4TXVafokW9e_bvGnfut\n",
            "To: /content/The Project Gutenberg eBook of Le Morte D’Arthur, Volume II (of II), by Thomas Malory.html\n",
            "100% 1.10M/1.10M [00:00<00:00, 510MB/s]\n"
          ]
        }
      ],
      "source": [
        "#REMOVE_OUTPUT#\n",
        "!gdown 1zHgvidy9FvhZvE68S0mXWkoF-hHMpiUL\n",
        "!gdown 1VjpTkFcbfaLIi4TXVafokW9e_bvGnfut"
      ]
    },
    {
      "cell_type": "markdown",
      "metadata": {
        "id": "r36aVr85h3eM"
      },
      "source": [
        "### 1.1.2\n",
        "Parse the HTML. **Part** of code already provided: follow the comments to complete the code.\n"
      ]
    },
    {
      "cell_type": "code",
      "execution_count": 3,
      "metadata": {
        "id": "ESwOaHC5Ix4x"
      },
      "outputs": [],
      "source": [
        "with open('The Project Gutenberg eBook of Le Morte D’Arthur, Volume I (of II), by Thomas Malory.html') as fp:\n",
        "    vol1 = bs(fp, 'html.parser')\n",
        "with open('The Project Gutenberg eBook of Le Morte D’Arthur, Volume II (of II), by Thomas Malory.html') as fp:\n",
        "    vol2 = bs(fp, 'html.parser')\n",
        "\n",
        "def clean_text(txt):\n",
        "    words_to_put_space_before = [\".\",\",\",\";\",\":\",\"’\",\"'\"]\n",
        "    words_to_lowercase = [\"First\",\"How\",\"Some\",\"Yet\",\"Of\",\"A\",\"The\",\"What\",\"Fifth\"]\n",
        "    \n",
        "    app = txt.replace(\"\\n\",\" \")\n",
        "    for word in words_to_put_space_before:\n",
        "        app = app.replace(word,\" \"+word)\n",
        "    for word in words_to_lowercase:\n",
        "        app = app.replace(word+\" \",word.lower()+\" \")\n",
        "    return app.strip()\n",
        "\n",
        "def parse_html(soup):\n",
        "    titles = []\n",
        "    texts = []\n",
        "    for chapter in soup.find_all(\"h3\"):\n",
        "        chapter_title = chapter.text\n",
        "        if \"CHAPTER\" in chapter_title:\n",
        "            chapter_title = clean_text(\"\".join(chapter_title.split(\".\")[1:]))\n",
        "            titles.append(chapter_title)\n",
        "            \n",
        "            chapter_text = [p.text for p in chapter.findNextSiblings(\"p\")]\n",
        "            chapter_text = clean_text(\" \".join(chapter_text))\n",
        "            texts.append(chapter_text)\n",
        "    return titles, texts"
      ]
    },
    {
      "cell_type": "code",
      "execution_count": 4,
      "metadata": {
        "colab": {
          "base_uri": "https://localhost:8080/"
        },
        "id": "nUfgBVp4h3eR",
        "outputId": "2a92da59-1253-4127-a93a-9b419ce5faf1"
      },
      "outputs": [
        {
          "output_type": "stream",
          "name": "stdout",
          "text": [
            "\n",
            "df.shape: (503, 3)\n"
          ]
        }
      ],
      "source": [
        "#YOUR CODE STARTS HERE#\n",
        "#Extract all the chapters' titles and texts from the two volumes\n",
        "\n",
        "titles_1, texts_1 = parse_html(vol1)\n",
        "titles_2, texts_2 = parse_html(vol2)\n",
        "\n",
        "\n",
        "num_doc = [str(i).zfill(1) for i in range(1,len(titles_1 + titles_2)+1)]\n",
        "\n",
        "\n",
        "df = pd.DataFrame(zip(num_doc, titles_1+titles_2, texts_1+texts_2), \n",
        "                  columns=[\"docno\", 'Titles', 'Texts'])\n",
        "\n",
        "print(\"\\ndf.shape:\", df.shape)\n",
        "\n",
        "\n",
        "\n",
        "\n",
        "#YOUR CODE ENDS HERE#\n",
        "#THIS IS LINE 20#"
      ]
    },
    {
      "cell_type": "markdown",
      "metadata": {
        "id": "Z_AiZBi0OyLZ",
        "tags": [
          "remove_cell"
        ]
      },
      "source": [
        "Print the first 8 rows of the DataFrame.\n",
        "\n",
        "[comment]: <> (#SHOW_CELL#)"
      ]
    },
    {
      "cell_type": "code",
      "source": [
        "from tabulate import tabulate"
      ],
      "metadata": {
        "id": "Cp-Yknl2WulI"
      },
      "execution_count": 5,
      "outputs": []
    },
    {
      "cell_type": "code",
      "execution_count": 6,
      "metadata": {
        "colab": {
          "base_uri": "https://localhost:8080/"
        },
        "id": "Tz1wzYInOyLc",
        "outputId": "2f4502ad-37a2-4129-f042-fa4165c9e10f"
      },
      "outputs": [
        {
          "output_type": "stream",
          "name": "stdout",
          "text": [
            "\n",
            "               Titles                        Texts\n",
            "--  ----------------------------  ----------------------------\n",
            "0   first , how Uther Pendrag...  It befell in the days of ...\n",
            "1   how Uther Pendragon made ...  Then Ulfius was glad , an...\n",
            "2   of the birth of King Arth...  Then Queen Igraine waxed ...\n",
            "3   of the death of King Uthe...  Then within two years Kin...\n",
            "4   how Arthur was chosen kin...  Then stood the realm in g...\n",
            "5   how King Arthur pulled ou...  Now assay , said Sir Ecto...\n",
            "6   how King Arthur was crown...  And at the feast of Pente...\n",
            "7   how King Arthur held in W...  Then the king removed int...\n",
            "\n"
          ]
        }
      ],
      "source": [
        "#YOUR CODE STARTS HERE#\n",
        "\n",
        "a_table = df[[\"Titles\", \"Texts\"]].apply(lambda x: x.str[:25]+\"...\").head(8)\n",
        "\n",
        "print()\n",
        "print(tabulate(a_table, headers='keys', tablefmt = \"heavy_outline\", numalign='center', stralign=\"center\"))\n",
        "print()\n",
        "\n",
        "#YOUR CODE ENDS HERE#\n",
        "#THIS IS LINE 10#"
      ]
    },
    {
      "cell_type": "markdown",
      "metadata": {
        "id": "UhHqk6QzOuoO"
      },
      "source": [
        "### 1.1.3\n",
        "Extract character's names from the **titles** only. **Part** of code already provided: follow the comments to complete the code."
      ]
    },
    {
      "cell_type": "code",
      "execution_count": 7,
      "metadata": {
        "id": "rptB3l7XOuoi"
      },
      "outputs": [],
      "source": [
        "all_characters = set()\n",
        "def extract_character_names_from_string(string_to_parse):\n",
        "    special_tokens = [\"of\",\"the\",\"le\",\"a\",\"de\"]\n",
        "\n",
        "    remember = \"\"\n",
        "    last_is_special_token = False\n",
        "\n",
        "    tokens = string_to_parse.split(\" \")\n",
        "    characters_found = set()\n",
        "    for i,word in enumerate(tokens):\n",
        "        if word[0].isupper() or (remember!=\"\" and word in special_tokens):\n",
        "            word = word.replace(\"'s\",\"\").replace(\"’s\",\"\")\n",
        "            last_is_special_token = False\n",
        "            if remember!=\"\":\n",
        "                if word in special_tokens:\n",
        "                    last_is_special_token = True\n",
        "                remember = remember+\" \"+word\n",
        "            else: remember = word\n",
        "        else:\n",
        "            if remember!=\"\":\n",
        "                if last_is_special_token:\n",
        "                    for tok in special_tokens:\n",
        "                        remember = remember.replace(\" \"+tok,\"\")\n",
        "                characters_found.add(remember)\n",
        "            remember = \"\"\n",
        "            last_is_special_token = False\n",
        "    return characters_found\n",
        "\n",
        "#all_characters = set([x for x in characters_found if x[-2:]!=\"'s\"])"
      ]
    },
    {
      "cell_type": "code",
      "execution_count": 8,
      "metadata": {
        "colab": {
          "base_uri": "https://localhost:8080/"
        },
        "id": "jGBt1RLeOuok",
        "outputId": "bab4d236-9798-4d22-8cb5-d8b4c5bbbecd"
      },
      "outputs": [
        {
          "output_type": "stream",
          "name": "stdout",
          "text": [
            " All_characters:  {'Sir Meliagrance', 'Joyous Isle', 'Isle', 'Sir Alisander', 'Knights of the Round Table', 'Sir Palomides', 'Beale Isoud', 'Castle Lonazep', 'Excalibur', 'Alisander', 'Sir Galihodin', 'Fair Maid of Astolat', 'Launcelot', 'Alisander le Orphelin', 'Lionel', 'Sir Urre', 'Sir Mador', 'Damosel of the Lake', 'Sir Lionel', 'David', 'Our Lord', 'Sir Launcelot', 'Ulfius', 'La Beale Isoud', 'Queen of Orkney', 'Sir Suppinabiles', 'Queen Guenever', 'Lanceor', 'Sir Brian', 'Avoutres', 'God', 'Helin le Blank', 'Uther Pendragon', 'York', 'King Uriens', 'Leodegrance', 'Romans', 'Sir Ector', 'Carlion', 'Gard', 'Sir Dagonet', 'Humber', 'Winchester', 'Sir Accolon', 'Sir Galahad', 'Beale Pilgrim', 'Sir Uriens', 'Melias', 'Abbot', 'Accolon', 'Balan', 'Sir Dinadan', 'Lucius', 'Joyous Gard', 'La Cote Male Taile', 'Sir Lamorak', 'Morgan le Fay', 'Sir Belliance', 'Sir Safere', 'Sir Gawaine', 'Sir Amant', 'Sir Segwarides', 'King Arthur', 'Queen Igraine', 'Gawaine', 'Sir Sadok', 'Surluse', 'Lady Lionesse', 'Feast of Pentecost', 'Galahad', 'Queen Isoud', 'Rome', 'France', 'Tintagil', 'Sir Percivale', 'Ban', 'Garlon', 'Sir Accolon of Gaul', 'Sir Pedivere', 'Breuse Saunce Pité', 'Sir Agravaine', 'Ettard', 'Lady Ettard', 'Dagonet', 'Sir Sagramore le Desirous', 'Joseph', 'Sir Malgrin', 'Sir Colgrevance', 'King Bagdemagus', 'King Mark of Cornwall', 'Andred', 'Cornwall', 'King Lot', 'Castle of Pendragon', 'Wales', 'Dover', 'Dame Elaine', 'Pope', 'Mordred', 'King of the Land of Cameliard', 'Pelles', 'King Pellinore', 'Maledisant', 'Sir Lanceor', 'Balin', 'Sir Tristram de Liones', 'Sangreal', 'Sir Bliant', 'Sir Uwaine', 'Red Knight', 'Camelot', 'Castle of Maidens', 'King Rience', 'Sir Lamorak de Galis', 'Lambegus', 'Holy Sangreal', 'Chapel Perilous', 'Ireland', 'Sir Kay', 'Sir Pervivale', 'Tristram', 'Beaumains', 'Sir Tor', 'King of England', 'Merlin', 'Sir Lancelot', 'Igraine', 'Round Table', 'Sir Epinogris', 'Boudwin', 'Constantine', 'Griflet', 'Sir Bedivere', 'King Anguish of Ireland', 'Island', 'Sir Marhaus', 'Sir Breuse Saunce Pité', 'Christmas', 'Knight of the Red Launds', 'Isoud', 'King Lot of Orkney', 'Maimed King', 'Bagdemagus', 'King Mark', 'Arthur', 'Great Royalty', 'Sir Berluse', 'King Evelake', 'Sir Anguish', 'Sir Carados', 'Maiden of the Lake', 'Sir Nabon', 'Alice', 'Lady of the Lake', 'Sir Turquine', 'Forest Perilous', 'Saracens', 'Dinadan', 'Archbishop of Canterbury', 'Knight of the Black Launds', 'Sir Lavaine', 'Carbonek', 'Gaheris', 'Morgan', 'Sir Tristram', 'Palamides', 'Sir Mordred', 'Queen Morgan le Fay', 'Corsabrin', 'Maid of Astolat', 'Sir Bors', 'Bors', 'Questing Beast', 'King Pelleas', 'King Leodegrance', 'Queen', 'Sir Meliagaunce', 'Elaine', 'Sir Elias', 'Sir Persant', 'Sir Pelleas', 'Astolat', 'Sir Archade', 'King Howel of Brittany', 'Saracen', 'King Ban', 'Kehydius', 'King Solomon', 'Sir Beaumains', 'Sir Galahalt', 'Dame Brisen', 'Sir Gareth', 'King Brandegore', 'England', 'Sir Bleoberis', 'Epinogris', 'Sir Breunor', 'Almesbury', 'Palomides', 'Elias', 'King Pelles', 'Percivale', 'Sir Blamore', 'May-day', 'Nero', 'Guenever', 'Gouvernail', 'Anglides', 'King Mordrains', 'Almaine', 'Sir Persant of Inde', 'Court', 'Solomon', 'Benwick', 'Sir Frol', 'Sir Gaheris', 'Siege Perilous', 'Sir Aglovale', 'Bragwaine', 'King', 'King Bors', 'Lonazep', 'Pentecost', 'King Pellam', 'Logris'}\n"
          ]
        }
      ],
      "source": [
        "#YOUR CODE STARTS HERE#\n",
        "#Extract all characters' names\n",
        "\n",
        "all_characters = df[\"Titles\"].apply(extract_character_names_from_string)\n",
        "all_characters = set.union(*map(set, all_characters)) \n",
        "\n",
        "\n",
        "print(\" All_characters: \", all_characters, sep=\" \")\n",
        "\n",
        "\n",
        "\n",
        "\n",
        "\n",
        "#YOUR CODE ENDS HERE#\n",
        "#THIS IS LINE 15#"
      ]
    },
    {
      "cell_type": "markdown",
      "metadata": {
        "id": "K9wUUj1YOkvR",
        "tags": [
          "remove_cell"
        ]
      },
      "source": [
        "Print the names of all the kings (i.e. characters with `King` in their name).\n",
        "\n",
        "[comment]: <> (#SHOW_CELL#)"
      ]
    },
    {
      "cell_type": "code",
      "execution_count": 9,
      "metadata": {
        "colab": {
          "base_uri": "https://localhost:8080/"
        },
        "id": "KtsMvXYEOkvX",
        "outputId": "35b39cd0-e73c-4b68-c83d-db959dc9b6a0"
      },
      "outputs": [
        {
          "output_type": "stream",
          "name": "stdout",
          "text": [
            " Kings: {'King Arthur', 'King Howel of Brittany', 'King Ban', 'King Solomon', 'King Anguish of Ireland', 'King Brandegore', 'King Lot of Orkney', 'Maimed King', 'King Mark', 'King Bagdemagus', 'King Evelake', 'King Mark of Cornwall', 'King Pelles', 'King Lot', 'King Mordrains', 'King Uriens', 'King of the Land of Cameliard', 'King Pellinore', 'King', 'King Bors', 'King Rience', 'King Pelleas', 'King Leodegrance', 'King Pellam', 'King of England'}\n"
          ]
        }
      ],
      "source": [
        "#YOUR CODE STARTS HERE#\n",
        "\n",
        "kings = { person for person in  all_characters  if person.lower().find(\"king\") > -1  } \n",
        "\n",
        "print(\" Kings:\", kings, sep=\" \")\n",
        "\n",
        "\n",
        "\n",
        "#YOUR CODE ENDS HERE#\n",
        "#THIS IS LINE 10#"
      ]
    },
    {
      "cell_type": "markdown",
      "metadata": {
        "id": "3sjNVvgtOuom"
      },
      "source": [
        "<div style=\"page-break-after: always; visibility: hidden\">\n",
        "\\pagebreak\n",
        "</div>"
      ]
    },
    {
      "cell_type": "markdown",
      "metadata": {
        "id": "ONAtvco6RpKR"
      },
      "source": [
        "### 1.1.4\n",
        "Some names refer to the same characters (e.g. `'Arthur' = 'King Arthur'`). A function is provided to extract the disambiguation dictionary: each key represents a name and the value represents the true character name (e.g. `{'Arthur': 'King-Arthur', 'King': 'King-Arthur', 'Bedivere':'Sir Bedivere'}`). Disambiguation sets, i.e. a list with sets representing the multiple names of a single character, are also provided.\n",
        "\n",
        "> There may be some mistakes, but it does not matter (e.g. `'Cornwall' = 'King of Cornwall'`)"
      ]
    },
    {
      "cell_type": "code",
      "execution_count": 10,
      "metadata": {
        "id": "9i6zrrZ1RpKS"
      },
      "outputs": [],
      "source": [
        "disambiguate_to = {}\n",
        "for x in all_characters:\n",
        "    for y in all_characters:\n",
        "        if x in y and x!=y:\n",
        "            if x in disambiguate_to:\n",
        "                previous_y = disambiguate_to[x]\n",
        "                if len(y)>len(previous_y): disambiguate_to[x] = y\n",
        "            else:\n",
        "                disambiguate_to[x] = y\n",
        "disambiguate_to.update({\"King\": \"King Arthur\",\n",
        "                        \"King of England\": \"King Arthur\",\n",
        "                        \"Queen\": \"Queen Guenever\",\n",
        "                        \"Sir Lancelot\": \"Sir Launcelot\"})\n",
        "\n",
        "disambiguate_sets = []\n",
        "for x,y in disambiguate_to.items():\n",
        "    inserted = False\n",
        "    for z in disambiguate_sets:\n",
        "        if x in z or y in z:\n",
        "            z.add(x); z.add(y)\n",
        "            inserted = True\n",
        "    if not inserted:\n",
        "        disambiguate_sets.append(set([x,y]))\n",
        "\n",
        "while True:\n",
        "    to_remove,to_add = [],[]\n",
        "    for i1,s1 in enumerate(disambiguate_sets[:-1]):\n",
        "        for s2 in disambiguate_sets[i1+1:]:\n",
        "            if len(s1.intersection(s2))>0:\n",
        "                to_remove.append(s1)\n",
        "                to_remove.append(s2)\n",
        "                to_add.append(s1.union(s2))\n",
        "    if len(to_add)>0:\n",
        "        for rm in to_remove:\n",
        "            disambiguate_sets.remove(rm)\n",
        "        for ad in to_add:\n",
        "            disambiguate_sets.append(ad)\n",
        "    else: break"
      ]
    },
    {
      "cell_type": "markdown",
      "metadata": {
        "id": "YI0jcVe6iUdl"
      },
      "source": [
        "### 1.1.5\n",
        "Prepare the topics for the queries.\n",
        "\n",
        "> Each character name (including alternative names) represents a topic."
      ]
    },
    {
      "cell_type": "code",
      "execution_count": 11,
      "metadata": {
        "id": "XqtWEn1liUdo",
        "colab": {
          "base_uri": "https://localhost:8080/"
        },
        "outputId": "a93e2c78-b9e3-4e72-b39f-356e9c198613"
      },
      "outputs": [
        {
          "output_type": "stream",
          "name": "stdout",
          "text": [
            "terrier-assemblies 5.7 jar-with-dependencies not found, downloading to /root/.pyterrier...\n",
            "Done\n",
            "terrier-python-helper 0.0.7 jar not found, downloading to /root/.pyterrier...\n",
            "Done\n"
          ]
        },
        {
          "output_type": "stream",
          "name": "stderr",
          "text": [
            "PyTerrier 0.9.2 has loaded Terrier 5.7 (built by craigm on 2022-11-10 18:30) and terrier-helper 0.0.7\n",
            "\n"
          ]
        }
      ],
      "source": [
        "#YOUR CODE STARTS HERE#\n",
        "\n",
        "\n",
        "top = [(j,i[0]) for i in enumerate(disambiguate_sets,1) for j in list(i[1])]\n",
        "mistakes= [\"King\", \"England\", \"Queen\"]\n",
        "top = [x for x in top if x[0] not in mistakes]\n",
        "\n",
        "topics = pd.DataFrame({'query': [x[0] for x in top], \"qid\": [str(i[1]) for i in top]})\n",
        "\n",
        "\n",
        "\n",
        "if not pt.started(): pt.init()\n",
        "\n",
        "#YOUR CODE ENDS HERE#\n",
        "#THIS IS LINE 30#"
      ]
    },
    {
      "cell_type": "markdown",
      "metadata": {
        "id": "rW5fzpmE-ygj",
        "tags": [
          "remove_cell"
        ]
      },
      "source": [
        "Print the first 5 rows.\n",
        "\n",
        "[comment]: <> (#SHOW_CELL#)"
      ]
    },
    {
      "cell_type": "code",
      "execution_count": 12,
      "metadata": {
        "colab": {
          "base_uri": "https://localhost:8080/"
        },
        "id": "xcH9NXMY-ygj",
        "outputId": "9211ad06-9cd4-470d-a7a8-78c2067ce15b"
      },
      "outputs": [
        {
          "output_type": "stream",
          "name": "stdout",
          "text": [
            "\n",
            "        query        qid\n",
            "--  --------------  -----\n",
            "0        Isle         1\n",
            "1    Joyous Isle      1\n",
            "2    Beale Isoud      2\n",
            "3   La Beale Isoud    2\n",
            "4       Isoud         2\n",
            "\n"
          ]
        }
      ],
      "source": [
        "#YOUR CODE STARTS HERE#\n",
        "\n",
        "\n",
        "print()\n",
        "print(tabulate(topics.head(5), headers='keys', tablefmt = \"heavy_outline\", numalign='center', stralign=\"center\"))\n",
        "print()\n",
        "\n",
        "\n",
        "#YOUR CODE ENDS HERE#\n",
        "#THIS IS LINE 10#"
      ]
    },
    {
      "cell_type": "markdown",
      "metadata": {
        "id": "hg_hRTAoidRf"
      },
      "source": [
        "### 1.1.6\n",
        "Prepare the relevance scores for the queries.\n",
        "\n",
        "> A document is considered relevant (1) if its **corpus** contains the character's name or one of its alternative names, otherwise is not relevant (0)."
      ]
    },
    {
      "cell_type": "code",
      "execution_count": 13,
      "metadata": {
        "id": "j4TR5vabidRi"
      },
      "outputs": [],
      "source": [
        "#YOUR CODE STARTS HERE#\n",
        "\n",
        "topid, top_r  = list(), list()\n",
        "\n",
        "for i in range(len(top)):\n",
        "    for j in range(len(texts_1+texts_2)):\n",
        "          top_r.append(str(top[i][0]))\n",
        "          topid.append(str(top[i][1]))\n",
        "rs = []\n",
        "for i in top:\n",
        "  for j in texts_1+texts_2:\n",
        "    if i[0] in j:\n",
        "      rs.append(1)\n",
        "    else:\n",
        "      rs.append(0)\n",
        "\n",
        "df_scores =  pd.DataFrame({'qid': topid, 'label':rs, 'docno':num_doc*len(top)})\n",
        "\n",
        "#YOUR CODE ENDS HERE#\n",
        "#THIS IS LINE 30#"
      ]
    },
    {
      "cell_type": "markdown",
      "metadata": {
        "id": "e3C5EkbzWJzt",
        "tags": [
          "remove_cell"
        ]
      },
      "source": [
        "Print the first and last row, and the shape of the DataFrame.\n",
        "\n",
        "[comment]: <> (#SHOW_CELL#)"
      ]
    },
    {
      "cell_type": "code",
      "execution_count": 14,
      "metadata": {
        "colab": {
          "base_uri": "https://localhost:8080/"
        },
        "id": "kp2OF05aWJzu",
        "outputId": "259b1a05-7dc4-42b6-f022-231f15b43a66"
      },
      "outputs": [
        {
          "output_type": "stream",
          "name": "stdout",
          "text": [
            "\n",
            "df_scores.shape: (48288, 3)\n",
            "\n",
            "\n",
            "        qid    label    docno\n",
            "-----  -----  -------  -------\n",
            "  0      1       0        1\n",
            "48287   44       0       503\n",
            "\n"
          ]
        }
      ],
      "source": [
        "#YOUR CODE STARTS HERE#\n",
        "\n",
        "print(\"\\ndf_scores.shape: {}\\n\".format(df_scores.shape))\n",
        "print()\n",
        "print(tabulate(df_scores.iloc[[0, -1]], headers='keys', tablefmt = \"heavy_outline\", numalign='center', stralign=\"center\"))\n",
        "print()\n",
        "\n",
        "\n",
        "#YOUR CODE ENDS HERE#\n",
        "#THIS IS LINE 10#"
      ]
    },
    {
      "cell_type": "markdown",
      "metadata": {
        "id": "MeJlxd5BZjRI"
      },
      "source": [
        "### 1.1.7\n",
        "Choose several preprocessing configurations (at least 2, no more than 4).\n",
        "\n",
        "For each of them, construct an index on the `title` field.\n",
        "\n",
        "For the last of them, report the number of indexed documents and terms."
      ]
    },
    {
      "cell_type": "code",
      "source": [
        "import warnings \n",
        "warnings.filterwarnings('ignore')"
      ],
      "metadata": {
        "id": "Q_Ut4awBX9GJ"
      },
      "execution_count": 15,
      "outputs": []
    },
    {
      "cell_type": "code",
      "execution_count": 16,
      "metadata": {
        "colab": {
          "base_uri": "https://localhost:8080/"
        },
        "id": "WTSwJXbkZqp5",
        "outputId": "a11df30b-5575-4813-e2ba-55e44686fb3a"
      },
      "outputs": [
        {
          "output_type": "stream",
          "name": "stdout",
          "text": [
            "\n",
            "Number of indexed documents: 503 \n",
            "Number of indexed terms: 4542\n"
          ]
        }
      ],
      "source": [
        "#YOUR CODE STARTS HERE#\n",
        "prepr_conf = [\"\", \"Stopwords\", \"EnglishSnowballStemmer\", \"Stopwords, EnglishSnowballStemmer\"]\n",
        "\n",
        "def create_index(preprocessing_configuration, field, numero):\n",
        "  pd_indexer = pt.DFIndexer(\"./Inverted_Index_\"+str(numero), overwrite=True)\n",
        "  pd_indexer.setProperty(\"termpipelines\", preprocessing_configuration)\n",
        "  indexref = pd_indexer.index(df[field], df[\"docno\"]); return indexref\n",
        "\n",
        "indexes, c = list(), 0\n",
        "\n",
        "for configuration in prepr_conf:\n",
        "  indexref = create_index(configuration, \"Texts\", c)\n",
        "  indexes.append(indexref)\n",
        "  c+=1\n",
        "\n",
        "index_factory = pt.IndexFactory.of(indexes[-1])\n",
        "print(\"\\nNumber of indexed documents: {} \\nNumber of indexed terms: {}\".format(index_factory.getCollectionStatistics().getNumberOfDocuments(),\n",
        "                                                                      index_factory.getCollectionStatistics().getNumberOfUniqueTerms()))\n",
        "#YOUR CODE ENDS HERE#\n",
        "#THIS IS LINE 20#"
      ]
    },
    {
      "cell_type": "markdown",
      "metadata": {
        "id": "kt6pXlGxZq1g"
      },
      "source": [
        "### 1.1.8\n",
        "Choose several weighting models (at least 2, no more than 5).\n",
        "\n",
        "For each of them, for each of the indices created in last step, build a retrieval model."
      ]
    },
    {
      "cell_type": "code",
      "execution_count": 17,
      "metadata": {
        "id": "3c8vPdgwZr77"
      },
      "outputs": [],
      "source": [
        "#YOUR CODE STARTS HERE#\n",
        "\n",
        "def create_retrieval_model(indexref, scoring_function):\n",
        "  return pt.BatchRetrieve(indexref, wmodel = scoring_function)\n",
        "\n",
        "weight_models = [\"CoordinateMatch\", \"TF_IDF\", \"BM25\", \"DPH\", \"Hiemstra_LM\"]\n",
        "models = {}\n",
        "\n",
        "for i in range(len(indexes)):\n",
        "  idx_ref = indexes[i]\n",
        "  w = []\n",
        "\n",
        "  for wmodel in weight_models:\n",
        "    retrieval_model = create_retrieval_model(idx_ref, wmodel)\n",
        "    w.append(retrieval_model)\n",
        "  models[i] = w\n",
        "\n",
        "\n",
        "#YOUR CODE ENDS HERE#\n",
        "#THIS IS LINE 20#"
      ]
    },
    {
      "cell_type": "markdown",
      "metadata": {
        "id": "9rqpaEKvZupX"
      },
      "source": [
        "### 1.1.9\n",
        "Choose several evaluation metrics (at least 3, no more than 6) and put them in a list.\n",
        "\n",
        "Add the following metrics to the list: Recall at 5, Normalized Discounted Cumulative Gain at 20, Mean Average Precision.\n",
        "\n",
        "Obviously, the metrics you choose cannot be **completely identical** to these 3 we specified."
      ]
    },
    {
      "cell_type": "code",
      "execution_count": 18,
      "metadata": {
        "id": "A05Rgv64Zvde"
      },
      "outputs": [],
      "source": [
        "#YOUR CODE STARTS HERE#\n",
        "\n",
        "\n",
        "ours = [ \"P_3\", \"P_5\", \"recip_rank\", \"mrt\", \"recall_10\", \"ndcg_cut_10\"]\n",
        "\n",
        "requested = ['recall_5', 'ndcg_cut_20', 'map']\n",
        "\n",
        "metrics = sorted(ours + requested)\n",
        "\n",
        "\n",
        "\n",
        "\n",
        "\n",
        "#YOUR CODE ENDS HERE#\n",
        "#THIS IS LINE 20#"
      ]
    },
    {
      "cell_type": "markdown",
      "metadata": {
        "id": "72kpxJnjZv40"
      },
      "source": [
        "### 1.1.10\n",
        "For each index built in step 1.1.7, run an experiment to obtain the values associated to each evaluation metrics specified in 1.1.8 for each of the weighting models chosen in 1.1.9."
      ]
    },
    {
      "cell_type": "code",
      "execution_count": 19,
      "metadata": {
        "colab": {
          "base_uri": "https://localhost:8080/",
          "height": 145,
          "referenced_widgets": [
            "f930b3e3be42400088ee38fdd323a8bc",
            "b9028c1563a64587962b6f68958340dd",
            "d6fd17f81fdb4605a454f0a109a70c2e",
            "a929a2d7ba1842f98199c3607301de42",
            "c814dab8819043fd95ac380eefc77a2b",
            "ff7c7b70ece6496abeff9bd253f74273",
            "f0a1995c6f084dc4ae64823fc46ab413",
            "58a53bcd2b114cd388d18811afbfbc70",
            "f966192322544e5db1b816ebf00cc968",
            "02010c3832d34a45a81ca7f0e2557741",
            "46f34e5e6aeb499abeb12e7e02a2353f",
            "16c242f64130460f9d156e230959b31e",
            "5297e8883e2f454a8205f5316378998f",
            "fcd762edd90c4210a848f4e006b3a67d",
            "ea6313aaecff42538f8b6b63d9819d00",
            "3268094d1f09408d9440cd2b5f9cc322",
            "fc23c840c75a4fa3bc6728ca3494e3ce",
            "ae996ef60c3f465d989f409e9f25e855",
            "1a18f3f9d96a41a182f9c23977634bb7",
            "2e80ebae2d294565a6f9e6a8802e4718",
            "d920e7e9f3b14e48a693fa0a45c46218",
            "5cfa0acbc257470fa7b14770ea3d2f5e",
            "ae742dc9d4dc4a6eaa29717a83453757",
            "ebd06f8fc91549bc85be319818105885",
            "081ddd0c6cac44d69a453789c0b8e473",
            "42cb01de24254f9eafcba81612ebe0b7",
            "d74a222bdfce46db93699b43f6c08061",
            "394d802117874aa080cccf9f3aeb34ef",
            "24558107e67c4066b6a4174fa350df48",
            "c272d3d201c9493a841b074d1e2245be",
            "d5463852fd8b471284bc541b06a1bd7b",
            "5f88e1f79e4e401fbe9f398da0cc09de",
            "5f1946fe61bc492a809914fa1543326f",
            "9a4cde7f0a104827a192a2e6c2790668",
            "c68138877352443da72975f89f087655",
            "bae5e16e2f9343d39a30ae86b5a82776",
            "91d310cb50754f1c95b0b24a73e44d89",
            "eb1879c4f5934f2e855dd50c7e462f92",
            "cb96d741a60546728efa7937be61cfda",
            "d78f591cf01241c7966c4b37543f0577",
            "65f42706ef1f4ce4b0027b1ce98b1506",
            "c8ee7294361c4889b62bc0780894519d",
            "22d715e801ee41fbbb880861b0017398",
            "7e47dde41cca4d1180306ca4443e999a"
          ]
        },
        "id": "VUTQOaEYZ0LY",
        "outputId": "9eece8aa-a62a-467f-a8aa-29a354d71b87"
      },
      "outputs": [
        {
          "output_type": "display_data",
          "data": {
            "text/plain": [
              "pt.Experiment:   0%|          | 0/5 [00:00<?, ?system/s]"
            ],
            "application/vnd.jupyter.widget-view+json": {
              "version_major": 2,
              "version_minor": 0,
              "model_id": "f930b3e3be42400088ee38fdd323a8bc"
            }
          },
          "metadata": {}
        },
        {
          "output_type": "display_data",
          "data": {
            "text/plain": [
              "pt.Experiment:   0%|          | 0/5 [00:00<?, ?system/s]"
            ],
            "application/vnd.jupyter.widget-view+json": {
              "version_major": 2,
              "version_minor": 0,
              "model_id": "16c242f64130460f9d156e230959b31e"
            }
          },
          "metadata": {}
        },
        {
          "output_type": "display_data",
          "data": {
            "text/plain": [
              "pt.Experiment:   0%|          | 0/5 [00:00<?, ?system/s]"
            ],
            "application/vnd.jupyter.widget-view+json": {
              "version_major": 2,
              "version_minor": 0,
              "model_id": "ae742dc9d4dc4a6eaa29717a83453757"
            }
          },
          "metadata": {}
        },
        {
          "output_type": "display_data",
          "data": {
            "text/plain": [
              "pt.Experiment:   0%|          | 0/5 [00:00<?, ?system/s]"
            ],
            "application/vnd.jupyter.widget-view+json": {
              "version_major": 2,
              "version_minor": 0,
              "model_id": "9a4cde7f0a104827a192a2e6c2790668"
            }
          },
          "metadata": {}
        }
      ],
      "source": [
        "#YOUR CODE STARTS HERE#\n",
        "\n",
        "experiments = []\n",
        "\n",
        "for i in models:\n",
        "\n",
        "  res_exp = pt.Experiment(\n",
        "      models[i],\n",
        "      topics = topics, qrels = df_scores,\n",
        "      eval_metrics = metrics,\n",
        "      names = weight_models ,\n",
        "      highlight = \"bold\", verbose=True)\n",
        "\n",
        "  experiments.append(res_exp)\n",
        "\n",
        "\n",
        "\n",
        "\n",
        "#YOUR CODE ENDS HERE#\n",
        "#THIS IS LINE 30#"
      ]
    },
    {
      "cell_type": "markdown",
      "metadata": {
        "id": "qBoF_e5reRQR"
      },
      "source": [
        "### 1.1.11\n",
        "For the last index constructed (i.e. corresponding to the last preprocessing chosen), print out the PyTerrier table with the weighting models chosen by you on the rows and the evaluation metrics chosen by you + those specified by us on the columns. \n",
        "\n",
        "Highlight the best results in the result table."
      ]
    },
    {
      "cell_type": "code",
      "execution_count": 20,
      "metadata": {
        "colab": {
          "base_uri": "https://localhost:8080/"
        },
        "id": "lyxdQmr6e-sZ",
        "outputId": "5ef9c9b5-35ea-427f-91b6-8be60827c837"
      },
      "outputs": [
        {
          "output_type": "stream",
          "name": "stdout",
          "text": [
            "\n",
            "last index constructed → preprocessing : (Stopwords, EnglishSnowballStemmer)\n",
            "\n",
            "         name          P_3       P_5       map      ndcg_cut_10    ndcg_cut_20    recall_10    recall_5    recip_rank     mrt\n",
            "--  ---------------  --------  --------  --------  -------------  -------------  -----------  ----------  ------------  -------\n",
            "0   CoordinateMatch  0.416667  0.413636  0.48074     0.449549       0.465518      0.308872     0.177045     0.445113    7.02443\n",
            "1       TF_IDF       0.757576  0.722727  0.761265    0.777932       0.790845      0.491628     0.351214     0.797913    6.39384\n",
            "2        BM25        0.666667  0.654545  0.724824    0.706139       0.740637      0.459263     0.319203     0.709364    6.54646\n",
            "3         DPH        0.742424  0.736364  0.749321    0.777103       0.796797      0.484349     0.33262      0.800796    8.61856\n",
            "4     Hiemstra_LM    0.757576  0.731818   0.7372     0.778152       0.789929      0.492338     0.330169     0.80465     6.55072\n",
            "\n"
          ]
        }
      ],
      "source": [
        "#YOUR CODE STARTS HERE#\n",
        "\n",
        "last = -1\n",
        "\n",
        "print(\"\\nlast index constructed → preprocessing : ({})\\n\".format(prepr_conf[last]))\n",
        "print(tabulate(experiments[last].data, headers='keys', tablefmt = \"heavy_outline\", numalign='center', stralign=\"center\"))\n",
        "print()\n",
        "\n",
        "#YOUR CODE ENDS HERE#\n",
        "#THIS IS LINE 10#"
      ]
    },
    {
      "cell_type": "markdown",
      "metadata": {
        "id": "9PF4-s-VZ0pD"
      },
      "source": [
        "### 1.1.12\n",
        "Select the Top-4 configurations (preprocessing, weighting model) according to the Mean Average Precision (MAP), taking into account the results obtained in section 1.1.10.\n",
        "\n",
        "For these 4 configurations, provide the following plot (re-run the evaluations just for this configurations, to get the required evaluation metrics):\n",
        "\n",
        "* Recall@k plot\n",
        "    * the x axis represents the considered values for k: you must consider k 𝜖 {1, 3, 5, 10, 20, 50}\n",
        "    * the y axis represents the average Recall@k over all provided queries\n",
        "    * each curve represents one of the 4 search engine configurations"
      ]
    },
    {
      "cell_type": "code",
      "execution_count": 21,
      "metadata": {
        "colab": {
          "base_uri": "https://localhost:8080/",
          "height": 808,
          "referenced_widgets": [
            "d084ca328f6a481cae48f583fd4c06e4",
            "5cc51917e0654f79a2d106f065233dc4",
            "0367867a00274e42a7407f099f8d81b7",
            "e14ac05073e743c0a200db7ae06687b4",
            "c728bba598e24811bc056ddc7b7d2466",
            "35be1757d73943cea31f7c75f97b2e07",
            "eddeb647af064e4e819a5988078f05d2",
            "96a3c4d6fc3449098c4905f002e9e523",
            "68cbe703fd2e4d35a2cb16f0fe64a9f5",
            "0551d1428a174d4082bd540278af1923",
            "6a863b16c7404d489e1e8eca3f817929"
          ]
        },
        "id": "tz3cg5gVZ-C2",
        "outputId": "e8c05f56-eaeb-4d89-de73-29bf992d8301"
      },
      "outputs": [
        {
          "output_type": "display_data",
          "data": {
            "text/plain": [
              "pt.Experiment:   0%|          | 0/4 [00:00<?, ?system/s]"
            ],
            "application/vnd.jupyter.widget-view+json": {
              "version_major": 2,
              "version_minor": 0,
              "model_id": "d084ca328f6a481cae48f583fd4c06e4"
            }
          },
          "metadata": {}
        },
        {
          "output_type": "stream",
          "name": "stdout",
          "text": [
            "\n",
            "     name    recall_1    recall_3    recall_5    recall_10    recall_20    recall_50\n",
            "--  ------  ----------  ----------  ----------  -----------  -----------  -----------\n",
            "0   TF_IDF  0.0717277    0.238988    0.351214    0.491628     0.670364     0.838288\n",
            "1   TF_IDF  0.0717277    0.238988    0.351214    0.491628     0.672756     0.839182\n",
            "2   TF_IDF  0.0717277    0.24071     0.326813    0.490214     0.682858     0.850473\n",
            "3   TF_IDF  0.0717277    0.24071     0.326813    0.512941     0.682858     0.850776\n",
            "\n"
          ]
        },
        {
          "output_type": "display_data",
          "data": {
            "text/plain": [
              "<Figure size 1000x600 with 1 Axes>"
            ],
            "image/png": "[encoded data removed]"
          },
          "metadata": {}
        }
      ],
      "source": [
        "#YOUR CODE STARTS HERE#\n",
        "\n",
        "k = [1, 3, 5, 10, 20, 50]\n",
        "metrics_2 = ['recall_'+str(x) for x in k]\n",
        "\n",
        "frame = pd.concat([x.data for x in experiments])\n",
        "frame[\"prepr_conf\"] = prepr_conf*5\n",
        "frame = frame.sort_values(by=['map'], ascending=False).head(4)\n",
        "indici = [prepr_conf.index(i) for i in frame[\"prepr_conf\"]]\n",
        "\n",
        "\n",
        "lista = [models[x][j] for x,j in zip(indici,frame.index)]\n",
        "\n",
        "res_exp = pt.Experiment( lista, topics = topics, qrels = df_scores, verbose=True,\n",
        "                                  eval_metrics = metrics_2, names = frame.name, highlight = \"bold\")\n",
        "print(\"\")                       \n",
        "print(tabulate(res_exp.data, headers='keys', tablefmt = \"heavy_outline\", numalign='center', stralign=\"center\"))\n",
        "print(\"\")\n",
        "\n",
        "plt.figure(figsize=(10,6))\n",
        "\n",
        "for i in range(4):\n",
        "  row = res_exp.data.iloc[i][1:]\n",
        "  plt.plot(k, row)\n",
        "\n",
        "frame.loc[frame[\"prepr_conf\"] == \"\", \"prepr_conf\"] = \"Nan\"\n",
        "lgn = [\"prepr_conf : \"+ i + \", w_model : \"+ j for i,j in zip(frame.name, frame.prepr_conf)]\n",
        "\n",
        "plt.legend(lgn)\n",
        "plt.title(\"\\nRecall at K:\\n\", fontsize= 15)\n",
        "plt.xlabel(\"\\nK\", fontsize=13)\n",
        "plt.ylabel(\"\\nRecall\", fontsize=13)\n",
        "plt.grid()\n",
        "plt.show()\n",
        "\n",
        "\n",
        "\n",
        "#YOUR CODE ENDS HERE#\n",
        "#THIS IS LINE 50#"
      ]
    },
    {
      "cell_type": "markdown",
      "metadata": {
        "id": "cjPAwZTmaE-n"
      },
      "source": [
        "### 1.1.13\n",
        "According only to the Recall@k plot, which is the best search engine configuration? Explain your answer in **at most 3 sentences**.\n",
        "\n",
        "<br>\n",
        "\n",
        "------------YOUR TEXT STARTS HERE------------\n",
        "\n",
        "<br>\n",
        "\n",
        "According only to the Recall_k plot, all search engine configurations are very similar to each other.\\\n",
        "Best search engine is the one implemented with stemming and stopwords removal and TF-IDF as weighting model, since this has a higher Recall."
      ]
    },
    {
      "cell_type": "markdown",
      "metadata": {
        "id": "e2GUFxbPz0zb"
      },
      "source": [
        "<div style=\"page-break-after: always; visibility: hidden\">\n",
        "\\pagebreak\n",
        "</div>"
      ]
    },
    {
      "cell_type": "markdown",
      "metadata": {
        "id": "0tNC1ZjoCyZx"
      },
      "source": [
        "### 1.1.14\n",
        "For the configuration you selected in Part 1.1.13, provide an **example of the functioning** of your search enginge.\n",
        "\n",
        "The query should be `King Mark of Cornwall`."
      ]
    },
    {
      "cell_type": "code",
      "execution_count": 22,
      "metadata": {
        "colab": {
          "base_uri": "https://localhost:8080/"
        },
        "id": "CcQyEtaMCyZ0",
        "outputId": "159f9de7-2860-437c-b7c9-4bf8c60b66d6"
      },
      "outputs": [
        {
          "output_type": "stream",
          "name": "stdout",
          "text": [
            "q.shape : (428, 6) \n",
            "\n",
            "      qid    docid    docno    rank    score            query\n",
            "---  -----  -------  -------  ------  --------  ---------------------\n",
            " 0     1      157      158      0     7.52123   King Mark of Cornwall\n",
            " 1     1      158      159      1     7.15052   King Mark of Cornwall\n",
            " 2     1      245      246      2     6.90861   King Mark of Cornwall\n",
            "425    1      448      449     425    0.494038  King Mark of Cornwall\n",
            "426    1      82       83      426    0.450573  King Mark of Cornwall\n",
            "427    1      313      314     427    0.439929  King Mark of Cornwall\n"
          ]
        }
      ],
      "source": [
        "#YOUR CODE STARTS HERE#\n",
        "\n",
        "\n",
        "query = \"King Mark of Cornwall\"\n",
        "\n",
        "q = models[3][1].search(query,)\n",
        "\n",
        "print(\"q.shape :\", q.shape, \"\\n\")\n",
        "\n",
        "print(tabulate(pd.concat([q.iloc[:3], q.iloc[-3:]]) , headers='keys', \n",
        "               tablefmt = \"heavy_outline\", numalign='center', stralign=\"center\"))\n",
        "\n",
        "\n",
        "#YOUR CODE ENDS HERE#\n",
        "#THIS IS LINE 20#"
      ]
    },
    {
      "cell_type": "markdown",
      "metadata": {
        "id": "JSWFJqVOaH8n"
      },
      "source": [
        "## Part 1.2"
      ]
    },
    {
      "cell_type": "markdown",
      "metadata": {
        "id": "iPPOwfZxh71A",
        "tags": [
          "remove_cell"
        ]
      },
      "source": [
        "You will be given a scenario and some requirements to fulfill. By respecting the requirements, you will have to choose the proper **configuration**, represented in terms of:\n",
        "1. A suitable preprocessing (if any)\n",
        "2. A suitable weighting model (if any)\n",
        "3. A suitable evaluation metric (if any)\n",
        "\n",
        "You must then provide an explanation of your choice in **at most 3 sentences**.\n",
        "\n",
        "N.B. There is not necessarily only one correct answer."
      ]
    },
    {
      "cell_type": "markdown",
      "metadata": {
        "id": "BuqKNXJyZ-W2"
      },
      "source": [
        "**Scenario:** The company ExcaliburDMT needs a search engine for the book *Le Morte D’Arthur* by Thomas Malory. The book is divided into two volumes.\n",
        "\n",
        "> They want to consider each chapter as a document with two fields: title of the chapter and corpus of the chapter. For now, they only want to index the title of each chapter.\n",
        "\n",
        "> They only want their users to be able to query character namesᴬ and match them exactly (also, order is importantᴮ).\n",
        "\n",
        "> They would like to show 10 results on the screen in a random order, in a sword-like shape.\n",
        "\n",
        "> The company wants to evaluate the performance of the search engine: each chapter's title containing a character's name is considered relevant for a query containing that character's name.\n",
        "\n",
        "ᴬ Character names are extracted from the collection of documents. See Part 1.2.4.\n",
        "\n",
        "ᴮ Order is important: if the query is \"King Arthur\", \"Arthur, King of Britain\" should have less scoring than \"King Arthur of Camelot\".\n",
        "\n",
        "Implement one search engine with this configuration and obtain and print out the evaluation metrics you specified."
      ]
    },
    {
      "cell_type": "markdown",
      "metadata": {
        "id": "sP4FiomrcPOh"
      },
      "source": [
        "What is the configuration (as defined in part 1.2) that would best meet the needs of the ExcaliburDMT company? **Use at most 3 sentences (1 per section).**\n",
        "\n",
        "<br>\n",
        "\n",
        "------------YOUR TEXT STARTS HERE------------\n",
        "\n",
        "<br>\n",
        "\n",
        "**Preprocessing**: transforming text to lowercase, removing unwanted characters (non-alphanumeric characters and punctuation) and tokenization\n",
        "\n",
        "**Weighting model**: CoordinateMatch\n",
        "\n",
        "**Evaluation metric**: Number of relevant documents retrieved\n",
        "\n"
      ]
    },
    {
      "cell_type": "markdown",
      "metadata": {
        "id": "1xY2RTwtYClD"
      },
      "source": [
        "Provide an explanation of your choice in **at most 3 sentences**.\n",
        "\n",
        "<br>\n",
        "\n",
        "------------YOUR TEXT STARTS HERE------------\n",
        "\n",
        "<br>\n",
        "\n",
        "**No preprocessing** with stemming and stopword removal because we wouldn't find the exact match with character name in queries.\n",
        "\n",
        "**CoordinateMatch** because a document is considered relevant if it's title contains the character name in the query, so the appropriate weighting model should be a binary model. \n",
        "\n",
        "**Number of relevant documents retrieved** because this way we can check how the order in query's words matters. \n",
        "\n",
        "\n",
        "<br>\n"
      ]
    },
    {
      "cell_type": "markdown",
      "metadata": {
        "id": "wQ6qvKTmiUc5"
      },
      "source": [
        "---------------------------------------\n",
        "\n",
        "# Part 2"
      ]
    },
    {
      "cell_type": "markdown",
      "metadata": {
        "id": "dMpwHp6TiUc7",
        "tags": [
          "remove_cell"
        ]
      },
      "source": [
        "In this part of the homework, you have to find, in an approximated way, all near-duplicate documents inside a collection of documents.\n",
        "\n",
        "These constraints **must** be satisfied while carrying out this part of the homework:\n",
        "\n",
        "  * We will consider Near-duplicates all those pair of documents that have a Jaccard similarity greater than or equal to 0.93\n",
        "  * Each set of shingles, that represents an original document, must be sketched in a Min-Hashing sketch with a length of at most 332\n",
        "  * The probability to have as a near-duplicate candidate a pair of documents with Jaccard=0.93 must be > 0.96\n",
        "  * The generation process of near-duplicate pairs you implement must generate the smallest amount of both **False-Negatives** and **False-Positives**\n",
        "  * The running time of all the LSH process (LSH + approximate Jaccard) must be less than 2 minutes."
      ]
    },
    {
      "cell_type": "code",
      "source": [
        "!git clone https://github.com/LM1997610/DMT"
      ],
      "metadata": {
        "colab": {
          "base_uri": "https://localhost:8080/"
        },
        "id": "C87c8c8Dc5Vw",
        "outputId": "767643ba-e30d-4604-881f-746b28fa766b"
      },
      "execution_count": 23,
      "outputs": [
        {
          "output_type": "stream",
          "name": "stdout",
          "text": [
            "Cloning into 'DMT'...\n",
            "remote: Enumerating objects: 31, done.\u001b[K\n",
            "remote: Counting objects: 100% (31/31), done.\u001b[K\n",
            "remote: Compressing objects: 100% (29/29), done.\u001b[K\n",
            "remote: Total 31 (delta 14), reused 0 (delta 0), pack-reused 0\u001b[K\n",
            "Unpacking objects: 100% (31/31), 2.70 MiB | 5.65 MiB/s, done.\n"
          ]
        }
      ]
    },
    {
      "cell_type": "markdown",
      "metadata": {
        "id": "zhtA8EUvl_74",
        "tags": [
          "remove_cell"
        ]
      },
      "source": [
        "Import **ALL** the Python packages that you need for Part 2."
      ]
    },
    {
      "cell_type": "code",
      "execution_count": 24,
      "metadata": {
        "id": "V9OlKqQ_l_78",
        "tags": [
          "remove_output"
        ]
      },
      "outputs": [],
      "source": [
        "#REMOVE_OUTPUT#\n",
        "#YOUR CODE STARTS HERE#\n",
        "\n",
        "import csv\n",
        "import time\n",
        "import datetime\n",
        "import numpy as np\n",
        "import pandas as pd\n",
        "import matplotlib.pyplot as plt\n",
        "\n",
        "#YOUR CODE ENDS HERE#\n",
        "#THIS IS LINE 15#"
      ]
    },
    {
      "cell_type": "code",
      "source": [
        "set__characters_interest = set(\n",
        "    ['0', '1', '2', '3', '4', '5', '6', '7', '8', '9', 'a', 'b', 'c', 'd', 'e', 'f', 'g', 'h',\n",
        "     'i', 'j', 'k', 'l', 'm', 'n', 'o', 'p', 'q', 'r', 's', 't', 'u', 'v', 'w', 'x', 'y', 'z', ' '])"
      ],
      "metadata": {
        "id": "eVH5zo4ZgTU0"
      },
      "execution_count": 25,
      "outputs": []
    },
    {
      "cell_type": "markdown",
      "metadata": {
        "id": "t9s4e_vRiUc8"
      },
      "source": [
        "## Part 2.1"
      ]
    },
    {
      "cell_type": "markdown",
      "metadata": {
        "id": "3acS73sLiUc-"
      },
      "source": [
        "### 2.1.1\n",
        "Download the dataset from the Drive link "
      ]
    },
    {
      "cell_type": "code",
      "execution_count": 26,
      "metadata": {
        "colab": {
          "base_uri": "https://localhost:8080/"
        },
        "id": "32gvfqlniUc_",
        "outputId": "0c5a051c-a75a-4e9f-8f9a-192cada5f975",
        "tags": [
          "remove_output"
        ]
      },
      "outputs": [
        {
          "output_type": "stream",
          "name": "stdout",
          "text": [
            "Downloading...\n",
            "From (uriginal): https://drive.google.com/uc?id=16LQDmla82XFK1B0lr8H9ycm01pxjURXN\n",
            "From (redirected): https://drive.google.com/uc?id=16LQDmla82XFK1B0lr8H9ycm01pxjURXN&confirm=t&uuid=427c96e5-3c47-46fe-a2ec-7dc6bcca915e\n",
            "To: /content/150K_lyrics_from_MetroLyrics.csv\n",
            "100% 186M/186M [00:03<00:00, 59.6MB/s]\n"
          ]
        }
      ],
      "source": [
        "#REMOVE_OUTPUT#\n",
        "!gdown 16LQDmla82XFK1B0lr8H9ycm01pxjURXN"
      ]
    },
    {
      "cell_type": "markdown",
      "metadata": {
        "id": "5ayMSVnIkw7U"
      },
      "source": [
        "### 2.1.2\n",
        "Inspect the dataset: print the list of fields names. Print the value of the `song` field for the last 3 documents."
      ]
    },
    {
      "cell_type": "code",
      "execution_count": 27,
      "metadata": {
        "colab": {
          "base_uri": "https://localhost:8080/"
        },
        "id": "FPnts4j8kw7e",
        "outputId": "e5db7288-3a66-451c-c448-6a42fc856722"
      },
      "outputs": [
        {
          "output_type": "stream",
          "name": "stdout",
          "text": [
            " dataframe.shape: (150000, 6)\n",
            "\n",
            " fields names: ['ID', 'song', 'year', 'artist', 'genre', 'lyrics']\n",
            "\n",
            "'song' for last 3 documents: ['oh-what-a-fool-i-have-been', 'lonely-boy', 'sidewalk-sinner']\n"
          ]
        }
      ],
      "source": [
        "#YOUR CODE STARTS HERE#\n",
        "\n",
        "data = pd.read_csv('150K_lyrics_from_MetroLyrics.csv')\n",
        "\n",
        "print(\" dataframe.shape: {}\\n\".format(data.shape))\n",
        "print(\" fields names:\", list(data.columns))\n",
        "print(\"\\n'song' for last 3 documents:\", list(data.song)[-3:])\n",
        "\n",
        "#YOUR CODE ENDS HERE#\n",
        "#THIS IS LINE 20#"
      ]
    },
    {
      "cell_type": "markdown",
      "metadata": {
        "id": "xnZrDCOnjTsn"
      },
      "source": [
        "### 2.1.3\n",
        "Turn the lyrics field of each document into a sets of shingles of length 4 and save the result to a file named `hw1_set_id_set_of_integers.tsv`"
      ]
    },
    {
      "cell_type": "code",
      "execution_count": 28,
      "metadata": {
        "colab": {
          "base_uri": "https://localhost:8080/"
        },
        "id": "_pkaOulsjTs1",
        "outputId": "4863c9c6-9508-457d-c9cc-87d220e1dbc8",
        "tags": [
          "remove_output"
        ]
      },
      "outputs": [
        {
          "output_type": "stream",
          "name": "stderr",
          "text": [
            "100%|██████████| 150000/150000 [02:13<00:00, 1123.38it/s]\n"
          ]
        },
        {
          "output_type": "stream",
          "name": "stdout",
          "text": [
            "Last processed doc_id: 209050\n",
            "\n",
            " max_shingle_id = 18766140\n",
            "\n",
            "\n"
          ]
        }
      ],
      "source": [
        "#REMOVE_OUTPUT#\n",
        "#YOUR CODE STARTS HERE#\n",
        "\n",
        "from DMT.minHash import Shingling\n",
        "s = Shingling()\n",
        "\n",
        "max_shingle_id = -1\n",
        "map__shingle__shingle_id = {}\n",
        "\n",
        "shingles_length = 4\n",
        "doc_id_idx = 0\n",
        "lyrics_field_idx  = -1\n",
        "\n",
        "max_shingle_id  = s.create_sets_of_shingle_ids(input_file_name = \"150K_lyrics_from_MetroLyrics.csv\",\n",
        "                                            output_file_name = \"hw1_set_id_set_of_integers.tsv\",\n",
        "                                            input_file_delimiter = ',', input_file_quotechar= '\"',\n",
        "                               set__characters_of_interest = set__characters_interest, shingle_width = shingles_length,\n",
        "                               doc_id_column_idx = doc_id_idx, field_column_idx = lyrics_field_idx)\n",
        "#YOUR CODE ENDS HERE#\n",
        "#THIS IS LINE 20#"
      ]
    },
    {
      "cell_type": "markdown",
      "metadata": {
        "id": "epPcNrZneMMH"
      },
      "source": [
        "### 2.1.4\n",
        "Load the file containing the sets of shingles and apply MinWiseHashing, saving the result into a file named `hw1_set_id_MinWiseHashing_sketch.tsv`. Choose the number of hash functions (n) in relation to the constraints highlighted at the beginning of part 2. Provide an explanation for your choice in **exactly one sentence**."
      ]
    },
    {
      "cell_type": "markdown",
      "metadata": {
        "id": "cDBWcU0sW4cy"
      },
      "source": [
        "------------YOUR TEXT STARTS HERE------------\n",
        "\n",
        "Number of hash functions (n) chosen in order to optimize the running time, furthermore $72$ is obtainable with many combinations of $r$ and $b$, this allows to adjust the treshold."
      ]
    },
    {
      "cell_type": "markdown",
      "metadata": {
        "id": "IHkKXWn-W4c4"
      },
      "source": [
        "<div style=\"page-break-after: always; visibility: hidden\">\n",
        "\\pagebreak\n",
        "</div>"
      ]
    },
    {
      "cell_type": "code",
      "execution_count": 29,
      "metadata": {
        "colab": {
          "base_uri": "https://localhost:8080/"
        },
        "id": "QaRV1E49eMMN",
        "outputId": "887b6c2c-ac82-4f9d-d064-b24b411e3f0f",
        "tags": [
          "remove_output"
        ]
      },
      "outputs": [
        {
          "output_type": "stream",
          "name": "stderr",
          "text": [
            "100%|██████████| 150000/150000 [02:10<00:00, 1153.67it/s]\n"
          ]
        }
      ],
      "source": [
        "#REMOVE_OUTPUT#\n",
        "#YOUR CODE STARTS HERE#\n",
        "\n",
        "from DMT.minHash import MinWiseHashing\n",
        "m = MinWiseHashing()\n",
        "\n",
        "n_hashes = 72\n",
        "\n",
        "input_f = 'hw1_set_id_set_of_integers.tsv'\n",
        "output_f = 'hw1_set_id_MinWiseHashing_sketch.tsv'\n",
        "\n",
        "m.create_MinWiseHashing_sketches(input_file_name = input_f, \n",
        "                                 upper_bound_on_number_of_distinct_elements = max_shingle_id,\n",
        "        number_of_hash_functions_that_is_also_the_sketch_lenght_and_also_the_number_of_simulated_permutations = n_hashes,\n",
        "                        output_file_name = output_f, use_numpy_version=True)\n",
        "\n",
        "\n",
        "\n",
        "\n",
        "\n",
        "\n",
        "\n",
        "\n",
        "#YOUR CODE ENDS HERE#\n",
        "#THIS IS LINE 20#"
      ]
    },
    {
      "cell_type": "markdown",
      "metadata": {
        "id": "338Hp84Wff4h"
      },
      "source": [
        "### 2.1.5\n",
        "To perform Locality Sensivity Hashing, you have to choose the number of rows (r) and the number bands (b). List all the possible choices of r and b that satisfy the constraints highlighted at the beginning of part 2, according to the number of hash functions you chose.\n",
        "\n",
        "For all of these configurations, plot all the associated S-curves. The S-curve is defined as the probability (y-axis) that a pair of documents with Jaccard similarity j (x-axis) is selected as a near-duplicate candidate given r and b. Plot all S-curves in the same plot."
      ]
    },
    {
      "cell_type": "code",
      "execution_count": 30,
      "metadata": {
        "colab": {
          "base_uri": "https://localhost:8080/",
          "height": 689
        },
        "id": "YbKkdFpUff4j",
        "outputId": "8c346601-e6d0-406b-b1bd-d86cda57cc3e"
      },
      "outputs": [
        {
          "output_type": "stream",
          "name": "stdout",
          "text": [
            "\n",
            "n_hashes: 72  → (1, 72) (2, 36) (3, 24) (4, 18) (6, 12) (8, 9) (9, 8) (12, 6) \n",
            "\n"
          ]
        },
        {
          "output_type": "display_data",
          "data": {
            "text/plain": [
              "<Figure size 1000x600 with 1 Axes>"
            ],
            "image/png": "[encoded data removed]"
          },
          "metadata": {}
        }
      ],
      "source": [
        "#YOUR CODE STARTS HERE#\n",
        "\n",
        "j_sim, tresh =  0.93, 0.96\n",
        "\n",
        "def formula(a,b):\n",
        "    f = 1-((1-j_sim**a)**b); return f\n",
        "\n",
        "n_list = [x for x in range(1,n_hashes+1) if n_hashes % x == 0]\n",
        "x_r = list(zip(n_list, n_list[::-1]))\n",
        "list_okconstr = [(x[0],x[1],formula(x[0],x[1])) for x in x_r if formula(x[0],x[1]) > tresh]\n",
        "\n",
        "print(\"\\nn_hashes:\", n_hashes, \" →\", *[(x[0],x[1]) for x in list_okconstr],\"\\n\")\n",
        "\n",
        "plt.figure(figsize=(10,6))\n",
        "for i in list_okconstr:\n",
        "    f_array = [1 - (1 -(x)**i[0])**i[1] for x in np.linspace(0.0, 1, 500)]\n",
        "    plt.plot(np.linspace(0.0, 1, 500), f_array)\n",
        "        \n",
        "plt.legend([\"r: \"+str(i[0])+\",  b: \"+str(i[1])+\" → t =\"+str(round((1/i[1])**(1/i[0]),4)) for i in list_okconstr], \n",
        "           fontsize=11.5, bbox_to_anchor=(1.01, 1.05))\n",
        "plt.xticks(np.linspace(0.0, 1, 11))\n",
        "plt.title(\"\\nS-curves :\\n\", fontsize= 15)\n",
        "plt.xlabel(\"\\nJaccard similarity\", fontsize=13)\n",
        "plt.ylabel(\"\\nProbability to be pair of near-duplicate\", fontsize=13)\n",
        "\n",
        "plt.grid(), plt.show();\n",
        "\n",
        "\n",
        "#YOUR CODE ENDS HERE#\n",
        "#THIS IS LINE 30#"
      ]
    },
    {
      "cell_type": "markdown",
      "metadata": {
        "id": "xiT7X_6tzxKB"
      },
      "source": [
        "### 2.1.6\n",
        "Among all the configurations you plotted in the previous step, choose the one that gives the smallest amount of False-Positives and False-Negatives near-duplicates candidates, satisfying the provided constraints. You **must** take into account, that after the LSH procedure, the approximate Jaccard similarity between near-duplicate candidates is computed and used to reduce their number.\n",
        "\n",
        "Provide an explanation for your choice in **at most 3 sentences**."
      ]
    },
    {
      "cell_type": "code",
      "execution_count": 31,
      "metadata": {
        "id": "B29wNwF-3cs3"
      },
      "outputs": [],
      "source": [
        "#YOUR CODE STARTS HERE#\n",
        "\n",
        "erre, bi = 12, 6\n",
        "\n",
        "#YOUR CODE ENDS HERE#\n",
        "#THIS IS LINE 5#"
      ]
    },
    {
      "cell_type": "markdown",
      "metadata": {
        "id": "bIpGPSVKXAFm"
      },
      "source": [
        "------------YOUR TEXT STARTS HERE------------\n",
        "\n",
        "**$\\text{r}$** = $12$,\n",
        "**$\\text{b}$** = $6$\n",
        "\n",
        "This combination reduces **false negatives**  → probability to be near-duplicate candidate = $0.9613$ for items with **Jaccard similarity** = $0.93$\\\n",
        "While **false positives** (already minimized by choosing the rightmost curve) will be discarded by the approximate **Jaccard similarity** between near-duplicate candidates"
      ]
    },
    {
      "cell_type": "markdown",
      "metadata": {
        "id": "5QQbV277XAFp"
      },
      "source": [
        "<div style=\"page-break-after: always; visibility: hidden\">\n",
        "\\pagebreak\n",
        "</div>"
      ]
    },
    {
      "cell_type": "markdown",
      "metadata": {
        "id": "DSB4fmyuziPY"
      },
      "source": [
        "### 2.1.7\n",
        "Load the file containing the MinWiseHashing sketches and perform Locality Sensivity Hashing, using the parameters you chose in last step, considering also the computation of approximate Jaccard to reduce the number of candidates. Save the Near-Duplicates candidates obtained to a file named `hw1_NearDuplicates_set_a_id_set_b_id_approximate_jaccard.tsv`.\n",
        "\n",
        "Print the execution time."
      ]
    },
    {
      "cell_type": "code",
      "execution_count": 33,
      "metadata": {
        "colab": {
          "base_uri": "https://localhost:8080/"
        },
        "id": "ldSDHOACziPc",
        "outputId": "28da61b7-f58c-4ca8-a37a-91ae63ed7cfb"
      },
      "outputs": [
        {
          "output_type": "stream",
          "name": "stdout",
          "text": [
            "Starting the loading of the MinWiseHashing sketches from the input file.\n"
          ]
        },
        {
          "output_type": "stream",
          "name": "stderr",
          "text": [
            "100%|█████████▉| 150000/150001.0 [00:21<00:00, 6903.93it/s]\n"
          ]
        },
        {
          "output_type": "stream",
          "name": "stdout",
          "text": [
            "\n",
            "Number of sets = 150000\n",
            "\n",
            "Starting the mining of the CANDIDATES couples to be near duplicates.\n"
          ]
        },
        {
          "output_type": "stream",
          "name": "stderr",
          "text": [
            "100%|██████████| 6/6 [00:04<00:00,  1.33it/s]\n"
          ]
        },
        {
          "output_type": "stream",
          "name": "stdout",
          "text": [
            "\n",
            "Number of pairs of sets to be near-duplicate CANDIDATES = 20625\n",
            "\n",
            "\n",
            "Number of REFINED pairs of sets to be near-duplicate CANDIDATES = 17604\n",
            "\n",
            "\n",
            "FALSI POSITIVI =  3021\n",
            "\n",
            "Execution time: 0:00:26.92 seconds\n"
          ]
        }
      ],
      "source": [
        "#YOUR CODE STARTS HERE#\n",
        "\n",
        "from DMT.minHash import LSH\n",
        "l = LSH()\n",
        "\n",
        "input_f_name = \"hw1_set_id_MinWiseHashing_sketch.tsv\" \n",
        "output_f_name = \"hw1_NearDuplicates_set_a_id_set_b_id_approximate_jaccard.tsv\"\n",
        "\n",
        "st = time.time()\n",
        "l.mine_couples_of_Near_Duplicates(input_file_name = input_f_name , output_file_name = output_f_name, \n",
        "                                  r = erre, b = bi, jaccard_threshold = j_sim)\n",
        "et = time.time()\n",
        "\n",
        "print('Execution time:', str(datetime.timedelta(seconds = et - st))[:10] , 'seconds')\n",
        "\n",
        "#YOUR CODE ENDS HERE#\n",
        "#THIS IS LINE 30#"
      ]
    },
    {
      "cell_type": "markdown",
      "metadata": {
        "id": "jYELuuPT5GVA"
      },
      "source": [
        "### 2.1.8\n",
        "Load the file containing the number of near-duplicates candidates. Print the number of near-duplicates candidates you found."
      ]
    },
    {
      "cell_type": "code",
      "execution_count": 34,
      "metadata": {
        "colab": {
          "base_uri": "https://localhost:8080/"
        },
        "id": "axXzdylh5GVC",
        "outputId": "f05cbdbd-e547-4b92-bb44-201ad16e85be"
      },
      "outputs": [
        {
          "output_type": "stream",
          "name": "stdout",
          "text": [
            "\n",
            "Total number of near-duplicates candidates:  17604\n",
            "\n",
            " First 5 Near-Duplicates candidates found :\n",
            "\n",
            "1) ID_1: 93123 \n",
            "   ID_2: 93130  →  j_sim: 1.0\n",
            "\n",
            "2) ID_1: 118894 \n",
            "   ID_2: 118976  →  j_sim: 1.0\n",
            "\n",
            "3) ID_1: 183011 \n",
            "   ID_2: 183054  →  j_sim: 1.0\n",
            "\n",
            "4) ID_1: 47496 \n",
            "   ID_2: 180420  →  j_sim: 1.0\n",
            "\n",
            "5) ID_1: 90741 \n",
            "   ID_2: 90891  →  j_sim: 1.0\n",
            "\n",
            "\n",
            "Showing similarity between Near Duplicates found :\n",
            "\n",
            "\n",
            "        ID         song         year        artist        genre         lyrics\n",
            "-----  -----  ---------------  ------  ----------------  -------  ------------------\n",
            "65816  93123       fado         2007   charles-aznavour   jazz    du bist so komi...\n",
            "65823  93130  sans-importance   2007   charles-aznavour   jazz    du bist so komi...\n",
            "\n",
            "         ID       song       year           artist              genre            lyrics\n",
            "-----  ------  -----------  ------  ----------------------  -------------  ------------------\n",
            "84014  118894  rebelimao-n   2012   dancing-with-the-stars  not available  [** feat. phili...\n",
            "84096  118976   moondance    2012   dancing-with-the-stars  not available  [** feat. phili...\n",
            "\n",
            "          ID                    song                   year      artist         genre            lyrics\n",
            "------  ------  ------------------------------------  ------  ------------  -------------  ------------------\n",
            "131112  183011           domingo-no-parque             2016   gilberto-gil  not available  o rei da brinca...\n",
            "131143  183054  domingo-no-parque-sunday-at-the-park   2014   gilberto-gil  not available  o rei da brinca...\n",
            "\n",
            "          ID        song       year       artist        genre         lyrics\n",
            "------  ------  ------------  ------  ---------------  -------  ------------------\n",
            "33491   47496   freedom-song   2006     big-country     rock    subalashii asag...\n",
            "129284  180420  la-japonaise   2006   freddie-mercury   rock    subalashii asag...\n",
            "\n"
          ]
        }
      ],
      "source": [
        "#YOUR CODE STARTS HERE#\n",
        "\n",
        "first_n = 5\n",
        "\n",
        "output_file_name = \"hw1_NearDuplicates_set_a_id_set_b_id_approximate_jaccard.tsv\"\n",
        "\n",
        "output_file = open(output_file_name, 'r', encoding=\"utf-8\")\n",
        "output_file_csv_reader = csv.reader(output_file, delimiter='\\t', quotechar='\"', quoting=csv.QUOTE_NONE)\n",
        "header = next(output_file_csv_reader)\n",
        "\n",
        "this_list = [x for x in output_file_csv_reader if len(x)!=0 and float(x[2])> j_sim]\n",
        "\n",
        "print(\"\\nTotal number of near-duplicates candidates: \", len(this_list))\n",
        "print(\"\\n First {} Near-Duplicates candidates found :\\n\".format(first_n))\n",
        "\n",
        "for i,record in enumerate(this_list[:first_n], 1):\n",
        "    print(str(i)+')', \"ID_1: {} \\n   ID_2: {}  →  j_sim: {}\".format(record[0], record[1], round(float(record[2]),3))); print()\n",
        "    \n",
        "output_file.close()\n",
        "\n",
        "print(\"\\nShowing similarity between Near Duplicates found :\\n\"); print()\n",
        "\n",
        "for i in range(len(this_list[:4])):\n",
        "  ind_list = [int(this_list[i][0]), int(this_list[i][1])]\n",
        "  t = data[data['ID'].isin(ind_list)]; t[\"lyrics\"] =  t[\"lyrics\"].str[:15]+\"...\"\n",
        "  print(tabulate(t, headers='keys', tablefmt = \"heavy_outline\", numalign='center', stralign=\"center\"))\n",
        "  print(\"\")\n",
        "\n",
        "#YOUR CODE ENDS HERE#\n",
        "#THIS IS LINE 30#"
      ]
    },
    {
      "cell_type": "markdown",
      "metadata": {
        "id": "YKl8F5SM84CD"
      },
      "source": [
        "## Part 2.2\n",
        "You will be given a scenario and you will have to provide the best solution."
      ]
    },
    {
      "cell_type": "markdown",
      "metadata": {
        "id": "EzR188Vg5XI9"
      },
      "source": [
        "### 2.2.1\n",
        "\n",
        "Let us consider the same scenario as in Part 2.1, with the only addition of not wanting more than 100 False Negatives. How would the choice of the LSH configuration change? Would you need any more information to satisfy the new constraint?"
      ]
    },
    {
      "cell_type": "markdown",
      "source": [
        "<br>\n",
        "\n",
        "------------YOUR TEXT STARTS HERE------------\n",
        "\n",
        "<br>\n",
        "\n",
        "In this scenario perform a smaller number of hash functions should be the way.\\\n",
        "With only 6 minhash (r=3, b=2) we find Number of REFINED pairs of sets to be near-duplicate CANDIDATES = 19756\\\n",
        "However it would result in a significant increase of **false positives**.\n",
        "\n",
        "The way this dataset is made, choosing a curve further to the left (lowering the treshold) does not change the number of false negatives, but it does affect false positives."
      ],
      "metadata": {
        "id": "AuckMm6VhZyB"
      }
    },
    {
      "cell_type": "markdown",
      "metadata": {
        "id": "VsxU3QQoXGN7"
      },
      "source": [
        "<div style=\"page-break-after: always; visibility: hidden\">\n",
        "\\pagebreak\n",
        "</div>"
      ]
    },
    {
      "cell_type": "markdown",
      "metadata": {
        "id": "hUMQy6fnJ_Wc",
        "tags": [
          "remove_cell"
        ]
      },
      "source": [
        "\n",
        "# Submission instructions"
      ]
    },
    {
      "cell_type": "markdown",
      "metadata": {
        "id": "6CBmMlPwKFap",
        "tags": [
          "remove_cell"
        ]
      },
      "source": [
        "Follow the instructions precisely\n",
        "1. Run the whole notebook up to this point\n",
        "  * Click on this text cell and go to Runtime > Run before\n",
        "  * It is essential that the notebook can be run from start to finish without us having to change anything.\n",
        "2. Download the current notebook\n",
        "  * File -> Download -> Download .ipynb\n",
        "3. Upload the downloaded notebook in the current runtime\n",
        "  * In the left sidebar menu, open the last tab (Files)\n",
        "  * Click on the first button under the File title (Page with arrow pointing up)\n",
        "  * In the new window, upload the notebook just downloaded\n",
        "\n"
      ]
    },
    {
      "cell_type": "markdown",
      "metadata": {
        "id": "IlVjzr46r4LI",
        "tags": [
          "remove_cell"
        ]
      },
      "source": [
        "4. To turn the notebook into a pdf you need to install a Tex extension. Simply run the next cell of code:"
      ]
    },
    {
      "cell_type": "code",
      "execution_count": null,
      "metadata": {
        "colab": {
          "base_uri": "https://localhost:8080/"
        },
        "id": "odN9jkorr3Lz",
        "outputId": "f3e5d06e-84ec-40bc-8f37-1d243bcfa200",
        "tags": [
          "remove_cell"
        ]
      },
      "outputs": [
        {
          "name": "stdout",
          "output_type": "stream",
          "text": [
            "Reading package lists... Done\n",
            "Building dependency tree       \n",
            "Reading state information... Done\n",
            "texlive-fonts-recommended is already the newest version (2019.20200218-1).\n",
            "texlive-plain-generic is already the newest version (2019.202000218-1).\n",
            "texlive-xetex is already the newest version (2019.20200218-1).\n",
            "0 upgraded, 0 newly installed, 0 to remove and 23 not upgraded.\n"
          ]
        }
      ],
      "source": [
        "#REMOVE_CELL#\n",
        "!apt-get install texlive-xetex texlive-fonts-recommended texlive-plain-generic"
      ]
    },
    {
      "cell_type": "markdown",
      "metadata": {
        "id": "ssveLCBosR4_",
        "tags": [
          "remove_cell"
        ]
      },
      "source": [
        "5. Now, run the next cell to set some cell tags in the notebook file."
      ]
    },
    {
      "cell_type": "code",
      "execution_count": null,
      "metadata": {
        "colab": {
          "base_uri": "https://localhost:8080/"
        },
        "id": "2mqk8wfbsYwL",
        "outputId": "f5f9c6a2-6038-434a-fa5e-e6e76b4e1df5",
        "tags": [
          "remove_cell"
        ]
      },
      "outputs": [
        {
          "name": "stdout",
          "output_type": "stream",
          "text": [
            "/content/DMT2023_HW1.ipynb\n"
          ]
        }
      ],
      "source": [
        "#REMOVE_CELL#\n",
        "import nbformat as nbf\n",
        "from glob import glob\n",
        "notebooks = glob(\"/content/**/*.ipynb\", recursive=True)\n",
        "\n",
        "text_search_dict = [\"YOUR TEXT STARTS HERE\",\"#YOUR CODE STARTS HERE#\"]\n",
        "\n",
        "for ipath in notebooks:\n",
        "    print(ipath)\n",
        "    ntbk = nbf.read(ipath, nbf.NO_CONVERT)\n",
        "\n",
        "    for cell in ntbk.cells:\n",
        "        cell_type = cell['cell_type'] == \"code\"\n",
        "      \n",
        "        cell_tags = cell.get('metadata', {}).get('tags', [])\n",
        "        cell_tags = set(cell_tags)\n",
        "\n",
        "        if cell_type == 0: #markdown\n",
        "          if (cell['source'][0]!=\"#\" and text_search_dict[cell_type] not in cell['source'] and \"pagebreak\" not in cell['source']) or \"#REMOVE_CELL#\" in cell['source']:\n",
        "            cell_tags.add(\"remove_cell\")\n",
        "\n",
        "        else: #code\n",
        "          #if text_search_dict[cell_type] not in cell['source'] or \"#REMOVE_CELL#\" in cell['source']:\n",
        "          if \"#REMOVE_CELL#\" in cell['source']:\n",
        "            cell_tags.add(\"remove_cell\")\n",
        "          elif \"#REMOVE_OUTPUT#\" in cell['source']:\n",
        "            cell_tags.add(\"remove_output\")\n",
        "        \n",
        "        if len(cell_tags) > 0:\n",
        "            cell['metadata']['tags'] = list(cell_tags)\n",
        "\n",
        "    nbf.write(ntbk, ipath)"
      ]
    },
    {
      "cell_type": "markdown",
      "metadata": {
        "id": "9FSow08zLMcF",
        "tags": [
          "remove_cell"
        ]
      },
      "source": [
        "6. Now, run the next cell to transform the notebook to PDF without the code cells.\n",
        "  * The file will appear in the menu on the left (refresh if needed). The file should be named `DMT2023-HW1.pdf`\n",
        "  * Rename this file **Surname1_Surname2_DMT2023HW1_report.pdf** (e.g. Becchetti_Siciliano_DMT2023HW1_report.pdf). Sort the surnames alphabetically.\n",
        "  * Click on it and using the right button or the three dots at its side, click on download to transfer it to your local PC\n",
        "  "
      ]
    },
    {
      "cell_type": "code",
      "execution_count": null,
      "metadata": {
        "colab": {
          "base_uri": "https://localhost:8080/"
        },
        "id": "kBVA-RSCLdR5",
        "outputId": "b4031126-7d9f-415c-d0af-2783462ed5a8",
        "tags": [
          "remove_cell"
        ]
      },
      "outputs": [
        {
          "name": "stdout",
          "output_type": "stream",
          "text": [
            "[NbConvertApp] Converting notebook /content/DMT2023_HW1.ipynb to pdf\n",
            "[NbConvertApp] Support files will be in DMT2023_HW1_files/\n",
            "[NbConvertApp] Making directory ./DMT2023_HW1_files\n",
            "[NbConvertApp] Making directory ./DMT2023_HW1_files\n",
            "[NbConvertApp] Writing 142919 bytes to notebook.tex\n",
            "[NbConvertApp] Building PDF\n",
            "[NbConvertApp] Running xelatex 3 times: ['xelatex', 'notebook.tex', '-quiet']\n",
            "[NbConvertApp] Running bibtex 1 time: ['bibtex', 'notebook']\n",
            "[NbConvertApp] WARNING | bibtex had problems, most likely because there were no citations\n",
            "[NbConvertApp] PDF successfully created\n",
            "[NbConvertApp] Writing 283912 bytes to /content/DMT2023_HW1.pdf\n"
          ]
        }
      ],
      "source": [
        "#REMOVE_CELL#\n",
        "!jupyter nbconvert /content/DMT2023_HW1.ipynb --to pdf --TagRemovePreprocessor.remove_cell_tags='{\"remove_cell\"}' -TagRemovePreprocessor.remove_all_outputs_tags='{\"remove_output\"}'"
      ]
    },
    {
      "cell_type": "markdown",
      "metadata": {
        "id": "dPBEw61nLkbc",
        "tags": [
          "remove_cell"
        ]
      },
      "source": [
        "7. Now, rename the downloaded notebook **Surname1_Surname2_DMT2023_HW1_notebook.ipynb** (e.g. Becchetti_Siciliano_DMT2023_HW1_notebook.ipynb). Sort the surnames alphabetically."
      ]
    },
    {
      "cell_type": "markdown",
      "metadata": {
        "id": "nSfuoivTy2eg",
        "tags": [
          "remove_cell"
        ]
      },
      "source": [
        "8. Now that you have both files, you need to upload them to Classroom. Only the student with the surname that comes first in alphabetical order **must** upload the files. Only the files uploaded by this student will be graded."
      ]
    },
    {
      "cell_type": "code",
      "execution_count": null,
      "metadata": {
        "id": "0PqAfzoFfoEJ"
      },
      "outputs": [],
      "source": []
    },
    {
      "cell_type": "code",
      "execution_count": null,
      "metadata": {
        "id": "tZgDATykfoGS"
      },
      "outputs": [],
      "source": []
    },
    {
      "cell_type": "code",
      "execution_count": null,
      "metadata": {
        "id": "H3sLUJ1XhksF"
      },
      "outputs": [],
      "source": []
    }
  ],
  "metadata": {
    "colab": {
      "collapsed_sections": [
        "vtqmMBBFM5VB",
        "OL_C32zaSqds",
        "mdy_DVRP_iuM",
        "eJv9DuQx__lO",
        "DUUB4ycZA_yG",
        "hUMQy6fnJ_Wc"
      ],
      "provenance": [],
      "include_colab_link": true
    },
    "kernelspec": {
      "display_name": "Python 3",
      "name": "python3"
    },
    "language_info": {
      "name": "python"
    },
    "widgets": {
      "application/vnd.jupyter.widget-state+json": {
        "f930b3e3be42400088ee38fdd323a8bc": {
          "model_module": "@jupyter-widgets/controls",
          "model_name": "HBoxModel",
          "model_module_version": "1.5.0",
          "state": {
            "_dom_classes": [],
            "_model_module": "@jupyter-widgets/controls",
            "_model_module_version": "1.5.0",
            "_model_name": "HBoxModel",
            "_view_count": null,
            "_view_module": "@jupyter-widgets/controls",
            "_view_module_version": "1.5.0",
            "_view_name": "HBoxView",
            "box_style": "",
            "children": [
              "IPY_MODEL_b9028c1563a64587962b6f68958340dd",
              "IPY_MODEL_d6fd17f81fdb4605a454f0a109a70c2e",
              "IPY_MODEL_a929a2d7ba1842f98199c3607301de42"
            ],
            "layout": "IPY_MODEL_c814dab8819043fd95ac380eefc77a2b"
          }
        },
        "b9028c1563a64587962b6f68958340dd": {
          "model_module": "@jupyter-widgets/controls",
          "model_name": "HTMLModel",
          "model_module_version": "1.5.0",
          "state": {
            "_dom_classes": [],
            "_model_module": "@jupyter-widgets/controls",
            "_model_module_version": "1.5.0",
            "_model_name": "HTMLModel",
            "_view_count": null,
            "_view_module": "@jupyter-widgets/controls",
            "_view_module_version": "1.5.0",
            "_view_name": "HTMLView",
            "description": "",
            "description_tooltip": null,
            "layout": "IPY_MODEL_ff7c7b70ece6496abeff9bd253f74273",
            "placeholder": "​",
            "style": "IPY_MODEL_f0a1995c6f084dc4ae64823fc46ab413",
            "value": "pt.Experiment: 100%"
          }
        },
        "d6fd17f81fdb4605a454f0a109a70c2e": {
          "model_module": "@jupyter-widgets/controls",
          "model_name": "FloatProgressModel",
          "model_module_version": "1.5.0",
          "state": {
            "_dom_classes": [],
            "_model_module": "@jupyter-widgets/controls",
            "_model_module_version": "1.5.0",
            "_model_name": "FloatProgressModel",
            "_view_count": null,
            "_view_module": "@jupyter-widgets/controls",
            "_view_module_version": "1.5.0",
            "_view_name": "ProgressView",
            "bar_style": "success",
            "description": "",
            "description_tooltip": null,
            "layout": "IPY_MODEL_58a53bcd2b114cd388d18811afbfbc70",
            "max": 5,
            "min": 0,
            "orientation": "horizontal",
            "style": "IPY_MODEL_f966192322544e5db1b816ebf00cc968",
            "value": 5
          }
        },
        "a929a2d7ba1842f98199c3607301de42": {
          "model_module": "@jupyter-widgets/controls",
          "model_name": "HTMLModel",
          "model_module_version": "1.5.0",
          "state": {
            "_dom_classes": [],
            "_model_module": "@jupyter-widgets/controls",
            "_model_module_version": "1.5.0",
            "_model_name": "HTMLModel",
            "_view_count": null,
            "_view_module": "@jupyter-widgets/controls",
            "_view_module_version": "1.5.0",
            "_view_name": "HTMLView",
            "description": "",
            "description_tooltip": null,
            "layout": "IPY_MODEL_02010c3832d34a45a81ca7f0e2557741",
            "placeholder": "​",
            "style": "IPY_MODEL_46f34e5e6aeb499abeb12e7e02a2353f",
            "value": " 5/5 [00:11&lt;00:00,  1.81s/system]"
          }
        },
        "c814dab8819043fd95ac380eefc77a2b": {
          "model_module": "@jupyter-widgets/base",
          "model_name": "LayoutModel",
          "model_module_version": "1.2.0",
          "state": {
            "_model_module": "@jupyter-widgets/base",
            "_model_module_version": "1.2.0",
            "_model_name": "LayoutModel",
            "_view_count": null,
            "_view_module": "@jupyter-widgets/base",
            "_view_module_version": "1.2.0",
            "_view_name": "LayoutView",
            "align_content": null,
            "align_items": null,
            "align_self": null,
            "border": null,
            "bottom": null,
            "display": null,
            "flex": null,
            "flex_flow": null,
            "grid_area": null,
            "grid_auto_columns": null,
            "grid_auto_flow": null,
            "grid_auto_rows": null,
            "grid_column": null,
            "grid_gap": null,
            "grid_row": null,
            "grid_template_areas": null,
            "grid_template_columns": null,
            "grid_template_rows": null,
            "height": null,
            "justify_content": null,
            "justify_items": null,
            "left": null,
            "margin": null,
            "max_height": null,
            "max_width": null,
            "min_height": null,
            "min_width": null,
            "object_fit": null,
            "object_position": null,
            "order": null,
            "overflow": null,
            "overflow_x": null,
            "overflow_y": null,
            "padding": null,
            "right": null,
            "top": null,
            "visibility": null,
            "width": null
          }
        },
        "ff7c7b70ece6496abeff9bd253f74273": {
          "model_module": "@jupyter-widgets/base",
          "model_name": "LayoutModel",
          "model_module_version": "1.2.0",
          "state": {
            "_model_module": "@jupyter-widgets/base",
            "_model_module_version": "1.2.0",
            "_model_name": "LayoutModel",
            "_view_count": null,
            "_view_module": "@jupyter-widgets/base",
            "_view_module_version": "1.2.0",
            "_view_name": "LayoutView",
            "align_content": null,
            "align_items": null,
            "align_self": null,
            "border": null,
            "bottom": null,
            "display": null,
            "flex": null,
            "flex_flow": null,
            "grid_area": null,
            "grid_auto_columns": null,
            "grid_auto_flow": null,
            "grid_auto_rows": null,
            "grid_column": null,
            "grid_gap": null,
            "grid_row": null,
            "grid_template_areas": null,
            "grid_template_columns": null,
            "grid_template_rows": null,
            "height": null,
            "justify_content": null,
            "justify_items": null,
            "left": null,
            "margin": null,
            "max_height": null,
            "max_width": null,
            "min_height": null,
            "min_width": null,
            "object_fit": null,
            "object_position": null,
            "order": null,
            "overflow": null,
            "overflow_x": null,
            "overflow_y": null,
            "padding": null,
            "right": null,
            "top": null,
            "visibility": null,
            "width": null
          }
        },
        "f0a1995c6f084dc4ae64823fc46ab413": {
          "model_module": "@jupyter-widgets/controls",
          "model_name": "DescriptionStyleModel",
          "model_module_version": "1.5.0",
          "state": {
            "_model_module": "@jupyter-widgets/controls",
            "_model_module_version": "1.5.0",
            "_model_name": "DescriptionStyleModel",
            "_view_count": null,
            "_view_module": "@jupyter-widgets/base",
            "_view_module_version": "1.2.0",
            "_view_name": "StyleView",
            "description_width": ""
          }
        },
        "58a53bcd2b114cd388d18811afbfbc70": {
          "model_module": "@jupyter-widgets/base",
          "model_name": "LayoutModel",
          "model_module_version": "1.2.0",
          "state": {
            "_model_module": "@jupyter-widgets/base",
            "_model_module_version": "1.2.0",
            "_model_name": "LayoutModel",
            "_view_count": null,
            "_view_module": "@jupyter-widgets/base",
            "_view_module_version": "1.2.0",
            "_view_name": "LayoutView",
            "align_content": null,
            "align_items": null,
            "align_self": null,
            "border": null,
            "bottom": null,
            "display": null,
            "flex": null,
            "flex_flow": null,
            "grid_area": null,
            "grid_auto_columns": null,
            "grid_auto_flow": null,
            "grid_auto_rows": null,
            "grid_column": null,
            "grid_gap": null,
            "grid_row": null,
            "grid_template_areas": null,
            "grid_template_columns": null,
            "grid_template_rows": null,
            "height": null,
            "justify_content": null,
            "justify_items": null,
            "left": null,
            "margin": null,
            "max_height": null,
            "max_width": null,
            "min_height": null,
            "min_width": null,
            "object_fit": null,
            "object_position": null,
            "order": null,
            "overflow": null,
            "overflow_x": null,
            "overflow_y": null,
            "padding": null,
            "right": null,
            "top": null,
            "visibility": null,
            "width": null
          }
        },
        "f966192322544e5db1b816ebf00cc968": {
          "model_module": "@jupyter-widgets/controls",
          "model_name": "ProgressStyleModel",
          "model_module_version": "1.5.0",
          "state": {
            "_model_module": "@jupyter-widgets/controls",
            "_model_module_version": "1.5.0",
            "_model_name": "ProgressStyleModel",
            "_view_count": null,
            "_view_module": "@jupyter-widgets/base",
            "_view_module_version": "1.2.0",
            "_view_name": "StyleView",
            "bar_color": null,
            "description_width": ""
          }
        },
        "02010c3832d34a45a81ca7f0e2557741": {
          "model_module": "@jupyter-widgets/base",
          "model_name": "LayoutModel",
          "model_module_version": "1.2.0",
          "state": {
            "_model_module": "@jupyter-widgets/base",
            "_model_module_version": "1.2.0",
            "_model_name": "LayoutModel",
            "_view_count": null,
            "_view_module": "@jupyter-widgets/base",
            "_view_module_version": "1.2.0",
            "_view_name": "LayoutView",
            "align_content": null,
            "align_items": null,
            "align_self": null,
            "border": null,
            "bottom": null,
            "display": null,
            "flex": null,
            "flex_flow": null,
            "grid_area": null,
            "grid_auto_columns": null,
            "grid_auto_flow": null,
            "grid_auto_rows": null,
            "grid_column": null,
            "grid_gap": null,
            "grid_row": null,
            "grid_template_areas": null,
            "grid_template_columns": null,
            "grid_template_rows": null,
            "height": null,
            "justify_content": null,
            "justify_items": null,
            "left": null,
            "margin": null,
            "max_height": null,
            "max_width": null,
            "min_height": null,
            "min_width": null,
            "object_fit": null,
            "object_position": null,
            "order": null,
            "overflow": null,
            "overflow_x": null,
            "overflow_y": null,
            "padding": null,
            "right": null,
            "top": null,
            "visibility": null,
            "width": null
          }
        },
        "46f34e5e6aeb499abeb12e7e02a2353f": {
          "model_module": "@jupyter-widgets/controls",
          "model_name": "DescriptionStyleModel",
          "model_module_version": "1.5.0",
          "state": {
            "_model_module": "@jupyter-widgets/controls",
            "_model_module_version": "1.5.0",
            "_model_name": "DescriptionStyleModel",
            "_view_count": null,
            "_view_module": "@jupyter-widgets/base",
            "_view_module_version": "1.2.0",
            "_view_name": "StyleView",
            "description_width": ""
          }
        },
        "16c242f64130460f9d156e230959b31e": {
          "model_module": "@jupyter-widgets/controls",
          "model_name": "HBoxModel",
          "model_module_version": "1.5.0",
          "state": {
            "_dom_classes": [],
            "_model_module": "@jupyter-widgets/controls",
            "_model_module_version": "1.5.0",
            "_model_name": "HBoxModel",
            "_view_count": null,
            "_view_module": "@jupyter-widgets/controls",
            "_view_module_version": "1.5.0",
            "_view_name": "HBoxView",
            "box_style": "",
            "children": [
              "IPY_MODEL_5297e8883e2f454a8205f5316378998f",
              "IPY_MODEL_fcd762edd90c4210a848f4e006b3a67d",
              "IPY_MODEL_ea6313aaecff42538f8b6b63d9819d00"
            ],
            "layout": "IPY_MODEL_3268094d1f09408d9440cd2b5f9cc322"
          }
        },
        "5297e8883e2f454a8205f5316378998f": {
          "model_module": "@jupyter-widgets/controls",
          "model_name": "HTMLModel",
          "model_module_version": "1.5.0",
          "state": {
            "_dom_classes": [],
            "_model_module": "@jupyter-widgets/controls",
            "_model_module_version": "1.5.0",
            "_model_name": "HTMLModel",
            "_view_count": null,
            "_view_module": "@jupyter-widgets/controls",
            "_view_module_version": "1.5.0",
            "_view_name": "HTMLView",
            "description": "",
            "description_tooltip": null,
            "layout": "IPY_MODEL_fc23c840c75a4fa3bc6728ca3494e3ce",
            "placeholder": "​",
            "style": "IPY_MODEL_ae996ef60c3f465d989f409e9f25e855",
            "value": "pt.Experiment: 100%"
          }
        },
        "fcd762edd90c4210a848f4e006b3a67d": {
          "model_module": "@jupyter-widgets/controls",
          "model_name": "FloatProgressModel",
          "model_module_version": "1.5.0",
          "state": {
            "_dom_classes": [],
            "_model_module": "@jupyter-widgets/controls",
            "_model_module_version": "1.5.0",
            "_model_name": "FloatProgressModel",
            "_view_count": null,
            "_view_module": "@jupyter-widgets/controls",
            "_view_module_version": "1.5.0",
            "_view_name": "ProgressView",
            "bar_style": "success",
            "description": "",
            "description_tooltip": null,
            "layout": "IPY_MODEL_1a18f3f9d96a41a182f9c23977634bb7",
            "max": 5,
            "min": 0,
            "orientation": "horizontal",
            "style": "IPY_MODEL_2e80ebae2d294565a6f9e6a8802e4718",
            "value": 5
          }
        },
        "ea6313aaecff42538f8b6b63d9819d00": {
          "model_module": "@jupyter-widgets/controls",
          "model_name": "HTMLModel",
          "model_module_version": "1.5.0",
          "state": {
            "_dom_classes": [],
            "_model_module": "@jupyter-widgets/controls",
            "_model_module_version": "1.5.0",
            "_model_name": "HTMLModel",
            "_view_count": null,
            "_view_module": "@jupyter-widgets/controls",
            "_view_module_version": "1.5.0",
            "_view_name": "HTMLView",
            "description": "",
            "description_tooltip": null,
            "layout": "IPY_MODEL_d920e7e9f3b14e48a693fa0a45c46218",
            "placeholder": "​",
            "style": "IPY_MODEL_5cfa0acbc257470fa7b14770ea3d2f5e",
            "value": " 5/5 [00:06&lt;00:00,  1.32s/system]"
          }
        },
        "3268094d1f09408d9440cd2b5f9cc322": {
          "model_module": "@jupyter-widgets/base",
          "model_name": "LayoutModel",
          "model_module_version": "1.2.0",
          "state": {
            "_model_module": "@jupyter-widgets/base",
            "_model_module_version": "1.2.0",
            "_model_name": "LayoutModel",
            "_view_count": null,
            "_view_module": "@jupyter-widgets/base",
            "_view_module_version": "1.2.0",
            "_view_name": "LayoutView",
            "align_content": null,
            "align_items": null,
            "align_self": null,
            "border": null,
            "bottom": null,
            "display": null,
            "flex": null,
            "flex_flow": null,
            "grid_area": null,
            "grid_auto_columns": null,
            "grid_auto_flow": null,
            "grid_auto_rows": null,
            "grid_column": null,
            "grid_gap": null,
            "grid_row": null,
            "grid_template_areas": null,
            "grid_template_columns": null,
            "grid_template_rows": null,
            "height": null,
            "justify_content": null,
            "justify_items": null,
            "left": null,
            "margin": null,
            "max_height": null,
            "max_width": null,
            "min_height": null,
            "min_width": null,
            "object_fit": null,
            "object_position": null,
            "order": null,
            "overflow": null,
            "overflow_x": null,
            "overflow_y": null,
            "padding": null,
            "right": null,
            "top": null,
            "visibility": null,
            "width": null
          }
        },
        "fc23c840c75a4fa3bc6728ca3494e3ce": {
          "model_module": "@jupyter-widgets/base",
          "model_name": "LayoutModel",
          "model_module_version": "1.2.0",
          "state": {
            "_model_module": "@jupyter-widgets/base",
            "_model_module_version": "1.2.0",
            "_model_name": "LayoutModel",
            "_view_count": null,
            "_view_module": "@jupyter-widgets/base",
            "_view_module_version": "1.2.0",
            "_view_name": "LayoutView",
            "align_content": null,
            "align_items": null,
            "align_self": null,
            "border": null,
            "bottom": null,
            "display": null,
            "flex": null,
            "flex_flow": null,
            "grid_area": null,
            "grid_auto_columns": null,
            "grid_auto_flow": null,
            "grid_auto_rows": null,
            "grid_column": null,
            "grid_gap": null,
            "grid_row": null,
            "grid_template_areas": null,
            "grid_template_columns": null,
            "grid_template_rows": null,
            "height": null,
            "justify_content": null,
            "justify_items": null,
            "left": null,
            "margin": null,
            "max_height": null,
            "max_width": null,
            "min_height": null,
            "min_width": null,
            "object_fit": null,
            "object_position": null,
            "order": null,
            "overflow": null,
            "overflow_x": null,
            "overflow_y": null,
            "padding": null,
            "right": null,
            "top": null,
            "visibility": null,
            "width": null
          }
        },
        "ae996ef60c3f465d989f409e9f25e855": {
          "model_module": "@jupyter-widgets/controls",
          "model_name": "DescriptionStyleModel",
          "model_module_version": "1.5.0",
          "state": {
            "_model_module": "@jupyter-widgets/controls",
            "_model_module_version": "1.5.0",
            "_model_name": "DescriptionStyleModel",
            "_view_count": null,
            "_view_module": "@jupyter-widgets/base",
            "_view_module_version": "1.2.0",
            "_view_name": "StyleView",
            "description_width": ""
          }
        },
        "1a18f3f9d96a41a182f9c23977634bb7": {
          "model_module": "@jupyter-widgets/base",
          "model_name": "LayoutModel",
          "model_module_version": "1.2.0",
          "state": {
            "_model_module": "@jupyter-widgets/base",
            "_model_module_version": "1.2.0",
            "_model_name": "LayoutModel",
            "_view_count": null,
            "_view_module": "@jupyter-widgets/base",
            "_view_module_version": "1.2.0",
            "_view_name": "LayoutView",
            "align_content": null,
            "align_items": null,
            "align_self": null,
            "border": null,
            "bottom": null,
            "display": null,
            "flex": null,
            "flex_flow": null,
            "grid_area": null,
            "grid_auto_columns": null,
            "grid_auto_flow": null,
            "grid_auto_rows": null,
            "grid_column": null,
            "grid_gap": null,
            "grid_row": null,
            "grid_template_areas": null,
            "grid_template_columns": null,
            "grid_template_rows": null,
            "height": null,
            "justify_content": null,
            "justify_items": null,
            "left": null,
            "margin": null,
            "max_height": null,
            "max_width": null,
            "min_height": null,
            "min_width": null,
            "object_fit": null,
            "object_position": null,
            "order": null,
            "overflow": null,
            "overflow_x": null,
            "overflow_y": null,
            "padding": null,
            "right": null,
            "top": null,
            "visibility": null,
            "width": null
          }
        },
        "2e80ebae2d294565a6f9e6a8802e4718": {
          "model_module": "@jupyter-widgets/controls",
          "model_name": "ProgressStyleModel",
          "model_module_version": "1.5.0",
          "state": {
            "_model_module": "@jupyter-widgets/controls",
            "_model_module_version": "1.5.0",
            "_model_name": "ProgressStyleModel",
            "_view_count": null,
            "_view_module": "@jupyter-widgets/base",
            "_view_module_version": "1.2.0",
            "_view_name": "StyleView",
            "bar_color": null,
            "description_width": ""
          }
        },
        "d920e7e9f3b14e48a693fa0a45c46218": {
          "model_module": "@jupyter-widgets/base",
          "model_name": "LayoutModel",
          "model_module_version": "1.2.0",
          "state": {
            "_model_module": "@jupyter-widgets/base",
            "_model_module_version": "1.2.0",
            "_model_name": "LayoutModel",
            "_view_count": null,
            "_view_module": "@jupyter-widgets/base",
            "_view_module_version": "1.2.0",
            "_view_name": "LayoutView",
            "align_content": null,
            "align_items": null,
            "align_self": null,
            "border": null,
            "bottom": null,
            "display": null,
            "flex": null,
            "flex_flow": null,
            "grid_area": null,
            "grid_auto_columns": null,
            "grid_auto_flow": null,
            "grid_auto_rows": null,
            "grid_column": null,
            "grid_gap": null,
            "grid_row": null,
            "grid_template_areas": null,
            "grid_template_columns": null,
            "grid_template_rows": null,
            "height": null,
            "justify_content": null,
            "justify_items": null,
            "left": null,
            "margin": null,
            "max_height": null,
            "max_width": null,
            "min_height": null,
            "min_width": null,
            "object_fit": null,
            "object_position": null,
            "order": null,
            "overflow": null,
            "overflow_x": null,
            "overflow_y": null,
            "padding": null,
            "right": null,
            "top": null,
            "visibility": null,
            "width": null
          }
        },
        "5cfa0acbc257470fa7b14770ea3d2f5e": {
          "model_module": "@jupyter-widgets/controls",
          "model_name": "DescriptionStyleModel",
          "model_module_version": "1.5.0",
          "state": {
            "_model_module": "@jupyter-widgets/controls",
            "_model_module_version": "1.5.0",
            "_model_name": "DescriptionStyleModel",
            "_view_count": null,
            "_view_module": "@jupyter-widgets/base",
            "_view_module_version": "1.2.0",
            "_view_name": "StyleView",
            "description_width": ""
          }
        },
        "ae742dc9d4dc4a6eaa29717a83453757": {
          "model_module": "@jupyter-widgets/controls",
          "model_name": "HBoxModel",
          "model_module_version": "1.5.0",
          "state": {
            "_dom_classes": [],
            "_model_module": "@jupyter-widgets/controls",
            "_model_module_version": "1.5.0",
            "_model_name": "HBoxModel",
            "_view_count": null,
            "_view_module": "@jupyter-widgets/controls",
            "_view_module_version": "1.5.0",
            "_view_name": "HBoxView",
            "box_style": "",
            "children": [
              "IPY_MODEL_ebd06f8fc91549bc85be319818105885",
              "IPY_MODEL_081ddd0c6cac44d69a453789c0b8e473",
              "IPY_MODEL_42cb01de24254f9eafcba81612ebe0b7"
            ],
            "layout": "IPY_MODEL_d74a222bdfce46db93699b43f6c08061"
          }
        },
        "ebd06f8fc91549bc85be319818105885": {
          "model_module": "@jupyter-widgets/controls",
          "model_name": "HTMLModel",
          "model_module_version": "1.5.0",
          "state": {
            "_dom_classes": [],
            "_model_module": "@jupyter-widgets/controls",
            "_model_module_version": "1.5.0",
            "_model_name": "HTMLModel",
            "_view_count": null,
            "_view_module": "@jupyter-widgets/controls",
            "_view_module_version": "1.5.0",
            "_view_name": "HTMLView",
            "description": "",
            "description_tooltip": null,
            "layout": "IPY_MODEL_394d802117874aa080cccf9f3aeb34ef",
            "placeholder": "​",
            "style": "IPY_MODEL_24558107e67c4066b6a4174fa350df48",
            "value": "pt.Experiment: 100%"
          }
        },
        "081ddd0c6cac44d69a453789c0b8e473": {
          "model_module": "@jupyter-widgets/controls",
          "model_name": "FloatProgressModel",
          "model_module_version": "1.5.0",
          "state": {
            "_dom_classes": [],
            "_model_module": "@jupyter-widgets/controls",
            "_model_module_version": "1.5.0",
            "_model_name": "FloatProgressModel",
            "_view_count": null,
            "_view_module": "@jupyter-widgets/controls",
            "_view_module_version": "1.5.0",
            "_view_name": "ProgressView",
            "bar_style": "success",
            "description": "",
            "description_tooltip": null,
            "layout": "IPY_MODEL_c272d3d201c9493a841b074d1e2245be",
            "max": 5,
            "min": 0,
            "orientation": "horizontal",
            "style": "IPY_MODEL_d5463852fd8b471284bc541b06a1bd7b",
            "value": 5
          }
        },
        "42cb01de24254f9eafcba81612ebe0b7": {
          "model_module": "@jupyter-widgets/controls",
          "model_name": "HTMLModel",
          "model_module_version": "1.5.0",
          "state": {
            "_dom_classes": [],
            "_model_module": "@jupyter-widgets/controls",
            "_model_module_version": "1.5.0",
            "_model_name": "HTMLModel",
            "_view_count": null,
            "_view_module": "@jupyter-widgets/controls",
            "_view_module_version": "1.5.0",
            "_view_name": "HTMLView",
            "description": "",
            "description_tooltip": null,
            "layout": "IPY_MODEL_5f88e1f79e4e401fbe9f398da0cc09de",
            "placeholder": "​",
            "style": "IPY_MODEL_5f1946fe61bc492a809914fa1543326f",
            "value": " 5/5 [00:04&lt;00:00,  1.05system/s]"
          }
        },
        "d74a222bdfce46db93699b43f6c08061": {
          "model_module": "@jupyter-widgets/base",
          "model_name": "LayoutModel",
          "model_module_version": "1.2.0",
          "state": {
            "_model_module": "@jupyter-widgets/base",
            "_model_module_version": "1.2.0",
            "_model_name": "LayoutModel",
            "_view_count": null,
            "_view_module": "@jupyter-widgets/base",
            "_view_module_version": "1.2.0",
            "_view_name": "LayoutView",
            "align_content": null,
            "align_items": null,
            "align_self": null,
            "border": null,
            "bottom": null,
            "display": null,
            "flex": null,
            "flex_flow": null,
            "grid_area": null,
            "grid_auto_columns": null,
            "grid_auto_flow": null,
            "grid_auto_rows": null,
            "grid_column": null,
            "grid_gap": null,
            "grid_row": null,
            "grid_template_areas": null,
            "grid_template_columns": null,
            "grid_template_rows": null,
            "height": null,
            "justify_content": null,
            "justify_items": null,
            "left": null,
            "margin": null,
            "max_height": null,
            "max_width": null,
            "min_height": null,
            "min_width": null,
            "object_fit": null,
            "object_position": null,
            "order": null,
            "overflow": null,
            "overflow_x": null,
            "overflow_y": null,
            "padding": null,
            "right": null,
            "top": null,
            "visibility": null,
            "width": null
          }
        },
        "394d802117874aa080cccf9f3aeb34ef": {
          "model_module": "@jupyter-widgets/base",
          "model_name": "LayoutModel",
          "model_module_version": "1.2.0",
          "state": {
            "_model_module": "@jupyter-widgets/base",
            "_model_module_version": "1.2.0",
            "_model_name": "LayoutModel",
            "_view_count": null,
            "_view_module": "@jupyter-widgets/base",
            "_view_module_version": "1.2.0",
            "_view_name": "LayoutView",
            "align_content": null,
            "align_items": null,
            "align_self": null,
            "border": null,
            "bottom": null,
            "display": null,
            "flex": null,
            "flex_flow": null,
            "grid_area": null,
            "grid_auto_columns": null,
            "grid_auto_flow": null,
            "grid_auto_rows": null,
            "grid_column": null,
            "grid_gap": null,
            "grid_row": null,
            "grid_template_areas": null,
            "grid_template_columns": null,
            "grid_template_rows": null,
            "height": null,
            "justify_content": null,
            "justify_items": null,
            "left": null,
            "margin": null,
            "max_height": null,
            "max_width": null,
            "min_height": null,
            "min_width": null,
            "object_fit": null,
            "object_position": null,
            "order": null,
            "overflow": null,
            "overflow_x": null,
            "overflow_y": null,
            "padding": null,
            "right": null,
            "top": null,
            "visibility": null,
            "width": null
          }
        },
        "24558107e67c4066b6a4174fa350df48": {
          "model_module": "@jupyter-widgets/controls",
          "model_name": "DescriptionStyleModel",
          "model_module_version": "1.5.0",
          "state": {
            "_model_module": "@jupyter-widgets/controls",
            "_model_module_version": "1.5.0",
            "_model_name": "DescriptionStyleModel",
            "_view_count": null,
            "_view_module": "@jupyter-widgets/base",
            "_view_module_version": "1.2.0",
            "_view_name": "StyleView",
            "description_width": ""
          }
        },
        "c272d3d201c9493a841b074d1e2245be": {
          "model_module": "@jupyter-widgets/base",
          "model_name": "LayoutModel",
          "model_module_version": "1.2.0",
          "state": {
            "_model_module": "@jupyter-widgets/base",
            "_model_module_version": "1.2.0",
            "_model_name": "LayoutModel",
            "_view_count": null,
            "_view_module": "@jupyter-widgets/base",
            "_view_module_version": "1.2.0",
            "_view_name": "LayoutView",
            "align_content": null,
            "align_items": null,
            "align_self": null,
            "border": null,
            "bottom": null,
            "display": null,
            "flex": null,
            "flex_flow": null,
            "grid_area": null,
            "grid_auto_columns": null,
            "grid_auto_flow": null,
            "grid_auto_rows": null,
            "grid_column": null,
            "grid_gap": null,
            "grid_row": null,
            "grid_template_areas": null,
            "grid_template_columns": null,
            "grid_template_rows": null,
            "height": null,
            "justify_content": null,
            "justify_items": null,
            "left": null,
            "margin": null,
            "max_height": null,
            "max_width": null,
            "min_height": null,
            "min_width": null,
            "object_fit": null,
            "object_position": null,
            "order": null,
            "overflow": null,
            "overflow_x": null,
            "overflow_y": null,
            "padding": null,
            "right": null,
            "top": null,
            "visibility": null,
            "width": null
          }
        },
        "d5463852fd8b471284bc541b06a1bd7b": {
          "model_module": "@jupyter-widgets/controls",
          "model_name": "ProgressStyleModel",
          "model_module_version": "1.5.0",
          "state": {
            "_model_module": "@jupyter-widgets/controls",
            "_model_module_version": "1.5.0",
            "_model_name": "ProgressStyleModel",
            "_view_count": null,
            "_view_module": "@jupyter-widgets/base",
            "_view_module_version": "1.2.0",
            "_view_name": "StyleView",
            "bar_color": null,
            "description_width": ""
          }
        },
        "5f88e1f79e4e401fbe9f398da0cc09de": {
          "model_module": "@jupyter-widgets/base",
          "model_name": "LayoutModel",
          "model_module_version": "1.2.0",
          "state": {
            "_model_module": "@jupyter-widgets/base",
            "_model_module_version": "1.2.0",
            "_model_name": "LayoutModel",
            "_view_count": null,
            "_view_module": "@jupyter-widgets/base",
            "_view_module_version": "1.2.0",
            "_view_name": "LayoutView",
            "align_content": null,
            "align_items": null,
            "align_self": null,
            "border": null,
            "bottom": null,
            "display": null,
            "flex": null,
            "flex_flow": null,
            "grid_area": null,
            "grid_auto_columns": null,
            "grid_auto_flow": null,
            "grid_auto_rows": null,
            "grid_column": null,
            "grid_gap": null,
            "grid_row": null,
            "grid_template_areas": null,
            "grid_template_columns": null,
            "grid_template_rows": null,
            "height": null,
            "justify_content": null,
            "justify_items": null,
            "left": null,
            "margin": null,
            "max_height": null,
            "max_width": null,
            "min_height": null,
            "min_width": null,
            "object_fit": null,
            "object_position": null,
            "order": null,
            "overflow": null,
            "overflow_x": null,
            "overflow_y": null,
            "padding": null,
            "right": null,
            "top": null,
            "visibility": null,
            "width": null
          }
        },
        "5f1946fe61bc492a809914fa1543326f": {
          "model_module": "@jupyter-widgets/controls",
          "model_name": "DescriptionStyleModel",
          "model_module_version": "1.5.0",
          "state": {
            "_model_module": "@jupyter-widgets/controls",
            "_model_module_version": "1.5.0",
            "_model_name": "DescriptionStyleModel",
            "_view_count": null,
            "_view_module": "@jupyter-widgets/base",
            "_view_module_version": "1.2.0",
            "_view_name": "StyleView",
            "description_width": ""
          }
        },
        "9a4cde7f0a104827a192a2e6c2790668": {
          "model_module": "@jupyter-widgets/controls",
          "model_name": "HBoxModel",
          "model_module_version": "1.5.0",
          "state": {
            "_dom_classes": [],
            "_model_module": "@jupyter-widgets/controls",
            "_model_module_version": "1.5.0",
            "_model_name": "HBoxModel",
            "_view_count": null,
            "_view_module": "@jupyter-widgets/controls",
            "_view_module_version": "1.5.0",
            "_view_name": "HBoxView",
            "box_style": "",
            "children": [
              "IPY_MODEL_c68138877352443da72975f89f087655",
              "IPY_MODEL_bae5e16e2f9343d39a30ae86b5a82776",
              "IPY_MODEL_91d310cb50754f1c95b0b24a73e44d89"
            ],
            "layout": "IPY_MODEL_eb1879c4f5934f2e855dd50c7e462f92"
          }
        },
        "c68138877352443da72975f89f087655": {
          "model_module": "@jupyter-widgets/controls",
          "model_name": "HTMLModel",
          "model_module_version": "1.5.0",
          "state": {
            "_dom_classes": [],
            "_model_module": "@jupyter-widgets/controls",
            "_model_module_version": "1.5.0",
            "_model_name": "HTMLModel",
            "_view_count": null,
            "_view_module": "@jupyter-widgets/controls",
            "_view_module_version": "1.5.0",
            "_view_name": "HTMLView",
            "description": "",
            "description_tooltip": null,
            "layout": "IPY_MODEL_cb96d741a60546728efa7937be61cfda",
            "placeholder": "​",
            "style": "IPY_MODEL_d78f591cf01241c7966c4b37543f0577",
            "value": "pt.Experiment: 100%"
          }
        },
        "bae5e16e2f9343d39a30ae86b5a82776": {
          "model_module": "@jupyter-widgets/controls",
          "model_name": "FloatProgressModel",
          "model_module_version": "1.5.0",
          "state": {
            "_dom_classes": [],
            "_model_module": "@jupyter-widgets/controls",
            "_model_module_version": "1.5.0",
            "_model_name": "FloatProgressModel",
            "_view_count": null,
            "_view_module": "@jupyter-widgets/controls",
            "_view_module_version": "1.5.0",
            "_view_name": "ProgressView",
            "bar_style": "success",
            "description": "",
            "description_tooltip": null,
            "layout": "IPY_MODEL_65f42706ef1f4ce4b0027b1ce98b1506",
            "max": 5,
            "min": 0,
            "orientation": "horizontal",
            "style": "IPY_MODEL_c8ee7294361c4889b62bc0780894519d",
            "value": 5
          }
        },
        "91d310cb50754f1c95b0b24a73e44d89": {
          "model_module": "@jupyter-widgets/controls",
          "model_name": "HTMLModel",
          "model_module_version": "1.5.0",
          "state": {
            "_dom_classes": [],
            "_model_module": "@jupyter-widgets/controls",
            "_model_module_version": "1.5.0",
            "_model_name": "HTMLModel",
            "_view_count": null,
            "_view_module": "@jupyter-widgets/controls",
            "_view_module_version": "1.5.0",
            "_view_name": "HTMLView",
            "description": "",
            "description_tooltip": null,
            "layout": "IPY_MODEL_22d715e801ee41fbbb880861b0017398",
            "placeholder": "​",
            "style": "IPY_MODEL_7e47dde41cca4d1180306ca4443e999a",
            "value": " 5/5 [00:04&lt;00:00,  1.15system/s]"
          }
        },
        "eb1879c4f5934f2e855dd50c7e462f92": {
          "model_module": "@jupyter-widgets/base",
          "model_name": "LayoutModel",
          "model_module_version": "1.2.0",
          "state": {
            "_model_module": "@jupyter-widgets/base",
            "_model_module_version": "1.2.0",
            "_model_name": "LayoutModel",
            "_view_count": null,
            "_view_module": "@jupyter-widgets/base",
            "_view_module_version": "1.2.0",
            "_view_name": "LayoutView",
            "align_content": null,
            "align_items": null,
            "align_self": null,
            "border": null,
            "bottom": null,
            "display": null,
            "flex": null,
            "flex_flow": null,
            "grid_area": null,
            "grid_auto_columns": null,
            "grid_auto_flow": null,
            "grid_auto_rows": null,
            "grid_column": null,
            "grid_gap": null,
            "grid_row": null,
            "grid_template_areas": null,
            "grid_template_columns": null,
            "grid_template_rows": null,
            "height": null,
            "justify_content": null,
            "justify_items": null,
            "left": null,
            "margin": null,
            "max_height": null,
            "max_width": null,
            "min_height": null,
            "min_width": null,
            "object_fit": null,
            "object_position": null,
            "order": null,
            "overflow": null,
            "overflow_x": null,
            "overflow_y": null,
            "padding": null,
            "right": null,
            "top": null,
            "visibility": null,
            "width": null
          }
        },
        "cb96d741a60546728efa7937be61cfda": {
          "model_module": "@jupyter-widgets/base",
          "model_name": "LayoutModel",
          "model_module_version": "1.2.0",
          "state": {
            "_model_module": "@jupyter-widgets/base",
            "_model_module_version": "1.2.0",
            "_model_name": "LayoutModel",
            "_view_count": null,
            "_view_module": "@jupyter-widgets/base",
            "_view_module_version": "1.2.0",
            "_view_name": "LayoutView",
            "align_content": null,
            "align_items": null,
            "align_self": null,
            "border": null,
            "bottom": null,
            "display": null,
            "flex": null,
            "flex_flow": null,
            "grid_area": null,
            "grid_auto_columns": null,
            "grid_auto_flow": null,
            "grid_auto_rows": null,
            "grid_column": null,
            "grid_gap": null,
            "grid_row": null,
            "grid_template_areas": null,
            "grid_template_columns": null,
            "grid_template_rows": null,
            "height": null,
            "justify_content": null,
            "justify_items": null,
            "left": null,
            "margin": null,
            "max_height": null,
            "max_width": null,
            "min_height": null,
            "min_width": null,
            "object_fit": null,
            "object_position": null,
            "order": null,
            "overflow": null,
            "overflow_x": null,
            "overflow_y": null,
            "padding": null,
            "right": null,
            "top": null,
            "visibility": null,
            "width": null
          }
        },
        "d78f591cf01241c7966c4b37543f0577": {
          "model_module": "@jupyter-widgets/controls",
          "model_name": "DescriptionStyleModel",
          "model_module_version": "1.5.0",
          "state": {
            "_model_module": "@jupyter-widgets/controls",
            "_model_module_version": "1.5.0",
            "_model_name": "DescriptionStyleModel",
            "_view_count": null,
            "_view_module": "@jupyter-widgets/base",
            "_view_module_version": "1.2.0",
            "_view_name": "StyleView",
            "description_width": ""
          }
        },
        "65f42706ef1f4ce4b0027b1ce98b1506": {
          "model_module": "@jupyter-widgets/base",
          "model_name": "LayoutModel",
          "model_module_version": "1.2.0",
          "state": {
            "_model_module": "@jupyter-widgets/base",
            "_model_module_version": "1.2.0",
            "_model_name": "LayoutModel",
            "_view_count": null,
            "_view_module": "@jupyter-widgets/base",
            "_view_module_version": "1.2.0",
            "_view_name": "LayoutView",
            "align_content": null,
            "align_items": null,
            "align_self": null,
            "border": null,
            "bottom": null,
            "display": null,
            "flex": null,
            "flex_flow": null,
            "grid_area": null,
            "grid_auto_columns": null,
            "grid_auto_flow": null,
            "grid_auto_rows": null,
            "grid_column": null,
            "grid_gap": null,
            "grid_row": null,
            "grid_template_areas": null,
            "grid_template_columns": null,
            "grid_template_rows": null,
            "height": null,
            "justify_content": null,
            "justify_items": null,
            "left": null,
            "margin": null,
            "max_height": null,
            "max_width": null,
            "min_height": null,
            "min_width": null,
            "object_fit": null,
            "object_position": null,
            "order": null,
            "overflow": null,
            "overflow_x": null,
            "overflow_y": null,
            "padding": null,
            "right": null,
            "top": null,
            "visibility": null,
            "width": null
          }
        },
        "c8ee7294361c4889b62bc0780894519d": {
          "model_module": "@jupyter-widgets/controls",
          "model_name": "ProgressStyleModel",
          "model_module_version": "1.5.0",
          "state": {
            "_model_module": "@jupyter-widgets/controls",
            "_model_module_version": "1.5.0",
            "_model_name": "ProgressStyleModel",
            "_view_count": null,
            "_view_module": "@jupyter-widgets/base",
            "_view_module_version": "1.2.0",
            "_view_name": "StyleView",
            "bar_color": null,
            "description_width": ""
          }
        },
        "22d715e801ee41fbbb880861b0017398": {
          "model_module": "@jupyter-widgets/base",
          "model_name": "LayoutModel",
          "model_module_version": "1.2.0",
          "state": {
            "_model_module": "@jupyter-widgets/base",
            "_model_module_version": "1.2.0",
            "_model_name": "LayoutModel",
            "_view_count": null,
            "_view_module": "@jupyter-widgets/base",
            "_view_module_version": "1.2.0",
            "_view_name": "LayoutView",
            "align_content": null,
            "align_items": null,
            "align_self": null,
            "border": null,
            "bottom": null,
            "display": null,
            "flex": null,
            "flex_flow": null,
            "grid_area": null,
            "grid_auto_columns": null,
            "grid_auto_flow": null,
            "grid_auto_rows": null,
            "grid_column": null,
            "grid_gap": null,
            "grid_row": null,
            "grid_template_areas": null,
            "grid_template_columns": null,
            "grid_template_rows": null,
            "height": null,
            "justify_content": null,
            "justify_items": null,
            "left": null,
            "margin": null,
            "max_height": null,
            "max_width": null,
            "min_height": null,
            "min_width": null,
            "object_fit": null,
            "object_position": null,
            "order": null,
            "overflow": null,
            "overflow_x": null,
            "overflow_y": null,
            "padding": null,
            "right": null,
            "top": null,
            "visibility": null,
            "width": null
          }
        },
        "7e47dde41cca4d1180306ca4443e999a": {
          "model_module": "@jupyter-widgets/controls",
          "model_name": "DescriptionStyleModel",
          "model_module_version": "1.5.0",
          "state": {
            "_model_module": "@jupyter-widgets/controls",
            "_model_module_version": "1.5.0",
            "_model_name": "DescriptionStyleModel",
            "_view_count": null,
            "_view_module": "@jupyter-widgets/base",
            "_view_module_version": "1.2.0",
            "_view_name": "StyleView",
            "description_width": ""
          }
        },
        "d084ca328f6a481cae48f583fd4c06e4": {
          "model_module": "@jupyter-widgets/controls",
          "model_name": "HBoxModel",
          "model_module_version": "1.5.0",
          "state": {
            "_dom_classes": [],
            "_model_module": "@jupyter-widgets/controls",
            "_model_module_version": "1.5.0",
            "_model_name": "HBoxModel",
            "_view_count": null,
            "_view_module": "@jupyter-widgets/controls",
            "_view_module_version": "1.5.0",
            "_view_name": "HBoxView",
            "box_style": "",
            "children": [
              "IPY_MODEL_5cc51917e0654f79a2d106f065233dc4",
              "IPY_MODEL_0367867a00274e42a7407f099f8d81b7",
              "IPY_MODEL_e14ac05073e743c0a200db7ae06687b4"
            ],
            "layout": "IPY_MODEL_c728bba598e24811bc056ddc7b7d2466"
          }
        },
        "5cc51917e0654f79a2d106f065233dc4": {
          "model_module": "@jupyter-widgets/controls",
          "model_name": "HTMLModel",
          "model_module_version": "1.5.0",
          "state": {
            "_dom_classes": [],
            "_model_module": "@jupyter-widgets/controls",
            "_model_module_version": "1.5.0",
            "_model_name": "HTMLModel",
            "_view_count": null,
            "_view_module": "@jupyter-widgets/controls",
            "_view_module_version": "1.5.0",
            "_view_name": "HTMLView",
            "description": "",
            "description_tooltip": null,
            "layout": "IPY_MODEL_35be1757d73943cea31f7c75f97b2e07",
            "placeholder": "​",
            "style": "IPY_MODEL_eddeb647af064e4e819a5988078f05d2",
            "value": "pt.Experiment: 100%"
          }
        },
        "0367867a00274e42a7407f099f8d81b7": {
          "model_module": "@jupyter-widgets/controls",
          "model_name": "FloatProgressModel",
          "model_module_version": "1.5.0",
          "state": {
            "_dom_classes": [],
            "_model_module": "@jupyter-widgets/controls",
            "_model_module_version": "1.5.0",
            "_model_name": "FloatProgressModel",
            "_view_count": null,
            "_view_module": "@jupyter-widgets/controls",
            "_view_module_version": "1.5.0",
            "_view_name": "ProgressView",
            "bar_style": "success",
            "description": "",
            "description_tooltip": null,
            "layout": "IPY_MODEL_96a3c4d6fc3449098c4905f002e9e523",
            "max": 4,
            "min": 0,
            "orientation": "horizontal",
            "style": "IPY_MODEL_68cbe703fd2e4d35a2cb16f0fe64a9f5",
            "value": 4
          }
        },
        "e14ac05073e743c0a200db7ae06687b4": {
          "model_module": "@jupyter-widgets/controls",
          "model_name": "HTMLModel",
          "model_module_version": "1.5.0",
          "state": {
            "_dom_classes": [],
            "_model_module": "@jupyter-widgets/controls",
            "_model_module_version": "1.5.0",
            "_model_name": "HTMLModel",
            "_view_count": null,
            "_view_module": "@jupyter-widgets/controls",
            "_view_module_version": "1.5.0",
            "_view_name": "HTMLView",
            "description": "",
            "description_tooltip": null,
            "layout": "IPY_MODEL_0551d1428a174d4082bd540278af1923",
            "placeholder": "​",
            "style": "IPY_MODEL_6a863b16c7404d489e1e8eca3f817929",
            "value": " 4/4 [00:05&lt;00:00,  1.24s/system]"
          }
        },
        "c728bba598e24811bc056ddc7b7d2466": {
          "model_module": "@jupyter-widgets/base",
          "model_name": "LayoutModel",
          "model_module_version": "1.2.0",
          "state": {
            "_model_module": "@jupyter-widgets/base",
            "_model_module_version": "1.2.0",
            "_model_name": "LayoutModel",
            "_view_count": null,
            "_view_module": "@jupyter-widgets/base",
            "_view_module_version": "1.2.0",
            "_view_name": "LayoutView",
            "align_content": null,
            "align_items": null,
            "align_self": null,
            "border": null,
            "bottom": null,
            "display": null,
            "flex": null,
            "flex_flow": null,
            "grid_area": null,
            "grid_auto_columns": null,
            "grid_auto_flow": null,
            "grid_auto_rows": null,
            "grid_column": null,
            "grid_gap": null,
            "grid_row": null,
            "grid_template_areas": null,
            "grid_template_columns": null,
            "grid_template_rows": null,
            "height": null,
            "justify_content": null,
            "justify_items": null,
            "left": null,
            "margin": null,
            "max_height": null,
            "max_width": null,
            "min_height": null,
            "min_width": null,
            "object_fit": null,
            "object_position": null,
            "order": null,
            "overflow": null,
            "overflow_x": null,
            "overflow_y": null,
            "padding": null,
            "right": null,
            "top": null,
            "visibility": null,
            "width": null
          }
        },
        "35be1757d73943cea31f7c75f97b2e07": {
          "model_module": "@jupyter-widgets/base",
          "model_name": "LayoutModel",
          "model_module_version": "1.2.0",
          "state": {
            "_model_module": "@jupyter-widgets/base",
            "_model_module_version": "1.2.0",
            "_model_name": "LayoutModel",
            "_view_count": null,
            "_view_module": "@jupyter-widgets/base",
            "_view_module_version": "1.2.0",
            "_view_name": "LayoutView",
            "align_content": null,
            "align_items": null,
            "align_self": null,
            "border": null,
            "bottom": null,
            "display": null,
            "flex": null,
            "flex_flow": null,
            "grid_area": null,
            "grid_auto_columns": null,
            "grid_auto_flow": null,
            "grid_auto_rows": null,
            "grid_column": null,
            "grid_gap": null,
            "grid_row": null,
            "grid_template_areas": null,
            "grid_template_columns": null,
            "grid_template_rows": null,
            "height": null,
            "justify_content": null,
            "justify_items": null,
            "left": null,
            "margin": null,
            "max_height": null,
            "max_width": null,
            "min_height": null,
            "min_width": null,
            "object_fit": null,
            "object_position": null,
            "order": null,
            "overflow": null,
            "overflow_x": null,
            "overflow_y": null,
            "padding": null,
            "right": null,
            "top": null,
            "visibility": null,
            "width": null
          }
        },
        "eddeb647af064e4e819a5988078f05d2": {
          "model_module": "@jupyter-widgets/controls",
          "model_name": "DescriptionStyleModel",
          "model_module_version": "1.5.0",
          "state": {
            "_model_module": "@jupyter-widgets/controls",
            "_model_module_version": "1.5.0",
            "_model_name": "DescriptionStyleModel",
            "_view_count": null,
            "_view_module": "@jupyter-widgets/base",
            "_view_module_version": "1.2.0",
            "_view_name": "StyleView",
            "description_width": ""
          }
        },
        "96a3c4d6fc3449098c4905f002e9e523": {
          "model_module": "@jupyter-widgets/base",
          "model_name": "LayoutModel",
          "model_module_version": "1.2.0",
          "state": {
            "_model_module": "@jupyter-widgets/base",
            "_model_module_version": "1.2.0",
            "_model_name": "LayoutModel",
            "_view_count": null,
            "_view_module": "@jupyter-widgets/base",
            "_view_module_version": "1.2.0",
            "_view_name": "LayoutView",
            "align_content": null,
            "align_items": null,
            "align_self": null,
            "border": null,
            "bottom": null,
            "display": null,
            "flex": null,
            "flex_flow": null,
            "grid_area": null,
            "grid_auto_columns": null,
            "grid_auto_flow": null,
            "grid_auto_rows": null,
            "grid_column": null,
            "grid_gap": null,
            "grid_row": null,
            "grid_template_areas": null,
            "grid_template_columns": null,
            "grid_template_rows": null,
            "height": null,
            "justify_content": null,
            "justify_items": null,
            "left": null,
            "margin": null,
            "max_height": null,
            "max_width": null,
            "min_height": null,
            "min_width": null,
            "object_fit": null,
            "object_position": null,
            "order": null,
            "overflow": null,
            "overflow_x": null,
            "overflow_y": null,
            "padding": null,
            "right": null,
            "top": null,
            "visibility": null,
            "width": null
          }
        },
        "68cbe703fd2e4d35a2cb16f0fe64a9f5": {
          "model_module": "@jupyter-widgets/controls",
          "model_name": "ProgressStyleModel",
          "model_module_version": "1.5.0",
          "state": {
            "_model_module": "@jupyter-widgets/controls",
            "_model_module_version": "1.5.0",
            "_model_name": "ProgressStyleModel",
            "_view_count": null,
            "_view_module": "@jupyter-widgets/base",
            "_view_module_version": "1.2.0",
            "_view_name": "StyleView",
            "bar_color": null,
            "description_width": ""
          }
        },
        "0551d1428a174d4082bd540278af1923": {
          "model_module": "@jupyter-widgets/base",
          "model_name": "LayoutModel",
          "model_module_version": "1.2.0",
          "state": {
            "_model_module": "@jupyter-widgets/base",
            "_model_module_version": "1.2.0",
            "_model_name": "LayoutModel",
            "_view_count": null,
            "_view_module": "@jupyter-widgets/base",
            "_view_module_version": "1.2.0",
            "_view_name": "LayoutView",
            "align_content": null,
            "align_items": null,
            "align_self": null,
            "border": null,
            "bottom": null,
            "display": null,
            "flex": null,
            "flex_flow": null,
            "grid_area": null,
            "grid_auto_columns": null,
            "grid_auto_flow": null,
            "grid_auto_rows": null,
            "grid_column": null,
            "grid_gap": null,
            "grid_row": null,
            "grid_template_areas": null,
            "grid_template_columns": null,
            "grid_template_rows": null,
            "height": null,
            "justify_content": null,
            "justify_items": null,
            "left": null,
            "margin": null,
            "max_height": null,
            "max_width": null,
            "min_height": null,
            "min_width": null,
            "object_fit": null,
            "object_position": null,
            "order": null,
            "overflow": null,
            "overflow_x": null,
            "overflow_y": null,
            "padding": null,
            "right": null,
            "top": null,
            "visibility": null,
            "width": null
          }
        },
        "6a863b16c7404d489e1e8eca3f817929": {
          "model_module": "@jupyter-widgets/controls",
          "model_name": "DescriptionStyleModel",
          "model_module_version": "1.5.0",
          "state": {
            "_model_module": "@jupyter-widgets/controls",
            "_model_module_version": "1.5.0",
            "_model_name": "DescriptionStyleModel",
            "_view_count": null,
            "_view_module": "@jupyter-widgets/base",
            "_view_module_version": "1.2.0",
            "_view_name": "StyleView",
            "description_width": ""
          }
        }
      }
    }
  },
  "nbformat": 4,
  "nbformat_minor": 0
}